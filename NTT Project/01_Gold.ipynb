{
 "cells": [
  {
   "cell_type": "markdown",
   "metadata": {},
   "source": [
    "# <center>Dunnhumby - The Complete Journey<center>\n",
    "\n",
    "** ** \n",
    "    \n",
    "# <center>*01 - Gold Layer*<center>\n",
    "    \n",
    "\n",
    "This notebook works as an extention to the work developed using *Databricks*. Here all datasets will be addressed and transformed accordingly.\n",
    "\n",
    "<br>\n",
    "    \n",
    "This project was developed by <br><br>\n",
    "\n",
    "*<center>António Oliveira | NTT Data Summer Internship 2024<center>*"
   ]
  },
  {
   "cell_type": "markdown",
   "metadata": {},
   "source": [
    "** **\n",
    "\n",
    "<a class=\"anchor\" id=\"0\"></a>\n",
    "\n",
    "# Table of Contents\n",
    "\n",
    "1. [Importing Libraries & Data](#1.-Importing-Libraries-&-Data)\n",
    "\n",
    "    1.1 [Libraries](#1.1-Libraries)\n",
    "    \n",
    "    1.2 [Data](#1.2-Data) <br><br>\n",
    "  \n",
    "    \n",
    "2. [HH Demographics Dataset](#2.-HH-Demographic)\n",
    "\n",
    "    2.1 [Feature Engineering](#2.1-Feature-Engineering) <br><br>\n",
    "    \n",
    "3. [Transactions Dataset](#3.-Transaction)    <br>\n",
    "\n",
    "    3.1 [Feature Engineering](#3.1-Feature-Engineering) <br>\n",
    "    \n",
    "    3.2 [Dataset Transformation](#3.2-Dataset-Transformation) <br><br>\n",
    "    \n",
    "4. [Campaigns Dataset](#4.-Campaign) <br>\n",
    "\n",
    "    4.1 [Dataset Transformation](#4.1-Dataset-Transformation) <br><br>\n",
    "    \n",
    "5. [Coupons Dataset](#5.-Coupon) <br>\n",
    "\n",
    "    5.1 [Dataset Transformation](#5.1-Dataset-Transformation) <br><br>\n",
    "    \n",
    "6. [Product Dataset](#6.-Product)\n",
    "\n",
    "    6.1 [Feature Engineering](#6.1-Feature-Engineering) <br><br>\n",
    "    \n",
    "7. [Causal Dataset](#7.-Causal) \n",
    "\n",
    "    7.1 [Dataset Transformation](#7.1-Dataset-Transformation) <br><br>\n",
    "    \n",
    "8. [Export](#8.-Export) <br><br>"
   ]
  },
  {
   "cell_type": "markdown",
   "metadata": {},
   "source": [
    "## 1. Importing Libraries & Data"
   ]
  },
  {
   "cell_type": "markdown",
   "metadata": {},
   "source": [
    "### 1.1 Libraries"
   ]
  },
  {
   "cell_type": "code",
   "execution_count": 1,
   "metadata": {
    "ExecuteTime": {
     "end_time": "2024-08-05T10:09:12.955967Z",
     "start_time": "2024-08-05T10:09:12.952873Z"
    }
   },
   "outputs": [],
   "source": [
    "import pandas as pd\n",
    "import numpy as np\n",
    "\n",
    "pd.set_option('display.max_columns', None)\n",
    "\n",
    "import functions"
   ]
  },
  {
   "cell_type": "markdown",
   "metadata": {},
   "source": [
    "## 1.2 Data"
   ]
  },
  {
   "cell_type": "code",
   "execution_count": 3,
   "metadata": {
    "ExecuteTime": {
     "end_time": "2024-08-05T10:09:41.595056Z",
     "start_time": "2024-08-05T10:09:12.958482Z"
    }
   },
   "outputs": [],
   "source": [
    "#path = '/Users/antoniooliveira/Downloads/NTT project'\n",
    "path = \"C:/Users/aprataso/Downloads/final_data\"\n",
    "\n",
    "hh = pd.read_csv(f\"{path}/hh.csv\")\n",
    "transaction = pd.read_csv(f\"{path}/trans.csv\")\n",
    "campaign = pd.read_csv(f\"{path}/camp.csv\")\n",
    "coupon = pd.read_csv(f\"{path}/coupon.csv\")\n",
    "prod = pd.read_csv(f\"{path}/prod.csv\")\n",
    "causal = pd.read_csv(f\"{path}/causal.csv\")\n",
    "\n"
   ]
  },
  {
   "cell_type": "markdown",
   "metadata": {},
   "source": [
    "## 2. HH Demographic\n",
    "\n",
    "<a class='anchor' id='1'></a>\n",
    "[Top &#129033;](#0) "
   ]
  },
  {
   "cell_type": "code",
   "execution_count": 5,
   "metadata": {
    "ExecuteTime": {
     "end_time": "2024-08-05T10:09:41.618275Z",
     "start_time": "2024-08-05T10:09:41.598755Z"
    }
   },
   "outputs": [
    {
     "data": {
      "text/html": [
       "<div>\n",
       "<style scoped>\n",
       "    .dataframe tbody tr th:only-of-type {\n",
       "        vertical-align: middle;\n",
       "    }\n",
       "\n",
       "    .dataframe tbody tr th {\n",
       "        vertical-align: top;\n",
       "    }\n",
       "\n",
       "    .dataframe thead th {\n",
       "        text-align: right;\n",
       "    }\n",
       "</style>\n",
       "<table border=\"1\" class=\"dataframe\">\n",
       "  <thead>\n",
       "    <tr style=\"text-align: right;\">\n",
       "      <th></th>\n",
       "      <th>age_desc</th>\n",
       "      <th>marital_status_code</th>\n",
       "      <th>income_desc</th>\n",
       "      <th>homeowner_desc</th>\n",
       "      <th>hh_comp_desc</th>\n",
       "      <th>household_size_desc</th>\n",
       "      <th>kid_category_desc</th>\n",
       "      <th>household_key</th>\n",
       "      <th>marital_status</th>\n",
       "      <th>age_group</th>\n",
       "      <th>adult_category_size</th>\n",
       "      <th>has_kids</th>\n",
       "    </tr>\n",
       "  </thead>\n",
       "  <tbody>\n",
       "    <tr>\n",
       "      <th>0</th>\n",
       "      <td>65+</td>\n",
       "      <td>A</td>\n",
       "      <td>35-49K</td>\n",
       "      <td>Homeowner</td>\n",
       "      <td>2 Adults No Kids</td>\n",
       "      <td>2</td>\n",
       "      <td>None/Unknown</td>\n",
       "      <td>1</td>\n",
       "      <td>married</td>\n",
       "      <td>senior</td>\n",
       "      <td>2.0</td>\n",
       "      <td>unknown</td>\n",
       "    </tr>\n",
       "    <tr>\n",
       "      <th>1</th>\n",
       "      <td>45-54</td>\n",
       "      <td>A</td>\n",
       "      <td>50-74K</td>\n",
       "      <td>Homeowner</td>\n",
       "      <td>2 Adults No Kids</td>\n",
       "      <td>2</td>\n",
       "      <td>None/Unknown</td>\n",
       "      <td>7</td>\n",
       "      <td>married</td>\n",
       "      <td>middle-aged</td>\n",
       "      <td>2.0</td>\n",
       "      <td>unknown</td>\n",
       "    </tr>\n",
       "    <tr>\n",
       "      <th>2</th>\n",
       "      <td>25-34</td>\n",
       "      <td>U</td>\n",
       "      <td>25-34K</td>\n",
       "      <td>Unknown</td>\n",
       "      <td>2 Adults Kids</td>\n",
       "      <td>3</td>\n",
       "      <td>1</td>\n",
       "      <td>8</td>\n",
       "      <td>unknown</td>\n",
       "      <td>adult</td>\n",
       "      <td>2.0</td>\n",
       "      <td>Yes</td>\n",
       "    </tr>\n",
       "  </tbody>\n",
       "</table>\n",
       "</div>"
      ],
      "text/plain": [
       "  age_desc marital_status_code income_desc homeowner_desc      hh_comp_desc  \\\n",
       "0      65+                   A      35-49K      Homeowner  2 Adults No Kids   \n",
       "1    45-54                   A      50-74K      Homeowner  2 Adults No Kids   \n",
       "2    25-34                   U      25-34K        Unknown     2 Adults Kids   \n",
       "\n",
       "  household_size_desc kid_category_desc  household_key marital_status  \\\n",
       "0                   2      None/Unknown              1        married   \n",
       "1                   2      None/Unknown              7        married   \n",
       "2                   3                 1              8        unknown   \n",
       "\n",
       "     age_group  adult_category_size has_kids  \n",
       "0       senior                  2.0  unknown  \n",
       "1  middle-aged                  2.0  unknown  \n",
       "2        adult                  2.0      Yes  "
      ]
     },
     "execution_count": 5,
     "metadata": {},
     "output_type": "execute_result"
    }
   ],
   "source": [
    "hh.head(3)"
   ]
  },
  {
   "cell_type": "markdown",
   "metadata": {},
   "source": [
    "Using *info* to explore datatypes and missing values"
   ]
  },
  {
   "cell_type": "code",
   "execution_count": 6,
   "metadata": {
    "ExecuteTime": {
     "end_time": "2024-08-05T10:09:41.637315Z",
     "start_time": "2024-08-05T10:09:41.621561Z"
    }
   },
   "outputs": [
    {
     "name": "stdout",
     "output_type": "stream",
     "text": [
      "<class 'pandas.core.frame.DataFrame'>\n",
      "RangeIndex: 801 entries, 0 to 800\n",
      "Data columns (total 12 columns):\n",
      " #   Column               Non-Null Count  Dtype  \n",
      "---  ------               --------------  -----  \n",
      " 0   age_desc             801 non-null    object \n",
      " 1   marital_status_code  801 non-null    object \n",
      " 2   income_desc          801 non-null    object \n",
      " 3   homeowner_desc       801 non-null    object \n",
      " 4   hh_comp_desc         801 non-null    object \n",
      " 5   household_size_desc  801 non-null    object \n",
      " 6   kid_category_desc    801 non-null    object \n",
      " 7   household_key        801 non-null    int64  \n",
      " 8   marital_status       801 non-null    object \n",
      " 9   age_group            801 non-null    object \n",
      " 10  adult_category_size  728 non-null    float64\n",
      " 11  has_kids             801 non-null    object \n",
      "dtypes: float64(1), int64(1), object(10)\n",
      "memory usage: 75.2+ KB\n"
     ]
    }
   ],
   "source": [
    "hh.info()"
   ]
  },
  {
   "cell_type": "markdown",
   "metadata": {},
   "source": [
    "### 2.1 Feature Engineering"
   ]
  },
  {
   "cell_type": "markdown",
   "metadata": {},
   "source": [
    "**Has Kids**"
   ]
  },
  {
   "cell_type": "markdown",
   "metadata": {},
   "source": [
    "Replace *Yes* and *No* in has kids by boolean"
   ]
  },
  {
   "cell_type": "code",
   "execution_count": 7,
   "metadata": {
    "ExecuteTime": {
     "end_time": "2024-08-05T10:09:41.645007Z",
     "start_time": "2024-08-05T10:09:41.639339Z"
    }
   },
   "outputs": [],
   "source": [
    "hh['has_kids'] = hh['has_kids'].replace({\n",
    "    'Yes': 1,\n",
    "    'No': 0,\n",
    "    'unknown': np.nan\n",
    "})"
   ]
  },
  {
   "cell_type": "markdown",
   "metadata": {},
   "source": [
    "**Average Age**"
   ]
  },
  {
   "cell_type": "code",
   "execution_count": 8,
   "metadata": {
    "ExecuteTime": {
     "end_time": "2024-08-05T10:09:41.658578Z",
     "start_time": "2024-08-05T10:09:41.647513Z"
    }
   },
   "outputs": [
    {
     "data": {
      "text/plain": [
       "array([65, 45, 25, 35, 19, 55])"
      ]
     },
     "execution_count": 8,
     "metadata": {},
     "output_type": "execute_result"
    }
   ],
   "source": [
    "hh['min_age'] = hh['age_desc'].str[:2]\n",
    "hh['max_age'] = hh['age_desc'].apply(lambda x: x[-2:] if len(x) > 3 else 65)\n",
    "\n",
    "hh['min_age'] = hh['min_age'].astype('int')\n",
    "#hh['min_age'].unique()\n"
   ]
  },
  {
   "cell_type": "code",
   "execution_count": 9,
   "metadata": {
    "ExecuteTime": {
     "end_time": "2024-08-05T10:09:41.666480Z",
     "start_time": "2024-08-05T10:09:41.661075Z"
    }
   },
   "outputs": [
    {
     "data": {
      "text/plain": [
       "array([65, 54, 34, 44, 24, 64])"
      ]
     },
     "execution_count": 9,
     "metadata": {},
     "output_type": "execute_result"
    }
   ],
   "source": [
    "hh['max_age'] = hh['max_age'].astype(int)\n",
    "#hh['max_age'].unique()"
   ]
  },
  {
   "cell_type": "markdown",
   "metadata": {},
   "source": [
    "Dropping Temporary Variables"
   ]
  },
  {
   "cell_type": "code",
   "execution_count": 10,
   "metadata": {
    "ExecuteTime": {
     "end_time": "2024-08-05T10:09:41.675889Z",
     "start_time": "2024-08-05T10:09:41.669564Z"
    }
   },
   "outputs": [],
   "source": [
    "hh['avg_age'] = (hh['min_age'] + hh['max_age']) / 2\n",
    "\n",
    "hh = hh.drop(['min_age', 'max_age'], axis = 1)"
   ]
  },
  {
   "cell_type": "markdown",
   "metadata": {},
   "source": [
    "**Average Income**"
   ]
  },
  {
   "cell_type": "code",
   "execution_count": 11,
   "metadata": {
    "ExecuteTime": {
     "end_time": "2024-08-05T10:09:41.696852Z",
     "start_time": "2024-08-05T10:09:41.681323Z"
    }
   },
   "outputs": [
    {
     "data": {
      "text/html": [
       "<div>\n",
       "<style scoped>\n",
       "    .dataframe tbody tr th:only-of-type {\n",
       "        vertical-align: middle;\n",
       "    }\n",
       "\n",
       "    .dataframe tbody tr th {\n",
       "        vertical-align: top;\n",
       "    }\n",
       "\n",
       "    .dataframe thead th {\n",
       "        text-align: right;\n",
       "    }\n",
       "</style>\n",
       "<table border=\"1\" class=\"dataframe\">\n",
       "  <thead>\n",
       "    <tr style=\"text-align: right;\">\n",
       "      <th></th>\n",
       "      <th>income_</th>\n",
       "      <th>income_desc</th>\n",
       "    </tr>\n",
       "  </thead>\n",
       "  <tbody>\n",
       "    <tr>\n",
       "      <th>0</th>\n",
       "      <td>[35, 49]</td>\n",
       "      <td>35-49K</td>\n",
       "    </tr>\n",
       "    <tr>\n",
       "      <th>1</th>\n",
       "      <td>[50, 74]</td>\n",
       "      <td>50-74K</td>\n",
       "    </tr>\n",
       "    <tr>\n",
       "      <th>2</th>\n",
       "      <td>[25, 34]</td>\n",
       "      <td>25-34K</td>\n",
       "    </tr>\n",
       "    <tr>\n",
       "      <th>3</th>\n",
       "      <td>[75, 99]</td>\n",
       "      <td>75-99K</td>\n",
       "    </tr>\n",
       "    <tr>\n",
       "      <th>4</th>\n",
       "      <td>[50, 74]</td>\n",
       "      <td>50-74K</td>\n",
       "    </tr>\n",
       "    <tr>\n",
       "      <th>...</th>\n",
       "      <td>...</td>\n",
       "      <td>...</td>\n",
       "    </tr>\n",
       "    <tr>\n",
       "      <th>796</th>\n",
       "      <td>[50, 74]</td>\n",
       "      <td>50-74K</td>\n",
       "    </tr>\n",
       "    <tr>\n",
       "      <th>797</th>\n",
       "      <td>[75, 99]</td>\n",
       "      <td>75-99K</td>\n",
       "    </tr>\n",
       "    <tr>\n",
       "      <th>798</th>\n",
       "      <td>[35, 49]</td>\n",
       "      <td>35-49K</td>\n",
       "    </tr>\n",
       "    <tr>\n",
       "      <th>799</th>\n",
       "      <td>[50, 74]</td>\n",
       "      <td>50-74K</td>\n",
       "    </tr>\n",
       "    <tr>\n",
       "      <th>800</th>\n",
       "      <td>[15]</td>\n",
       "      <td>Under 15K</td>\n",
       "    </tr>\n",
       "  </tbody>\n",
       "</table>\n",
       "<p>801 rows × 2 columns</p>\n",
       "</div>"
      ],
      "text/plain": [
       "      income_ income_desc\n",
       "0    [35, 49]      35-49K\n",
       "1    [50, 74]      50-74K\n",
       "2    [25, 34]      25-34K\n",
       "3    [75, 99]      75-99K\n",
       "4    [50, 74]      50-74K\n",
       "..        ...         ...\n",
       "796  [50, 74]      50-74K\n",
       "797  [75, 99]      75-99K\n",
       "798  [35, 49]      35-49K\n",
       "799  [50, 74]      50-74K\n",
       "800      [15]   Under 15K\n",
       "\n",
       "[801 rows x 2 columns]"
      ]
     },
     "execution_count": 11,
     "metadata": {},
     "output_type": "execute_result"
    }
   ],
   "source": [
    "hh['income_'] = hh['income_desc'].str.findall(r'\\d+')\n",
    "hh['income_'] = hh['income_'].apply(lambda x: list(map(int, x)) if x else [])\n",
    "hh[['income_', 'income_desc']]"
   ]
  },
  {
   "cell_type": "code",
   "execution_count": 12,
   "metadata": {
    "ExecuteTime": {
     "end_time": "2024-08-05T10:09:41.703163Z",
     "start_time": "2024-08-05T10:09:41.698836Z"
    }
   },
   "outputs": [
    {
     "data": {
      "text/plain": [
       "array(['35-49K', '50-74K', '25-34K', '75-99K', 'Under 15K', '100-124K',\n",
       "       '15-24K', '125-149K', '150-174K', '250K+', '175-199K', '200-249K'],\n",
       "      dtype=object)"
      ]
     },
     "execution_count": 12,
     "metadata": {},
     "output_type": "execute_result"
    }
   ],
   "source": [
    "hh['income_desc'].unique()"
   ]
  },
  {
   "cell_type": "code",
   "execution_count": 13,
   "metadata": {
    "ExecuteTime": {
     "end_time": "2024-08-05T10:09:41.721391Z",
     "start_time": "2024-08-05T10:09:41.705115Z"
    }
   },
   "outputs": [
    {
     "data": {
      "text/html": [
       "<div>\n",
       "<style scoped>\n",
       "    .dataframe tbody tr th:only-of-type {\n",
       "        vertical-align: middle;\n",
       "    }\n",
       "\n",
       "    .dataframe tbody tr th {\n",
       "        vertical-align: top;\n",
       "    }\n",
       "\n",
       "    .dataframe thead th {\n",
       "        text-align: right;\n",
       "    }\n",
       "</style>\n",
       "<table border=\"1\" class=\"dataframe\">\n",
       "  <thead>\n",
       "    <tr style=\"text-align: right;\">\n",
       "      <th></th>\n",
       "      <th>age_desc</th>\n",
       "      <th>marital_status_code</th>\n",
       "      <th>income_desc</th>\n",
       "      <th>homeowner_desc</th>\n",
       "      <th>hh_comp_desc</th>\n",
       "      <th>household_size_desc</th>\n",
       "      <th>kid_category_desc</th>\n",
       "      <th>household_key</th>\n",
       "      <th>marital_status</th>\n",
       "      <th>age_group</th>\n",
       "      <th>adult_category_size</th>\n",
       "      <th>has_kids</th>\n",
       "      <th>avg_age</th>\n",
       "      <th>income_</th>\n",
       "    </tr>\n",
       "  </thead>\n",
       "  <tbody>\n",
       "    <tr>\n",
       "      <th>280</th>\n",
       "      <td>45-54</td>\n",
       "      <td>A</td>\n",
       "      <td>200-249K</td>\n",
       "      <td>Homeowner</td>\n",
       "      <td>2 Adults No Kids</td>\n",
       "      <td>2</td>\n",
       "      <td>None/Unknown</td>\n",
       "      <td>844</td>\n",
       "      <td>married</td>\n",
       "      <td>middle-aged</td>\n",
       "      <td>2.0</td>\n",
       "      <td>NaN</td>\n",
       "      <td>49.5</td>\n",
       "      <td>[200, 249]</td>\n",
       "    </tr>\n",
       "    <tr>\n",
       "      <th>293</th>\n",
       "      <td>35-44</td>\n",
       "      <td>A</td>\n",
       "      <td>200-249K</td>\n",
       "      <td>Homeowner</td>\n",
       "      <td>2 Adults Kids</td>\n",
       "      <td>3</td>\n",
       "      <td>1</td>\n",
       "      <td>871</td>\n",
       "      <td>married</td>\n",
       "      <td>middle-aged</td>\n",
       "      <td>2.0</td>\n",
       "      <td>1.0</td>\n",
       "      <td>39.5</td>\n",
       "      <td>[200, 249]</td>\n",
       "    </tr>\n",
       "    <tr>\n",
       "      <th>318</th>\n",
       "      <td>19-24</td>\n",
       "      <td>A</td>\n",
       "      <td>200-249K</td>\n",
       "      <td>Unknown</td>\n",
       "      <td>2 Adults No Kids</td>\n",
       "      <td>2</td>\n",
       "      <td>None/Unknown</td>\n",
       "      <td>941</td>\n",
       "      <td>married</td>\n",
       "      <td>young adult</td>\n",
       "      <td>2.0</td>\n",
       "      <td>NaN</td>\n",
       "      <td>21.5</td>\n",
       "      <td>[200, 249]</td>\n",
       "    </tr>\n",
       "    <tr>\n",
       "      <th>328</th>\n",
       "      <td>25-34</td>\n",
       "      <td>A</td>\n",
       "      <td>200-249K</td>\n",
       "      <td>Homeowner</td>\n",
       "      <td>2 Adults Kids</td>\n",
       "      <td>5+</td>\n",
       "      <td>3+</td>\n",
       "      <td>976</td>\n",
       "      <td>married</td>\n",
       "      <td>adult</td>\n",
       "      <td>2.0</td>\n",
       "      <td>1.0</td>\n",
       "      <td>29.5</td>\n",
       "      <td>[200, 249]</td>\n",
       "    </tr>\n",
       "    <tr>\n",
       "      <th>714</th>\n",
       "      <td>35-44</td>\n",
       "      <td>A</td>\n",
       "      <td>200-249K</td>\n",
       "      <td>Homeowner</td>\n",
       "      <td>2 Adults No Kids</td>\n",
       "      <td>2</td>\n",
       "      <td>None/Unknown</td>\n",
       "      <td>2231</td>\n",
       "      <td>married</td>\n",
       "      <td>middle-aged</td>\n",
       "      <td>2.0</td>\n",
       "      <td>NaN</td>\n",
       "      <td>39.5</td>\n",
       "      <td>[200, 249]</td>\n",
       "    </tr>\n",
       "  </tbody>\n",
       "</table>\n",
       "</div>"
      ],
      "text/plain": [
       "    age_desc marital_status_code income_desc homeowner_desc      hh_comp_desc  \\\n",
       "280    45-54                   A    200-249K      Homeowner  2 Adults No Kids   \n",
       "293    35-44                   A    200-249K      Homeowner     2 Adults Kids   \n",
       "318    19-24                   A    200-249K        Unknown  2 Adults No Kids   \n",
       "328    25-34                   A    200-249K      Homeowner     2 Adults Kids   \n",
       "714    35-44                   A    200-249K      Homeowner  2 Adults No Kids   \n",
       "\n",
       "    household_size_desc kid_category_desc  household_key marital_status  \\\n",
       "280                   2      None/Unknown            844        married   \n",
       "293                   3                 1            871        married   \n",
       "318                   2      None/Unknown            941        married   \n",
       "328                  5+                3+            976        married   \n",
       "714                   2      None/Unknown           2231        married   \n",
       "\n",
       "       age_group  adult_category_size  has_kids  avg_age     income_  \n",
       "280  middle-aged                  2.0       NaN     49.5  [200, 249]  \n",
       "293  middle-aged                  2.0       1.0     39.5  [200, 249]  \n",
       "318  young adult                  2.0       NaN     21.5  [200, 249]  \n",
       "328        adult                  2.0       1.0     29.5  [200, 249]  \n",
       "714  middle-aged                  2.0       NaN     39.5  [200, 249]  "
      ]
     },
     "execution_count": 13,
     "metadata": {},
     "output_type": "execute_result"
    }
   ],
   "source": [
    "hh[hh['income_desc'] == '200-249K']"
   ]
  },
  {
   "cell_type": "code",
   "execution_count": 14,
   "metadata": {
    "ExecuteTime": {
     "end_time": "2024-08-05T10:09:41.728664Z",
     "start_time": "2024-08-05T10:09:41.723376Z"
    }
   },
   "outputs": [],
   "source": [
    "hh['avg_income'] = hh['income_'].apply(lambda x: sum(x) / len(x) * 1000 if len(x) > 0 else None)\n",
    "hh['avg_income'] = hh['avg_income'].astype(int)\n",
    "hh['avg_income']\n",
    "\n",
    "hh = hh.drop(['income_'], axis = 1)"
   ]
  },
  {
   "cell_type": "markdown",
   "metadata": {},
   "source": [
    "Addressing **Category Sizes** in *kid_category_desc* and *household_size_desc*"
   ]
  },
  {
   "cell_type": "code",
   "execution_count": 15,
   "metadata": {
    "ExecuteTime": {
     "end_time": "2024-08-05T10:09:41.736346Z",
     "start_time": "2024-08-05T10:09:41.730813Z"
    }
   },
   "outputs": [],
   "source": [
    "hh['n_kids'] = hh['kid_category_desc'].replace({\n",
    "    '1': 1,\n",
    "    '2': 2,\n",
    "    '3+': 3,\n",
    "    'None/Unknown': np.nan\n",
    "})\n",
    "\n",
    "hh['n_kids'] = hh['n_kids'].astype(float)\n",
    "\n",
    "hh = hh.drop('kid_category_desc', axis = 1)"
   ]
  },
  {
   "cell_type": "code",
   "execution_count": 16,
   "metadata": {
    "ExecuteTime": {
     "end_time": "2024-08-05T10:09:41.744401Z",
     "start_time": "2024-08-05T10:09:41.737971Z"
    }
   },
   "outputs": [],
   "source": [
    "hh['n_household'] = hh['household_size_desc'].replace({\n",
    "    '1': 1,\n",
    "    '2': 2,\n",
    "    '3': 3,\n",
    "    '4': 4,\n",
    "    '5+': 5\n",
    "})\n",
    "\n",
    "hh['n_household'] = hh['n_household'].astype(int)\n",
    "\n",
    "hh = hh.drop('household_size_desc', axis = 1)"
   ]
  },
  {
   "cell_type": "code",
   "execution_count": 17,
   "metadata": {
    "ExecuteTime": {
     "end_time": "2024-08-05T10:09:41.748940Z",
     "start_time": "2024-08-05T10:09:41.746473Z"
    }
   },
   "outputs": [],
   "source": [
    "#hh['household_size_desc'].unique()"
   ]
  },
  {
   "cell_type": "markdown",
   "metadata": {},
   "source": [
    "**Gender**"
   ]
  },
  {
   "cell_type": "code",
   "execution_count": 18,
   "metadata": {
    "ExecuteTime": {
     "end_time": "2024-08-05T10:09:41.755976Z",
     "start_time": "2024-08-05T10:09:41.751522Z"
    }
   },
   "outputs": [
    {
     "data": {
      "text/plain": [
       "array(['2 Adults No Kids', '2 Adults Kids', 'Single Female', 'Unknown',\n",
       "       'Single Male', '1 Adult Kids'], dtype=object)"
      ]
     },
     "execution_count": 18,
     "metadata": {},
     "output_type": "execute_result"
    }
   ],
   "source": [
    "hh['hh_comp_desc'].unique()"
   ]
  },
  {
   "cell_type": "code",
   "execution_count": 19,
   "metadata": {
    "ExecuteTime": {
     "end_time": "2024-08-05T10:09:41.762102Z",
     "start_time": "2024-08-05T10:09:41.758264Z"
    }
   },
   "outputs": [],
   "source": [
    "mapping = {\n",
    "     'Single Male': 0,\n",
    "     'Single Female': 1,\n",
    "     '2 Adults No Kids': 2,\n",
    "     '2 Adults Kids': 2\n",
    "}\n",
    "\n",
    "hh['gender(s)'] = hh['hh_comp_desc'].map(mapping)"
   ]
  },
  {
   "cell_type": "markdown",
   "metadata": {},
   "source": [
    "Since *hh_comp_desc* has the value 1 Adult Kids it is impossible to retrieve its gender. With that in mind, next  the % of males and females already in the dataset (retrieved from values *Single Female* and *Single Male*) will be computed and used as a probability to fill the gender of the observations that correspond *hh_comp_desc = '1 adult kids'*"
   ]
  },
  {
   "cell_type": "code",
   "execution_count": 20,
   "metadata": {
    "ExecuteTime": {
     "end_time": "2024-08-05T10:09:41.775603Z",
     "start_time": "2024-08-05T10:09:41.764552Z"
    }
   },
   "outputs": [],
   "source": [
    "# Filter out rows where 'gender(s)' is not 0 or 1\n",
    "filtered_hh = hh[hh['gender(s)'].isin([0, 1])]\n",
    "\n",
    "# Calculate total number of rows after filtering\n",
    "total_rows_filtered = len(filtered_hh)\n",
    "\n",
    "# Count occurrences of each value in 'gender(s)' after filtering\n",
    "gender_counts_filtered = filtered_hh['gender(s)'].value_counts()\n",
    "\n",
    "# Percentages for 'Single Male' (0) and 'Single Female' (1)\n",
    "male_count_filtered = gender_counts_filtered.get(0, 0)  # Count of males\n",
    "female_count_filtered = gender_counts_filtered.get(1, 0)  # Count of females\n",
    "\n",
    "male_probability = male_count_filtered / total_rows_filtered\n",
    "female_probability = female_count_filtered / total_rows_filtered\n",
    "\n",
    "# Filter for \"1 Adult Kids\"\n",
    "adult_kids_filter = hh['hh_comp_desc'] == '1 Adult Kids'\n",
    "\n",
    "# Randomly assign 'male' or 'female' based on calculated probabilities\n",
    "np.random.seed(0)  # For reproducibility\n",
    "assign_gender = np.random.choice([0, 1], size=adult_kids_filter.sum(), p=[male_probability, female_probability])\n",
    "\n",
    "# Update the 'gender(s)' column with the assigned genders\n",
    "hh.loc[adult_kids_filter, 'gender(s)'] = assign_gender\n",
    "\n",
    "#hh = hh.drop('hh_comp_desc', axis = 1)"
   ]
  },
  {
   "cell_type": "markdown",
   "metadata": {},
   "source": [
    "After addressing values with '1 Adult Kids' we must also address the observations where *hh_comp_desc = 'Unknown'*"
   ]
  },
  {
   "cell_type": "code",
   "execution_count": 21,
   "metadata": {
    "ExecuteTime": {
     "end_time": "2024-08-05T10:09:41.795788Z",
     "start_time": "2024-08-05T10:09:41.778020Z"
    }
   },
   "outputs": [
    {
     "data": {
      "text/html": [
       "<div>\n",
       "<style scoped>\n",
       "    .dataframe tbody tr th:only-of-type {\n",
       "        vertical-align: middle;\n",
       "    }\n",
       "\n",
       "    .dataframe tbody tr th {\n",
       "        vertical-align: top;\n",
       "    }\n",
       "\n",
       "    .dataframe thead th {\n",
       "        text-align: right;\n",
       "    }\n",
       "</style>\n",
       "<table border=\"1\" class=\"dataframe\">\n",
       "  <thead>\n",
       "    <tr style=\"text-align: right;\">\n",
       "      <th></th>\n",
       "      <th>age_desc</th>\n",
       "      <th>marital_status_code</th>\n",
       "      <th>income_desc</th>\n",
       "      <th>homeowner_desc</th>\n",
       "      <th>hh_comp_desc</th>\n",
       "      <th>household_key</th>\n",
       "      <th>marital_status</th>\n",
       "      <th>age_group</th>\n",
       "      <th>adult_category_size</th>\n",
       "      <th>has_kids</th>\n",
       "      <th>avg_age</th>\n",
       "      <th>avg_income</th>\n",
       "      <th>n_kids</th>\n",
       "      <th>n_household</th>\n",
       "      <th>gender(s)</th>\n",
       "    </tr>\n",
       "  </thead>\n",
       "  <tbody>\n",
       "    <tr>\n",
       "      <th>10</th>\n",
       "      <td>35-44</td>\n",
       "      <td>U</td>\n",
       "      <td>50-74K</td>\n",
       "      <td>Unknown</td>\n",
       "      <td>Unknown</td>\n",
       "      <td>25</td>\n",
       "      <td>unknown</td>\n",
       "      <td>middle-aged</td>\n",
       "      <td>NaN</td>\n",
       "      <td>NaN</td>\n",
       "      <td>39.5</td>\n",
       "      <td>62000</td>\n",
       "      <td>NaN</td>\n",
       "      <td>1</td>\n",
       "      <td>NaN</td>\n",
       "    </tr>\n",
       "    <tr>\n",
       "      <th>51</th>\n",
       "      <td>45-54</td>\n",
       "      <td>U</td>\n",
       "      <td>50-74K</td>\n",
       "      <td>Unknown</td>\n",
       "      <td>Unknown</td>\n",
       "      <td>136</td>\n",
       "      <td>unknown</td>\n",
       "      <td>middle-aged</td>\n",
       "      <td>NaN</td>\n",
       "      <td>NaN</td>\n",
       "      <td>49.5</td>\n",
       "      <td>62000</td>\n",
       "      <td>NaN</td>\n",
       "      <td>1</td>\n",
       "      <td>NaN</td>\n",
       "    </tr>\n",
       "    <tr>\n",
       "      <th>56</th>\n",
       "      <td>45-54</td>\n",
       "      <td>U</td>\n",
       "      <td>50-74K</td>\n",
       "      <td>Homeowner</td>\n",
       "      <td>Unknown</td>\n",
       "      <td>158</td>\n",
       "      <td>unknown</td>\n",
       "      <td>middle-aged</td>\n",
       "      <td>NaN</td>\n",
       "      <td>NaN</td>\n",
       "      <td>49.5</td>\n",
       "      <td>62000</td>\n",
       "      <td>NaN</td>\n",
       "      <td>1</td>\n",
       "      <td>NaN</td>\n",
       "    </tr>\n",
       "    <tr>\n",
       "      <th>74</th>\n",
       "      <td>35-44</td>\n",
       "      <td>U</td>\n",
       "      <td>50-74K</td>\n",
       "      <td>Homeowner</td>\n",
       "      <td>Unknown</td>\n",
       "      <td>216</td>\n",
       "      <td>unknown</td>\n",
       "      <td>middle-aged</td>\n",
       "      <td>NaN</td>\n",
       "      <td>NaN</td>\n",
       "      <td>39.5</td>\n",
       "      <td>62000</td>\n",
       "      <td>NaN</td>\n",
       "      <td>1</td>\n",
       "      <td>NaN</td>\n",
       "    </tr>\n",
       "    <tr>\n",
       "      <th>78</th>\n",
       "      <td>65+</td>\n",
       "      <td>U</td>\n",
       "      <td>15-24K</td>\n",
       "      <td>Unknown</td>\n",
       "      <td>Unknown</td>\n",
       "      <td>221</td>\n",
       "      <td>unknown</td>\n",
       "      <td>senior</td>\n",
       "      <td>NaN</td>\n",
       "      <td>NaN</td>\n",
       "      <td>65.0</td>\n",
       "      <td>19500</td>\n",
       "      <td>NaN</td>\n",
       "      <td>1</td>\n",
       "      <td>NaN</td>\n",
       "    </tr>\n",
       "    <tr>\n",
       "      <th>...</th>\n",
       "      <td>...</td>\n",
       "      <td>...</td>\n",
       "      <td>...</td>\n",
       "      <td>...</td>\n",
       "      <td>...</td>\n",
       "      <td>...</td>\n",
       "      <td>...</td>\n",
       "      <td>...</td>\n",
       "      <td>...</td>\n",
       "      <td>...</td>\n",
       "      <td>...</td>\n",
       "      <td>...</td>\n",
       "      <td>...</td>\n",
       "      <td>...</td>\n",
       "      <td>...</td>\n",
       "    </tr>\n",
       "    <tr>\n",
       "      <th>753</th>\n",
       "      <td>55-64</td>\n",
       "      <td>U</td>\n",
       "      <td>100-124K</td>\n",
       "      <td>Homeowner</td>\n",
       "      <td>Unknown</td>\n",
       "      <td>2342</td>\n",
       "      <td>unknown</td>\n",
       "      <td>senior</td>\n",
       "      <td>NaN</td>\n",
       "      <td>NaN</td>\n",
       "      <td>59.5</td>\n",
       "      <td>112000</td>\n",
       "      <td>NaN</td>\n",
       "      <td>1</td>\n",
       "      <td>NaN</td>\n",
       "    </tr>\n",
       "    <tr>\n",
       "      <th>758</th>\n",
       "      <td>25-34</td>\n",
       "      <td>B</td>\n",
       "      <td>50-74K</td>\n",
       "      <td>Homeowner</td>\n",
       "      <td>Unknown</td>\n",
       "      <td>2360</td>\n",
       "      <td>single</td>\n",
       "      <td>adult</td>\n",
       "      <td>NaN</td>\n",
       "      <td>NaN</td>\n",
       "      <td>29.5</td>\n",
       "      <td>62000</td>\n",
       "      <td>NaN</td>\n",
       "      <td>1</td>\n",
       "      <td>NaN</td>\n",
       "    </tr>\n",
       "    <tr>\n",
       "      <th>766</th>\n",
       "      <td>45-54</td>\n",
       "      <td>U</td>\n",
       "      <td>50-74K</td>\n",
       "      <td>Homeowner</td>\n",
       "      <td>Unknown</td>\n",
       "      <td>2380</td>\n",
       "      <td>unknown</td>\n",
       "      <td>middle-aged</td>\n",
       "      <td>NaN</td>\n",
       "      <td>NaN</td>\n",
       "      <td>49.5</td>\n",
       "      <td>62000</td>\n",
       "      <td>NaN</td>\n",
       "      <td>1</td>\n",
       "      <td>NaN</td>\n",
       "    </tr>\n",
       "    <tr>\n",
       "      <th>782</th>\n",
       "      <td>45-54</td>\n",
       "      <td>U</td>\n",
       "      <td>35-49K</td>\n",
       "      <td>Unknown</td>\n",
       "      <td>Unknown</td>\n",
       "      <td>2445</td>\n",
       "      <td>unknown</td>\n",
       "      <td>middle-aged</td>\n",
       "      <td>NaN</td>\n",
       "      <td>NaN</td>\n",
       "      <td>49.5</td>\n",
       "      <td>42000</td>\n",
       "      <td>NaN</td>\n",
       "      <td>1</td>\n",
       "      <td>NaN</td>\n",
       "    </tr>\n",
       "    <tr>\n",
       "      <th>797</th>\n",
       "      <td>45-54</td>\n",
       "      <td>A</td>\n",
       "      <td>75-99K</td>\n",
       "      <td>Homeowner</td>\n",
       "      <td>Unknown</td>\n",
       "      <td>2496</td>\n",
       "      <td>married</td>\n",
       "      <td>middle-aged</td>\n",
       "      <td>NaN</td>\n",
       "      <td>NaN</td>\n",
       "      <td>49.5</td>\n",
       "      <td>87000</td>\n",
       "      <td>1.0</td>\n",
       "      <td>3</td>\n",
       "      <td>NaN</td>\n",
       "    </tr>\n",
       "  </tbody>\n",
       "</table>\n",
       "<p>73 rows × 15 columns</p>\n",
       "</div>"
      ],
      "text/plain": [
       "    age_desc marital_status_code income_desc homeowner_desc hh_comp_desc  \\\n",
       "10     35-44                   U      50-74K        Unknown      Unknown   \n",
       "51     45-54                   U      50-74K        Unknown      Unknown   \n",
       "56     45-54                   U      50-74K      Homeowner      Unknown   \n",
       "74     35-44                   U      50-74K      Homeowner      Unknown   \n",
       "78       65+                   U      15-24K        Unknown      Unknown   \n",
       "..       ...                 ...         ...            ...          ...   \n",
       "753    55-64                   U    100-124K      Homeowner      Unknown   \n",
       "758    25-34                   B      50-74K      Homeowner      Unknown   \n",
       "766    45-54                   U      50-74K      Homeowner      Unknown   \n",
       "782    45-54                   U      35-49K        Unknown      Unknown   \n",
       "797    45-54                   A      75-99K      Homeowner      Unknown   \n",
       "\n",
       "     household_key marital_status    age_group  adult_category_size  has_kids  \\\n",
       "10              25        unknown  middle-aged                  NaN       NaN   \n",
       "51             136        unknown  middle-aged                  NaN       NaN   \n",
       "56             158        unknown  middle-aged                  NaN       NaN   \n",
       "74             216        unknown  middle-aged                  NaN       NaN   \n",
       "78             221        unknown       senior                  NaN       NaN   \n",
       "..             ...            ...          ...                  ...       ...   \n",
       "753           2342        unknown       senior                  NaN       NaN   \n",
       "758           2360         single        adult                  NaN       NaN   \n",
       "766           2380        unknown  middle-aged                  NaN       NaN   \n",
       "782           2445        unknown  middle-aged                  NaN       NaN   \n",
       "797           2496        married  middle-aged                  NaN       NaN   \n",
       "\n",
       "     avg_age  avg_income  n_kids  n_household  gender(s)  \n",
       "10      39.5       62000     NaN            1        NaN  \n",
       "51      49.5       62000     NaN            1        NaN  \n",
       "56      49.5       62000     NaN            1        NaN  \n",
       "74      39.5       62000     NaN            1        NaN  \n",
       "78      65.0       19500     NaN            1        NaN  \n",
       "..       ...         ...     ...          ...        ...  \n",
       "753     59.5      112000     NaN            1        NaN  \n",
       "758     29.5       62000     NaN            1        NaN  \n",
       "766     49.5       62000     NaN            1        NaN  \n",
       "782     49.5       42000     NaN            1        NaN  \n",
       "797     49.5       87000     1.0            3        NaN  \n",
       "\n",
       "[73 rows x 15 columns]"
      ]
     },
     "execution_count": 21,
     "metadata": {},
     "output_type": "execute_result"
    }
   ],
   "source": [
    "hh[hh['hh_comp_desc'] == 'Unknown']#.head(3)"
   ]
  },
  {
   "cell_type": "markdown",
   "metadata": {},
   "source": [
    "Above we can see that most observations where *hh_comp_desc = 'Unknown'* have missing values in other columns.\n",
    "\n",
    "Consequently, after a careful analysis, a **series of conditions** can be created in order to address both these issues."
   ]
  },
  {
   "cell_type": "markdown",
   "metadata": {},
   "source": [
    "if household_size_desc = 1 then adult_category_size = 1"
   ]
  },
  {
   "cell_type": "code",
   "execution_count": 22,
   "metadata": {
    "ExecuteTime": {
     "end_time": "2024-08-05T10:09:41.801085Z",
     "start_time": "2024-08-05T10:09:41.797836Z"
    }
   },
   "outputs": [],
   "source": [
    "hh.loc[hh['n_household'] == 1, 'adult_category_size'] = 1\n"
   ]
  },
  {
   "cell_type": "markdown",
   "metadata": {},
   "source": [
    "if adult_category_size = 1 then has_kids = 0 and n_kids = 0"
   ]
  },
  {
   "cell_type": "code",
   "execution_count": 23,
   "metadata": {
    "ExecuteTime": {
     "end_time": "2024-08-05T10:09:41.806683Z",
     "start_time": "2024-08-05T10:09:41.803246Z"
    }
   },
   "outputs": [],
   "source": [
    "hh.loc[hh['adult_category_size'] == 1, 'n_kids'] = 0\n",
    "hh.loc[hh['adult_category_size'] == 1, 'has_kids'] = 0\n",
    "\n"
   ]
  },
  {
   "cell_type": "markdown",
   "metadata": {},
   "source": [
    "if adult_category_size is null then adult_category_size= n_household - n_kids"
   ]
  },
  {
   "cell_type": "code",
   "execution_count": 24,
   "metadata": {
    "ExecuteTime": {
     "end_time": "2024-08-05T10:09:41.813211Z",
     "start_time": "2024-08-05T10:09:41.808876Z"
    }
   },
   "outputs": [],
   "source": [
    "hh.loc[hh['adult_category_size'].isna(), 'adult_category_size'] = (\n",
    "    hh['n_household'] - hh['n_kids']\n",
    ")"
   ]
  },
  {
   "cell_type": "markdown",
   "metadata": {},
   "source": [
    "if adult_category_size = 2 and gender(s) is null -> gender(s) = 2"
   ]
  },
  {
   "cell_type": "code",
   "execution_count": 25,
   "metadata": {
    "ExecuteTime": {
     "end_time": "2024-08-05T10:09:41.818981Z",
     "start_time": "2024-08-05T10:09:41.815624Z"
    }
   },
   "outputs": [],
   "source": [
    "hh.loc[(hh['adult_category_size'] == 2) & (hh['gender(s)'].isna()), 'gender(s)'] = 2"
   ]
  },
  {
   "cell_type": "markdown",
   "metadata": {},
   "source": [
    "if n_kids = 1 -> has kids = 1"
   ]
  },
  {
   "cell_type": "code",
   "execution_count": 26,
   "metadata": {
    "ExecuteTime": {
     "end_time": "2024-08-05T10:09:41.831250Z",
     "start_time": "2024-08-05T10:09:41.827986Z"
    }
   },
   "outputs": [],
   "source": [
    "hh.loc[hh['n_kids'] == 1, 'has_kids'] = 1"
   ]
  },
  {
   "cell_type": "markdown",
   "metadata": {},
   "source": [
    "if n_household = 1 or = 2 and gender is null, assign gender given previously computed probabilties"
   ]
  },
  {
   "cell_type": "code",
   "execution_count": 27,
   "metadata": {
    "ExecuteTime": {
     "end_time": "2024-08-05T10:09:41.840763Z",
     "start_time": "2024-08-05T10:09:41.833652Z"
    }
   },
   "outputs": [],
   "source": [
    "filtered_hh = hh[(hh['n_household'] == 1) | (hh['n_household'] == 2) & (hh['gender(s)'].isna())]\n",
    "\n",
    "assign_gender = np.random.choice([0, 1], size=len(filtered_hh), p=[male_probability, female_probability])\n",
    "\n",
    "hh.loc[filtered_hh.index, 'gender(s)'] = assign_gender\n"
   ]
  },
  {
   "cell_type": "markdown",
   "metadata": {},
   "source": [
    "if adult_category_size = 1 and marital_status = unknown --> marital_status = Single and marital_status_code = U"
   ]
  },
  {
   "cell_type": "code",
   "execution_count": 28,
   "metadata": {
    "ExecuteTime": {
     "end_time": "2024-08-05T10:09:41.848216Z",
     "start_time": "2024-08-05T10:09:41.843423Z"
    }
   },
   "outputs": [],
   "source": [
    "hh.loc[(hh['adult_category_size'] == 1) & (hh['marital_status'] == 'unknown'), 'marital_status'] = 'single'\n",
    "hh.loc[(hh['adult_category_size'] == 1) & (hh['marital_status'] == 'single'), 'marital_status_code'] = 'U'"
   ]
  },
  {
   "cell_type": "markdown",
   "metadata": {},
   "source": [
    "if adult_category_size = 2 and has_kids is null -> has_kids = False"
   ]
  },
  {
   "cell_type": "code",
   "execution_count": 29,
   "metadata": {
    "ExecuteTime": {
     "end_time": "2024-08-05T10:09:41.854403Z",
     "start_time": "2024-08-05T10:09:41.850584Z"
    }
   },
   "outputs": [],
   "source": [
    "hh.loc[(hh['adult_category_size'] == 2) & (hh['has_kids'].isna()), 'has_kids'] = 0\n"
   ]
  },
  {
   "cell_type": "markdown",
   "metadata": {},
   "source": [
    "if adult_category_size = 2 and n_kids is null -> n_kids = 0"
   ]
  },
  {
   "cell_type": "code",
   "execution_count": 30,
   "metadata": {
    "ExecuteTime": {
     "end_time": "2024-08-05T10:09:41.861021Z",
     "start_time": "2024-08-05T10:09:41.856967Z"
    }
   },
   "outputs": [],
   "source": [
    "hh.loc[(hh['adult_category_size'] == 2) & (hh['n_kids'].isna()), 'n_kids'] = 0"
   ]
  },
  {
   "cell_type": "markdown",
   "metadata": {},
   "source": [
    "if marital_status_code = A and hh_comp_desc = Unknown --> adult_category_size = 2 and has_kids = False and n_kids = 0 and gender(s) = 2"
   ]
  },
  {
   "cell_type": "code",
   "execution_count": 31,
   "metadata": {
    "ExecuteTime": {
     "end_time": "2024-08-05T10:09:41.868638Z",
     "start_time": "2024-08-05T10:09:41.863638Z"
    }
   },
   "outputs": [],
   "source": [
    "condition = (hh['marital_status_code'] == 'A') & (hh['hh_comp_desc'] == 'Unknown')\n",
    "\n",
    "hh.loc[condition, 'adult_category_size'] = 2\n",
    "hh.loc[condition, 'has_kids'] = 0\n",
    "hh.loc[condition, 'n_kids'] = 0\n",
    "hh.loc[condition, 'gender(s)'] = 2"
   ]
  },
  {
   "cell_type": "markdown",
   "metadata": {},
   "source": [
    "Checking if all the missing values were treated"
   ]
  },
  {
   "cell_type": "code",
   "execution_count": 32,
   "metadata": {
    "ExecuteTime": {
     "end_time": "2024-08-05T10:09:41.878829Z",
     "start_time": "2024-08-05T10:09:41.871033Z"
    }
   },
   "outputs": [
    {
     "data": {
      "text/html": [
       "<div>\n",
       "<style scoped>\n",
       "    .dataframe tbody tr th:only-of-type {\n",
       "        vertical-align: middle;\n",
       "    }\n",
       "\n",
       "    .dataframe tbody tr th {\n",
       "        vertical-align: top;\n",
       "    }\n",
       "\n",
       "    .dataframe thead th {\n",
       "        text-align: right;\n",
       "    }\n",
       "</style>\n",
       "<table border=\"1\" class=\"dataframe\">\n",
       "  <thead>\n",
       "    <tr style=\"text-align: right;\">\n",
       "      <th></th>\n",
       "      <th>age_desc</th>\n",
       "      <th>marital_status_code</th>\n",
       "      <th>income_desc</th>\n",
       "      <th>homeowner_desc</th>\n",
       "      <th>hh_comp_desc</th>\n",
       "      <th>household_key</th>\n",
       "      <th>marital_status</th>\n",
       "      <th>age_group</th>\n",
       "      <th>adult_category_size</th>\n",
       "      <th>has_kids</th>\n",
       "      <th>avg_age</th>\n",
       "      <th>avg_income</th>\n",
       "      <th>n_kids</th>\n",
       "      <th>n_household</th>\n",
       "      <th>gender(s)</th>\n",
       "    </tr>\n",
       "  </thead>\n",
       "  <tbody>\n",
       "  </tbody>\n",
       "</table>\n",
       "</div>"
      ],
      "text/plain": [
       "Empty DataFrame\n",
       "Columns: [age_desc, marital_status_code, income_desc, homeowner_desc, hh_comp_desc, household_key, marital_status, age_group, adult_category_size, has_kids, avg_age, avg_income, n_kids, n_household, gender(s)]\n",
       "Index: []"
      ]
     },
     "execution_count": 32,
     "metadata": {},
     "output_type": "execute_result"
    }
   ],
   "source": [
    "hh.loc[hh['adult_category_size'].isna()]"
   ]
  },
  {
   "cell_type": "markdown",
   "metadata": {},
   "source": [
    "Drop replaced Variables"
   ]
  },
  {
   "cell_type": "code",
   "execution_count": 33,
   "metadata": {
    "ExecuteTime": {
     "end_time": "2024-08-05T10:09:41.884850Z",
     "start_time": "2024-08-05T10:09:41.881411Z"
    }
   },
   "outputs": [],
   "source": [
    "hh = hh.drop(['hh_comp_desc', 'income_desc', 'age_desc'], axis = 1)"
   ]
  },
  {
   "cell_type": "markdown",
   "metadata": {},
   "source": [
    "## 3. Transaction\n",
    "\n",
    "<a class='anchor' id='1'></a>\n",
    "[Top &#129033;](#0) "
   ]
  },
  {
   "cell_type": "code",
   "execution_count": 4,
   "metadata": {
    "ExecuteTime": {
     "end_time": "2024-08-05T10:09:41.910109Z",
     "start_time": "2024-08-05T10:09:41.887103Z"
    }
   },
   "outputs": [
    {
     "data": {
      "text/html": [
       "<div>\n",
       "<style scoped>\n",
       "    .dataframe tbody tr th:only-of-type {\n",
       "        vertical-align: middle;\n",
       "    }\n",
       "\n",
       "    .dataframe tbody tr th {\n",
       "        vertical-align: top;\n",
       "    }\n",
       "\n",
       "    .dataframe thead th {\n",
       "        text-align: right;\n",
       "    }\n",
       "</style>\n",
       "<table border=\"1\" class=\"dataframe\">\n",
       "  <thead>\n",
       "    <tr style=\"text-align: right;\">\n",
       "      <th></th>\n",
       "      <th>household_key</th>\n",
       "      <th>basket_id</th>\n",
       "      <th>day</th>\n",
       "      <th>product_id</th>\n",
       "      <th>quantity</th>\n",
       "      <th>sales_value</th>\n",
       "      <th>store_id</th>\n",
       "      <th>retail_disc</th>\n",
       "      <th>trans_time</th>\n",
       "      <th>week_no</th>\n",
       "      <th>coupon_disc</th>\n",
       "      <th>coupon_match_disc</th>\n",
       "      <th>sales_value_eu</th>\n",
       "      <th>loyalty_card_price</th>\n",
       "      <th>non_loyalty_card_price</th>\n",
       "      <th>days_</th>\n",
       "      <th>transaction_date</th>\n",
       "    </tr>\n",
       "  </thead>\n",
       "  <tbody>\n",
       "    <tr>\n",
       "      <th>0</th>\n",
       "      <td>2375</td>\n",
       "      <td>26984851472</td>\n",
       "      <td>1</td>\n",
       "      <td>1004906</td>\n",
       "      <td>1</td>\n",
       "      <td>1.39</td>\n",
       "      <td>364</td>\n",
       "      <td>-0.6</td>\n",
       "      <td>1631</td>\n",
       "      <td>1</td>\n",
       "      <td>0.0</td>\n",
       "      <td>0.0</td>\n",
       "      <td>1.49</td>\n",
       "      <td>1.99</td>\n",
       "      <td>1.39</td>\n",
       "      <td>1</td>\n",
       "      <td>2021-01-01</td>\n",
       "    </tr>\n",
       "    <tr>\n",
       "      <th>1</th>\n",
       "      <td>2375</td>\n",
       "      <td>26984851472</td>\n",
       "      <td>1</td>\n",
       "      <td>1033142</td>\n",
       "      <td>1</td>\n",
       "      <td>0.82</td>\n",
       "      <td>364</td>\n",
       "      <td>0.0</td>\n",
       "      <td>1631</td>\n",
       "      <td>1</td>\n",
       "      <td>0.0</td>\n",
       "      <td>0.0</td>\n",
       "      <td>0.88</td>\n",
       "      <td>0.82</td>\n",
       "      <td>0.82</td>\n",
       "      <td>1</td>\n",
       "      <td>2021-01-01</td>\n",
       "    </tr>\n",
       "  </tbody>\n",
       "</table>\n",
       "</div>"
      ],
      "text/plain": [
       "   household_key    basket_id  day  product_id  quantity  sales_value  \\\n",
       "0           2375  26984851472    1     1004906         1         1.39   \n",
       "1           2375  26984851472    1     1033142         1         0.82   \n",
       "\n",
       "   store_id  retail_disc  trans_time  week_no  coupon_disc  coupon_match_disc  \\\n",
       "0       364         -0.6        1631        1          0.0                0.0   \n",
       "1       364          0.0        1631        1          0.0                0.0   \n",
       "\n",
       "   sales_value_eu  loyalty_card_price  non_loyalty_card_price  days_  \\\n",
       "0            1.49                1.99                    1.39      1   \n",
       "1            0.88                0.82                    0.82      1   \n",
       "\n",
       "  transaction_date  \n",
       "0       2021-01-01  \n",
       "1       2021-01-01  "
      ]
     },
     "execution_count": 4,
     "metadata": {},
     "output_type": "execute_result"
    }
   ],
   "source": [
    "transaction.head(2)"
   ]
  },
  {
   "cell_type": "code",
   "execution_count": 5,
   "metadata": {},
   "outputs": [
    {
     "data": {
      "text/html": [
       "<div>\n",
       "<style scoped>\n",
       "    .dataframe tbody tr th:only-of-type {\n",
       "        vertical-align: middle;\n",
       "    }\n",
       "\n",
       "    .dataframe tbody tr th {\n",
       "        vertical-align: top;\n",
       "    }\n",
       "\n",
       "    .dataframe thead th {\n",
       "        text-align: right;\n",
       "    }\n",
       "</style>\n",
       "<table border=\"1\" class=\"dataframe\">\n",
       "  <thead>\n",
       "    <tr style=\"text-align: right;\">\n",
       "      <th></th>\n",
       "      <th>household_key</th>\n",
       "      <th>basket_id</th>\n",
       "      <th>day</th>\n",
       "      <th>product_id</th>\n",
       "      <th>quantity</th>\n",
       "      <th>sales_value</th>\n",
       "      <th>store_id</th>\n",
       "      <th>retail_disc</th>\n",
       "      <th>trans_time</th>\n",
       "      <th>week_no</th>\n",
       "      <th>coupon_disc</th>\n",
       "      <th>coupon_match_disc</th>\n",
       "      <th>sales_value_eu</th>\n",
       "      <th>loyalty_card_price</th>\n",
       "      <th>non_loyalty_card_price</th>\n",
       "      <th>days_</th>\n",
       "      <th>transaction_date</th>\n",
       "    </tr>\n",
       "  </thead>\n",
       "  <tbody>\n",
       "    <tr>\n",
       "      <th>166536</th>\n",
       "      <td>149</td>\n",
       "      <td>28210551971</td>\n",
       "      <td>103</td>\n",
       "      <td>6534178</td>\n",
       "      <td>51912</td>\n",
       "      <td>110.00</td>\n",
       "      <td>327</td>\n",
       "      <td>-5.19</td>\n",
       "      <td>1514</td>\n",
       "      <td>15</td>\n",
       "      <td>0.0</td>\n",
       "      <td>0.0</td>\n",
       "      <td>117.70</td>\n",
       "      <td>0.0</td>\n",
       "      <td>0.0</td>\n",
       "      <td>103</td>\n",
       "      <td>2021-04-13</td>\n",
       "    </tr>\n",
       "    <tr>\n",
       "      <th>468356</th>\n",
       "      <td>2407</td>\n",
       "      <td>29392047893</td>\n",
       "      <td>181</td>\n",
       "      <td>6544236</td>\n",
       "      <td>85055</td>\n",
       "      <td>210.00</td>\n",
       "      <td>375</td>\n",
       "      <td>-8.51</td>\n",
       "      <td>1606</td>\n",
       "      <td>27</td>\n",
       "      <td>0.0</td>\n",
       "      <td>0.0</td>\n",
       "      <td>224.70</td>\n",
       "      <td>0.0</td>\n",
       "      <td>0.0</td>\n",
       "      <td>181</td>\n",
       "      <td>2021-06-30</td>\n",
       "    </tr>\n",
       "    <tr>\n",
       "      <th>481876</th>\n",
       "      <td>630</td>\n",
       "      <td>29484790880</td>\n",
       "      <td>185</td>\n",
       "      <td>6534178</td>\n",
       "      <td>61335</td>\n",
       "      <td>150.21</td>\n",
       "      <td>384</td>\n",
       "      <td>-6.13</td>\n",
       "      <td>1056</td>\n",
       "      <td>27</td>\n",
       "      <td>0.0</td>\n",
       "      <td>0.0</td>\n",
       "      <td>160.72</td>\n",
       "      <td>0.0</td>\n",
       "      <td>0.0</td>\n",
       "      <td>185</td>\n",
       "      <td>2021-07-04</td>\n",
       "    </tr>\n",
       "    <tr>\n",
       "      <th>748962</th>\n",
       "      <td>630</td>\n",
       "      <td>34749153595</td>\n",
       "      <td>503</td>\n",
       "      <td>6534178</td>\n",
       "      <td>89638</td>\n",
       "      <td>250.00</td>\n",
       "      <td>384</td>\n",
       "      <td>-13.45</td>\n",
       "      <td>1927</td>\n",
       "      <td>73</td>\n",
       "      <td>0.0</td>\n",
       "      <td>0.0</td>\n",
       "      <td>267.50</td>\n",
       "      <td>0.0</td>\n",
       "      <td>0.0</td>\n",
       "      <td>503</td>\n",
       "      <td>2022-05-18</td>\n",
       "    </tr>\n",
       "  </tbody>\n",
       "</table>\n",
       "</div>"
      ],
      "text/plain": [
       "        household_key    basket_id  day  product_id  quantity  sales_value  \\\n",
       "166536            149  28210551971  103     6534178     51912       110.00   \n",
       "468356           2407  29392047893  181     6544236     85055       210.00   \n",
       "481876            630  29484790880  185     6534178     61335       150.21   \n",
       "748962            630  34749153595  503     6534178     89638       250.00   \n",
       "\n",
       "        store_id  retail_disc  trans_time  week_no  coupon_disc  \\\n",
       "166536       327        -5.19        1514       15          0.0   \n",
       "468356       375        -8.51        1606       27          0.0   \n",
       "481876       384        -6.13        1056       27          0.0   \n",
       "748962       384       -13.45        1927       73          0.0   \n",
       "\n",
       "        coupon_match_disc  sales_value_eu  loyalty_card_price  \\\n",
       "166536                0.0          117.70                 0.0   \n",
       "468356                0.0          224.70                 0.0   \n",
       "481876                0.0          160.72                 0.0   \n",
       "748962                0.0          267.50                 0.0   \n",
       "\n",
       "        non_loyalty_card_price  days_ transaction_date  \n",
       "166536                     0.0    103       2021-04-13  \n",
       "468356                     0.0    181       2021-06-30  \n",
       "481876                     0.0    185       2021-07-04  \n",
       "748962                     0.0    503       2022-05-18  "
      ]
     },
     "execution_count": 5,
     "metadata": {},
     "output_type": "execute_result"
    }
   ],
   "source": [
    "#transaction[transaction['quantity'] > 50000]"
   ]
  },
  {
   "cell_type": "markdown",
   "metadata": {},
   "source": [
    "Using *info* to explore datatypes and missing values"
   ]
  },
  {
   "cell_type": "code",
   "execution_count": 35,
   "metadata": {
    "ExecuteTime": {
     "end_time": "2024-08-05T10:09:41.918365Z",
     "start_time": "2024-08-05T10:09:41.912124Z"
    }
   },
   "outputs": [
    {
     "name": "stdout",
     "output_type": "stream",
     "text": [
      "<class 'pandas.core.frame.DataFrame'>\n",
      "RangeIndex: 2595732 entries, 0 to 2595731\n",
      "Data columns (total 17 columns):\n",
      " #   Column                  Dtype  \n",
      "---  ------                  -----  \n",
      " 0   household_key           int64  \n",
      " 1   basket_id               int64  \n",
      " 2   day                     int64  \n",
      " 3   product_id              int64  \n",
      " 4   quantity                int64  \n",
      " 5   sales_value             float64\n",
      " 6   store_id                int64  \n",
      " 7   retail_disc             float64\n",
      " 8   trans_time              int64  \n",
      " 9   week_no                 int64  \n",
      " 10  coupon_disc             float64\n",
      " 11  coupon_match_disc       float64\n",
      " 12  sales_value_eu          float64\n",
      " 13  loyalty_card_price      float64\n",
      " 14  non_loyalty_card_price  float64\n",
      " 15  days_                   int64  \n",
      " 16  transaction_date        object \n",
      "dtypes: float64(7), int64(9), object(1)\n",
      "memory usage: 336.7+ MB\n"
     ]
    }
   ],
   "source": [
    "transaction.info()"
   ]
  },
  {
   "cell_type": "markdown",
   "metadata": {
    "ExecuteTime": {
     "end_time": "2024-08-08T08:18:22.222895Z",
     "start_time": "2024-08-08T08:18:22.219327Z"
    }
   },
   "source": [
    "### 3.1 Feature Engineering"
   ]
  },
  {
   "cell_type": "markdown",
   "metadata": {},
   "source": [
    "Transform Prices in Euros"
   ]
  },
  {
   "cell_type": "code",
   "execution_count": 36,
   "metadata": {
    "ExecuteTime": {
     "end_time": "2024-08-05T10:09:42.162384Z",
     "start_time": "2024-08-05T10:09:41.920399Z"
    }
   },
   "outputs": [],
   "source": [
    "transaction['loyalty_eu'] = transaction['loyalty_card_price'] * 1.07\n",
    "transaction['non_loyalty_eu'] = transaction['non_loyalty_card_price'] * 1.07\n",
    "\n",
    "transaction['loyalty_eu'] = transaction['loyalty_eu'].round(2)\n",
    "transaction['non_loyalty_eu'] = transaction['non_loyalty_eu'].round(2)"
   ]
  },
  {
   "cell_type": "code",
   "execution_count": 37,
   "metadata": {
    "ExecuteTime": {
     "end_time": "2024-08-05T10:09:42.729421Z",
     "start_time": "2024-08-05T10:09:42.164689Z"
    }
   },
   "outputs": [],
   "source": [
    "transaction = transaction.drop(['days_', 'loyalty_card_price', 'non_loyalty_card_price', 'sales_value'], axis = 1)"
   ]
  },
  {
   "cell_type": "markdown",
   "metadata": {},
   "source": [
    "### 3.2 Dataset Transformation"
   ]
  },
  {
   "cell_type": "markdown",
   "metadata": {},
   "source": [
    "Create a new Dataframe basket_id where each line is grouped by basket_id"
   ]
  },
  {
   "cell_type": "code",
   "execution_count": 38,
   "metadata": {
    "ExecuteTime": {
     "end_time": "2024-08-05T10:10:12.796671Z",
     "start_time": "2024-08-05T10:09:42.731339Z"
    }
   },
   "outputs": [
    {
     "data": {
      "text/html": [
       "<div>\n",
       "<style scoped>\n",
       "    .dataframe tbody tr th:only-of-type {\n",
       "        vertical-align: middle;\n",
       "    }\n",
       "\n",
       "    .dataframe tbody tr th {\n",
       "        vertical-align: top;\n",
       "    }\n",
       "\n",
       "    .dataframe thead th {\n",
       "        text-align: right;\n",
       "    }\n",
       "</style>\n",
       "<table border=\"1\" class=\"dataframe\">\n",
       "  <thead>\n",
       "    <tr style=\"text-align: right;\">\n",
       "      <th></th>\n",
       "      <th>household_key</th>\n",
       "      <th>basket_id</th>\n",
       "      <th>day</th>\n",
       "      <th>product_id</th>\n",
       "      <th>quantity</th>\n",
       "      <th>store_id</th>\n",
       "      <th>retail_disc</th>\n",
       "      <th>trans_time</th>\n",
       "      <th>week_no</th>\n",
       "      <th>coupon_disc</th>\n",
       "      <th>coupon_match_disc</th>\n",
       "      <th>sales_value_eu</th>\n",
       "      <th>loyalty_eu</th>\n",
       "      <th>non_loyalty_eu</th>\n",
       "      <th>transaction_date</th>\n",
       "    </tr>\n",
       "  </thead>\n",
       "  <tbody>\n",
       "    <tr>\n",
       "      <th>263587</th>\n",
       "      <td>2375</td>\n",
       "      <td>26984851516</td>\n",
       "      <td>1</td>\n",
       "      <td>[826249, 1043142, 1085983, 1102651, 6423775, 9...</td>\n",
       "      <td>[2, 1, 1, 1, 1, 1]</td>\n",
       "      <td>364</td>\n",
       "      <td>-0.543333</td>\n",
       "      <td>1642</td>\n",
       "      <td>1</td>\n",
       "      <td>0.0</td>\n",
       "      <td>0.0</td>\n",
       "      <td>[2.12, 1.68, 3.2, 2.02, 2.14, 2.14]</td>\n",
       "      <td>[1.38, 2.41, 3.63, 2.02, 2.99, 2.99]</td>\n",
       "      <td>[1.06, 1.68, 3.2, 2.02, 2.14, 2.14]</td>\n",
       "      <td>[2021-01-01, 2021-01-01, 2021-01-01, 2021-01-0...</td>\n",
       "    </tr>\n",
       "    <tr>\n",
       "      <th>274742</th>\n",
       "      <td>2483</td>\n",
       "      <td>26992197681</td>\n",
       "      <td>1</td>\n",
       "      <td>[3843566]</td>\n",
       "      <td>[2]</td>\n",
       "      <td>2602</td>\n",
       "      <td>-0.980000</td>\n",
       "      <td>1823</td>\n",
       "      <td>1</td>\n",
       "      <td>0.0</td>\n",
       "      <td>0.0</td>\n",
       "      <td>[5.35]</td>\n",
       "      <td>[3.2]</td>\n",
       "      <td>[2.68]</td>\n",
       "      <td>[2021-01-01]</td>\n",
       "    </tr>\n",
       "    <tr>\n",
       "      <th>263586</th>\n",
       "      <td>2375</td>\n",
       "      <td>26984851472</td>\n",
       "      <td>1</td>\n",
       "      <td>[1004906, 1033142, 1036325, 1082185, 8160430]</td>\n",
       "      <td>[1, 1, 1, 1, 1]</td>\n",
       "      <td>364</td>\n",
       "      <td>-0.258000</td>\n",
       "      <td>1631</td>\n",
       "      <td>1</td>\n",
       "      <td>0.0</td>\n",
       "      <td>0.0</td>\n",
       "      <td>[1.49, 0.88, 1.06, 1.29, 1.61]</td>\n",
       "      <td>[2.13, 0.88, 1.38, 1.29, 2.02]</td>\n",
       "      <td>[1.49, 0.88, 1.06, 1.29, 1.6]</td>\n",
       "      <td>[2021-01-01, 2021-01-01, 2021-01-01, 2021-01-0...</td>\n",
       "    </tr>\n",
       "    <tr>\n",
       "      <th>141198</th>\n",
       "      <td>1287</td>\n",
       "      <td>26985336468</td>\n",
       "      <td>1</td>\n",
       "      <td>[5978648]</td>\n",
       "      <td>[0]</td>\n",
       "      <td>304</td>\n",
       "      <td>0.000000</td>\n",
       "      <td>1351</td>\n",
       "      <td>1</td>\n",
       "      <td>0.0</td>\n",
       "      <td>0.0</td>\n",
       "      <td>[0.0]</td>\n",
       "      <td>[nan]</td>\n",
       "      <td>[nan]</td>\n",
       "      <td>[2021-01-01]</td>\n",
       "    </tr>\n",
       "    <tr>\n",
       "      <th>211515</th>\n",
       "      <td>1916</td>\n",
       "      <td>26996955143</td>\n",
       "      <td>1</td>\n",
       "      <td>[826784, 855421, 885290, 918199, 920112, 92273...</td>\n",
       "      <td>[1, 1, 1, 2, 2, 1, 1, 1, 2, 5, 1, 1, 1, 2, 1, ...</td>\n",
       "      <td>446</td>\n",
       "      <td>-0.511739</td>\n",
       "      <td>2355</td>\n",
       "      <td>1</td>\n",
       "      <td>0.0</td>\n",
       "      <td>0.0</td>\n",
       "      <td>[1.06, 3.84, 2.56, 2.25, 4.28, 2.66, 1.14, 5.3...</td>\n",
       "      <td>[1.59, 3.84, 2.56, 1.12, 2.66, 2.66, 2.34, 7.0...</td>\n",
       "      <td>[1.06, 3.84, 2.56, 1.12, 2.14, 2.66, 1.14, 5.3...</td>\n",
       "      <td>[2021-01-01, 2021-01-01, 2021-01-01, 2021-01-0...</td>\n",
       "    </tr>\n",
       "    <tr>\n",
       "      <th>...</th>\n",
       "      <td>...</td>\n",
       "      <td>...</td>\n",
       "      <td>...</td>\n",
       "      <td>...</td>\n",
       "      <td>...</td>\n",
       "      <td>...</td>\n",
       "      <td>...</td>\n",
       "      <td>...</td>\n",
       "      <td>...</td>\n",
       "      <td>...</td>\n",
       "      <td>...</td>\n",
       "      <td>...</td>\n",
       "      <td>...</td>\n",
       "      <td>...</td>\n",
       "      <td>...</td>\n",
       "    </tr>\n",
       "    <tr>\n",
       "      <th>176607</th>\n",
       "      <td>1592</td>\n",
       "      <td>42289438534</td>\n",
       "      <td>711</td>\n",
       "      <td>[6534178]</td>\n",
       "      <td>[12610]</td>\n",
       "      <td>330</td>\n",
       "      <td>-1.260000</td>\n",
       "      <td>1737</td>\n",
       "      <td>102</td>\n",
       "      <td>0.0</td>\n",
       "      <td>0.0</td>\n",
       "      <td>[31.02]</td>\n",
       "      <td>[0.0]</td>\n",
       "      <td>[0.0]</td>\n",
       "      <td>[2022-12-12]</td>\n",
       "    </tr>\n",
       "    <tr>\n",
       "      <th>223371</th>\n",
       "      <td>2019</td>\n",
       "      <td>42289792713</td>\n",
       "      <td>711</td>\n",
       "      <td>[859702, 1065538, 17214937]</td>\n",
       "      <td>[1, 1, 1]</td>\n",
       "      <td>443</td>\n",
       "      <td>0.000000</td>\n",
       "      <td>2000</td>\n",
       "      <td>102</td>\n",
       "      <td>0.0</td>\n",
       "      <td>0.0</td>\n",
       "      <td>[14.97, 17.11, 1.06]</td>\n",
       "      <td>[14.97, 17.11, 1.06]</td>\n",
       "      <td>[14.97, 17.11, 1.06]</td>\n",
       "      <td>[2022-12-12, 2022-12-12, 2022-12-12]</td>\n",
       "    </tr>\n",
       "    <tr>\n",
       "      <th>252129</th>\n",
       "      <td>2270</td>\n",
       "      <td>42289457372</td>\n",
       "      <td>711</td>\n",
       "      <td>[857849, 862139, 878676, 910473, 948650, 96155...</td>\n",
       "      <td>[1, 2, 1, 1, 1, 1, 2, 1, 1, 1, 1, 1, 1]</td>\n",
       "      <td>445</td>\n",
       "      <td>-0.546154</td>\n",
       "      <td>1846</td>\n",
       "      <td>102</td>\n",
       "      <td>0.0</td>\n",
       "      <td>0.0</td>\n",
       "      <td>[0.6, 1.07, 2.68, 5.34, 3.54, 1.79, 2.84, 0.94...</td>\n",
       "      <td>[0.6, 0.66, 2.88, 5.34, 4.96, 2.13, 2.79, 1.53...</td>\n",
       "      <td>[0.6, 0.54, 2.68, 5.34, 3.54, 1.79, 1.42, 0.94...</td>\n",
       "      <td>[2022-12-12, 2022-12-12, 2022-12-12, 2022-12-1...</td>\n",
       "    </tr>\n",
       "    <tr>\n",
       "      <th>127963</th>\n",
       "      <td>1158</td>\n",
       "      <td>42289631161</td>\n",
       "      <td>711</td>\n",
       "      <td>[916767]</td>\n",
       "      <td>[2]</td>\n",
       "      <td>289</td>\n",
       "      <td>0.000000</td>\n",
       "      <td>1714</td>\n",
       "      <td>102</td>\n",
       "      <td>0.0</td>\n",
       "      <td>0.0</td>\n",
       "      <td>[1.28]</td>\n",
       "      <td>[0.64]</td>\n",
       "      <td>[0.64]</td>\n",
       "      <td>[2022-12-12]</td>\n",
       "    </tr>\n",
       "    <tr>\n",
       "      <th>273933</th>\n",
       "      <td>2471</td>\n",
       "      <td>42289495187</td>\n",
       "      <td>711</td>\n",
       "      <td>[923746, 960984, 989069, 1042907, 1061220]</td>\n",
       "      <td>[1, 1, 1, 1, 1]</td>\n",
       "      <td>374</td>\n",
       "      <td>-0.480000</td>\n",
       "      <td>859</td>\n",
       "      <td>102</td>\n",
       "      <td>0.0</td>\n",
       "      <td>0.0</td>\n",
       "      <td>[2.12, 1.07, 2.68, 2.68, 1.07]</td>\n",
       "      <td>[2.12, 1.4, 3.2, 4.06, 1.4]</td>\n",
       "      <td>[2.12, 1.07, 2.68, 2.68, 1.07]</td>\n",
       "      <td>[2022-12-12, 2022-12-12, 2022-12-12, 2022-12-1...</td>\n",
       "    </tr>\n",
       "  </tbody>\n",
       "</table>\n",
       "<p>276484 rows × 15 columns</p>\n",
       "</div>"
      ],
      "text/plain": [
       "        household_key    basket_id  day  \\\n",
       "263587           2375  26984851516    1   \n",
       "274742           2483  26992197681    1   \n",
       "263586           2375  26984851472    1   \n",
       "141198           1287  26985336468    1   \n",
       "211515           1916  26996955143    1   \n",
       "...               ...          ...  ...   \n",
       "176607           1592  42289438534  711   \n",
       "223371           2019  42289792713  711   \n",
       "252129           2270  42289457372  711   \n",
       "127963           1158  42289631161  711   \n",
       "273933           2471  42289495187  711   \n",
       "\n",
       "                                               product_id  \\\n",
       "263587  [826249, 1043142, 1085983, 1102651, 6423775, 9...   \n",
       "274742                                          [3843566]   \n",
       "263586      [1004906, 1033142, 1036325, 1082185, 8160430]   \n",
       "141198                                          [5978648]   \n",
       "211515  [826784, 855421, 885290, 918199, 920112, 92273...   \n",
       "...                                                   ...   \n",
       "176607                                          [6534178]   \n",
       "223371                        [859702, 1065538, 17214937]   \n",
       "252129  [857849, 862139, 878676, 910473, 948650, 96155...   \n",
       "127963                                           [916767]   \n",
       "273933         [923746, 960984, 989069, 1042907, 1061220]   \n",
       "\n",
       "                                                 quantity  store_id  \\\n",
       "263587                                 [2, 1, 1, 1, 1, 1]       364   \n",
       "274742                                                [2]      2602   \n",
       "263586                                    [1, 1, 1, 1, 1]       364   \n",
       "141198                                                [0]       304   \n",
       "211515  [1, 1, 1, 2, 2, 1, 1, 1, 2, 5, 1, 1, 1, 2, 1, ...       446   \n",
       "...                                                   ...       ...   \n",
       "176607                                            [12610]       330   \n",
       "223371                                          [1, 1, 1]       443   \n",
       "252129            [1, 2, 1, 1, 1, 1, 2, 1, 1, 1, 1, 1, 1]       445   \n",
       "127963                                                [2]       289   \n",
       "273933                                    [1, 1, 1, 1, 1]       374   \n",
       "\n",
       "        retail_disc  trans_time  week_no  coupon_disc  coupon_match_disc  \\\n",
       "263587    -0.543333        1642        1          0.0                0.0   \n",
       "274742    -0.980000        1823        1          0.0                0.0   \n",
       "263586    -0.258000        1631        1          0.0                0.0   \n",
       "141198     0.000000        1351        1          0.0                0.0   \n",
       "211515    -0.511739        2355        1          0.0                0.0   \n",
       "...             ...         ...      ...          ...                ...   \n",
       "176607    -1.260000        1737      102          0.0                0.0   \n",
       "223371     0.000000        2000      102          0.0                0.0   \n",
       "252129    -0.546154        1846      102          0.0                0.0   \n",
       "127963     0.000000        1714      102          0.0                0.0   \n",
       "273933    -0.480000         859      102          0.0                0.0   \n",
       "\n",
       "                                           sales_value_eu  \\\n",
       "263587                [2.12, 1.68, 3.2, 2.02, 2.14, 2.14]   \n",
       "274742                                             [5.35]   \n",
       "263586                     [1.49, 0.88, 1.06, 1.29, 1.61]   \n",
       "141198                                              [0.0]   \n",
       "211515  [1.06, 3.84, 2.56, 2.25, 4.28, 2.66, 1.14, 5.3...   \n",
       "...                                                   ...   \n",
       "176607                                            [31.02]   \n",
       "223371                               [14.97, 17.11, 1.06]   \n",
       "252129  [0.6, 1.07, 2.68, 5.34, 3.54, 1.79, 2.84, 0.94...   \n",
       "127963                                             [1.28]   \n",
       "273933                     [2.12, 1.07, 2.68, 2.68, 1.07]   \n",
       "\n",
       "                                               loyalty_eu  \\\n",
       "263587               [1.38, 2.41, 3.63, 2.02, 2.99, 2.99]   \n",
       "274742                                              [3.2]   \n",
       "263586                     [2.13, 0.88, 1.38, 1.29, 2.02]   \n",
       "141198                                              [nan]   \n",
       "211515  [1.59, 3.84, 2.56, 1.12, 2.66, 2.66, 2.34, 7.0...   \n",
       "...                                                   ...   \n",
       "176607                                              [0.0]   \n",
       "223371                               [14.97, 17.11, 1.06]   \n",
       "252129  [0.6, 0.66, 2.88, 5.34, 4.96, 2.13, 2.79, 1.53...   \n",
       "127963                                             [0.64]   \n",
       "273933                        [2.12, 1.4, 3.2, 4.06, 1.4]   \n",
       "\n",
       "                                           non_loyalty_eu  \\\n",
       "263587                [1.06, 1.68, 3.2, 2.02, 2.14, 2.14]   \n",
       "274742                                             [2.68]   \n",
       "263586                      [1.49, 0.88, 1.06, 1.29, 1.6]   \n",
       "141198                                              [nan]   \n",
       "211515  [1.06, 3.84, 2.56, 1.12, 2.14, 2.66, 1.14, 5.3...   \n",
       "...                                                   ...   \n",
       "176607                                              [0.0]   \n",
       "223371                               [14.97, 17.11, 1.06]   \n",
       "252129  [0.6, 0.54, 2.68, 5.34, 3.54, 1.79, 1.42, 0.94...   \n",
       "127963                                             [0.64]   \n",
       "273933                     [2.12, 1.07, 2.68, 2.68, 1.07]   \n",
       "\n",
       "                                         transaction_date  \n",
       "263587  [2021-01-01, 2021-01-01, 2021-01-01, 2021-01-0...  \n",
       "274742                                       [2021-01-01]  \n",
       "263586  [2021-01-01, 2021-01-01, 2021-01-01, 2021-01-0...  \n",
       "141198                                       [2021-01-01]  \n",
       "211515  [2021-01-01, 2021-01-01, 2021-01-01, 2021-01-0...  \n",
       "...                                                   ...  \n",
       "176607                                       [2022-12-12]  \n",
       "223371               [2022-12-12, 2022-12-12, 2022-12-12]  \n",
       "252129  [2022-12-12, 2022-12-12, 2022-12-12, 2022-12-1...  \n",
       "127963                                       [2022-12-12]  \n",
       "273933  [2022-12-12, 2022-12-12, 2022-12-12, 2022-12-1...  \n",
       "\n",
       "[276484 rows x 15 columns]"
      ]
     },
     "execution_count": 38,
     "metadata": {},
     "output_type": "execute_result"
    }
   ],
   "source": [
    "basket = transaction.groupby(['household_key', 'basket_id', 'day']).agg({\n",
    "    'product_id': lambda x: list(x),\n",
    "    'quantity': lambda x: x.tolist(),\n",
    "    'store_id': 'first',\n",
    "    'retail_disc': 'mean',\n",
    "    'trans_time': 'first',\n",
    "    'week_no': 'first',\n",
    "    'coupon_disc': 'mean',\n",
    "    'coupon_match_disc': 'mean',\n",
    "    'sales_value_eu': lambda x: list(x),\n",
    "    'loyalty_eu': lambda x: list(x),\n",
    "    'non_loyalty_eu': lambda x: list(x),\n",
    "    'transaction_date': lambda x: list(x)\n",
    "}).reset_index()\n",
    "\n",
    "basket.sort_values(by='day')\n"
   ]
  },
  {
   "cell_type": "markdown",
   "metadata": {},
   "source": [
    "Serialize a list to keep values as integers after exporting the dataset"
   ]
  },
  {
   "cell_type": "code",
   "execution_count": 39,
   "metadata": {
    "ExecuteTime": {
     "end_time": "2024-08-05T10:10:13.642617Z",
     "start_time": "2024-08-05T10:10:12.798488Z"
    }
   },
   "outputs": [],
   "source": [
    "# Apply serialization\n",
    "basket['product_id'] = basket['product_id'].apply(functions.serialize_list)"
   ]
  },
  {
   "cell_type": "markdown",
   "metadata": {},
   "source": [
    "## 4. Campaign\n",
    "\n",
    "<a class='anchor' id='1'></a>\n",
    "[Top &#129033;](#0) "
   ]
  },
  {
   "cell_type": "code",
   "execution_count": 40,
   "metadata": {
    "ExecuteTime": {
     "end_time": "2024-08-05T10:10:13.651590Z",
     "start_time": "2024-08-05T10:10:13.644393Z"
    }
   },
   "outputs": [
    {
     "data": {
      "text/html": [
       "<div>\n",
       "<style scoped>\n",
       "    .dataframe tbody tr th:only-of-type {\n",
       "        vertical-align: middle;\n",
       "    }\n",
       "\n",
       "    .dataframe tbody tr th {\n",
       "        vertical-align: top;\n",
       "    }\n",
       "\n",
       "    .dataframe thead th {\n",
       "        text-align: right;\n",
       "    }\n",
       "</style>\n",
       "<table border=\"1\" class=\"dataframe\">\n",
       "  <thead>\n",
       "    <tr style=\"text-align: right;\">\n",
       "      <th></th>\n",
       "      <th>campaign</th>\n",
       "      <th>description</th>\n",
       "      <th>start_day</th>\n",
       "      <th>end_day</th>\n",
       "      <th>household_key</th>\n",
       "      <th>campaign_duration</th>\n",
       "      <th>start_date</th>\n",
       "      <th>end_date</th>\n",
       "    </tr>\n",
       "  </thead>\n",
       "  <tbody>\n",
       "    <tr>\n",
       "      <th>0</th>\n",
       "      <td>26</td>\n",
       "      <td>TypeA</td>\n",
       "      <td>224</td>\n",
       "      <td>264</td>\n",
       "      <td>17</td>\n",
       "      <td>40</td>\n",
       "      <td>2021-08-12</td>\n",
       "      <td>2021-09-21</td>\n",
       "    </tr>\n",
       "    <tr>\n",
       "      <th>1</th>\n",
       "      <td>26</td>\n",
       "      <td>TypeA</td>\n",
       "      <td>224</td>\n",
       "      <td>264</td>\n",
       "      <td>27</td>\n",
       "      <td>40</td>\n",
       "      <td>2021-08-12</td>\n",
       "      <td>2021-09-21</td>\n",
       "    </tr>\n",
       "  </tbody>\n",
       "</table>\n",
       "</div>"
      ],
      "text/plain": [
       "   campaign description  start_day  end_day  household_key  campaign_duration  \\\n",
       "0        26       TypeA        224      264             17                 40   \n",
       "1        26       TypeA        224      264             27                 40   \n",
       "\n",
       "   start_date    end_date  \n",
       "0  2021-08-12  2021-09-21  \n",
       "1  2021-08-12  2021-09-21  "
      ]
     },
     "execution_count": 40,
     "metadata": {},
     "output_type": "execute_result"
    }
   ],
   "source": [
    "campaign.head(2)"
   ]
  },
  {
   "cell_type": "markdown",
   "metadata": {},
   "source": [
    "Using *info* to explore datatypes and missing values"
   ]
  },
  {
   "cell_type": "code",
   "execution_count": 41,
   "metadata": {
    "ExecuteTime": {
     "end_time": "2024-08-05T10:10:13.662007Z",
     "start_time": "2024-08-05T10:10:13.653617Z"
    }
   },
   "outputs": [
    {
     "name": "stdout",
     "output_type": "stream",
     "text": [
      "<class 'pandas.core.frame.DataFrame'>\n",
      "RangeIndex: 7208 entries, 0 to 7207\n",
      "Data columns (total 8 columns):\n",
      " #   Column             Non-Null Count  Dtype \n",
      "---  ------             --------------  ----- \n",
      " 0   campaign           7208 non-null   int64 \n",
      " 1   description        7208 non-null   object\n",
      " 2   start_day          7208 non-null   int64 \n",
      " 3   end_day            7208 non-null   int64 \n",
      " 4   household_key      7208 non-null   int64 \n",
      " 5   campaign_duration  7208 non-null   int64 \n",
      " 6   start_date         7208 non-null   object\n",
      " 7   end_date           7208 non-null   object\n",
      "dtypes: int64(5), object(3)\n",
      "memory usage: 450.6+ KB\n"
     ]
    }
   ],
   "source": [
    "campaign.info()"
   ]
  },
  {
   "cell_type": "markdown",
   "metadata": {},
   "source": [
    "### 4.1 Dataset Transformation"
   ]
  },
  {
   "cell_type": "markdown",
   "metadata": {},
   "source": [
    "Create a new dataframe where campaigns are grouped by household key"
   ]
  },
  {
   "cell_type": "code",
   "execution_count": 42,
   "metadata": {
    "ExecuteTime": {
     "end_time": "2024-08-05T10:10:13.908463Z",
     "start_time": "2024-08-05T10:10:13.664137Z"
    }
   },
   "outputs": [
    {
     "data": {
      "text/html": [
       "<div>\n",
       "<style scoped>\n",
       "    .dataframe tbody tr th:only-of-type {\n",
       "        vertical-align: middle;\n",
       "    }\n",
       "\n",
       "    .dataframe tbody tr th {\n",
       "        vertical-align: top;\n",
       "    }\n",
       "\n",
       "    .dataframe thead th {\n",
       "        text-align: right;\n",
       "    }\n",
       "</style>\n",
       "<table border=\"1\" class=\"dataframe\">\n",
       "  <thead>\n",
       "    <tr style=\"text-align: right;\">\n",
       "      <th></th>\n",
       "      <th>household_key</th>\n",
       "      <th>campaign</th>\n",
       "      <th>description</th>\n",
       "      <th>start_day</th>\n",
       "      <th>end_day</th>\n",
       "      <th>campaign_duration</th>\n",
       "      <th>start_date</th>\n",
       "      <th>end_date</th>\n",
       "    </tr>\n",
       "  </thead>\n",
       "  <tbody>\n",
       "    <tr>\n",
       "      <th>0</th>\n",
       "      <td>1</td>\n",
       "      <td>[8, 13, 18, 29, 12, 22, 23, 20]</td>\n",
       "      <td>[TypeA, TypeA, TypeA, TypeB, TypeB, TypeB, Typ...</td>\n",
       "      <td>[412, 504, 587, 281, 477, 624, 646, 615]</td>\n",
       "      <td>[460, 551, 642, 334, 509, 656, 684, 685]</td>\n",
       "      <td>[48, 47, 55, 53, 32, 32, 38, 70]</td>\n",
       "      <td>[2022-02-16, 2022-05-19, 2022-08-10, 2021-10-0...</td>\n",
       "      <td>[2022-04-05, 2022-07-05, 2022-10-04, 2021-11-3...</td>\n",
       "    </tr>\n",
       "    <tr>\n",
       "      <th>1</th>\n",
       "      <td>2</td>\n",
       "      <td>[18]</td>\n",
       "      <td>[TypeA]</td>\n",
       "      <td>[587]</td>\n",
       "      <td>[642]</td>\n",
       "      <td>[55]</td>\n",
       "      <td>[2022-08-10]</td>\n",
       "      <td>[2022-10-04]</td>\n",
       "    </tr>\n",
       "    <tr>\n",
       "      <th>2</th>\n",
       "      <td>3</td>\n",
       "      <td>[8, 13, 14]</td>\n",
       "      <td>[TypeA, TypeA, TypeC]</td>\n",
       "      <td>[412, 504, 531]</td>\n",
       "      <td>[460, 551, 596]</td>\n",
       "      <td>[48, 47, 65]</td>\n",
       "      <td>[2022-02-16, 2022-05-19, 2022-06-15]</td>\n",
       "      <td>[2022-04-05, 2022-07-05, 2022-08-19]</td>\n",
       "    </tr>\n",
       "    <tr>\n",
       "      <th>3</th>\n",
       "      <td>4</td>\n",
       "      <td>[8]</td>\n",
       "      <td>[TypeA]</td>\n",
       "      <td>[412]</td>\n",
       "      <td>[460]</td>\n",
       "      <td>[48]</td>\n",
       "      <td>[2022-02-16]</td>\n",
       "      <td>[2022-04-05]</td>\n",
       "    </tr>\n",
       "    <tr>\n",
       "      <th>4</th>\n",
       "      <td>6</td>\n",
       "      <td>[8, 13, 18, 7]</td>\n",
       "      <td>[TypeA, TypeA, TypeA, TypeB]</td>\n",
       "      <td>[412, 504, 587, 398]</td>\n",
       "      <td>[460, 551, 642, 432]</td>\n",
       "      <td>[48, 47, 55, 34]</td>\n",
       "      <td>[2022-02-16, 2022-05-19, 2022-08-10, 2022-02-02]</td>\n",
       "      <td>[2022-04-05, 2022-07-05, 2022-10-04, 2022-03-08]</td>\n",
       "    </tr>\n",
       "    <tr>\n",
       "      <th>...</th>\n",
       "      <td>...</td>\n",
       "      <td>...</td>\n",
       "      <td>...</td>\n",
       "      <td>...</td>\n",
       "      <td>...</td>\n",
       "      <td>...</td>\n",
       "      <td>...</td>\n",
       "      <td>...</td>\n",
       "    </tr>\n",
       "    <tr>\n",
       "      <th>1579</th>\n",
       "      <td>2496</td>\n",
       "      <td>[8, 13, 18, 17, 14]</td>\n",
       "      <td>[TypeA, TypeA, TypeA, TypeB, TypeC]</td>\n",
       "      <td>[412, 504, 587, 575, 531]</td>\n",
       "      <td>[460, 551, 642, 607, 596]</td>\n",
       "      <td>[48, 47, 55, 32, 65]</td>\n",
       "      <td>[2022-02-16, 2022-05-19, 2022-08-10, 2022-07-2...</td>\n",
       "      <td>[2022-04-05, 2022-07-05, 2022-10-04, 2022-08-3...</td>\n",
       "    </tr>\n",
       "    <tr>\n",
       "      <th>1580</th>\n",
       "      <td>2497</td>\n",
       "      <td>[8, 13, 18]</td>\n",
       "      <td>[TypeA, TypeA, TypeA]</td>\n",
       "      <td>[412, 504, 587]</td>\n",
       "      <td>[460, 551, 642]</td>\n",
       "      <td>[48, 47, 55]</td>\n",
       "      <td>[2022-02-16, 2022-05-19, 2022-08-10]</td>\n",
       "      <td>[2022-04-05, 2022-07-05, 2022-10-04]</td>\n",
       "    </tr>\n",
       "    <tr>\n",
       "      <th>1581</th>\n",
       "      <td>2498</td>\n",
       "      <td>[8, 13, 18, 16, 17, 6]</td>\n",
       "      <td>[TypeA, TypeA, TypeA, TypeB, TypeB, TypeC]</td>\n",
       "      <td>[412, 504, 587, 561, 575, 393]</td>\n",
       "      <td>[460, 551, 642, 593, 607, 425]</td>\n",
       "      <td>[48, 47, 55, 32, 32, 32]</td>\n",
       "      <td>[2022-02-16, 2022-05-19, 2022-08-10, 2022-07-1...</td>\n",
       "      <td>[2022-04-05, 2022-07-05, 2022-10-04, 2022-08-1...</td>\n",
       "    </tr>\n",
       "    <tr>\n",
       "      <th>1582</th>\n",
       "      <td>2499</td>\n",
       "      <td>[8, 18]</td>\n",
       "      <td>[TypeA, TypeA]</td>\n",
       "      <td>[412, 587]</td>\n",
       "      <td>[460, 642]</td>\n",
       "      <td>[48, 55]</td>\n",
       "      <td>[2022-02-16, 2022-08-10]</td>\n",
       "      <td>[2022-04-05, 2022-10-04]</td>\n",
       "    </tr>\n",
       "    <tr>\n",
       "      <th>1583</th>\n",
       "      <td>2500</td>\n",
       "      <td>[8, 13, 18, 9, 10, 17, 19, 20]</td>\n",
       "      <td>[TypeA, TypeA, TypeA, TypeB, TypeB, TypeB, Typ...</td>\n",
       "      <td>[412, 504, 587, 435, 463, 575, 603, 615]</td>\n",
       "      <td>[460, 551, 642, 467, 495, 607, 635, 685]</td>\n",
       "      <td>[48, 47, 55, 32, 32, 32, 32, 70]</td>\n",
       "      <td>[2022-02-16, 2022-05-19, 2022-08-10, 2022-03-1...</td>\n",
       "      <td>[2022-04-05, 2022-07-05, 2022-10-04, 2022-04-1...</td>\n",
       "    </tr>\n",
       "  </tbody>\n",
       "</table>\n",
       "<p>1584 rows × 8 columns</p>\n",
       "</div>"
      ],
      "text/plain": [
       "      household_key                         campaign  \\\n",
       "0                 1  [8, 13, 18, 29, 12, 22, 23, 20]   \n",
       "1                 2                             [18]   \n",
       "2                 3                      [8, 13, 14]   \n",
       "3                 4                              [8]   \n",
       "4                 6                   [8, 13, 18, 7]   \n",
       "...             ...                              ...   \n",
       "1579           2496              [8, 13, 18, 17, 14]   \n",
       "1580           2497                      [8, 13, 18]   \n",
       "1581           2498           [8, 13, 18, 16, 17, 6]   \n",
       "1582           2499                          [8, 18]   \n",
       "1583           2500   [8, 13, 18, 9, 10, 17, 19, 20]   \n",
       "\n",
       "                                            description  \\\n",
       "0     [TypeA, TypeA, TypeA, TypeB, TypeB, TypeB, Typ...   \n",
       "1                                               [TypeA]   \n",
       "2                                 [TypeA, TypeA, TypeC]   \n",
       "3                                               [TypeA]   \n",
       "4                          [TypeA, TypeA, TypeA, TypeB]   \n",
       "...                                                 ...   \n",
       "1579                [TypeA, TypeA, TypeA, TypeB, TypeC]   \n",
       "1580                              [TypeA, TypeA, TypeA]   \n",
       "1581         [TypeA, TypeA, TypeA, TypeB, TypeB, TypeC]   \n",
       "1582                                     [TypeA, TypeA]   \n",
       "1583  [TypeA, TypeA, TypeA, TypeB, TypeB, TypeB, Typ...   \n",
       "\n",
       "                                     start_day  \\\n",
       "0     [412, 504, 587, 281, 477, 624, 646, 615]   \n",
       "1                                        [587]   \n",
       "2                              [412, 504, 531]   \n",
       "3                                        [412]   \n",
       "4                         [412, 504, 587, 398]   \n",
       "...                                        ...   \n",
       "1579                 [412, 504, 587, 575, 531]   \n",
       "1580                           [412, 504, 587]   \n",
       "1581            [412, 504, 587, 561, 575, 393]   \n",
       "1582                                [412, 587]   \n",
       "1583  [412, 504, 587, 435, 463, 575, 603, 615]   \n",
       "\n",
       "                                       end_day  \\\n",
       "0     [460, 551, 642, 334, 509, 656, 684, 685]   \n",
       "1                                        [642]   \n",
       "2                              [460, 551, 596]   \n",
       "3                                        [460]   \n",
       "4                         [460, 551, 642, 432]   \n",
       "...                                        ...   \n",
       "1579                 [460, 551, 642, 607, 596]   \n",
       "1580                           [460, 551, 642]   \n",
       "1581            [460, 551, 642, 593, 607, 425]   \n",
       "1582                                [460, 642]   \n",
       "1583  [460, 551, 642, 467, 495, 607, 635, 685]   \n",
       "\n",
       "                     campaign_duration  \\\n",
       "0     [48, 47, 55, 53, 32, 32, 38, 70]   \n",
       "1                                 [55]   \n",
       "2                         [48, 47, 65]   \n",
       "3                                 [48]   \n",
       "4                     [48, 47, 55, 34]   \n",
       "...                                ...   \n",
       "1579              [48, 47, 55, 32, 65]   \n",
       "1580                      [48, 47, 55]   \n",
       "1581          [48, 47, 55, 32, 32, 32]   \n",
       "1582                          [48, 55]   \n",
       "1583  [48, 47, 55, 32, 32, 32, 32, 70]   \n",
       "\n",
       "                                             start_date  \\\n",
       "0     [2022-02-16, 2022-05-19, 2022-08-10, 2021-10-0...   \n",
       "1                                          [2022-08-10]   \n",
       "2                  [2022-02-16, 2022-05-19, 2022-06-15]   \n",
       "3                                          [2022-02-16]   \n",
       "4      [2022-02-16, 2022-05-19, 2022-08-10, 2022-02-02]   \n",
       "...                                                 ...   \n",
       "1579  [2022-02-16, 2022-05-19, 2022-08-10, 2022-07-2...   \n",
       "1580               [2022-02-16, 2022-05-19, 2022-08-10]   \n",
       "1581  [2022-02-16, 2022-05-19, 2022-08-10, 2022-07-1...   \n",
       "1582                           [2022-02-16, 2022-08-10]   \n",
       "1583  [2022-02-16, 2022-05-19, 2022-08-10, 2022-03-1...   \n",
       "\n",
       "                                               end_date  \n",
       "0     [2022-04-05, 2022-07-05, 2022-10-04, 2021-11-3...  \n",
       "1                                          [2022-10-04]  \n",
       "2                  [2022-04-05, 2022-07-05, 2022-08-19]  \n",
       "3                                          [2022-04-05]  \n",
       "4      [2022-04-05, 2022-07-05, 2022-10-04, 2022-03-08]  \n",
       "...                                                 ...  \n",
       "1579  [2022-04-05, 2022-07-05, 2022-10-04, 2022-08-3...  \n",
       "1580               [2022-04-05, 2022-07-05, 2022-10-04]  \n",
       "1581  [2022-04-05, 2022-07-05, 2022-10-04, 2022-08-1...  \n",
       "1582                           [2022-04-05, 2022-10-04]  \n",
       "1583  [2022-04-05, 2022-07-05, 2022-10-04, 2022-04-1...  \n",
       "\n",
       "[1584 rows x 8 columns]"
      ]
     },
     "execution_count": 42,
     "metadata": {},
     "output_type": "execute_result"
    }
   ],
   "source": [
    "campaigns_per_household = campaign.groupby('household_key').agg({\n",
    "    'campaign': lambda x: list(x),\n",
    "    'description': lambda x: list(x),\n",
    "    'start_day': lambda x: list(x),            \n",
    "    'end_day': lambda x: list(x),               \n",
    "    'campaign_duration': lambda x: list(x),     \n",
    "    'start_date': lambda x: list(x),            \n",
    "    'end_date': lambda x: list(x)               \n",
    "}).reset_index()\n",
    "\n",
    "campaigns_per_household.sort_values(by= 'household_key')"
   ]
  },
  {
   "cell_type": "markdown",
   "metadata": {},
   "source": [
    "## 5. Coupon\n",
    "\n",
    "<a class='anchor' id='1'></a>\n",
    "[Top &#129033;](#0) "
   ]
  },
  {
   "cell_type": "code",
   "execution_count": 43,
   "metadata": {
    "ExecuteTime": {
     "end_time": "2024-08-05T10:10:13.921493Z",
     "start_time": "2024-08-05T10:10:13.910207Z"
    }
   },
   "outputs": [
    {
     "data": {
      "text/html": [
       "<div>\n",
       "<style scoped>\n",
       "    .dataframe tbody tr th:only-of-type {\n",
       "        vertical-align: middle;\n",
       "    }\n",
       "\n",
       "    .dataframe tbody tr th {\n",
       "        vertical-align: top;\n",
       "    }\n",
       "\n",
       "    .dataframe thead th {\n",
       "        text-align: right;\n",
       "    }\n",
       "</style>\n",
       "<table border=\"1\" class=\"dataframe\">\n",
       "  <thead>\n",
       "    <tr style=\"text-align: right;\">\n",
       "      <th></th>\n",
       "      <th>coupon_upc</th>\n",
       "      <th>product_id</th>\n",
       "      <th>household_key</th>\n",
       "      <th>day</th>\n",
       "      <th>campaign</th>\n",
       "      <th>trans_date</th>\n",
       "      <th>is_coupon_redeemed</th>\n",
       "    </tr>\n",
       "  </thead>\n",
       "  <tbody>\n",
       "    <tr>\n",
       "      <th>0</th>\n",
       "      <td>10000089061</td>\n",
       "      <td>4</td>\n",
       "      <td>27160</td>\n",
       "      <td>NaN</td>\n",
       "      <td>NaN</td>\n",
       "      <td>NaN</td>\n",
       "      <td>False</td>\n",
       "    </tr>\n",
       "    <tr>\n",
       "      <th>1</th>\n",
       "      <td>10000089064</td>\n",
       "      <td>9</td>\n",
       "      <td>27754</td>\n",
       "      <td>1773.0</td>\n",
       "      <td>439.0</td>\n",
       "      <td>2022-03-15</td>\n",
       "      <td>True</td>\n",
       "    </tr>\n",
       "    <tr>\n",
       "      <th>2</th>\n",
       "      <td>10000089064</td>\n",
       "      <td>9</td>\n",
       "      <td>27754</td>\n",
       "      <td>321.0</td>\n",
       "      <td>446.0</td>\n",
       "      <td>2022-03-22</td>\n",
       "      <td>True</td>\n",
       "    </tr>\n",
       "  </tbody>\n",
       "</table>\n",
       "</div>"
      ],
      "text/plain": [
       "    coupon_upc  product_id  household_key     day  campaign  trans_date  \\\n",
       "0  10000089061           4          27160     NaN       NaN         NaN   \n",
       "1  10000089064           9          27754  1773.0     439.0  2022-03-15   \n",
       "2  10000089064           9          27754   321.0     446.0  2022-03-22   \n",
       "\n",
       "   is_coupon_redeemed  \n",
       "0               False  \n",
       "1                True  \n",
       "2                True  "
      ]
     },
     "execution_count": 43,
     "metadata": {},
     "output_type": "execute_result"
    }
   ],
   "source": [
    "coupon.head(3)"
   ]
  },
  {
   "cell_type": "markdown",
   "metadata": {},
   "source": [
    "Using *info* and *isna* to explore datatypes and missing values"
   ]
  },
  {
   "cell_type": "code",
   "execution_count": 44,
   "metadata": {
    "ExecuteTime": {
     "end_time": "2024-08-05T10:10:13.929297Z",
     "start_time": "2024-08-05T10:10:13.923431Z"
    }
   },
   "outputs": [
    {
     "name": "stdout",
     "output_type": "stream",
     "text": [
      "<class 'pandas.core.frame.DataFrame'>\n",
      "RangeIndex: 2218551 entries, 0 to 2218550\n",
      "Data columns (total 7 columns):\n",
      " #   Column              Dtype  \n",
      "---  ------              -----  \n",
      " 0   coupon_upc          int64  \n",
      " 1   product_id          int64  \n",
      " 2   household_key       int64  \n",
      " 3   day                 float64\n",
      " 4   campaign            float64\n",
      " 5   trans_date          object \n",
      " 6   is_coupon_redeemed  bool   \n",
      "dtypes: bool(1), float64(2), int64(3), object(1)\n",
      "memory usage: 103.7+ MB\n"
     ]
    }
   ],
   "source": [
    "coupon.info()"
   ]
  },
  {
   "cell_type": "code",
   "execution_count": 45,
   "metadata": {
    "ExecuteTime": {
     "end_time": "2024-08-05T10:10:14.126891Z",
     "start_time": "2024-08-05T10:10:13.931336Z"
    }
   },
   "outputs": [
    {
     "data": {
      "text/plain": [
       "coupon_upc                0\n",
       "product_id                0\n",
       "household_key             0\n",
       "day                   20189\n",
       "campaign              20189\n",
       "trans_date            20189\n",
       "is_coupon_redeemed        0\n",
       "dtype: int64"
      ]
     },
     "execution_count": 45,
     "metadata": {},
     "output_type": "execute_result"
    }
   ],
   "source": [
    "coupon.isna().sum()"
   ]
  },
  {
   "cell_type": "markdown",
   "metadata": {},
   "source": [
    "Since the values that are missing correpsond to coupons that were not redeemed, it makes sense that variables such as *day*, *campaign* and *trans_date* have missing values."
   ]
  },
  {
   "cell_type": "code",
   "execution_count": 47,
   "metadata": {
    "ExecuteTime": {
     "end_time": "2024-08-05T10:10:14.178936Z",
     "start_time": "2024-08-05T10:10:14.142347Z"
    }
   },
   "outputs": [
    {
     "data": {
      "text/html": [
       "<div>\n",
       "<style scoped>\n",
       "    .dataframe tbody tr th:only-of-type {\n",
       "        vertical-align: middle;\n",
       "    }\n",
       "\n",
       "    .dataframe tbody tr th {\n",
       "        vertical-align: top;\n",
       "    }\n",
       "\n",
       "    .dataframe thead th {\n",
       "        text-align: right;\n",
       "    }\n",
       "</style>\n",
       "<table border=\"1\" class=\"dataframe\">\n",
       "  <thead>\n",
       "    <tr style=\"text-align: right;\">\n",
       "      <th></th>\n",
       "      <th>coupon_upc</th>\n",
       "      <th>product_id</th>\n",
       "      <th>household_key</th>\n",
       "      <th>day</th>\n",
       "      <th>campaign</th>\n",
       "      <th>trans_date</th>\n",
       "      <th>is_coupon_redeemed</th>\n",
       "    </tr>\n",
       "  </thead>\n",
       "  <tbody>\n",
       "    <tr>\n",
       "      <th>0</th>\n",
       "      <td>10000089061</td>\n",
       "      <td>4</td>\n",
       "      <td>27160</td>\n",
       "      <td>NaN</td>\n",
       "      <td>NaN</td>\n",
       "      <td>NaN</td>\n",
       "      <td>False</td>\n",
       "    </tr>\n",
       "    <tr>\n",
       "      <th>13</th>\n",
       "      <td>51800009050</td>\n",
       "      <td>28</td>\n",
       "      <td>28919</td>\n",
       "      <td>NaN</td>\n",
       "      <td>NaN</td>\n",
       "      <td>NaN</td>\n",
       "      <td>False</td>\n",
       "    </tr>\n",
       "    <tr>\n",
       "      <th>28</th>\n",
       "      <td>52100026076</td>\n",
       "      <td>28</td>\n",
       "      <td>28929</td>\n",
       "      <td>NaN</td>\n",
       "      <td>NaN</td>\n",
       "      <td>NaN</td>\n",
       "      <td>False</td>\n",
       "    </tr>\n",
       "    <tr>\n",
       "      <th>29</th>\n",
       "      <td>52100020075</td>\n",
       "      <td>1</td>\n",
       "      <td>28929</td>\n",
       "      <td>NaN</td>\n",
       "      <td>NaN</td>\n",
       "      <td>NaN</td>\n",
       "      <td>False</td>\n",
       "    </tr>\n",
       "    <tr>\n",
       "      <th>44</th>\n",
       "      <td>52100026076</td>\n",
       "      <td>28</td>\n",
       "      <td>29096</td>\n",
       "      <td>NaN</td>\n",
       "      <td>NaN</td>\n",
       "      <td>NaN</td>\n",
       "      <td>False</td>\n",
       "    </tr>\n",
       "    <tr>\n",
       "      <th>...</th>\n",
       "      <td>...</td>\n",
       "      <td>...</td>\n",
       "      <td>...</td>\n",
       "      <td>...</td>\n",
       "      <td>...</td>\n",
       "      <td>...</td>\n",
       "      <td>...</td>\n",
       "    </tr>\n",
       "    <tr>\n",
       "      <th>2216219</th>\n",
       "      <td>52770031050</td>\n",
       "      <td>26</td>\n",
       "      <td>110028</td>\n",
       "      <td>NaN</td>\n",
       "      <td>NaN</td>\n",
       "      <td>NaN</td>\n",
       "      <td>False</td>\n",
       "    </tr>\n",
       "    <tr>\n",
       "      <th>2216220</th>\n",
       "      <td>52770031050</td>\n",
       "      <td>26</td>\n",
       "      <td>1111344</td>\n",
       "      <td>NaN</td>\n",
       "      <td>NaN</td>\n",
       "      <td>NaN</td>\n",
       "      <td>False</td>\n",
       "    </tr>\n",
       "    <tr>\n",
       "      <th>2216221</th>\n",
       "      <td>52770031050</td>\n",
       "      <td>26</td>\n",
       "      <td>1949053</td>\n",
       "      <td>NaN</td>\n",
       "      <td>NaN</td>\n",
       "      <td>NaN</td>\n",
       "      <td>False</td>\n",
       "    </tr>\n",
       "    <tr>\n",
       "      <th>2216222</th>\n",
       "      <td>53700067076</td>\n",
       "      <td>26</td>\n",
       "      <td>5125479</td>\n",
       "      <td>NaN</td>\n",
       "      <td>NaN</td>\n",
       "      <td>NaN</td>\n",
       "      <td>False</td>\n",
       "    </tr>\n",
       "    <tr>\n",
       "      <th>2216223</th>\n",
       "      <td>53700067076</td>\n",
       "      <td>26</td>\n",
       "      <td>5566800</td>\n",
       "      <td>NaN</td>\n",
       "      <td>NaN</td>\n",
       "      <td>NaN</td>\n",
       "      <td>False</td>\n",
       "    </tr>\n",
       "  </tbody>\n",
       "</table>\n",
       "<p>20189 rows × 7 columns</p>\n",
       "</div>"
      ],
      "text/plain": [
       "          coupon_upc  product_id  household_key  day  campaign trans_date  \\\n",
       "0        10000089061           4          27160  NaN       NaN        NaN   \n",
       "13       51800009050          28          28919  NaN       NaN        NaN   \n",
       "28       52100026076          28          28929  NaN       NaN        NaN   \n",
       "29       52100020075           1          28929  NaN       NaN        NaN   \n",
       "44       52100026076          28          29096  NaN       NaN        NaN   \n",
       "...              ...         ...            ...  ...       ...        ...   \n",
       "2216219  52770031050          26         110028  NaN       NaN        NaN   \n",
       "2216220  52770031050          26        1111344  NaN       NaN        NaN   \n",
       "2216221  52770031050          26        1949053  NaN       NaN        NaN   \n",
       "2216222  53700067076          26        5125479  NaN       NaN        NaN   \n",
       "2216223  53700067076          26        5566800  NaN       NaN        NaN   \n",
       "\n",
       "         is_coupon_redeemed  \n",
       "0                     False  \n",
       "13                    False  \n",
       "28                    False  \n",
       "29                    False  \n",
       "44                    False  \n",
       "...                     ...  \n",
       "2216219               False  \n",
       "2216220               False  \n",
       "2216221               False  \n",
       "2216222               False  \n",
       "2216223               False  \n",
       "\n",
       "[20189 rows x 7 columns]"
      ]
     },
     "execution_count": 47,
     "metadata": {},
     "output_type": "execute_result"
    }
   ],
   "source": [
    "coupon[coupon['is_coupon_redeemed'] == False]"
   ]
  },
  {
   "cell_type": "markdown",
   "metadata": {},
   "source": [
    "### 5.1 Dataset Transformation"
   ]
  },
  {
   "cell_type": "code",
   "execution_count": 48,
   "metadata": {
    "ExecuteTime": {
     "end_time": "2024-08-05T10:10:20.433522Z",
     "start_time": "2024-08-05T10:10:14.181921Z"
    }
   },
   "outputs": [
    {
     "data": {
      "text/html": [
       "<div>\n",
       "<style scoped>\n",
       "    .dataframe tbody tr th:only-of-type {\n",
       "        vertical-align: middle;\n",
       "    }\n",
       "\n",
       "    .dataframe tbody tr th {\n",
       "        vertical-align: top;\n",
       "    }\n",
       "\n",
       "    .dataframe thead th {\n",
       "        text-align: right;\n",
       "    }\n",
       "</style>\n",
       "<table border=\"1\" class=\"dataframe\">\n",
       "  <thead>\n",
       "    <tr style=\"text-align: right;\">\n",
       "      <th></th>\n",
       "      <th>household_key</th>\n",
       "      <th>coupon_upc</th>\n",
       "      <th>product_id</th>\n",
       "      <th>day</th>\n",
       "      <th>campaign</th>\n",
       "      <th>trans_date</th>\n",
       "      <th>is_coupon_redeemed</th>\n",
       "    </tr>\n",
       "  </thead>\n",
       "  <tbody>\n",
       "    <tr>\n",
       "      <th>0</th>\n",
       "      <td>25671</td>\n",
       "      <td>[10000085427, 10000085427, 10000085427, 100000...</td>\n",
       "      <td>[13, 13, 13, 13, 13, 13, 13, 13, 13, 13, 13, 1...</td>\n",
       "      <td>[2489.0, 2427.0, 2280.0, 2130.0, 2085.0, 1965....</td>\n",
       "      <td>[515.0, 505.0, 512.0, 528.0, 531.0, 523.0, 523...</td>\n",
       "      <td>[2022-05-30, 2022-05-20, 2022-05-27, 2022-06-1...</td>\n",
       "      <td>[True, True, True, True, True, True, True, Tru...</td>\n",
       "    </tr>\n",
       "    <tr>\n",
       "      <th>1</th>\n",
       "      <td>26190</td>\n",
       "      <td>[10000089133, 10000089133, 51111070150, 100000...</td>\n",
       "      <td>[13, 13, 26, 8]</td>\n",
       "      <td>[2147.0, 1965.0, 788.0, 222.0]</td>\n",
       "      <td>[510.0, 509.0, 257.0, 415.0]</td>\n",
       "      <td>[2022-05-25, 2022-05-24, 2021-09-14, 2022-02-19]</td>\n",
       "      <td>[True, True, True, True]</td>\n",
       "    </tr>\n",
       "    <tr>\n",
       "      <th>2</th>\n",
       "      <td>26601</td>\n",
       "      <td>[10000085428, 10000085428, 10000085428, 100000...</td>\n",
       "      <td>[13, 13, 13, 13, 13, 13, 13, 13, 13, 13, 13, 1...</td>\n",
       "      <td>[2451.0, 2124.0, 2007.0, 1995.0, 1990.0, 1081....</td>\n",
       "      <td>[513.0, 541.0, 512.0, 516.0, 545.0, 548.0, 525...</td>\n",
       "      <td>[2022-05-28, 2022-06-25, 2022-05-27, 2022-05-3...</td>\n",
       "      <td>[True, True, True, True, True, True, True, Tru...</td>\n",
       "    </tr>\n",
       "    <tr>\n",
       "      <th>3</th>\n",
       "      <td>26738</td>\n",
       "      <td>[51111037233, 51111037250, 10000085427, 100000...</td>\n",
       "      <td>[26, 30, 13, 13, 13, 13, 13, 13, 13, 13, 13, 1...</td>\n",
       "      <td>[788.0, 239.0, 2489.0, 2427.0, 2280.0, 2130.0,...</td>\n",
       "      <td>[257.0, 332.0, 515.0, 505.0, 512.0, 528.0, 531...</td>\n",
       "      <td>[2021-09-14, 2021-11-28, 2022-05-30, 2022-05-2...</td>\n",
       "      <td>[True, True, True, True, True, True, True, Tru...</td>\n",
       "    </tr>\n",
       "    <tr>\n",
       "      <th>4</th>\n",
       "      <td>26941</td>\n",
       "      <td>[10000085427, 10000085427, 10000085427, 100000...</td>\n",
       "      <td>[13, 13, 13, 13, 13, 13, 13, 13, 13, 13, 13, 1...</td>\n",
       "      <td>[2489.0, 2427.0, 2280.0, 2130.0, 2085.0, 1965....</td>\n",
       "      <td>[515.0, 505.0, 512.0, 528.0, 531.0, 523.0, 523...</td>\n",
       "      <td>[2022-05-30, 2022-05-20, 2022-05-27, 2022-06-1...</td>\n",
       "      <td>[True, True, True, True, True, True, True, Tru...</td>\n",
       "    </tr>\n",
       "    <tr>\n",
       "      <th>...</th>\n",
       "      <td>...</td>\n",
       "      <td>...</td>\n",
       "      <td>...</td>\n",
       "      <td>...</td>\n",
       "      <td>...</td>\n",
       "      <td>...</td>\n",
       "      <td>...</td>\n",
       "    </tr>\n",
       "    <tr>\n",
       "      <th>44128</th>\n",
       "      <td>18056453</td>\n",
       "      <td>[10000085475, 10000085475, 10000085475, 100000...</td>\n",
       "      <td>[18, 18, 18, 18, 18, 18, 18, 18, 18, 18, 18, 1...</td>\n",
       "      <td>[2488.0, 2462.0, 2451.0, 2421.0, 2378.0, 2351....</td>\n",
       "      <td>[621.0, 602.0, 591.0, 605.0, 610.0, 598.0, 642...</td>\n",
       "      <td>[2022-09-13, 2022-08-25, 2022-08-14, 2022-08-2...</td>\n",
       "      <td>[True, True, True, True, True, True, True, Tru...</td>\n",
       "    </tr>\n",
       "    <tr>\n",
       "      <th>44129</th>\n",
       "      <td>18104791</td>\n",
       "      <td>[10000085475, 10000085475, 10000085475, 100000...</td>\n",
       "      <td>[18, 18, 18, 18, 18, 18, 18, 18, 18, 18, 18, 1...</td>\n",
       "      <td>[2488.0, 2462.0, 2451.0, 2421.0, 2378.0, 2351....</td>\n",
       "      <td>[621.0, 602.0, 591.0, 605.0, 610.0, 598.0, 642...</td>\n",
       "      <td>[2022-09-13, 2022-08-25, 2022-08-14, 2022-08-2...</td>\n",
       "      <td>[True, True, True, True, True, True, True, Tru...</td>\n",
       "    </tr>\n",
       "    <tr>\n",
       "      <th>44130</th>\n",
       "      <td>18105264</td>\n",
       "      <td>[10000085475, 10000085475, 10000085475, 100000...</td>\n",
       "      <td>[18, 18, 18, 18, 18, 18, 18, 18, 18, 18, 18, 1...</td>\n",
       "      <td>[2488.0, 2462.0, 2451.0, 2421.0, 2378.0, 2351....</td>\n",
       "      <td>[621.0, 602.0, 591.0, 605.0, 610.0, 598.0, 642...</td>\n",
       "      <td>[2022-09-13, 2022-08-25, 2022-08-14, 2022-08-2...</td>\n",
       "      <td>[True, True, True, True, True, True, True, Tru...</td>\n",
       "    </tr>\n",
       "    <tr>\n",
       "      <th>44131</th>\n",
       "      <td>18122531</td>\n",
       "      <td>[54589399250, 54589399250, 54589399250, 545893...</td>\n",
       "      <td>[14, 14, 14, 14, 27, 27]</td>\n",
       "      <td>[2489.0, 636.0, 588.0, nan, nan, nan]</td>\n",
       "      <td>[558.0, 533.0, 591.0, nan, nan, nan]</td>\n",
       "      <td>[2022-07-12, 2022-06-17, 2022-08-14, nan, nan,...</td>\n",
       "      <td>[True, True, True, False, False, False]</td>\n",
       "    </tr>\n",
       "    <tr>\n",
       "      <th>44132</th>\n",
       "      <td>18148540</td>\n",
       "      <td>[52840000033, 52840000033, 52840000033]</td>\n",
       "      <td>[25, 25, 25]</td>\n",
       "      <td>[2427.0, 1534.0, 400.0]</td>\n",
       "      <td>[682.0, 673.0, 683.0]</td>\n",
       "      <td>[2022-11-13, 2022-11-04, 2022-11-14]</td>\n",
       "      <td>[True, True, True]</td>\n",
       "    </tr>\n",
       "  </tbody>\n",
       "</table>\n",
       "<p>44133 rows × 7 columns</p>\n",
       "</div>"
      ],
      "text/plain": [
       "       household_key                                         coupon_upc  \\\n",
       "0              25671  [10000085427, 10000085427, 10000085427, 100000...   \n",
       "1              26190  [10000089133, 10000089133, 51111070150, 100000...   \n",
       "2              26601  [10000085428, 10000085428, 10000085428, 100000...   \n",
       "3              26738  [51111037233, 51111037250, 10000085427, 100000...   \n",
       "4              26941  [10000085427, 10000085427, 10000085427, 100000...   \n",
       "...              ...                                                ...   \n",
       "44128       18056453  [10000085475, 10000085475, 10000085475, 100000...   \n",
       "44129       18104791  [10000085475, 10000085475, 10000085475, 100000...   \n",
       "44130       18105264  [10000085475, 10000085475, 10000085475, 100000...   \n",
       "44131       18122531  [54589399250, 54589399250, 54589399250, 545893...   \n",
       "44132       18148540            [52840000033, 52840000033, 52840000033]   \n",
       "\n",
       "                                              product_id  \\\n",
       "0      [13, 13, 13, 13, 13, 13, 13, 13, 13, 13, 13, 1...   \n",
       "1                                        [13, 13, 26, 8]   \n",
       "2      [13, 13, 13, 13, 13, 13, 13, 13, 13, 13, 13, 1...   \n",
       "3      [26, 30, 13, 13, 13, 13, 13, 13, 13, 13, 13, 1...   \n",
       "4      [13, 13, 13, 13, 13, 13, 13, 13, 13, 13, 13, 1...   \n",
       "...                                                  ...   \n",
       "44128  [18, 18, 18, 18, 18, 18, 18, 18, 18, 18, 18, 1...   \n",
       "44129  [18, 18, 18, 18, 18, 18, 18, 18, 18, 18, 18, 1...   \n",
       "44130  [18, 18, 18, 18, 18, 18, 18, 18, 18, 18, 18, 1...   \n",
       "44131                           [14, 14, 14, 14, 27, 27]   \n",
       "44132                                       [25, 25, 25]   \n",
       "\n",
       "                                                     day  \\\n",
       "0      [2489.0, 2427.0, 2280.0, 2130.0, 2085.0, 1965....   \n",
       "1                         [2147.0, 1965.0, 788.0, 222.0]   \n",
       "2      [2451.0, 2124.0, 2007.0, 1995.0, 1990.0, 1081....   \n",
       "3      [788.0, 239.0, 2489.0, 2427.0, 2280.0, 2130.0,...   \n",
       "4      [2489.0, 2427.0, 2280.0, 2130.0, 2085.0, 1965....   \n",
       "...                                                  ...   \n",
       "44128  [2488.0, 2462.0, 2451.0, 2421.0, 2378.0, 2351....   \n",
       "44129  [2488.0, 2462.0, 2451.0, 2421.0, 2378.0, 2351....   \n",
       "44130  [2488.0, 2462.0, 2451.0, 2421.0, 2378.0, 2351....   \n",
       "44131              [2489.0, 636.0, 588.0, nan, nan, nan]   \n",
       "44132                            [2427.0, 1534.0, 400.0]   \n",
       "\n",
       "                                                campaign  \\\n",
       "0      [515.0, 505.0, 512.0, 528.0, 531.0, 523.0, 523...   \n",
       "1                           [510.0, 509.0, 257.0, 415.0]   \n",
       "2      [513.0, 541.0, 512.0, 516.0, 545.0, 548.0, 525...   \n",
       "3      [257.0, 332.0, 515.0, 505.0, 512.0, 528.0, 531...   \n",
       "4      [515.0, 505.0, 512.0, 528.0, 531.0, 523.0, 523...   \n",
       "...                                                  ...   \n",
       "44128  [621.0, 602.0, 591.0, 605.0, 610.0, 598.0, 642...   \n",
       "44129  [621.0, 602.0, 591.0, 605.0, 610.0, 598.0, 642...   \n",
       "44130  [621.0, 602.0, 591.0, 605.0, 610.0, 598.0, 642...   \n",
       "44131               [558.0, 533.0, 591.0, nan, nan, nan]   \n",
       "44132                              [682.0, 673.0, 683.0]   \n",
       "\n",
       "                                              trans_date  \\\n",
       "0      [2022-05-30, 2022-05-20, 2022-05-27, 2022-06-1...   \n",
       "1       [2022-05-25, 2022-05-24, 2021-09-14, 2022-02-19]   \n",
       "2      [2022-05-28, 2022-06-25, 2022-05-27, 2022-05-3...   \n",
       "3      [2021-09-14, 2021-11-28, 2022-05-30, 2022-05-2...   \n",
       "4      [2022-05-30, 2022-05-20, 2022-05-27, 2022-06-1...   \n",
       "...                                                  ...   \n",
       "44128  [2022-09-13, 2022-08-25, 2022-08-14, 2022-08-2...   \n",
       "44129  [2022-09-13, 2022-08-25, 2022-08-14, 2022-08-2...   \n",
       "44130  [2022-09-13, 2022-08-25, 2022-08-14, 2022-08-2...   \n",
       "44131  [2022-07-12, 2022-06-17, 2022-08-14, nan, nan,...   \n",
       "44132               [2022-11-13, 2022-11-04, 2022-11-14]   \n",
       "\n",
       "                                      is_coupon_redeemed  \n",
       "0      [True, True, True, True, True, True, True, Tru...  \n",
       "1                               [True, True, True, True]  \n",
       "2      [True, True, True, True, True, True, True, Tru...  \n",
       "3      [True, True, True, True, True, True, True, Tru...  \n",
       "4      [True, True, True, True, True, True, True, Tru...  \n",
       "...                                                  ...  \n",
       "44128  [True, True, True, True, True, True, True, Tru...  \n",
       "44129  [True, True, True, True, True, True, True, Tru...  \n",
       "44130  [True, True, True, True, True, True, True, Tru...  \n",
       "44131            [True, True, True, False, False, False]  \n",
       "44132                                 [True, True, True]  \n",
       "\n",
       "[44133 rows x 7 columns]"
      ]
     },
     "execution_count": 48,
     "metadata": {},
     "output_type": "execute_result"
    }
   ],
   "source": [
    "coupons_per_household = coupon.groupby('household_key').agg({\n",
    "    'coupon_upc': lambda x: list(x),\n",
    "    'product_id': lambda x: list(x),\n",
    "    'day': lambda x: list(x),            \n",
    "    'campaign': lambda x: list(x),               \n",
    "    'trans_date': lambda x: list(x),     \n",
    "    'is_coupon_redeemed': lambda x: list(x)                    \n",
    "}).reset_index()\n",
    "\n",
    "coupons_per_household.sort_values(by= 'household_key')"
   ]
  },
  {
   "cell_type": "markdown",
   "metadata": {},
   "source": [
    "## 6. Product\n",
    "\n",
    "<a class='anchor' id='1'></a>\n",
    "[Top &#129033;](#0) "
   ]
  },
  {
   "cell_type": "code",
   "execution_count": 49,
   "metadata": {
    "ExecuteTime": {
     "end_time": "2024-08-05T10:10:20.446029Z",
     "start_time": "2024-08-05T10:10:20.435549Z"
    }
   },
   "outputs": [
    {
     "data": {
      "text/html": [
       "<div>\n",
       "<style scoped>\n",
       "    .dataframe tbody tr th:only-of-type {\n",
       "        vertical-align: middle;\n",
       "    }\n",
       "\n",
       "    .dataframe tbody tr th {\n",
       "        vertical-align: top;\n",
       "    }\n",
       "\n",
       "    .dataframe thead th {\n",
       "        text-align: right;\n",
       "    }\n",
       "</style>\n",
       "<table border=\"1\" class=\"dataframe\">\n",
       "  <thead>\n",
       "    <tr style=\"text-align: right;\">\n",
       "      <th></th>\n",
       "      <th>product_id</th>\n",
       "      <th>manufacturer</th>\n",
       "      <th>department</th>\n",
       "      <th>brand</th>\n",
       "      <th>commodity_desc</th>\n",
       "      <th>sub_commodity_desc</th>\n",
       "      <th>curr_size_of_product</th>\n",
       "      <th>curr_size_of_product_value</th>\n",
       "      <th>curr_size_of_product_units</th>\n",
       "    </tr>\n",
       "  </thead>\n",
       "  <tbody>\n",
       "    <tr>\n",
       "      <th>0</th>\n",
       "      <td>25671</td>\n",
       "      <td>2</td>\n",
       "      <td>GROCERY</td>\n",
       "      <td>National</td>\n",
       "      <td>FRZN ICE</td>\n",
       "      <td>ICE - CRUSHED/CUBED</td>\n",
       "      <td>22 LB</td>\n",
       "      <td>22.0</td>\n",
       "      <td>LB</td>\n",
       "    </tr>\n",
       "    <tr>\n",
       "      <th>1</th>\n",
       "      <td>26081</td>\n",
       "      <td>2</td>\n",
       "      <td>MISC. TRANS.</td>\n",
       "      <td>National</td>\n",
       "      <td>NO COMMODITY DESCRIPTION</td>\n",
       "      <td>NO SUBCOMMODITY DESCRIPTION</td>\n",
       "      <td></td>\n",
       "      <td>NaN</td>\n",
       "      <td></td>\n",
       "    </tr>\n",
       "    <tr>\n",
       "      <th>2</th>\n",
       "      <td>26093</td>\n",
       "      <td>69</td>\n",
       "      <td>PASTRY</td>\n",
       "      <td>Private</td>\n",
       "      <td>BREAD</td>\n",
       "      <td>BREAD:ITALIAN/FRENCH</td>\n",
       "      <td></td>\n",
       "      <td>NaN</td>\n",
       "      <td></td>\n",
       "    </tr>\n",
       "  </tbody>\n",
       "</table>\n",
       "</div>"
      ],
      "text/plain": [
       "   product_id  manufacturer    department     brand            commodity_desc  \\\n",
       "0       25671             2       GROCERY  National                  FRZN ICE   \n",
       "1       26081             2  MISC. TRANS.  National  NO COMMODITY DESCRIPTION   \n",
       "2       26093            69        PASTRY   Private                     BREAD   \n",
       "\n",
       "            sub_commodity_desc curr_size_of_product  \\\n",
       "0          ICE - CRUSHED/CUBED                22 LB   \n",
       "1  NO SUBCOMMODITY DESCRIPTION                        \n",
       "2         BREAD:ITALIAN/FRENCH                        \n",
       "\n",
       "   curr_size_of_product_value curr_size_of_product_units  \n",
       "0                        22.0                         LB  \n",
       "1                         NaN                             \n",
       "2                         NaN                             "
      ]
     },
     "execution_count": 49,
     "metadata": {},
     "output_type": "execute_result"
    }
   ],
   "source": [
    "prod.head(3)"
   ]
  },
  {
   "cell_type": "markdown",
   "metadata": {},
   "source": [
    "Using *info* to explore datatypes and missing values"
   ]
  },
  {
   "cell_type": "code",
   "execution_count": 50,
   "metadata": {
    "ExecuteTime": {
     "end_time": "2024-08-05T10:10:20.483909Z",
     "start_time": "2024-08-05T10:10:20.447766Z"
    }
   },
   "outputs": [
    {
     "name": "stdout",
     "output_type": "stream",
     "text": [
      "<class 'pandas.core.frame.DataFrame'>\n",
      "RangeIndex: 92353 entries, 0 to 92352\n",
      "Data columns (total 9 columns):\n",
      " #   Column                      Non-Null Count  Dtype  \n",
      "---  ------                      --------------  -----  \n",
      " 0   product_id                  92353 non-null  int64  \n",
      " 1   manufacturer                92353 non-null  int64  \n",
      " 2   department                  92353 non-null  object \n",
      " 3   brand                       92353 non-null  object \n",
      " 4   commodity_desc              92353 non-null  object \n",
      " 5   sub_commodity_desc          92353 non-null  object \n",
      " 6   curr_size_of_product        92353 non-null  object \n",
      " 7   curr_size_of_product_value  61079 non-null  float64\n",
      " 8   curr_size_of_product_units  92353 non-null  object \n",
      "dtypes: float64(1), int64(2), object(6)\n",
      "memory usage: 6.3+ MB\n"
     ]
    }
   ],
   "source": [
    "prod.info()"
   ]
  },
  {
   "cell_type": "markdown",
   "metadata": {},
   "source": [
    "### 6.1 Feature Engineering"
   ]
  },
  {
   "cell_type": "markdown",
   "metadata": {},
   "source": [
    "Replace brand by a boolean"
   ]
  },
  {
   "cell_type": "code",
   "execution_count": 51,
   "metadata": {
    "ExecuteTime": {
     "end_time": "2024-08-05T10:10:20.510430Z",
     "start_time": "2024-08-05T10:10:20.486554Z"
    }
   },
   "outputs": [],
   "source": [
    "#prod['brand'].unique()\n",
    "prod['brand_bin'] = prod['brand'].replace({\n",
    "    'National': True,\n",
    "    'Private': False\n",
    "})"
   ]
  },
  {
   "cell_type": "code",
   "execution_count": 52,
   "metadata": {
    "ExecuteTime": {
     "end_time": "2024-08-05T10:10:20.529814Z",
     "start_time": "2024-08-05T10:10:20.512342Z"
    }
   },
   "outputs": [
    {
     "data": {
      "text/html": [
       "<div>\n",
       "<style scoped>\n",
       "    .dataframe tbody tr th:only-of-type {\n",
       "        vertical-align: middle;\n",
       "    }\n",
       "\n",
       "    .dataframe tbody tr th {\n",
       "        vertical-align: top;\n",
       "    }\n",
       "\n",
       "    .dataframe thead th {\n",
       "        text-align: right;\n",
       "    }\n",
       "</style>\n",
       "<table border=\"1\" class=\"dataframe\">\n",
       "  <thead>\n",
       "    <tr style=\"text-align: right;\">\n",
       "      <th></th>\n",
       "      <th>product_id</th>\n",
       "      <th>manufacturer</th>\n",
       "      <th>department</th>\n",
       "      <th>brand</th>\n",
       "      <th>commodity_desc</th>\n",
       "      <th>sub_commodity_desc</th>\n",
       "      <th>curr_size_of_product</th>\n",
       "      <th>curr_size_of_product_value</th>\n",
       "      <th>curr_size_of_product_units</th>\n",
       "      <th>brand_bin</th>\n",
       "    </tr>\n",
       "  </thead>\n",
       "  <tbody>\n",
       "    <tr>\n",
       "      <th>52189</th>\n",
       "      <td>5126087</td>\n",
       "      <td>1</td>\n",
       "      <td></td>\n",
       "      <td>National</td>\n",
       "      <td></td>\n",
       "      <td></td>\n",
       "      <td></td>\n",
       "      <td>NaN</td>\n",
       "      <td></td>\n",
       "      <td>True</td>\n",
       "    </tr>\n",
       "    <tr>\n",
       "      <th>52190</th>\n",
       "      <td>5126088</td>\n",
       "      <td>1</td>\n",
       "      <td></td>\n",
       "      <td>National</td>\n",
       "      <td></td>\n",
       "      <td></td>\n",
       "      <td></td>\n",
       "      <td>NaN</td>\n",
       "      <td></td>\n",
       "      <td>True</td>\n",
       "    </tr>\n",
       "    <tr>\n",
       "      <th>52191</th>\n",
       "      <td>5126106</td>\n",
       "      <td>1</td>\n",
       "      <td></td>\n",
       "      <td>National</td>\n",
       "      <td></td>\n",
       "      <td></td>\n",
       "      <td></td>\n",
       "      <td>NaN</td>\n",
       "      <td></td>\n",
       "      <td>True</td>\n",
       "    </tr>\n",
       "    <tr>\n",
       "      <th>52192</th>\n",
       "      <td>5126107</td>\n",
       "      <td>1</td>\n",
       "      <td></td>\n",
       "      <td>National</td>\n",
       "      <td></td>\n",
       "      <td></td>\n",
       "      <td></td>\n",
       "      <td>NaN</td>\n",
       "      <td></td>\n",
       "      <td>True</td>\n",
       "    </tr>\n",
       "    <tr>\n",
       "      <th>55048</th>\n",
       "      <td>5977100</td>\n",
       "      <td>1</td>\n",
       "      <td></td>\n",
       "      <td>National</td>\n",
       "      <td></td>\n",
       "      <td></td>\n",
       "      <td></td>\n",
       "      <td>NaN</td>\n",
       "      <td></td>\n",
       "      <td>True</td>\n",
       "    </tr>\n",
       "    <tr>\n",
       "      <th>55054</th>\n",
       "      <td>5978648</td>\n",
       "      <td>1</td>\n",
       "      <td></td>\n",
       "      <td>National</td>\n",
       "      <td></td>\n",
       "      <td></td>\n",
       "      <td></td>\n",
       "      <td>NaN</td>\n",
       "      <td></td>\n",
       "      <td>True</td>\n",
       "    </tr>\n",
       "    <tr>\n",
       "      <th>55055</th>\n",
       "      <td>5978649</td>\n",
       "      <td>1</td>\n",
       "      <td></td>\n",
       "      <td>National</td>\n",
       "      <td></td>\n",
       "      <td></td>\n",
       "      <td></td>\n",
       "      <td>NaN</td>\n",
       "      <td></td>\n",
       "      <td>True</td>\n",
       "    </tr>\n",
       "    <tr>\n",
       "      <th>55056</th>\n",
       "      <td>5978650</td>\n",
       "      <td>1</td>\n",
       "      <td></td>\n",
       "      <td>National</td>\n",
       "      <td></td>\n",
       "      <td></td>\n",
       "      <td></td>\n",
       "      <td>NaN</td>\n",
       "      <td></td>\n",
       "      <td>True</td>\n",
       "    </tr>\n",
       "    <tr>\n",
       "      <th>55057</th>\n",
       "      <td>5978656</td>\n",
       "      <td>1</td>\n",
       "      <td></td>\n",
       "      <td>National</td>\n",
       "      <td></td>\n",
       "      <td></td>\n",
       "      <td></td>\n",
       "      <td>NaN</td>\n",
       "      <td></td>\n",
       "      <td>True</td>\n",
       "    </tr>\n",
       "    <tr>\n",
       "      <th>55058</th>\n",
       "      <td>5978657</td>\n",
       "      <td>1</td>\n",
       "      <td></td>\n",
       "      <td>National</td>\n",
       "      <td></td>\n",
       "      <td></td>\n",
       "      <td></td>\n",
       "      <td>NaN</td>\n",
       "      <td></td>\n",
       "      <td>True</td>\n",
       "    </tr>\n",
       "    <tr>\n",
       "      <th>55059</th>\n",
       "      <td>5978659</td>\n",
       "      <td>1</td>\n",
       "      <td></td>\n",
       "      <td>National</td>\n",
       "      <td></td>\n",
       "      <td></td>\n",
       "      <td></td>\n",
       "      <td>NaN</td>\n",
       "      <td></td>\n",
       "      <td>True</td>\n",
       "    </tr>\n",
       "    <tr>\n",
       "      <th>55277</th>\n",
       "      <td>5993051</td>\n",
       "      <td>1</td>\n",
       "      <td></td>\n",
       "      <td>National</td>\n",
       "      <td></td>\n",
       "      <td></td>\n",
       "      <td></td>\n",
       "      <td>NaN</td>\n",
       "      <td></td>\n",
       "      <td>True</td>\n",
       "    </tr>\n",
       "    <tr>\n",
       "      <th>55278</th>\n",
       "      <td>5993054</td>\n",
       "      <td>1</td>\n",
       "      <td></td>\n",
       "      <td>National</td>\n",
       "      <td></td>\n",
       "      <td></td>\n",
       "      <td></td>\n",
       "      <td>NaN</td>\n",
       "      <td></td>\n",
       "      <td>True</td>\n",
       "    </tr>\n",
       "    <tr>\n",
       "      <th>55279</th>\n",
       "      <td>5993055</td>\n",
       "      <td>1</td>\n",
       "      <td></td>\n",
       "      <td>National</td>\n",
       "      <td></td>\n",
       "      <td></td>\n",
       "      <td></td>\n",
       "      <td>NaN</td>\n",
       "      <td></td>\n",
       "      <td>True</td>\n",
       "    </tr>\n",
       "    <tr>\n",
       "      <th>58244</th>\n",
       "      <td>6693056</td>\n",
       "      <td>1</td>\n",
       "      <td></td>\n",
       "      <td>National</td>\n",
       "      <td></td>\n",
       "      <td></td>\n",
       "      <td></td>\n",
       "      <td>NaN</td>\n",
       "      <td></td>\n",
       "      <td>True</td>\n",
       "    </tr>\n",
       "  </tbody>\n",
       "</table>\n",
       "</div>"
      ],
      "text/plain": [
       "       product_id  manufacturer department     brand commodity_desc  \\\n",
       "52189     5126087             1             National                  \n",
       "52190     5126088             1             National                  \n",
       "52191     5126106             1             National                  \n",
       "52192     5126107             1             National                  \n",
       "55048     5977100             1             National                  \n",
       "55054     5978648             1             National                  \n",
       "55055     5978649             1             National                  \n",
       "55056     5978650             1             National                  \n",
       "55057     5978656             1             National                  \n",
       "55058     5978657             1             National                  \n",
       "55059     5978659             1             National                  \n",
       "55277     5993051             1             National                  \n",
       "55278     5993054             1             National                  \n",
       "55279     5993055             1             National                  \n",
       "58244     6693056             1             National                  \n",
       "\n",
       "      sub_commodity_desc curr_size_of_product  curr_size_of_product_value  \\\n",
       "52189                                                                 NaN   \n",
       "52190                                                                 NaN   \n",
       "52191                                                                 NaN   \n",
       "52192                                                                 NaN   \n",
       "55048                                                                 NaN   \n",
       "55054                                                                 NaN   \n",
       "55055                                                                 NaN   \n",
       "55056                                                                 NaN   \n",
       "55057                                                                 NaN   \n",
       "55058                                                                 NaN   \n",
       "55059                                                                 NaN   \n",
       "55277                                                                 NaN   \n",
       "55278                                                                 NaN   \n",
       "55279                                                                 NaN   \n",
       "58244                                                                 NaN   \n",
       "\n",
       "      curr_size_of_product_units  brand_bin  \n",
       "52189                                  True  \n",
       "52190                                  True  \n",
       "52191                                  True  \n",
       "52192                                  True  \n",
       "55048                                  True  \n",
       "55054                                  True  \n",
       "55055                                  True  \n",
       "55056                                  True  \n",
       "55057                                  True  \n",
       "55058                                  True  \n",
       "55059                                  True  \n",
       "55277                                  True  \n",
       "55278                                  True  \n",
       "55279                                  True  \n",
       "58244                                  True  "
      ]
     },
     "execution_count": 52,
     "metadata": {},
     "output_type": "execute_result"
    }
   ],
   "source": [
    "prod[prod['commodity_desc'] == ' ']"
   ]
  },
  {
   "cell_type": "markdown",
   "metadata": {},
   "source": [
    "drop products w/o commodity & sub_commodity"
   ]
  },
  {
   "cell_type": "code",
   "execution_count": 53,
   "metadata": {
    "ExecuteTime": {
     "end_time": "2024-08-05T10:10:20.556775Z",
     "start_time": "2024-08-05T10:10:20.532051Z"
    }
   },
   "outputs": [],
   "source": [
    "prod = prod[prod['commodity_desc'] != ' '].reset_index(drop=True)"
   ]
  },
  {
   "cell_type": "markdown",
   "metadata": {},
   "source": [
    "Since the number of departments is very extensive, some will be merged together."
   ]
  },
  {
   "cell_type": "code",
   "execution_count": 54,
   "metadata": {
    "ExecuteTime": {
     "end_time": "2024-08-05T10:10:20.568966Z",
     "start_time": "2024-08-05T10:10:20.558988Z"
    }
   },
   "outputs": [
    {
     "data": {
      "text/plain": [
       "array(['GROCERY', 'MISC. TRANS.', 'PASTRY', 'DRUG GM', 'MEAT-PCKGD',\n",
       "       'SEAFOOD-PCKGD', 'PRODUCE', 'NUTRITION', 'DELI', 'COSMETICS',\n",
       "       'MEAT', 'FLORAL', 'TRAVEL & LEISUR', 'SEAFOOD', 'MISC SALES TRAN',\n",
       "       'SALAD BAR', 'KIOSK-GAS', 'ELECT &PLUMBING', 'GRO BAKERY',\n",
       "       'GM MERCH EXP', 'FROZEN GROCERY', 'COUP/STR & MFG', 'SPIRITS',\n",
       "       'GARDEN CENTER', 'TOYS', 'CHARITABLE CONT', 'RESTAURANT', 'RX',\n",
       "       'PROD-WHS SALES', 'MEAT-WHSE', 'DAIRY DELI', 'CHEF SHOPPE', 'HBC',\n",
       "       'DELI/SNACK BAR', 'PORK', 'AUTOMOTIVE', 'VIDEO RENTAL',\n",
       "       'CNTRL/STORE SUP', 'HOUSEWARES', 'POSTAL CENTER', 'PHOTO', 'VIDEO',\n",
       "       'PHARMACY SUPPLY'], dtype=object)"
      ]
     },
     "execution_count": 54,
     "metadata": {},
     "output_type": "execute_result"
    }
   ],
   "source": [
    "prod['department'].unique()"
   ]
  },
  {
   "cell_type": "code",
   "execution_count": 55,
   "metadata": {
    "ExecuteTime": {
     "end_time": "2024-08-05T10:10:20.633753Z",
     "start_time": "2024-08-05T10:10:20.573130Z"
    }
   },
   "outputs": [],
   "source": [
    "replacement_mapping = {\n",
    "    'MEAT': 'Meat',\n",
    "    'MEAT-PCKGD': 'Meat',\n",
    "    'MEAT-WHSE': 'Meat',\n",
    "    'PORK': 'Meat',\n",
    "    'SEAFOOD': 'Seafood',\n",
    "    'SEAFOOD-PCKGD': 'Seafood',\n",
    "    'FROZEN GROCERY': 'Groceries',\n",
    "    'PRODUCE': 'Groceries',\n",
    "    'GROCERY': 'Groceries',\n",
    "    'NUTRITION': 'Groceries',\n",
    "    'GRO BAKERY': 'Bakery',\n",
    "    'PASTRY': 'Bakery',\n",
    "    'DELI': 'Delicacies',\n",
    "    'DAIRY DELI': 'Delicacies',\n",
    "    'DELI/SNACK BAR': 'DELI/SNACK BAR',\n",
    "    'PHOTO': 'Photo/Video',\n",
    "    'VIDEO': 'Photo/Video'\n",
    "}\n",
    "\n",
    "prod['department'] = prod['department'].replace(replacement_mapping)\n"
   ]
  },
  {
   "cell_type": "markdown",
   "metadata": {},
   "source": [
    "## 7. Causal\n",
    "\n",
    "<a class='anchor' id='1'></a>\n",
    "[Top &#129033;](#0) "
   ]
  },
  {
   "cell_type": "code",
   "execution_count": 57,
   "metadata": {
    "ExecuteTime": {
     "end_time": "2024-08-05T10:10:20.670919Z",
     "start_time": "2024-08-05T10:10:20.658409Z"
    }
   },
   "outputs": [
    {
     "data": {
      "text/html": [
       "<div>\n",
       "<style scoped>\n",
       "    .dataframe tbody tr th:only-of-type {\n",
       "        vertical-align: middle;\n",
       "    }\n",
       "\n",
       "    .dataframe tbody tr th {\n",
       "        vertical-align: top;\n",
       "    }\n",
       "\n",
       "    .dataframe thead th {\n",
       "        text-align: right;\n",
       "    }\n",
       "</style>\n",
       "<table border=\"1\" class=\"dataframe\">\n",
       "  <thead>\n",
       "    <tr style=\"text-align: right;\">\n",
       "      <th></th>\n",
       "      <th>product_id</th>\n",
       "      <th>store_id</th>\n",
       "      <th>week_no</th>\n",
       "      <th>display</th>\n",
       "      <th>mailer</th>\n",
       "      <th>display_description</th>\n",
       "      <th>mailer_description</th>\n",
       "    </tr>\n",
       "  </thead>\n",
       "  <tbody>\n",
       "    <tr>\n",
       "      <th>0</th>\n",
       "      <td>770829</td>\n",
       "      <td>432</td>\n",
       "      <td>84</td>\n",
       "      <td>9</td>\n",
       "      <td>0</td>\n",
       "      <td>Secondary Location Display</td>\n",
       "      <td>Not an Ad</td>\n",
       "    </tr>\n",
       "    <tr>\n",
       "      <th>1</th>\n",
       "      <td>770829</td>\n",
       "      <td>433</td>\n",
       "      <td>13</td>\n",
       "      <td>5</td>\n",
       "      <td>H</td>\n",
       "      <td>Rear End Cap</td>\n",
       "      <td>Wrap front feature</td>\n",
       "    </tr>\n",
       "    <tr>\n",
       "      <th>2</th>\n",
       "      <td>770829</td>\n",
       "      <td>433</td>\n",
       "      <td>29</td>\n",
       "      <td>0</td>\n",
       "      <td>A</td>\n",
       "      <td>Not On Display</td>\n",
       "      <td>Interior page feature</td>\n",
       "    </tr>\n",
       "  </tbody>\n",
       "</table>\n",
       "</div>"
      ],
      "text/plain": [
       "   product_id  store_id  week_no display mailer         display_description  \\\n",
       "0      770829       432       84       9      0  Secondary Location Display   \n",
       "1      770829       433       13       5      H                Rear End Cap   \n",
       "2      770829       433       29       0      A              Not On Display   \n",
       "\n",
       "      mailer_description  \n",
       "0              Not an Ad  \n",
       "1     Wrap front feature  \n",
       "2  Interior page feature  "
      ]
     },
     "execution_count": 57,
     "metadata": {},
     "output_type": "execute_result"
    }
   ],
   "source": [
    "causal.head(3)"
   ]
  },
  {
   "cell_type": "markdown",
   "metadata": {},
   "source": [
    "Using *info* to explore datatypes and missing values"
   ]
  },
  {
   "cell_type": "code",
   "execution_count": 58,
   "metadata": {
    "ExecuteTime": {
     "end_time": "2024-08-05T10:10:20.684364Z",
     "start_time": "2024-08-05T10:10:20.674614Z"
    }
   },
   "outputs": [
    {
     "name": "stdout",
     "output_type": "stream",
     "text": [
      "<class 'pandas.core.frame.DataFrame'>\n",
      "RangeIndex: 36786524 entries, 0 to 36786523\n",
      "Data columns (total 7 columns):\n",
      " #   Column               Dtype \n",
      "---  ------               ----- \n",
      " 0   product_id           int64 \n",
      " 1   store_id             int64 \n",
      " 2   week_no              int64 \n",
      " 3   display              object\n",
      " 4   mailer               object\n",
      " 5   display_description  object\n",
      " 6   mailer_description   object\n",
      "dtypes: int64(3), object(4)\n",
      "memory usage: 1.9+ GB\n"
     ]
    }
   ],
   "source": [
    "causal.info()"
   ]
  },
  {
   "cell_type": "markdown",
   "metadata": {},
   "source": [
    "### 7.1 Dataset Transformation"
   ]
  },
  {
   "cell_type": "markdown",
   "metadata": {},
   "source": [
    "Grouping data by product"
   ]
  },
  {
   "cell_type": "code",
   "execution_count": 59,
   "metadata": {
    "ExecuteTime": {
     "end_time": "2024-08-05T10:10:54.031989Z",
     "start_time": "2024-08-05T10:10:20.687417Z"
    },
    "scrolled": true
   },
   "outputs": [
    {
     "data": {
      "text/html": [
       "<div>\n",
       "<style scoped>\n",
       "    .dataframe tbody tr th:only-of-type {\n",
       "        vertical-align: middle;\n",
       "    }\n",
       "\n",
       "    .dataframe tbody tr th {\n",
       "        vertical-align: top;\n",
       "    }\n",
       "\n",
       "    .dataframe thead th {\n",
       "        text-align: right;\n",
       "    }\n",
       "</style>\n",
       "<table border=\"1\" class=\"dataframe\">\n",
       "  <thead>\n",
       "    <tr style=\"text-align: right;\">\n",
       "      <th></th>\n",
       "      <th>product_id</th>\n",
       "      <th>store_id</th>\n",
       "      <th>week_no</th>\n",
       "      <th>display</th>\n",
       "      <th>mailer</th>\n",
       "      <th>display_description</th>\n",
       "      <th>mailer_description</th>\n",
       "    </tr>\n",
       "  </thead>\n",
       "  <tbody>\n",
       "    <tr>\n",
       "      <th>0</th>\n",
       "      <td>26190</td>\n",
       "      <td>[286, 288, 289, 292, 293, 295, 296, 297, 298, ...</td>\n",
       "      <td>[70, 70, 70, 70, 70, 70, 70, 70, 70, 70, 70, 7...</td>\n",
       "      <td>[0, 0, 0, 0, 0, 0, 0, 0, 0, 0, 0, 5, 0, 5, 0, ...</td>\n",
       "      <td>[A, A, A, A, A, A, A, A, A, A, A, A, A, A, A, ...</td>\n",
       "      <td>[Not On Display, Not On Display, Not On Displa...</td>\n",
       "      <td>[Interior page feature, Interior page feature,...</td>\n",
       "    </tr>\n",
       "    <tr>\n",
       "      <th>1</th>\n",
       "      <td>26355</td>\n",
       "      <td>[286, 286, 286, 286, 286, 286, 286, 286, 286, ...</td>\n",
       "      <td>[35, 37, 38, 41, 42, 43, 85, 87, 88, 89, 90, 9...</td>\n",
       "      <td>[5, 5, 5, 5, 5, 5, 5, 5, 5, 5, 5, 1, 5, 5, 5, ...</td>\n",
       "      <td>[0, 0, 0, 0, 0, 0, 0, 0, 0, 0, 0, 0, 0, 0, 0, ...</td>\n",
       "      <td>[Rear End Cap, Rear End Cap, Rear End Cap, Rea...</td>\n",
       "      <td>[Not an Ad, Not an Ad, Not an Ad, Not an Ad, N...</td>\n",
       "    </tr>\n",
       "    <tr>\n",
       "      <th>2</th>\n",
       "      <td>26426</td>\n",
       "      <td>[286, 286, 286, 286, 286, 288, 288, 288, 288, ...</td>\n",
       "      <td>[30, 31, 35, 51, 55, 30, 31, 32, 51, 55, 30, 3...</td>\n",
       "      <td>[0, 0, 0, 0, 0, 0, 0, 0, 0, 0, 0, 0, 0, 0, 0, ...</td>\n",
       "      <td>[A, A, A, A, A, A, A, A, A, A, A, A, A, A, A, ...</td>\n",
       "      <td>[Not On Display, Not On Display, Not On Displa...</td>\n",
       "      <td>[Interior page feature, Interior page feature,...</td>\n",
       "    </tr>\n",
       "    <tr>\n",
       "      <th>3</th>\n",
       "      <td>26540</td>\n",
       "      <td>[289, 313, 315, 316, 316, 316, 316, 316, 316, ...</td>\n",
       "      <td>[54, 56, 25, 52, 53, 54, 55, 56, 57, 59, 61, 6...</td>\n",
       "      <td>[3, 5, 4, 6, 6, 6, 6, 9, 9, 6, 6, 6, 6, 6, 6, ...</td>\n",
       "      <td>[0, 0, 0, 0, 0, 0, 0, 0, 0, 0, 0, 0, 0, 0, 0, ...</td>\n",
       "      <td>[Front End Cap, Rear End Cap, Mid-Aisle End Ca...</td>\n",
       "      <td>[Not an Ad, Not an Ad, Not an Ad, Not an Ad, N...</td>\n",
       "    </tr>\n",
       "    <tr>\n",
       "      <th>4</th>\n",
       "      <td>26601</td>\n",
       "      <td>[286, 286, 286, 288, 288, 288, 288, 288, 288, ...</td>\n",
       "      <td>[43, 71, 78, 13, 43, 61, 63, 78, 95, 97, 13, 2...</td>\n",
       "      <td>[0, 0, 0, 0, 0, 0, 0, 0, 0, 0, 0, 0, 0, 0, 0, ...</td>\n",
       "      <td>[A, A, A, H, A, A, A, A, D, A, H, A, A, A, A, ...</td>\n",
       "      <td>[Not On Display, Not On Display, Not On Displa...</td>\n",
       "      <td>[Interior page feature, Interior page feature,...</td>\n",
       "    </tr>\n",
       "    <tr>\n",
       "      <th>...</th>\n",
       "      <td>...</td>\n",
       "      <td>...</td>\n",
       "      <td>...</td>\n",
       "      <td>...</td>\n",
       "      <td>...</td>\n",
       "      <td>...</td>\n",
       "      <td>...</td>\n",
       "    </tr>\n",
       "    <tr>\n",
       "      <th>68372</th>\n",
       "      <td>18203132</td>\n",
       "      <td>[356]</td>\n",
       "      <td>[101]</td>\n",
       "      <td>[1]</td>\n",
       "      <td>[0]</td>\n",
       "      <td>[Store Front]</td>\n",
       "      <td>[Not an Ad]</td>\n",
       "    </tr>\n",
       "    <tr>\n",
       "      <th>68373</th>\n",
       "      <td>18203921</td>\n",
       "      <td>[341, 341, 424, 439, 439]</td>\n",
       "      <td>[100, 101, 101, 100, 101]</td>\n",
       "      <td>[1, 1, 1, 1, 1]</td>\n",
       "      <td>[0, 0, 0, 0, 0]</td>\n",
       "      <td>[Store Front, Store Front, Store Front, Store ...</td>\n",
       "      <td>[Not an Ad, Not an Ad, Not an Ad, Not an Ad, N...</td>\n",
       "    </tr>\n",
       "    <tr>\n",
       "      <th>68374</th>\n",
       "      <td>18243471</td>\n",
       "      <td>[415]</td>\n",
       "      <td>[101]</td>\n",
       "      <td>[3]</td>\n",
       "      <td>[0]</td>\n",
       "      <td>[Front End Cap]</td>\n",
       "      <td>[Not an Ad]</td>\n",
       "    </tr>\n",
       "    <tr>\n",
       "      <th>68375</th>\n",
       "      <td>18243476</td>\n",
       "      <td>[415]</td>\n",
       "      <td>[101]</td>\n",
       "      <td>[3]</td>\n",
       "      <td>[0]</td>\n",
       "      <td>[Front End Cap]</td>\n",
       "      <td>[Not an Ad]</td>\n",
       "    </tr>\n",
       "    <tr>\n",
       "      <th>68376</th>\n",
       "      <td>18244453</td>\n",
       "      <td>[345]</td>\n",
       "      <td>[101]</td>\n",
       "      <td>[7]</td>\n",
       "      <td>[0]</td>\n",
       "      <td>[In-Aisle]</td>\n",
       "      <td>[Not an Ad]</td>\n",
       "    </tr>\n",
       "  </tbody>\n",
       "</table>\n",
       "<p>68377 rows × 7 columns</p>\n",
       "</div>"
      ],
      "text/plain": [
       "       product_id                                           store_id  \\\n",
       "0           26190  [286, 288, 289, 292, 293, 295, 296, 297, 298, ...   \n",
       "1           26355  [286, 286, 286, 286, 286, 286, 286, 286, 286, ...   \n",
       "2           26426  [286, 286, 286, 286, 286, 288, 288, 288, 288, ...   \n",
       "3           26540  [289, 313, 315, 316, 316, 316, 316, 316, 316, ...   \n",
       "4           26601  [286, 286, 286, 288, 288, 288, 288, 288, 288, ...   \n",
       "...           ...                                                ...   \n",
       "68372    18203132                                              [356]   \n",
       "68373    18203921                          [341, 341, 424, 439, 439]   \n",
       "68374    18243471                                              [415]   \n",
       "68375    18243476                                              [415]   \n",
       "68376    18244453                                              [345]   \n",
       "\n",
       "                                                 week_no  \\\n",
       "0      [70, 70, 70, 70, 70, 70, 70, 70, 70, 70, 70, 7...   \n",
       "1      [35, 37, 38, 41, 42, 43, 85, 87, 88, 89, 90, 9...   \n",
       "2      [30, 31, 35, 51, 55, 30, 31, 32, 51, 55, 30, 3...   \n",
       "3      [54, 56, 25, 52, 53, 54, 55, 56, 57, 59, 61, 6...   \n",
       "4      [43, 71, 78, 13, 43, 61, 63, 78, 95, 97, 13, 2...   \n",
       "...                                                  ...   \n",
       "68372                                              [101]   \n",
       "68373                          [100, 101, 101, 100, 101]   \n",
       "68374                                              [101]   \n",
       "68375                                              [101]   \n",
       "68376                                              [101]   \n",
       "\n",
       "                                                 display  \\\n",
       "0      [0, 0, 0, 0, 0, 0, 0, 0, 0, 0, 0, 5, 0, 5, 0, ...   \n",
       "1      [5, 5, 5, 5, 5, 5, 5, 5, 5, 5, 5, 1, 5, 5, 5, ...   \n",
       "2      [0, 0, 0, 0, 0, 0, 0, 0, 0, 0, 0, 0, 0, 0, 0, ...   \n",
       "3      [3, 5, 4, 6, 6, 6, 6, 9, 9, 6, 6, 6, 6, 6, 6, ...   \n",
       "4      [0, 0, 0, 0, 0, 0, 0, 0, 0, 0, 0, 0, 0, 0, 0, ...   \n",
       "...                                                  ...   \n",
       "68372                                                [1]   \n",
       "68373                                    [1, 1, 1, 1, 1]   \n",
       "68374                                                [3]   \n",
       "68375                                                [3]   \n",
       "68376                                                [7]   \n",
       "\n",
       "                                                  mailer  \\\n",
       "0      [A, A, A, A, A, A, A, A, A, A, A, A, A, A, A, ...   \n",
       "1      [0, 0, 0, 0, 0, 0, 0, 0, 0, 0, 0, 0, 0, 0, 0, ...   \n",
       "2      [A, A, A, A, A, A, A, A, A, A, A, A, A, A, A, ...   \n",
       "3      [0, 0, 0, 0, 0, 0, 0, 0, 0, 0, 0, 0, 0, 0, 0, ...   \n",
       "4      [A, A, A, H, A, A, A, A, D, A, H, A, A, A, A, ...   \n",
       "...                                                  ...   \n",
       "68372                                                [0]   \n",
       "68373                                    [0, 0, 0, 0, 0]   \n",
       "68374                                                [0]   \n",
       "68375                                                [0]   \n",
       "68376                                                [0]   \n",
       "\n",
       "                                     display_description  \\\n",
       "0      [Not On Display, Not On Display, Not On Displa...   \n",
       "1      [Rear End Cap, Rear End Cap, Rear End Cap, Rea...   \n",
       "2      [Not On Display, Not On Display, Not On Displa...   \n",
       "3      [Front End Cap, Rear End Cap, Mid-Aisle End Ca...   \n",
       "4      [Not On Display, Not On Display, Not On Displa...   \n",
       "...                                                  ...   \n",
       "68372                                      [Store Front]   \n",
       "68373  [Store Front, Store Front, Store Front, Store ...   \n",
       "68374                                    [Front End Cap]   \n",
       "68375                                    [Front End Cap]   \n",
       "68376                                         [In-Aisle]   \n",
       "\n",
       "                                      mailer_description  \n",
       "0      [Interior page feature, Interior page feature,...  \n",
       "1      [Not an Ad, Not an Ad, Not an Ad, Not an Ad, N...  \n",
       "2      [Interior page feature, Interior page feature,...  \n",
       "3      [Not an Ad, Not an Ad, Not an Ad, Not an Ad, N...  \n",
       "4      [Interior page feature, Interior page feature,...  \n",
       "...                                                  ...  \n",
       "68372                                        [Not an Ad]  \n",
       "68373  [Not an Ad, Not an Ad, Not an Ad, Not an Ad, N...  \n",
       "68374                                        [Not an Ad]  \n",
       "68375                                        [Not an Ad]  \n",
       "68376                                        [Not an Ad]  \n",
       "\n",
       "[68377 rows x 7 columns]"
      ]
     },
     "execution_count": 59,
     "metadata": {},
     "output_type": "execute_result"
    }
   ],
   "source": [
    "causal_per_prod_id = causal.groupby('product_id').agg({\n",
    "    'store_id': lambda x: list(x),\n",
    "    'week_no': lambda x: list(x),\n",
    "    'display': lambda x: list(x),            \n",
    "    'mailer': lambda x: list(x),               \n",
    "    'display_description': lambda x: list(x),     \n",
    "    'mailer_description': lambda x: list(x)                    \n",
    "}).reset_index()\n",
    "\n",
    "causal_per_prod_id.sort_values(by= 'product_id')"
   ]
  },
  {
   "cell_type": "markdown",
   "metadata": {},
   "source": [
    "## 8. Export\n",
    "\n",
    "<a class='anchor' id='1'></a>\n",
    "[Top &#129033;](#0) "
   ]
  },
  {
   "cell_type": "code",
   "execution_count": 61,
   "metadata": {
    "ExecuteTime": {
     "end_time": "2024-08-05T10:12:31.710746Z",
     "start_time": "2024-08-05T10:11:09.341541Z"
    }
   },
   "outputs": [],
   "source": [
    "path = '/Users/antoniooliveira/Downloads/NTT project/Gold'\n",
    "#path = \"C:/Users/aprataso/Downloads/final_data/Gold\"\n",
    "\n",
    "hh.to_csv(f'{path}/hh_treated.csv', index=False)\n",
    "basket.to_csv(f'{path}/basket_treated.csv', index=False)\n",
    "campaigns_per_household.to_csv(f'{path}/campaigns_treated.csv', index=False)\n",
    "coupons_per_household.to_csv(f'{path}/coupon_treated.csv', index=False)\n",
    "prod.to_csv(f'{path}/prod_treated.csv', index=False)\n",
    "causal_per_prod_id.to_csv(f'{path}/causal_treated.csv', index=False)"
   ]
  }
 ],
 "metadata": {
  "kernelspec": {
   "display_name": "Python 3 (ipykernel)",
   "language": "python",
   "name": "python3"
  },
  "language_info": {
   "codemirror_mode": {
    "name": "ipython",
    "version": 3
   },
   "file_extension": ".py",
   "mimetype": "text/x-python",
   "name": "python",
   "nbconvert_exporter": "python",
   "pygments_lexer": "ipython3",
   "version": "3.12.4"
  }
 },
 "nbformat": 4,
 "nbformat_minor": 2
}
