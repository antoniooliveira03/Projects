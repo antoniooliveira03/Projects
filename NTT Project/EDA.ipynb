{
 "cells": [
  {
   "cell_type": "code",
   "execution_count": 10,
   "metadata": {},
   "outputs": [],
   "source": [
    "import pandas as pd\n",
    "import numpy as np"
   ]
  },
  {
   "cell_type": "code",
   "execution_count": 62,
   "metadata": {},
   "outputs": [],
   "source": [
    "hh = pd.read_csv(\"C:/Users/aprataso/Downloads/final_data/hh_demographic_enriched.csv\")\n",
    "transaction = pd.read_csv(\"C:/Users/aprataso/Downloads/final_data/transaction_data_enriched.csv\")\n",
    "campaign = pd.read_csv(\"C:/Users/aprataso/Downloads/final_data/campaign_enriched.csv\")\n",
    "prod = pd.read_csv(\"C:/Users/aprataso/Downloads/final_data/product_enriched.csv\")\n",
    "coupon = pd.read_csv(\"C:/Users/aprataso/Downloads/final_data/coupon_enriched.csv\")\n"
   ]
  },
  {
   "cell_type": "code",
   "execution_count": 33,
   "metadata": {},
   "outputs": [
    {
     "name": "stdout",
     "output_type": "stream",
     "text": [
      "       household_key  adult_category_size\n",
      "count     801.000000           728.000000\n",
      "mean     1235.176030             1.607143\n",
      "std       736.804647             0.488721\n",
      "min         1.000000             1.000000\n",
      "25%       596.000000             1.000000\n",
      "50%      1218.000000             2.000000\n",
      "75%      1914.000000             2.000000\n",
      "max      2499.000000             2.000000\n",
      "\n",
      "\n",
      "       household_key     basket_id           day    product_id      quantity  \\\n",
      "count   2.595732e+06  2.595732e+06  2.595732e+06  2.595732e+06  2.595732e+06   \n",
      "mean    1.271953e+03  3.402620e+10  3.887562e+02  2.891435e+06  1.004286e+02   \n",
      "std     7.260660e+02  4.711649e+09  1.897210e+02  3.837404e+06  1.153436e+03   \n",
      "min     1.000000e+00  2.698485e+10  1.000000e+00  2.567100e+04  0.000000e+00   \n",
      "25%     6.560000e+02  3.040805e+10  2.290000e+02  9.174590e+05  1.000000e+00   \n",
      "50%     1.272000e+03  3.276081e+10  3.900000e+02  1.028816e+06  1.000000e+00   \n",
      "75%     1.913000e+03  4.012685e+10  5.530000e+02  1.133018e+06  1.000000e+00   \n",
      "max     2.500000e+03  4.230536e+10  7.110000e+02  1.831630e+07  8.963800e+04   \n",
      "\n",
      "        sales_value      store_id   retail_disc    trans_time       week_no  \\\n",
      "count  2.595732e+06  2.595732e+06  2.595732e+06  2.595732e+06  2.595732e+06   \n",
      "mean   3.104120e+00  3.142673e+03 -5.387054e-01  1.561586e+03  5.622150e+01   \n",
      "std    4.182274e+00  8.937113e+03  1.249191e+00  3.998378e+02  2.710223e+01   \n",
      "min    0.000000e+00  1.000000e+00 -1.800000e+02  0.000000e+00  1.000000e+00   \n",
      "25%    1.290000e+00  3.300000e+02 -6.900000e-01  1.308000e+03  3.300000e+01   \n",
      "50%    2.000000e+00  3.720000e+02 -1.000000e-02  1.613000e+03  5.600000e+01   \n",
      "75%    3.490000e+00  4.220000e+02  0.000000e+00  1.843000e+03  8.000000e+01   \n",
      "max    8.400000e+02  3.428000e+04  3.990000e+00  2.359000e+03  1.020000e+02   \n",
      "\n",
      "        coupon_disc  coupon_match_disc  sales_value_eu  loyalty_card_price  \\\n",
      "count  2.595732e+06       2.595732e+06    2.595732e+06        2.581266e+06   \n",
      "mean  -1.641600e-02      -2.918564e-03    3.321852e+00        2.842648e+00   \n",
      "std    2.168410e-01       3.969004e-02    4.474974e+00        3.017948e+00   \n",
      "min   -5.593000e+01      -7.700000e+00    0.000000e+00       -4.700000e-01   \n",
      "25%    0.000000e+00       0.000000e+00    1.380000e+00        1.290000e+00   \n",
      "50%    0.000000e+00       0.000000e+00    2.140000e+00        2.190000e+00   \n",
      "75%    0.000000e+00       0.000000e+00    3.730000e+00        3.490000e+00   \n",
      "max    0.000000e+00       0.000000e+00    8.988000e+02        5.499900e+02   \n",
      "\n",
      "       non_loyalty_card_price         days_  \n",
      "count            2.581266e+06  2.595732e+06  \n",
      "mean             2.439429e+00  3.887562e+02  \n",
      "std              2.720569e+00  1.897210e+02  \n",
      "min              0.000000e+00  1.000000e+00  \n",
      "25%              1.000000e+00  2.290000e+02  \n",
      "50%              1.940000e+00  3.900000e+02  \n",
      "75%              2.990000e+00  5.530000e+02  \n",
      "max              4.999900e+02  7.110000e+02  \n",
      "\n",
      "\n",
      "          campaign    start_day      end_day  household_key  campaign_duration\n",
      "count  7208.000000  7208.000000  7208.000000    7208.000000        7208.000000\n",
      "mean     15.659545   488.397752   533.898724    1268.696726          45.500971\n",
      "std       6.949705   113.294910   115.544717     731.936391          11.708238\n",
      "min       1.000000   224.000000   264.000000       1.000000          32.000000\n",
      "25%       9.000000   412.000000   460.000000     644.000000          34.000000\n",
      "50%      14.000000   504.000000   551.000000    1263.000000          47.000000\n",
      "75%      20.000000   587.000000   642.000000    1924.000000          53.000000\n",
      "max      30.000000   659.000000   719.000000    2500.000000         161.000000\n",
      "\n",
      "\n",
      "         product_id  manufacturer  curr_size_of_product_value\n",
      "count  9.235300e+04   92353.00000                6.107900e+04\n",
      "mean   5.328353e+06    1739.22833                2.085982e+04\n",
      "std    5.359937e+06    1818.26957                9.364064e+05\n",
      "min    2.567100e+04       1.00000                0.000000e+00\n",
      "25%    9.706280e+05     328.00000                6.000000e+00\n",
      "50%    1.621091e+06    1094.00000                1.200000e+01\n",
      "75%    9.704770e+06    2264.00000                1.900000e+01\n",
      "max    1.831630e+07    6477.00000                8.371871e+07\n",
      "\n",
      "\n",
      "         coupon_upc    product_id  household_key           day      campaign\n",
      "count  2.334732e+06  2.334732e+06   2.318441e+06  2.318441e+06  2.318441e+06\n",
      "mean   1.392684e+10  4.691254e+06   1.347660e+03  5.443067e+02  1.460129e+01\n",
      "std    1.250159e+10  4.940094e+06   7.504984e+02  7.083763e+01  4.012291e+00\n",
      "min    1.000009e+10  2.567100e+04   1.000000e+00  2.250000e+02  1.000000e+00\n",
      "25%    1.000009e+10  9.573450e+05   6.920000e+02  5.090000e+02  1.300000e+01\n",
      "50%    1.000009e+10  1.423340e+06   1.421000e+03  5.410000e+02  1.300000e+01\n",
      "75%    1.000009e+10  9.196585e+06   2.007000e+03  6.050000e+02  1.800000e+01\n",
      "max    5.998660e+10  1.814854e+07   2.500000e+03  7.040000e+02  3.000000e+01\n",
      "\n",
      "\n"
     ]
    }
   ],
   "source": [
    "list_ =[hh, transaction, campaign, prod, coupon]\n",
    "\n",
    "for i, df in enumerate(list_):\n",
    "    print(df.describe())\n",
    "    print(f'\\n')"
   ]
  },
  {
   "cell_type": "markdown",
   "metadata": {},
   "source": [
    "HH_demographic"
   ]
  },
  {
   "cell_type": "code",
   "execution_count": 76,
   "metadata": {},
   "outputs": [
    {
     "name": "stdout",
     "output_type": "stream",
     "text": [
      "<class 'pandas.core.frame.DataFrame'>\n",
      "RangeIndex: 801 entries, 0 to 800\n",
      "Data columns (total 11 columns):\n",
      " #   Column               Non-Null Count  Dtype  \n",
      "---  ------               --------------  -----  \n",
      " 0   marital_status_code  801 non-null    object \n",
      " 1   homeowner_desc       801 non-null    object \n",
      " 2   hh_comp_desc         801 non-null    object \n",
      " 3   household_key        801 non-null    int64  \n",
      " 4   age_group            801 non-null    object \n",
      " 5   adult_category_size  728 non-null    float64\n",
      " 6   has_kids             426 non-null    object \n",
      " 7   avg_age              801 non-null    float64\n",
      " 8   avg_income           801 non-null    int64  \n",
      " 9   n_kids               243 non-null    float64\n",
      " 10  n_household          801 non-null    int64  \n",
      "dtypes: float64(3), int64(3), object(5)\n",
      "memory usage: 69.0+ KB\n"
     ]
    }
   ],
   "source": [
    "hh.info()"
   ]
  },
  {
   "cell_type": "code",
   "execution_count": 63,
   "metadata": {},
   "outputs": [],
   "source": [
    "hh['has_kids'] = hh['has_kids'].replace({\n",
    "    'Yes': True,\n",
    "    'No': False,\n",
    "    'unknown': None\n",
    "})"
   ]
  },
  {
   "cell_type": "markdown",
   "metadata": {},
   "source": [
    "Age"
   ]
  },
  {
   "cell_type": "code",
   "execution_count": 64,
   "metadata": {},
   "outputs": [
    {
     "data": {
      "text/plain": [
       "array([65, 45, 25, 35, 19, 55])"
      ]
     },
     "execution_count": 64,
     "metadata": {},
     "output_type": "execute_result"
    }
   ],
   "source": [
    "hh['min_age'] = hh['age_desc'].str[:2]\n",
    "hh['max_age'] = hh['age_desc'].apply(lambda x: x[-2:] if len(x) > 3 else 65)\n",
    "\n",
    "hh['min_age'] = hh['min_age'].astype('int')\n",
    "hh['min_age'].unique()"
   ]
  },
  {
   "cell_type": "code",
   "execution_count": 65,
   "metadata": {},
   "outputs": [
    {
     "data": {
      "text/plain": [
       "array([65, 54, 34, 44, 24, 64])"
      ]
     },
     "execution_count": 65,
     "metadata": {},
     "output_type": "execute_result"
    }
   ],
   "source": [
    "hh['max_age'] = hh['max_age'].astype(int)\n",
    "hh['max_age'].unique()"
   ]
  },
  {
   "cell_type": "code",
   "execution_count": 66,
   "metadata": {},
   "outputs": [],
   "source": [
    "hh['avg_age'] = (hh['min_age'] + hh['max_age']) / 2"
   ]
  },
  {
   "cell_type": "markdown",
   "metadata": {},
   "source": [
    "Income"
   ]
  },
  {
   "cell_type": "code",
   "execution_count": 67,
   "metadata": {},
   "outputs": [
    {
     "data": {
      "text/html": [
       "<div>\n",
       "<style scoped>\n",
       "    .dataframe tbody tr th:only-of-type {\n",
       "        vertical-align: middle;\n",
       "    }\n",
       "\n",
       "    .dataframe tbody tr th {\n",
       "        vertical-align: top;\n",
       "    }\n",
       "\n",
       "    .dataframe thead th {\n",
       "        text-align: right;\n",
       "    }\n",
       "</style>\n",
       "<table border=\"1\" class=\"dataframe\">\n",
       "  <thead>\n",
       "    <tr style=\"text-align: right;\">\n",
       "      <th></th>\n",
       "      <th>income_</th>\n",
       "      <th>income_desc</th>\n",
       "    </tr>\n",
       "  </thead>\n",
       "  <tbody>\n",
       "    <tr>\n",
       "      <th>0</th>\n",
       "      <td>[35, 49]</td>\n",
       "      <td>35-49K</td>\n",
       "    </tr>\n",
       "    <tr>\n",
       "      <th>1</th>\n",
       "      <td>[50, 74]</td>\n",
       "      <td>50-74K</td>\n",
       "    </tr>\n",
       "    <tr>\n",
       "      <th>2</th>\n",
       "      <td>[25, 34]</td>\n",
       "      <td>25-34K</td>\n",
       "    </tr>\n",
       "    <tr>\n",
       "      <th>3</th>\n",
       "      <td>[75, 99]</td>\n",
       "      <td>75-99K</td>\n",
       "    </tr>\n",
       "    <tr>\n",
       "      <th>4</th>\n",
       "      <td>[50, 74]</td>\n",
       "      <td>50-74K</td>\n",
       "    </tr>\n",
       "    <tr>\n",
       "      <th>...</th>\n",
       "      <td>...</td>\n",
       "      <td>...</td>\n",
       "    </tr>\n",
       "    <tr>\n",
       "      <th>796</th>\n",
       "      <td>[50, 74]</td>\n",
       "      <td>50-74K</td>\n",
       "    </tr>\n",
       "    <tr>\n",
       "      <th>797</th>\n",
       "      <td>[75, 99]</td>\n",
       "      <td>75-99K</td>\n",
       "    </tr>\n",
       "    <tr>\n",
       "      <th>798</th>\n",
       "      <td>[35, 49]</td>\n",
       "      <td>35-49K</td>\n",
       "    </tr>\n",
       "    <tr>\n",
       "      <th>799</th>\n",
       "      <td>[50, 74]</td>\n",
       "      <td>50-74K</td>\n",
       "    </tr>\n",
       "    <tr>\n",
       "      <th>800</th>\n",
       "      <td>[15]</td>\n",
       "      <td>Under 15K</td>\n",
       "    </tr>\n",
       "  </tbody>\n",
       "</table>\n",
       "<p>801 rows × 2 columns</p>\n",
       "</div>"
      ],
      "text/plain": [
       "      income_ income_desc\n",
       "0    [35, 49]      35-49K\n",
       "1    [50, 74]      50-74K\n",
       "2    [25, 34]      25-34K\n",
       "3    [75, 99]      75-99K\n",
       "4    [50, 74]      50-74K\n",
       "..        ...         ...\n",
       "796  [50, 74]      50-74K\n",
       "797  [75, 99]      75-99K\n",
       "798  [35, 49]      35-49K\n",
       "799  [50, 74]      50-74K\n",
       "800      [15]   Under 15K\n",
       "\n",
       "[801 rows x 2 columns]"
      ]
     },
     "execution_count": 67,
     "metadata": {},
     "output_type": "execute_result"
    }
   ],
   "source": [
    "hh['income_'] = hh['income_desc'].str.findall(r'\\d+')\n",
    "hh['income_'] = hh['income_'].apply(lambda x: list(map(int, x)) if x else [])\n",
    "hh[['income_', 'income_desc']]"
   ]
  },
  {
   "cell_type": "code",
   "execution_count": 68,
   "metadata": {},
   "outputs": [
    {
     "data": {
      "text/plain": [
       "0      42000\n",
       "1      62000\n",
       "2      29500\n",
       "3      87000\n",
       "4      62000\n",
       "       ...  \n",
       "796    62000\n",
       "797    87000\n",
       "798    42000\n",
       "799    62000\n",
       "800    15000\n",
       "Name: avg_income, Length: 801, dtype: int64"
      ]
     },
     "execution_count": 68,
     "metadata": {},
     "output_type": "execute_result"
    }
   ],
   "source": [
    "hh['avg_income'] = hh['income_'].apply(lambda x: sum(x) / len(x) * 1000 if len(x) > 0 else None)\n",
    "hh['avg_income'] = hh['avg_income'].astype(int)\n",
    "hh['avg_income']"
   ]
  },
  {
   "cell_type": "markdown",
   "metadata": {},
   "source": [
    "Category Sizes"
   ]
  },
  {
   "cell_type": "code",
   "execution_count": 69,
   "metadata": {},
   "outputs": [
    {
     "name": "stderr",
     "output_type": "stream",
     "text": [
      "C:\\Users\\aprataso\\AppData\\Local\\Temp\\ipykernel_16772\\1066555400.py:1: FutureWarning: Downcasting behavior in `replace` is deprecated and will be removed in a future version. To retain the old behavior, explicitly call `result.infer_objects(copy=False)`. To opt-in to the future behavior, set `pd.set_option('future.no_silent_downcasting', True)`\n",
      "  hh['n_kids'] = hh['kid_category_desc'].replace({\n"
     ]
    }
   ],
   "source": [
    "hh['n_kids'] = hh['kid_category_desc'].replace({\n",
    "    '1': 1,\n",
    "    '2': 2,\n",
    "    '3+': 3,\n",
    "    'None/Unknown': None\n",
    "})"
   ]
  },
  {
   "cell_type": "code",
   "execution_count": 70,
   "metadata": {},
   "outputs": [
    {
     "name": "stderr",
     "output_type": "stream",
     "text": [
      "C:\\Users\\aprataso\\AppData\\Local\\Temp\\ipykernel_16772\\1066555400.py:1: FutureWarning: Downcasting behavior in `replace` is deprecated and will be removed in a future version. To retain the old behavior, explicitly call `result.infer_objects(copy=False)`. To opt-in to the future behavior, set `pd.set_option('future.no_silent_downcasting', True)`\n",
      "  hh['n_kids'] = hh['kid_category_desc'].replace({\n"
     ]
    }
   ],
   "source": [
    "hh['n_kids'] = hh['kid_category_desc'].replace({\n",
    "    '1': 1,\n",
    "    '2': 2,\n",
    "    '3+': 3,\n",
    "    'None/Unknown': None\n",
    "})"
   ]
  },
  {
   "cell_type": "code",
   "execution_count": 74,
   "metadata": {},
   "outputs": [
    {
     "name": "stderr",
     "output_type": "stream",
     "text": [
      "C:\\Users\\aprataso\\AppData\\Local\\Temp\\ipykernel_16772\\1114001840.py:1: FutureWarning: Downcasting behavior in `replace` is deprecated and will be removed in a future version. To retain the old behavior, explicitly call `result.infer_objects(copy=False)`. To opt-in to the future behavior, set `pd.set_option('future.no_silent_downcasting', True)`\n",
      "  hh['n_household'] = hh['household_size_desc'].replace({\n"
     ]
    }
   ],
   "source": [
    "hh['n_household'] = hh['household_size_desc'].replace({\n",
    "    '1': 1,\n",
    "    '2': 2,\n",
    "    '3': 3,\n",
    "    '4': 4,\n",
    "    '5+': 5\n",
    "})"
   ]
  },
  {
   "cell_type": "code",
   "execution_count": 73,
   "metadata": {},
   "outputs": [
    {
     "data": {
      "text/plain": [
       "array(['2', '3', '4', '1', '5+'], dtype=object)"
      ]
     },
     "execution_count": 73,
     "metadata": {},
     "output_type": "execute_result"
    }
   ],
   "source": [
    "hh['household_size_desc'].unique()"
   ]
  },
  {
   "cell_type": "code",
   "execution_count": 75,
   "metadata": {},
   "outputs": [],
   "source": [
    "hh = hh.drop(['marital_status', 'min_age', 'max_age', 'income_', 'income_desc', \n",
    "              'age_desc', 'household_size_desc', 'kid_category_desc'], axis = 1)"
   ]
  }
 ],
 "metadata": {
  "kernelspec": {
   "display_name": "Python 3",
   "language": "python",
   "name": "python3"
  },
  "language_info": {
   "codemirror_mode": {
    "name": "ipython",
    "version": 3
   },
   "file_extension": ".py",
   "mimetype": "text/x-python",
   "name": "python",
   "nbconvert_exporter": "python",
   "pygments_lexer": "ipython3",
   "version": "3.11.9"
  }
 },
 "nbformat": 4,
 "nbformat_minor": 2
}
