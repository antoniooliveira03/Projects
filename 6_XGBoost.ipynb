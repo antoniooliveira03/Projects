{
  "cells": [
    {
      "cell_type": "markdown",
      "source": [
        "# Table of Contents\n",
        "1.   Importing Libraries\n",
        "2.   Importing Data\n",
        "3.   XGBoost Model\n",
        "4.   Tuning Hyperprmeters\n",
        "5.   Error Analysis\n",
        "\n",
        "\n",
        "\n",
        "\n",
        "\n"
      ],
      "metadata": {
        "id": "Coc9bj75yomf"
      }
    },
    {
      "cell_type": "code",
      "execution_count": 15,
      "metadata": {
        "colab": {
          "base_uri": "https://localhost:8080/"
        },
        "id": "akk2QhBRW_TM",
        "outputId": "b1eb7f44-39a8-459c-ecf8-aee886ead6a7"
      },
      "outputs": [
        {
          "output_type": "stream",
          "name": "stdout",
          "text": [
            "Drive already mounted at /content/drive; to attempt to forcibly remount, call drive.mount(\"/content/drive\", force_remount=True).\n"
          ]
        },
        {
          "output_type": "stream",
          "name": "stderr",
          "text": [
            "[nltk_data] Downloading package stopwords to /root/nltk_data...\n",
            "[nltk_data]   Package stopwords is already up-to-date!\n"
          ]
        }
      ],
      "source": [
        "from google.colab import drive\n",
        "drive.mount('/content/drive')\n",
        "\n",
        "import pandas as pd\n",
        "from typing import List, Union, Dict, Set, Tuple\n",
        "import numpy as np\n",
        "from numpy.typing import NDArray\n",
        "\n",
        "\n",
        "from collections import defaultdict, Counter\n",
        "from typing import Dict\n",
        "from nltk.corpus import gutenberg\n",
        "from typing import Union, List\n",
        "import string\n",
        "\n",
        "import nltk\n",
        "from nltk.corpus.reader.util import StreamBackedCorpusView\n",
        "from nltk.corpus import stopwords\n",
        "nltk.download('stopwords')\n",
        "nltk.download('wordnet')\n",
        "\n",
        "from sklearn.feature_extraction.text import CountVectorizer\n",
        "from sklearn.ensemble import GradientBoostingClassifier\n",
        "from sklearn.metrics import accuracy_score, confusion_matrix\n",
        "from sklearn.model_selection import train_test_split\n",
        "from gensim.models import KeyedVectors\n",
        "from sklearn.model_selection import GridSearchCV\n",
        "from sklearn.metrics import f1_score\n",
        "from sklearn.preprocessing import LabelEncoder\n",
        "from sklearn.model_selection import GridSearchCV, train_test_split\n",
        "from sklearn.ensemble import GradientBoostingClassifier\n",
        "from sklearn.metrics import accuracy_score, f1_score\n",
        "from sklearn.datasets import make_classification\n",
        "from sklearn.ensemble import RandomForestClassifier\n",
        "\n",
        "\n",
        "import xgboost as xgb\n",
        "\n",
        "import seaborn as sns\n",
        "from imblearn.over_sampling import SMOTE\n",
        "import matplotlib.pyplot as plt\n",
        "\n",
        "\n",
        "word_vectors = {}\n",
        "with open('/content/drive/MyDrive/Colab Notebooks/MannheimWMProject/Glove/glove.6B.300d.txt','r') as f:\n",
        "  for line in f:\n",
        "    values = line.split()\n",
        "    word = values[0]\n",
        "    vectors = np.asarray(values[1:],'float32')\n",
        "    word_vectors[word]=vectors\n",
        "\n",
        "\n",
        "import sys\n",
        "sys.path.append('/content/drive/MyDrive/Colab Notebooks/MannheimWMProject/')\n",
        "import preprocessing\n",
        "!pip install emoji\n",
        "df = pd.read_csv('/content/drive/MyDrive/Colab Notebooks/MannheimWMProject/airlines_reviews.csv')"
      ]
    },
    {
      "cell_type": "markdown",
      "source": [
        "Preprocessing"
      ],
      "metadata": {
        "id": "C7u_X9ISUju6"
      }
    },
    {
      "cell_type": "code",
      "execution_count": 18,
      "metadata": {
        "colab": {
          "base_uri": "https://localhost:8080/",
          "height": 143
        },
        "id": "8LzkgnejoEK1",
        "outputId": "a2b91dc3-dff4-4209-9834-921bb3ade42c"
      },
      "outputs": [
        {
          "output_type": "execute_result",
          "data": {
            "text/plain": [
              "Overall Rating    1    2    3    4    5    6    7    8     9     10\n",
              "Recommended                                                        \n",
              "no              1791  669  488  330  305  123   54   14    19    20\n",
              "yes               17   23   34   51  131  223  455  728  1035  1590"
            ],
            "text/html": [
              "\n",
              "  <div id=\"df-0e0e9f41-205a-425c-8615-3f39b5e27ffc\" class=\"colab-df-container\">\n",
              "    <div>\n",
              "<style scoped>\n",
              "    .dataframe tbody tr th:only-of-type {\n",
              "        vertical-align: middle;\n",
              "    }\n",
              "\n",
              "    .dataframe tbody tr th {\n",
              "        vertical-align: top;\n",
              "    }\n",
              "\n",
              "    .dataframe thead th {\n",
              "        text-align: right;\n",
              "    }\n",
              "</style>\n",
              "<table border=\"1\" class=\"dataframe\">\n",
              "  <thead>\n",
              "    <tr style=\"text-align: right;\">\n",
              "      <th>Overall Rating</th>\n",
              "      <th>1</th>\n",
              "      <th>2</th>\n",
              "      <th>3</th>\n",
              "      <th>4</th>\n",
              "      <th>5</th>\n",
              "      <th>6</th>\n",
              "      <th>7</th>\n",
              "      <th>8</th>\n",
              "      <th>9</th>\n",
              "      <th>10</th>\n",
              "    </tr>\n",
              "    <tr>\n",
              "      <th>Recommended</th>\n",
              "      <th></th>\n",
              "      <th></th>\n",
              "      <th></th>\n",
              "      <th></th>\n",
              "      <th></th>\n",
              "      <th></th>\n",
              "      <th></th>\n",
              "      <th></th>\n",
              "      <th></th>\n",
              "      <th></th>\n",
              "    </tr>\n",
              "  </thead>\n",
              "  <tbody>\n",
              "    <tr>\n",
              "      <th>no</th>\n",
              "      <td>1791</td>\n",
              "      <td>669</td>\n",
              "      <td>488</td>\n",
              "      <td>330</td>\n",
              "      <td>305</td>\n",
              "      <td>123</td>\n",
              "      <td>54</td>\n",
              "      <td>14</td>\n",
              "      <td>19</td>\n",
              "      <td>20</td>\n",
              "    </tr>\n",
              "    <tr>\n",
              "      <th>yes</th>\n",
              "      <td>17</td>\n",
              "      <td>23</td>\n",
              "      <td>34</td>\n",
              "      <td>51</td>\n",
              "      <td>131</td>\n",
              "      <td>223</td>\n",
              "      <td>455</td>\n",
              "      <td>728</td>\n",
              "      <td>1035</td>\n",
              "      <td>1590</td>\n",
              "    </tr>\n",
              "  </tbody>\n",
              "</table>\n",
              "</div>\n",
              "    <div class=\"colab-df-buttons\">\n",
              "\n",
              "  <div class=\"colab-df-container\">\n",
              "    <button class=\"colab-df-convert\" onclick=\"convertToInteractive('df-0e0e9f41-205a-425c-8615-3f39b5e27ffc')\"\n",
              "            title=\"Convert this dataframe to an interactive table.\"\n",
              "            style=\"display:none;\">\n",
              "\n",
              "  <svg xmlns=\"http://www.w3.org/2000/svg\" height=\"24px\" viewBox=\"0 -960 960 960\">\n",
              "    <path d=\"M120-120v-720h720v720H120Zm60-500h600v-160H180v160Zm220 220h160v-160H400v160Zm0 220h160v-160H400v160ZM180-400h160v-160H180v160Zm440 0h160v-160H620v160ZM180-180h160v-160H180v160Zm440 0h160v-160H620v160Z\"/>\n",
              "  </svg>\n",
              "    </button>\n",
              "\n",
              "  <style>\n",
              "    .colab-df-container {\n",
              "      display:flex;\n",
              "      gap: 12px;\n",
              "    }\n",
              "\n",
              "    .colab-df-convert {\n",
              "      background-color: #E8F0FE;\n",
              "      border: none;\n",
              "      border-radius: 50%;\n",
              "      cursor: pointer;\n",
              "      display: none;\n",
              "      fill: #1967D2;\n",
              "      height: 32px;\n",
              "      padding: 0 0 0 0;\n",
              "      width: 32px;\n",
              "    }\n",
              "\n",
              "    .colab-df-convert:hover {\n",
              "      background-color: #E2EBFA;\n",
              "      box-shadow: 0px 1px 2px rgba(60, 64, 67, 0.3), 0px 1px 3px 1px rgba(60, 64, 67, 0.15);\n",
              "      fill: #174EA6;\n",
              "    }\n",
              "\n",
              "    .colab-df-buttons div {\n",
              "      margin-bottom: 4px;\n",
              "    }\n",
              "\n",
              "    [theme=dark] .colab-df-convert {\n",
              "      background-color: #3B4455;\n",
              "      fill: #D2E3FC;\n",
              "    }\n",
              "\n",
              "    [theme=dark] .colab-df-convert:hover {\n",
              "      background-color: #434B5C;\n",
              "      box-shadow: 0px 1px 3px 1px rgba(0, 0, 0, 0.15);\n",
              "      filter: drop-shadow(0px 1px 2px rgba(0, 0, 0, 0.3));\n",
              "      fill: #FFFFFF;\n",
              "    }\n",
              "  </style>\n",
              "\n",
              "    <script>\n",
              "      const buttonEl =\n",
              "        document.querySelector('#df-0e0e9f41-205a-425c-8615-3f39b5e27ffc button.colab-df-convert');\n",
              "      buttonEl.style.display =\n",
              "        google.colab.kernel.accessAllowed ? 'block' : 'none';\n",
              "\n",
              "      async function convertToInteractive(key) {\n",
              "        const element = document.querySelector('#df-0e0e9f41-205a-425c-8615-3f39b5e27ffc');\n",
              "        const dataTable =\n",
              "          await google.colab.kernel.invokeFunction('convertToInteractive',\n",
              "                                                    [key], {});\n",
              "        if (!dataTable) return;\n",
              "\n",
              "        const docLinkHtml = 'Like what you see? Visit the ' +\n",
              "          '<a target=\"_blank\" href=https://colab.research.google.com/notebooks/data_table.ipynb>data table notebook</a>'\n",
              "          + ' to learn more about interactive tables.';\n",
              "        element.innerHTML = '';\n",
              "        dataTable['output_type'] = 'display_data';\n",
              "        await google.colab.output.renderOutput(dataTable, element);\n",
              "        const docLink = document.createElement('div');\n",
              "        docLink.innerHTML = docLinkHtml;\n",
              "        element.appendChild(docLink);\n",
              "      }\n",
              "    </script>\n",
              "  </div>\n",
              "\n",
              "\n",
              "<div id=\"df-3c6f9ac6-8ec4-4d85-b99a-6dc4cbd82837\">\n",
              "  <button class=\"colab-df-quickchart\" onclick=\"quickchart('df-3c6f9ac6-8ec4-4d85-b99a-6dc4cbd82837')\"\n",
              "            title=\"Suggest charts\"\n",
              "            style=\"display:none;\">\n",
              "\n",
              "<svg xmlns=\"http://www.w3.org/2000/svg\" height=\"24px\"viewBox=\"0 0 24 24\"\n",
              "     width=\"24px\">\n",
              "    <g>\n",
              "        <path d=\"M19 3H5c-1.1 0-2 .9-2 2v14c0 1.1.9 2 2 2h14c1.1 0 2-.9 2-2V5c0-1.1-.9-2-2-2zM9 17H7v-7h2v7zm4 0h-2V7h2v10zm4 0h-2v-4h2v4z\"/>\n",
              "    </g>\n",
              "</svg>\n",
              "  </button>\n",
              "\n",
              "<style>\n",
              "  .colab-df-quickchart {\n",
              "      --bg-color: #E8F0FE;\n",
              "      --fill-color: #1967D2;\n",
              "      --hover-bg-color: #E2EBFA;\n",
              "      --hover-fill-color: #174EA6;\n",
              "      --disabled-fill-color: #AAA;\n",
              "      --disabled-bg-color: #DDD;\n",
              "  }\n",
              "\n",
              "  [theme=dark] .colab-df-quickchart {\n",
              "      --bg-color: #3B4455;\n",
              "      --fill-color: #D2E3FC;\n",
              "      --hover-bg-color: #434B5C;\n",
              "      --hover-fill-color: #FFFFFF;\n",
              "      --disabled-bg-color: #3B4455;\n",
              "      --disabled-fill-color: #666;\n",
              "  }\n",
              "\n",
              "  .colab-df-quickchart {\n",
              "    background-color: var(--bg-color);\n",
              "    border: none;\n",
              "    border-radius: 50%;\n",
              "    cursor: pointer;\n",
              "    display: none;\n",
              "    fill: var(--fill-color);\n",
              "    height: 32px;\n",
              "    padding: 0;\n",
              "    width: 32px;\n",
              "  }\n",
              "\n",
              "  .colab-df-quickchart:hover {\n",
              "    background-color: var(--hover-bg-color);\n",
              "    box-shadow: 0 1px 2px rgba(60, 64, 67, 0.3), 0 1px 3px 1px rgba(60, 64, 67, 0.15);\n",
              "    fill: var(--button-hover-fill-color);\n",
              "  }\n",
              "\n",
              "  .colab-df-quickchart-complete:disabled,\n",
              "  .colab-df-quickchart-complete:disabled:hover {\n",
              "    background-color: var(--disabled-bg-color);\n",
              "    fill: var(--disabled-fill-color);\n",
              "    box-shadow: none;\n",
              "  }\n",
              "\n",
              "  .colab-df-spinner {\n",
              "    border: 2px solid var(--fill-color);\n",
              "    border-color: transparent;\n",
              "    border-bottom-color: var(--fill-color);\n",
              "    animation:\n",
              "      spin 1s steps(1) infinite;\n",
              "  }\n",
              "\n",
              "  @keyframes spin {\n",
              "    0% {\n",
              "      border-color: transparent;\n",
              "      border-bottom-color: var(--fill-color);\n",
              "      border-left-color: var(--fill-color);\n",
              "    }\n",
              "    20% {\n",
              "      border-color: transparent;\n",
              "      border-left-color: var(--fill-color);\n",
              "      border-top-color: var(--fill-color);\n",
              "    }\n",
              "    30% {\n",
              "      border-color: transparent;\n",
              "      border-left-color: var(--fill-color);\n",
              "      border-top-color: var(--fill-color);\n",
              "      border-right-color: var(--fill-color);\n",
              "    }\n",
              "    40% {\n",
              "      border-color: transparent;\n",
              "      border-right-color: var(--fill-color);\n",
              "      border-top-color: var(--fill-color);\n",
              "    }\n",
              "    60% {\n",
              "      border-color: transparent;\n",
              "      border-right-color: var(--fill-color);\n",
              "    }\n",
              "    80% {\n",
              "      border-color: transparent;\n",
              "      border-right-color: var(--fill-color);\n",
              "      border-bottom-color: var(--fill-color);\n",
              "    }\n",
              "    90% {\n",
              "      border-color: transparent;\n",
              "      border-bottom-color: var(--fill-color);\n",
              "    }\n",
              "  }\n",
              "</style>\n",
              "\n",
              "  <script>\n",
              "    async function quickchart(key) {\n",
              "      const quickchartButtonEl =\n",
              "        document.querySelector('#' + key + ' button');\n",
              "      quickchartButtonEl.disabled = true;  // To prevent multiple clicks.\n",
              "      quickchartButtonEl.classList.add('colab-df-spinner');\n",
              "      try {\n",
              "        const charts = await google.colab.kernel.invokeFunction(\n",
              "            'suggestCharts', [key], {});\n",
              "      } catch (error) {\n",
              "        console.error('Error during call to suggestCharts:', error);\n",
              "      }\n",
              "      quickchartButtonEl.classList.remove('colab-df-spinner');\n",
              "      quickchartButtonEl.classList.add('colab-df-quickchart-complete');\n",
              "    }\n",
              "    (() => {\n",
              "      let quickchartButtonEl =\n",
              "        document.querySelector('#df-3c6f9ac6-8ec4-4d85-b99a-6dc4cbd82837 button');\n",
              "      quickchartButtonEl.style.display =\n",
              "        google.colab.kernel.accessAllowed ? 'block' : 'none';\n",
              "    })();\n",
              "  </script>\n",
              "</div>\n",
              "    </div>\n",
              "  </div>\n"
            ],
            "application/vnd.google.colaboratory.intrinsic+json": {
              "type": "dataframe",
              "variable_name": "pivot_matrix",
              "summary": "{\n  \"name\": \"pivot_matrix\",\n  \"rows\": 2,\n  \"fields\": [\n    {\n      \"column\": \"Recommended\",\n      \"properties\": {\n        \"dtype\": \"string\",\n        \"num_unique_values\": 2,\n        \"samples\": [\n          \"yes\",\n          \"no\"\n        ],\n        \"semantic_type\": \"\",\n        \"description\": \"\"\n      }\n    },\n    {\n      \"column\": 1,\n      \"properties\": {\n        \"dtype\": \"number\",\n        \"std\": 1254,\n        \"min\": 17,\n        \"max\": 1791,\n        \"num_unique_values\": 2,\n        \"samples\": [\n          17,\n          1791\n        ],\n        \"semantic_type\": \"\",\n        \"description\": \"\"\n      }\n    },\n    {\n      \"column\": 2,\n      \"properties\": {\n        \"dtype\": \"number\",\n        \"std\": 456,\n        \"min\": 23,\n        \"max\": 669,\n        \"num_unique_values\": 2,\n        \"samples\": [\n          23,\n          669\n        ],\n        \"semantic_type\": \"\",\n        \"description\": \"\"\n      }\n    },\n    {\n      \"column\": 3,\n      \"properties\": {\n        \"dtype\": \"number\",\n        \"std\": 321,\n        \"min\": 34,\n        \"max\": 488,\n        \"num_unique_values\": 2,\n        \"samples\": [\n          34,\n          488\n        ],\n        \"semantic_type\": \"\",\n        \"description\": \"\"\n      }\n    },\n    {\n      \"column\": 4,\n      \"properties\": {\n        \"dtype\": \"number\",\n        \"std\": 197,\n        \"min\": 51,\n        \"max\": 330,\n        \"num_unique_values\": 2,\n        \"samples\": [\n          51,\n          330\n        ],\n        \"semantic_type\": \"\",\n        \"description\": \"\"\n      }\n    },\n    {\n      \"column\": 5,\n      \"properties\": {\n        \"dtype\": \"number\",\n        \"std\": 123,\n        \"min\": 131,\n        \"max\": 305,\n        \"num_unique_values\": 2,\n        \"samples\": [\n          131,\n          305\n        ],\n        \"semantic_type\": \"\",\n        \"description\": \"\"\n      }\n    },\n    {\n      \"column\": 6,\n      \"properties\": {\n        \"dtype\": \"number\",\n        \"std\": 70,\n        \"min\": 123,\n        \"max\": 223,\n        \"num_unique_values\": 2,\n        \"samples\": [\n          223,\n          123\n        ],\n        \"semantic_type\": \"\",\n        \"description\": \"\"\n      }\n    },\n    {\n      \"column\": 7,\n      \"properties\": {\n        \"dtype\": \"number\",\n        \"std\": 283,\n        \"min\": 54,\n        \"max\": 455,\n        \"num_unique_values\": 2,\n        \"samples\": [\n          455,\n          54\n        ],\n        \"semantic_type\": \"\",\n        \"description\": \"\"\n      }\n    },\n    {\n      \"column\": 8,\n      \"properties\": {\n        \"dtype\": \"number\",\n        \"std\": 504,\n        \"min\": 14,\n        \"max\": 728,\n        \"num_unique_values\": 2,\n        \"samples\": [\n          728,\n          14\n        ],\n        \"semantic_type\": \"\",\n        \"description\": \"\"\n      }\n    },\n    {\n      \"column\": 9,\n      \"properties\": {\n        \"dtype\": \"number\",\n        \"std\": 718,\n        \"min\": 19,\n        \"max\": 1035,\n        \"num_unique_values\": 2,\n        \"samples\": [\n          1035,\n          19\n        ],\n        \"semantic_type\": \"\",\n        \"description\": \"\"\n      }\n    },\n    {\n      \"column\": 10,\n      \"properties\": {\n        \"dtype\": \"number\",\n        \"std\": 1110,\n        \"min\": 20,\n        \"max\": 1590,\n        \"num_unique_values\": 2,\n        \"samples\": [\n          1590,\n          20\n        ],\n        \"semantic_type\": \"\",\n        \"description\": \"\"\n      }\n    }\n  ]\n}"
            }
          },
          "metadata": {},
          "execution_count": 18
        }
      ],
      "source": [
        "grouped = df.groupby(['Recommended', 'Overall Rating']).size().reset_index(name='count')\n",
        "pivot_matrix = grouped.pivot_table(index='Recommended', columns='Overall Rating', values='count', fill_value=0)\n",
        "pivot_matrix"
      ]
    },
    {
      "cell_type": "markdown",
      "metadata": {
        "id": "3V1fF6RioGAT"
      },
      "source": [
        "In this case, Rating=1-4 -> not recommended; Rating=5-6 -> neural; Rating=7-10 -> recommended;\n",
        "Only take Rating=1-4 -> not recommended, Rating=7-10 -> recommended train sentimental analysis model.\n"
      ]
    },
    {
      "cell_type": "code",
      "execution_count": 19,
      "metadata": {
        "colab": {
          "base_uri": "https://localhost:8080/"
        },
        "id": "Kd6TbGcMoM1f",
        "outputId": "337f1f07-0571-4830-dc4f-a248ce7626c9"
      },
      "outputs": [
        {
          "output_type": "execute_result",
          "data": {
            "text/plain": [
              "Recommended  Sentiment\n",
              "no           -1           3278\n",
              "yes           1           3808\n",
              "dtype: int64"
            ]
          },
          "metadata": {},
          "execution_count": 19
        }
      ],
      "source": [
        "#Create new function to convert Rating scores to 3 categories\n",
        "#1-4, 5-6, 7-10 forms negative, neutral, positive [-1,0,1]\n",
        "def score_convert_senti(score):\n",
        "    if score <= 4:\n",
        "        return -1\n",
        "    elif score >= 5 and score <= 6:\n",
        "        return 0\n",
        "    elif score >= 7:\n",
        "        return 1\n",
        "\n",
        "#Create new column, convert scoring into 3 categories\n",
        "df[\"Sentiment\"] = df[\"Overall Rating\"].apply(score_convert_senti)\n",
        "df_filtered= df[((df[\"Sentiment\"]==1) & (df[\"Recommended\"]=='yes')) | ((df[\"Sentiment\"]==-1) & (df[\"Recommended\"]=='no'))]\n",
        "df_filtered.head()\n",
        "df_filtered.groupby(['Recommended', 'Sentiment']).size()"
      ]
    },
    {
      "cell_type": "code",
      "execution_count": 24,
      "metadata": {
        "id": "LOOCCRusoUrq"
      },
      "outputs": [],
      "source": [
        "\n",
        "def text_to_vector(text):\n",
        "    # text_preprocessed=preprocessing.preprocess_reviews(text)\n",
        "    words = text.split()\n",
        "    vectors = [word_vectors[word] for word in words if word in word_vectors]\n",
        "    if len(vectors) > 0:\n",
        "        max_length = max(len(vector) for vector in vectors)\n",
        "        padded_vectors = [np.pad(vector, (0, max_length - len(vector)), mode='constant') for vector in vectors]\n",
        "        return np.mean(np.vstack(padded_vectors), axis=0)\n",
        "    else:\n",
        "        return np.zeros(vector_size)\n"
      ]
    },
    {
      "cell_type": "code",
      "execution_count": 34,
      "metadata": {
        "colab": {
          "base_uri": "https://localhost:8080/"
        },
        "id": "225Jf56FremL",
        "outputId": "af69e1d0-b708-41c0-ad54-9f95d17300b3"
      },
      "outputs": [
        {
          "output_type": "stream",
          "name": "stdout",
          "text": [
            "[[ 0.12555505 -0.0355822  -0.00940979 ... -0.04494987 -0.07985108\n",
            "  -0.00506728]\n",
            " [-0.10284501 -0.09145565  0.11728562 ... -0.15694857  0.03389191\n",
            "   0.00187407]\n",
            " [ 0.01626334  0.16090053 -0.12170778 ... -0.2869282  -0.08130356\n",
            "  -0.30545443]\n",
            " ...\n",
            " [-0.08672043  0.13437529 -0.08863271 ... -0.21265703 -0.06292971\n",
            "  -0.05155307]\n",
            " [-0.0415783   0.05050199  0.06310954 ... -0.12161891 -0.08390979\n",
            "  -0.03628812]\n",
            " [ 0.05296925  0.14066587 -0.04025602 ... -0.08066425  0.01383654\n",
            "  -0.12126777]]\n"
          ]
        }
      ],
      "source": [
        "X = df['Reviews']\n",
        "y = df['Sentiment']\n",
        "X_preprocessed=preprocessing.preprocess_reviews(X)\n",
        "X_preprocessed= X_preprocessed.apply(text_to_vector)\n",
        "X = np.vstack(X_preprocessed)\n",
        "print(X)"
      ]
    },
    {
      "cell_type": "markdown",
      "metadata": {
        "id": "cYagpQ0ve3QA"
      },
      "source": [
        "GD"
      ]
    },
    {
      "cell_type": "code",
      "execution_count": 33,
      "metadata": {
        "colab": {
          "base_uri": "https://localhost:8080/"
        },
        "id": "_HjbMNxrj03m",
        "outputId": "3d463d03-ea7c-4f85-b044-14b4215bb6a3"
      },
      "outputs": [
        {
          "output_type": "stream",
          "name": "stdout",
          "text": [
            "Accuracy: 0.7851851851851852\n",
            "Weighted F1 Score: 0.7450407250758745\n",
            "F1 Score: [0.81465201 0.         0.83889865]\n"
          ]
        }
      ],
      "source": [
        "# baseline, without tuning hp\n",
        "\n",
        "X_train, X_test, y_train, y_test = train_test_split(X, y, test_size=0.2, random_state=42)\n",
        "label_encoder = LabelEncoder()\n",
        "\n",
        "# Fit label encoder and return encoded labels\n",
        "y_train_encoded = label_encoder.fit_transform(y_train)\n",
        "y_test_encoded = label_encoder.transform(y_test)\n",
        "\n",
        "# Train XGBoost with the encoded labels\n",
        "xgb_classifier = xgb.XGBClassifier(use_label_encoder=False, eval_metric='logloss')\n",
        "xgb_classifier.fit(X_train, y_train_encoded)\n",
        "y_pred_encoded = xgb_classifier.predict(X_test)\n",
        "\n",
        "# Convert predictions back to original labels\n",
        "y_pred = label_encoder.inverse_transform(y_pred_encoded)\n",
        "\n",
        "# Evaluate the model\n",
        "accuracy = accuracy_score(y_test_encoded, y_pred_encoded)\n",
        "print(\"Accuracy:\", accuracy)\n",
        "F1_weighted = f1_score(y_test_encoded, y_pred_encoded, average=\"weighted\")\n",
        "print(\"Weighted F1 Score:\", F1_weighted)\n",
        "F1 = f1_score(y_test_encoded, y_pred_encoded, average=None)\n",
        "print(\"F1 Score:\", F1)\n"
      ]
    },
    {
      "cell_type": "markdown",
      "source": [
        "Hyperparameter Tuning"
      ],
      "metadata": {
        "id": "nwzFtN5_TnBW"
      }
    },
    {
      "cell_type": "code",
      "source": [
        "\n",
        "X_train_val, X_test, y_train_val, y_test = train_test_split(X, y, test_size=0.2, random_state=42)\n",
        "y_train_val_encoded = label_encoder.fit_transform(y_train_val)\n",
        "y_test_encoded = label_encoder.transform(y_test)\n",
        "\n",
        "\n",
        "param_grid = {\n",
        "    'max_depth': [2,5,8],\n",
        "    # 'min_child_weight': [8, 10, 12],\n",
        "    'gamma': [0.3,0.6,0.8],\n",
        "    # 'subsample': [0.6, 0.8, 1.0],\n",
        "    # 'colsample_bytree': [0.6, 0.8, 1.0],\n",
        "    'learning_rate': [0.1,0.2,0.3]\n",
        "}\n",
        "\n",
        "\n",
        "grid_search = GridSearchCV(xgb.XGBClassifier(use_label_encoder=True), param_grid, cv=2, scoring='f1_weighted')\n",
        "grid_search.fit(X_train_val, y_train_val_encoded)\n",
        "\n",
        "best_model = grid_search.best_estimator_\n",
        "\n",
        "y_pred_encoded = xgb_classifier.predict(X_test)\n",
        "test_accuracy = accuracy_score(y_test_encoded, y_pred_encoded)\n",
        "f1 = f1_score(y_test_encoded, y_pred_encoded, average=\"weighted\")\n",
        "\n",
        "print(\"Best parameters:\", grid_search.best_params_)\n",
        "print(\"Test Accuracy:\", test_accuracy)\n",
        "print(\"F1 Score:\", f1)\n"
      ],
      "metadata": {
        "colab": {
          "base_uri": "https://localhost:8080/"
        },
        "id": "a0qH6ij_BRG3",
        "outputId": "18d50588-ce9b-4a14-8a4e-efd7ceb80222"
      },
      "execution_count": null,
      "outputs": [
        {
          "output_type": "stream",
          "name": "stdout",
          "text": [
            "Best parameters: {'gamma': 0.6, 'learning_rate': 0.2, 'max_depth': 5}\n",
            "Test Accuracy: 0.8206172839506173\n",
            "F1 Score: 0.7828290249762543\n"
          ]
        }
      ]
    },
    {
      "cell_type": "markdown",
      "source": [
        "Error Analysis"
      ],
      "metadata": {
        "id": "CLXXIeEUUgUm"
      }
    },
    {
      "cell_type": "code",
      "source": [
        "X_train, X_test, y_train, y_test = train_test_split(X, y, test_size=0.2, random_state=42)\n",
        "\n",
        "# Initialize label encoder\n",
        "label_encoder = LabelEncoder()\n",
        "\n",
        "# Fit label encoder and return encoded labels\n",
        "y_train_encoded = label_encoder.fit_transform(y_train)\n",
        "y_test_encoded = label_encoder.transform(y_test)\n",
        "\n",
        "# Train XGBoost with the encoded labels\n",
        "xgb_classifier = xgb.XGBClassifier(use_label_encoder=False, eval_metric='logloss',gamma=0.6,learning_rate=0.2,max_depth=5)\n",
        "xgb_classifier.fit(X_train, y_train_encoded)\n",
        "y_pred_encoded = xgb_classifier.predict(X_test)\n",
        "\n",
        "# Convert predictions back to original labels\n",
        "y_pred = label_encoder.inverse_transform(y_pred_encoded)\n",
        "\n",
        "# Evaluate the model\n",
        "accuracy = accuracy_score(y_test_encoded, y_pred_encoded)\n",
        "print(\"Accuracy:\", accuracy)\n",
        "F1 = f1_score(y_test_encoded, y_pred_encoded, average=None)\n",
        "F11 = f1_score(y_test_encoded, y_pred_encoded, average=\"weighted\")\n",
        "print(\"Weighted F1 Score:\", F1)\n",
        "print(\"Weighted F1 Score:\", F11)\n",
        "cm = confusion_matrix(y_test_encoded, y_pred_encoded)\n",
        "\n",
        "\n",
        "print(\"Confusion Matrix:\")\n",
        "print(cm)\n",
        "\n",
        "sns.heatmap(cm, annot=True, fmt='d', cmap='Blues')\n",
        "plt.xlabel('Predicted Labels')\n",
        "plt.ylabel('True Labels')\n",
        "plt.title('Confusion Matrix')\n",
        "plt.show()"
      ],
      "metadata": {
        "colab": {
          "base_uri": "https://localhost:8080/",
          "height": 599
        },
        "id": "Iz6lh-peTFCE",
        "outputId": "d18d2cea-538a-4579-81bb-a6b12350b01b"
      },
      "execution_count": null,
      "outputs": [
        {
          "output_type": "stream",
          "name": "stdout",
          "text": [
            "Accuracy: 0.8030864197530864\n",
            "Weighted F1 Score: [0.83477011 0.05434783 0.859375  ]\n",
            "Weighted F1 Score: 0.7687569409739575\n",
            "Confusion Matrix:\n",
            "[[581  10  75]\n",
            " [ 75   5  82]\n",
            " [ 70   7 715]]\n"
          ]
        },
        {
          "output_type": "display_data",
          "data": {
            "text/plain": [
              "<Figure size 640x480 with 2 Axes>"
            ],
            "image/png": "[encoded data removed]"
          },
          "metadata": {}
        }
      ]
    },
    {
      "cell_type": "code",
      "source": [
        "\n",
        "y_pred = label_encoder.inverse_transform(y_pred_encoded)\n",
        "y_test = np.array(y_test)\n",
        "y_pred = np.array(y_pred)\n",
        "\n",
        "indices_y_test_0 = np.where(y_test == 0)[0]\n",
        "\n",
        "misclassified_indices = indices_y_test_0[y_test[indices_y_test_0] != y_pred[indices_y_test_0]]\n",
        "\n",
        "misclassified_samples = X_test[misclassified_indices]\n",
        "misclassified_true_labels = y_test[misclassified_indices]\n",
        "misclassified_predicted_labels = y_pred[misclassified_indices]\n",
        "misclassified_reviews = df['Reviews'].iloc[misclassified_indices]\n",
        "\n",
        "output_df = pd.DataFrame({\n",
        "    'sample_index': misclassified_indices,\n",
        "    'review': misclassified_reviews,\n",
        "    'true_label': misclassified_true_labels,\n",
        "    'predicted_label': misclassified_predicted_labels\n",
        "})\n",
        "\n",
        "output_df.to_csv('misclassified_samples.csv', index=False)\n"
      ],
      "metadata": {
        "id": "RH5HzE0BWV3u"
      },
      "execution_count": null,
      "outputs": []
    },
    {
      "cell_type": "code",
      "source": [
        "mis_neutral=pd.read_csv('misclassified_samples.csv')\n",
        "print(mis_neutral[\"review\"][1])"
      ],
      "metadata": {
        "colab": {
          "base_uri": "https://localhost:8080/"
        },
        "id": "gHmaGYMLafmC",
        "outputId": "2c1d0504-a385-475b-f11f-e9a64734d5de"
      },
      "execution_count": null,
      "outputs": [
        {
          "output_type": "stream",
          "name": "stdout",
          "text": [
            " This was my first time flying on a regional Singapore Airlines flight on a narrow-bodied aircraft since the old subsidiary Silk Air was absorbed by the parent carrier, and I was impressed. Everything went well on the flight, from boarding, to exemplary behaviour and courtesy shown by the cabin crew, to the food and boarding process at Changi airport. The inflight entertainment provided was the full product used for their long haul flights — amazing!\n"
          ]
        }
      ]
    },
    {
      "cell_type": "code",
      "source": [
        "X_train, X_test, y_train, y_test = train_test_split(X, y, test_size=0.2, random_state=42)\n",
        "\n",
        "smote = SMOTE()\n",
        "X_train, y_train = smote.fit_resample(X_train, y_train)\n",
        "# Initialize label encoder\n",
        "label_encoder = LabelEncoder()\n",
        "\n",
        "# Fit label encoder and return encoded labels\n",
        "y_train_encoded = label_encoder.fit_transform(y_train)\n",
        "y_test_encoded = label_encoder.transform(y_test)\n",
        "\n",
        "# Train XGBoost with the encoded labels\n",
        "xgb_classifier = xgb.XGBClassifier(use_label_encoder=False, eval_metric='logloss',gamma=0.6,learning_rate=0.2,max_depth=5)\n",
        "xgb_classifier.fit(X_train, y_train_encoded)\n",
        "y_pred_encoded = xgb_classifier.predict(X_test)\n",
        "\n",
        "# Convert predictions back to original labels\n",
        "y_pred = label_encoder.inverse_transform(y_pred_encoded)\n",
        "\n",
        "# Evaluate the model\n",
        "accuracy = accuracy_score(y_test_encoded, y_pred_encoded)\n",
        "print(\"Accuracy:\", accuracy)\n",
        "F1 = f1_score(y_test_encoded, y_pred_encoded, average=None)\n",
        "F11 = f1_score(y_test_encoded, y_pred_encoded, average=\"weighted\")\n",
        "print(\"Weighted F1 Score:\", F1)\n",
        "print(\"Weighted F1 Score:\", F11)\n",
        "cm = confusion_matrix(y_test_encoded, y_pred_encoded)\n",
        "\n",
        "print(\"Confusion Matrix:\")\n",
        "print(cm)\n",
        "\n",
        "sns.heatmap(cm, annot=True, fmt='d', cmap='Blues')\n",
        "plt.xlabel('Predicted Labels')\n",
        "plt.ylabel('True Labels')\n",
        "plt.title('Confusion Matrix')\n",
        "plt.show()"
      ],
      "metadata": {
        "colab": {
          "base_uri": "https://localhost:8080/",
          "height": 599
        },
        "id": "eUgk6a_5mZdB",
        "outputId": "ba29117f-56d8-48ab-89c7-750ca25986dc"
      },
      "execution_count": null,
      "outputs": [
        {
          "output_type": "stream",
          "name": "stdout",
          "text": [
            "Accuracy: 0.7604938271604939\n",
            "Weighted F1 Score: [0.80059303 0.20945946 0.82884013]\n",
            "Weighted F1 Score: 0.7552893647974296\n",
            "Confusion Matrix:\n",
            "[[540  46  80]\n",
            " [ 69  31  62]\n",
            " [ 74  57 661]]\n"
          ]
        },
        {
          "output_type": "display_data",
          "data": {
            "text/plain": [
              "<Figure size 640x480 with 2 Axes>"
            ],
            "image/png": "[encoded data removed]"
          },
          "metadata": {}
        }
      ]
    },
    {
      "cell_type": "code",
      "source": [],
      "metadata": {
        "id": "ImQ5tRxTViYW"
      },
      "execution_count": null,
      "outputs": []
    },
    {
      "cell_type": "markdown",
      "source": [
        "**additional part, doesn't influence final results**\n",
        "\n",
        "\n",
        "tune hp manually, print results by lines\n"
      ],
      "metadata": {
        "id": "WK-z7OlHT3EN"
      }
    },
    {
      "cell_type": "code",
      "execution_count": null,
      "metadata": {
        "colab": {
          "base_uri": "https://localhost:8080/"
        },
        "id": "C2sBgz9iGXf7",
        "outputId": "34f457d0-43a9-467e-929a-13321f47a804"
      },
      "outputs": [
        {
          "name": "stdout",
          "output_type": "stream",
          "text": [
            "Params: {'learning_rate': 0.1, 'max_depth': 3, 'min_samples_leaf': 1, 'min_samples_split': 2, 'n_estimators': 100, 'subsample': 0.5}\n",
            "Validation Accuracy: 0.7839506172839507\n",
            "Params: {'learning_rate': 0.1, 'max_depth': 3, 'min_samples_leaf': 1, 'min_samples_split': 2, 'n_estimators': 100, 'subsample': 0.8}\n",
            "Validation Accuracy: 0.7932098765432098\n",
            "Params: {'learning_rate': 0.1, 'max_depth': 3, 'min_samples_leaf': 1, 'min_samples_split': 2, 'n_estimators': 200, 'subsample': 0.5}\n",
            "Validation Accuracy: 0.7808641975308642\n",
            "Params: {'learning_rate': 0.1, 'max_depth': 3, 'min_samples_leaf': 1, 'min_samples_split': 2, 'n_estimators': 200, 'subsample': 0.8}\n",
            "Validation Accuracy: 0.7790123456790123\n",
            "Params: {'learning_rate': 0.1, 'max_depth': 3, 'min_samples_leaf': 1, 'min_samples_split': 5, 'n_estimators': 100, 'subsample': 0.5}\n",
            "Validation Accuracy: 0.7820987654320988\n",
            "Params: {'learning_rate': 0.1, 'max_depth': 3, 'min_samples_leaf': 1, 'min_samples_split': 5, 'n_estimators': 100, 'subsample': 0.8}\n",
            "Validation Accuracy: 0.7839506172839507\n",
            "Params: {'learning_rate': 0.1, 'max_depth': 3, 'min_samples_leaf': 1, 'min_samples_split': 5, 'n_estimators': 200, 'subsample': 0.5}\n",
            "Validation Accuracy: 0.7851851851851852\n",
            "Params: {'learning_rate': 0.1, 'max_depth': 3, 'min_samples_leaf': 1, 'min_samples_split': 5, 'n_estimators': 200, 'subsample': 0.8}\n",
            "Validation Accuracy: 0.7870370370370371\n",
            "Params: {'learning_rate': 0.1, 'max_depth': 3, 'min_samples_leaf': 1, 'min_samples_split': 10, 'n_estimators': 100, 'subsample': 0.5}\n",
            "Validation Accuracy: 0.7901234567901234\n",
            "Params: {'learning_rate': 0.1, 'max_depth': 3, 'min_samples_leaf': 1, 'min_samples_split': 10, 'n_estimators': 100, 'subsample': 0.8}\n",
            "Validation Accuracy: 0.7858024691358024\n",
            "Params: {'learning_rate': 0.1, 'max_depth': 3, 'min_samples_leaf': 1, 'min_samples_split': 10, 'n_estimators': 200, 'subsample': 0.5}\n",
            "Validation Accuracy: 0.7753086419753087\n",
            "Params: {'learning_rate': 0.1, 'max_depth': 3, 'min_samples_leaf': 1, 'min_samples_split': 10, 'n_estimators': 200, 'subsample': 0.8}\n",
            "Validation Accuracy: 0.7876543209876543\n",
            "Params: {'learning_rate': 0.1, 'max_depth': 3, 'min_samples_leaf': 2, 'min_samples_split': 2, 'n_estimators': 100, 'subsample': 0.5}\n",
            "Validation Accuracy: 0.7870370370370371\n",
            "Params: {'learning_rate': 0.1, 'max_depth': 3, 'min_samples_leaf': 2, 'min_samples_split': 2, 'n_estimators': 100, 'subsample': 0.8}\n",
            "Validation Accuracy: 0.7882716049382716\n",
            "Params: {'learning_rate': 0.1, 'max_depth': 3, 'min_samples_leaf': 2, 'min_samples_split': 2, 'n_estimators': 200, 'subsample': 0.5}\n",
            "Validation Accuracy: 0.7796296296296297\n",
            "Params: {'learning_rate': 0.1, 'max_depth': 3, 'min_samples_leaf': 2, 'min_samples_split': 2, 'n_estimators': 200, 'subsample': 0.8}\n",
            "Validation Accuracy: 0.7820987654320988\n",
            "Params: {'learning_rate': 0.1, 'max_depth': 3, 'min_samples_leaf': 2, 'min_samples_split': 5, 'n_estimators': 100, 'subsample': 0.5}\n",
            "Validation Accuracy: 0.7777777777777778\n",
            "Params: {'learning_rate': 0.1, 'max_depth': 3, 'min_samples_leaf': 2, 'min_samples_split': 5, 'n_estimators': 100, 'subsample': 0.8}\n",
            "Validation Accuracy: 0.7845679012345679\n",
            "Params: {'learning_rate': 0.1, 'max_depth': 3, 'min_samples_leaf': 2, 'min_samples_split': 5, 'n_estimators': 200, 'subsample': 0.5}\n",
            "Validation Accuracy: 0.7833333333333333\n",
            "Params: {'learning_rate': 0.1, 'max_depth': 3, 'min_samples_leaf': 2, 'min_samples_split': 5, 'n_estimators': 200, 'subsample': 0.8}\n",
            "Validation Accuracy: 0.7814814814814814\n",
            "Params: {'learning_rate': 0.1, 'max_depth': 3, 'min_samples_leaf': 2, 'min_samples_split': 10, 'n_estimators': 100, 'subsample': 0.5}\n",
            "Validation Accuracy: 0.7814814814814814\n",
            "Params: {'learning_rate': 0.1, 'max_depth': 3, 'min_samples_leaf': 2, 'min_samples_split': 10, 'n_estimators': 100, 'subsample': 0.8}\n",
            "Validation Accuracy: 0.7858024691358024\n",
            "Params: {'learning_rate': 0.1, 'max_depth': 3, 'min_samples_leaf': 2, 'min_samples_split': 10, 'n_estimators': 200, 'subsample': 0.5}\n",
            "Validation Accuracy: 0.7845679012345679\n",
            "Params: {'learning_rate': 0.1, 'max_depth': 3, 'min_samples_leaf': 2, 'min_samples_split': 10, 'n_estimators': 200, 'subsample': 0.8}\n",
            "Validation Accuracy: 0.7851851851851852\n",
            "Params: {'learning_rate': 0.1, 'max_depth': 3, 'min_samples_leaf': 4, 'min_samples_split': 2, 'n_estimators': 100, 'subsample': 0.5}\n",
            "Validation Accuracy: 0.7808641975308642\n",
            "Params: {'learning_rate': 0.1, 'max_depth': 3, 'min_samples_leaf': 4, 'min_samples_split': 2, 'n_estimators': 100, 'subsample': 0.8}\n",
            "Validation Accuracy: 0.7777777777777778\n",
            "Params: {'learning_rate': 0.1, 'max_depth': 3, 'min_samples_leaf': 4, 'min_samples_split': 2, 'n_estimators': 200, 'subsample': 0.5}\n",
            "Validation Accuracy: 0.7870370370370371\n",
            "Params: {'learning_rate': 0.1, 'max_depth': 3, 'min_samples_leaf': 4, 'min_samples_split': 2, 'n_estimators': 200, 'subsample': 0.8}\n",
            "Validation Accuracy: 0.7888888888888889\n",
            "Params: {'learning_rate': 0.1, 'max_depth': 3, 'min_samples_leaf': 4, 'min_samples_split': 5, 'n_estimators': 100, 'subsample': 0.5}\n",
            "Validation Accuracy: 0.7771604938271605\n",
            "Params: {'learning_rate': 0.1, 'max_depth': 3, 'min_samples_leaf': 4, 'min_samples_split': 5, 'n_estimators': 100, 'subsample': 0.8}\n",
            "Validation Accuracy: 0.7858024691358024\n",
            "Params: {'learning_rate': 0.1, 'max_depth': 3, 'min_samples_leaf': 4, 'min_samples_split': 5, 'n_estimators': 200, 'subsample': 0.5}\n",
            "Validation Accuracy: 0.7790123456790123\n",
            "Params: {'learning_rate': 0.1, 'max_depth': 3, 'min_samples_leaf': 4, 'min_samples_split': 5, 'n_estimators': 200, 'subsample': 0.8}\n",
            "Validation Accuracy: 0.7839506172839507\n",
            "Params: {'learning_rate': 0.1, 'max_depth': 3, 'min_samples_leaf': 4, 'min_samples_split': 10, 'n_estimators': 100, 'subsample': 0.5}\n",
            "Validation Accuracy: 0.7858024691358024\n",
            "Params: {'learning_rate': 0.1, 'max_depth': 3, 'min_samples_leaf': 4, 'min_samples_split': 10, 'n_estimators': 100, 'subsample': 0.8}\n",
            "Validation Accuracy: 0.7771604938271605\n",
            "Params: {'learning_rate': 0.1, 'max_depth': 3, 'min_samples_leaf': 4, 'min_samples_split': 10, 'n_estimators': 200, 'subsample': 0.5}\n",
            "Validation Accuracy: 0.7858024691358024\n",
            "Params: {'learning_rate': 0.1, 'max_depth': 3, 'min_samples_leaf': 4, 'min_samples_split': 10, 'n_estimators': 200, 'subsample': 0.8}\n",
            "Validation Accuracy: 0.7888888888888889\n",
            "Params: {'learning_rate': 0.1, 'max_depth': 5, 'min_samples_leaf': 1, 'min_samples_split': 2, 'n_estimators': 100, 'subsample': 0.5}\n",
            "Validation Accuracy: 0.7858024691358024\n",
            "Params: {'learning_rate': 0.1, 'max_depth': 5, 'min_samples_leaf': 1, 'min_samples_split': 2, 'n_estimators': 100, 'subsample': 0.8}\n",
            "Validation Accuracy: 0.7820987654320988\n",
            "Params: {'learning_rate': 0.1, 'max_depth': 5, 'min_samples_leaf': 1, 'min_samples_split': 2, 'n_estimators': 200, 'subsample': 0.5}\n",
            "Validation Accuracy: 0.7833333333333333\n",
            "Params: {'learning_rate': 0.1, 'max_depth': 5, 'min_samples_leaf': 1, 'min_samples_split': 2, 'n_estimators': 200, 'subsample': 0.8}\n",
            "Validation Accuracy: 0.7864197530864198\n",
            "Params: {'learning_rate': 0.1, 'max_depth': 5, 'min_samples_leaf': 1, 'min_samples_split': 5, 'n_estimators': 100, 'subsample': 0.5}\n",
            "Validation Accuracy: 0.7802469135802469\n",
            "Params: {'learning_rate': 0.1, 'max_depth': 5, 'min_samples_leaf': 1, 'min_samples_split': 5, 'n_estimators': 100, 'subsample': 0.8}\n",
            "Validation Accuracy: 0.7851851851851852\n",
            "Params: {'learning_rate': 0.1, 'max_depth': 5, 'min_samples_leaf': 1, 'min_samples_split': 5, 'n_estimators': 200, 'subsample': 0.5}\n",
            "Validation Accuracy: 0.7932098765432098\n",
            "Params: {'learning_rate': 0.1, 'max_depth': 5, 'min_samples_leaf': 1, 'min_samples_split': 5, 'n_estimators': 200, 'subsample': 0.8}\n",
            "Validation Accuracy: 0.7882716049382716\n",
            "Params: {'learning_rate': 0.1, 'max_depth': 5, 'min_samples_leaf': 1, 'min_samples_split': 10, 'n_estimators': 100, 'subsample': 0.5}\n",
            "Validation Accuracy: 0.7845679012345679\n",
            "Params: {'learning_rate': 0.1, 'max_depth': 5, 'min_samples_leaf': 1, 'min_samples_split': 10, 'n_estimators': 100, 'subsample': 0.8}\n",
            "Validation Accuracy: 0.7864197530864198\n",
            "Params: {'learning_rate': 0.1, 'max_depth': 5, 'min_samples_leaf': 1, 'min_samples_split': 10, 'n_estimators': 200, 'subsample': 0.5}\n",
            "Validation Accuracy: 0.7876543209876543\n",
            "Params: {'learning_rate': 0.1, 'max_depth': 5, 'min_samples_leaf': 1, 'min_samples_split': 10, 'n_estimators': 200, 'subsample': 0.8}\n",
            "Validation Accuracy: 0.7913580246913581\n",
            "Params: {'learning_rate': 0.1, 'max_depth': 5, 'min_samples_leaf': 2, 'min_samples_split': 2, 'n_estimators': 100, 'subsample': 0.5}\n",
            "Validation Accuracy: 0.7796296296296297\n",
            "Params: {'learning_rate': 0.1, 'max_depth': 5, 'min_samples_leaf': 2, 'min_samples_split': 2, 'n_estimators': 100, 'subsample': 0.8}\n",
            "Validation Accuracy: 0.7808641975308642\n",
            "Params: {'learning_rate': 0.1, 'max_depth': 5, 'min_samples_leaf': 2, 'min_samples_split': 2, 'n_estimators': 200, 'subsample': 0.5}\n",
            "Validation Accuracy: 0.7820987654320988\n",
            "Params: {'learning_rate': 0.1, 'max_depth': 5, 'min_samples_leaf': 2, 'min_samples_split': 2, 'n_estimators': 200, 'subsample': 0.8}\n",
            "Validation Accuracy: 0.7870370370370371\n",
            "Params: {'learning_rate': 0.1, 'max_depth': 5, 'min_samples_leaf': 2, 'min_samples_split': 5, 'n_estimators': 100, 'subsample': 0.5}\n",
            "Validation Accuracy: 0.7851851851851852\n",
            "Params: {'learning_rate': 0.1, 'max_depth': 5, 'min_samples_leaf': 2, 'min_samples_split': 5, 'n_estimators': 100, 'subsample': 0.8}\n",
            "Validation Accuracy: 0.7814814814814814\n",
            "Params: {'learning_rate': 0.1, 'max_depth': 5, 'min_samples_leaf': 2, 'min_samples_split': 5, 'n_estimators': 200, 'subsample': 0.5}\n",
            "Validation Accuracy: 0.7888888888888889\n",
            "Params: {'learning_rate': 0.1, 'max_depth': 5, 'min_samples_leaf': 2, 'min_samples_split': 5, 'n_estimators': 200, 'subsample': 0.8}\n",
            "Validation Accuracy: 0.7944444444444444\n",
            "Params: {'learning_rate': 0.1, 'max_depth': 5, 'min_samples_leaf': 2, 'min_samples_split': 10, 'n_estimators': 100, 'subsample': 0.5}\n",
            "Validation Accuracy: 0.7888888888888889\n",
            "Params: {'learning_rate': 0.1, 'max_depth': 5, 'min_samples_leaf': 2, 'min_samples_split': 10, 'n_estimators': 100, 'subsample': 0.8}\n",
            "Validation Accuracy: 0.7876543209876543\n",
            "Params: {'learning_rate': 0.1, 'max_depth': 5, 'min_samples_leaf': 2, 'min_samples_split': 10, 'n_estimators': 200, 'subsample': 0.5}\n",
            "Validation Accuracy: 0.7925925925925926\n",
            "Params: {'learning_rate': 0.1, 'max_depth': 5, 'min_samples_leaf': 2, 'min_samples_split': 10, 'n_estimators': 200, 'subsample': 0.8}\n",
            "Validation Accuracy: 0.7932098765432098\n",
            "Params: {'learning_rate': 0.1, 'max_depth': 5, 'min_samples_leaf': 4, 'min_samples_split': 2, 'n_estimators': 100, 'subsample': 0.5}\n",
            "Validation Accuracy: 0.7839506172839507\n",
            "Params: {'learning_rate': 0.1, 'max_depth': 5, 'min_samples_leaf': 4, 'min_samples_split': 2, 'n_estimators': 100, 'subsample': 0.8}\n",
            "Validation Accuracy: 0.7895061728395062\n",
            "Params: {'learning_rate': 0.1, 'max_depth': 5, 'min_samples_leaf': 4, 'min_samples_split': 2, 'n_estimators': 200, 'subsample': 0.5}\n",
            "Validation Accuracy: 0.7851851851851852\n",
            "Params: {'learning_rate': 0.1, 'max_depth': 5, 'min_samples_leaf': 4, 'min_samples_split': 2, 'n_estimators': 200, 'subsample': 0.8}\n",
            "Validation Accuracy: 0.7876543209876543\n",
            "Params: {'learning_rate': 0.1, 'max_depth': 5, 'min_samples_leaf': 4, 'min_samples_split': 5, 'n_estimators': 100, 'subsample': 0.5}\n",
            "Validation Accuracy: 0.782716049382716\n",
            "Params: {'learning_rate': 0.1, 'max_depth': 5, 'min_samples_leaf': 4, 'min_samples_split': 5, 'n_estimators': 100, 'subsample': 0.8}\n",
            "Validation Accuracy: 0.7851851851851852\n",
            "Params: {'learning_rate': 0.1, 'max_depth': 5, 'min_samples_leaf': 4, 'min_samples_split': 5, 'n_estimators': 200, 'subsample': 0.5}\n",
            "Validation Accuracy: 0.7864197530864198\n",
            "Params: {'learning_rate': 0.1, 'max_depth': 5, 'min_samples_leaf': 4, 'min_samples_split': 5, 'n_estimators': 200, 'subsample': 0.8}\n",
            "Validation Accuracy: 0.7907407407407407\n",
            "Params: {'learning_rate': 0.1, 'max_depth': 5, 'min_samples_leaf': 4, 'min_samples_split': 10, 'n_estimators': 100, 'subsample': 0.5}\n",
            "Validation Accuracy: 0.7851851851851852\n",
            "Params: {'learning_rate': 0.1, 'max_depth': 5, 'min_samples_leaf': 4, 'min_samples_split': 10, 'n_estimators': 100, 'subsample': 0.8}\n",
            "Validation Accuracy: 0.7864197530864198\n",
            "Params: {'learning_rate': 0.1, 'max_depth': 5, 'min_samples_leaf': 4, 'min_samples_split': 10, 'n_estimators': 200, 'subsample': 0.5}\n",
            "Validation Accuracy: 0.782716049382716\n",
            "Params: {'learning_rate': 0.1, 'max_depth': 5, 'min_samples_leaf': 4, 'min_samples_split': 10, 'n_estimators': 200, 'subsample': 0.8}\n",
            "Validation Accuracy: 0.7901234567901234\n",
            "Params: {'learning_rate': 0.1, 'max_depth': 7, 'min_samples_leaf': 1, 'min_samples_split': 2, 'n_estimators': 100, 'subsample': 0.5}\n",
            "Validation Accuracy: 0.7851851851851852\n",
            "Params: {'learning_rate': 0.1, 'max_depth': 7, 'min_samples_leaf': 1, 'min_samples_split': 2, 'n_estimators': 100, 'subsample': 0.8}\n",
            "Validation Accuracy: 0.7882716049382716\n",
            "Params: {'learning_rate': 0.1, 'max_depth': 7, 'min_samples_leaf': 1, 'min_samples_split': 2, 'n_estimators': 200, 'subsample': 0.5}\n",
            "Validation Accuracy: 0.7901234567901234\n",
            "Params: {'learning_rate': 0.1, 'max_depth': 7, 'min_samples_leaf': 1, 'min_samples_split': 2, 'n_estimators': 200, 'subsample': 0.8}\n",
            "Validation Accuracy: 0.7870370370370371\n",
            "Params: {'learning_rate': 0.1, 'max_depth': 7, 'min_samples_leaf': 1, 'min_samples_split': 5, 'n_estimators': 100, 'subsample': 0.5}\n",
            "Validation Accuracy: 0.7820987654320988\n",
            "Params: {'learning_rate': 0.1, 'max_depth': 7, 'min_samples_leaf': 1, 'min_samples_split': 5, 'n_estimators': 100, 'subsample': 0.8}\n",
            "Validation Accuracy: 0.7888888888888889\n",
            "Params: {'learning_rate': 0.1, 'max_depth': 7, 'min_samples_leaf': 1, 'min_samples_split': 5, 'n_estimators': 200, 'subsample': 0.5}\n",
            "Validation Accuracy: 0.7895061728395062\n",
            "Params: {'learning_rate': 0.1, 'max_depth': 7, 'min_samples_leaf': 1, 'min_samples_split': 5, 'n_estimators': 200, 'subsample': 0.8}\n",
            "Validation Accuracy: 0.7907407407407407\n",
            "Params: {'learning_rate': 0.1, 'max_depth': 7, 'min_samples_leaf': 1, 'min_samples_split': 10, 'n_estimators': 100, 'subsample': 0.5}\n",
            "Validation Accuracy: 0.782716049382716\n",
            "Params: {'learning_rate': 0.1, 'max_depth': 7, 'min_samples_leaf': 1, 'min_samples_split': 10, 'n_estimators': 100, 'subsample': 0.8}\n",
            "Validation Accuracy: 0.7888888888888889\n",
            "Params: {'learning_rate': 0.1, 'max_depth': 7, 'min_samples_leaf': 1, 'min_samples_split': 10, 'n_estimators': 200, 'subsample': 0.5}\n",
            "Validation Accuracy: 0.7858024691358024\n"
          ]
        }
      ],
      "source": [
        "\n",
        "X_train_val, X_test, y_train_val, y_test = train_test_split(X, y, test_size=0.2, random_state=42)\n",
        "\n",
        "X_train, X_val, y_train, y_val = train_test_split(X_train_val, y_train_val, test_size=0.25, random_state=42)  # 0.25 x 0.8 = 0.2\n",
        "\n",
        "param_grid = {\n",
        "    'n_estimators': [200],\n",
        "    'learning_rate': [1],\n",
        "    'max_depth': [3, 10, 30, 50],\n",
        "    # 'subsample': [0.5, 0.8,1]\n",
        "}\n",
        "\n",
        "# hp tuning manualy\n",
        "best_params = None\n",
        "best_accuracy = 0\n",
        "\n",
        "for params in ParameterGrid(param_grid):\n",
        "    model = GradientBoostingClassifier(**params)\n",
        "    model.fit(X_train, y_train)\n",
        "    y_val_pred = model.predict(X_val)\n",
        "    accuracy = accuracy_score(y_val, y_val_pred)\n",
        "\n",
        "    print(\"Params:\", params)\n",
        "    print(\"Validation Accuracy:\", accuracy)\n",
        "\n",
        "    if accuracy > best_accuracy:\n",
        "        best_accuracy = accuracy\n",
        "        best_params = params\n",
        "\n",
        "best_model = GradientBoostingClassifier(**best_params)\n",
        "best_model.fit(X_train_val, y_train_val)\n",
        "y_pred = best_model.predict(X_test)\n",
        "test_accuracy = accuracy_score(y_test, y_pred)\n",
        "f1 = f1_score(y_test, y_pred, average=\"weighted\")\n",
        "\n",
        "print(\"Best parameters:\", best_params)\n",
        "print(\"Test Accuracy:\", test_accuracy)\n",
        "print(\"F1 Score:\", f1)\n",
        "\n",
        "\n"
      ]
    }
  ],
  "metadata": {
    "colab": {
      "provenance": []
    },
    "kernelspec": {
      "display_name": "Python 3",
      "name": "python3"
    },
    "language_info": {
      "name": "python"
    }
  },
  "nbformat": 4,
  "nbformat_minor": 0
}