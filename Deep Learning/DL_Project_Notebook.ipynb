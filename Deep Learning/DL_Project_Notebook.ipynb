{
 "cells": [
  {
   "cell_type": "markdown",
   "id": "plJFj0Bju2xE",
   "metadata": {
    "id": "plJFj0Bju2xE"
   },
   "source": [
    "# Deep Learning Project"
   ]
  },
  {
   "cell_type": "code",
   "execution_count": 1,
   "id": "456a67f4-9bb8-4f31-ade8-f2b64337a93e",
   "metadata": {
    "colab": {
     "base_uri": "https://localhost:8080/"
    },
    "id": "456a67f4-9bb8-4f31-ade8-f2b64337a93e",
    "outputId": "51c70e9a-ae91-4e7f-fbd4-067f7b10353e"
   },
   "outputs": [],
   "source": [
    "#from google.colab import drive\n",
    "#drive.mount('/content/drive')"
   ]
  },
  {
   "cell_type": "markdown",
   "id": "HXYOeBD6u8w9",
   "metadata": {
    "id": "HXYOeBD6u8w9"
   },
   "source": [
    "## Importing Libraries"
   ]
  },
  {
   "cell_type": "code",
   "execution_count": 2,
   "id": "302758bd-ea4c-42bc-a6c6-8aaf72197501",
   "metadata": {
    "colab": {
     "base_uri": "https://localhost:8080/"
    },
    "id": "302758bd-ea4c-42bc-a6c6-8aaf72197501",
    "outputId": "b9519682-8b82-4b91-c291-642261c28685"
   },
   "outputs": [],
   "source": [
    "# Basic Libraries\n",
    "import pandas as pd\n",
    "import numpy as np\n",
    "import os\n",
    "import time\n",
    "\n",
    "# Visualizations\n",
    "import matplotlib.pyplot as plt\n",
    "import seaborn as sns\n",
    "\n",
    "# Modeling\n",
    "import tensorflow as tf\n",
    "from tensorflow.keras import layers, models, regularizers\n",
    "from tensorflow.keras.preprocessing.image import ImageDataGenerator\n",
    "from tensorflow.keras.preprocessing import image\n",
    "from tensorflow.keras.models import load_model\n",
    "from tensorflow.keras.callbacks import ModelCheckpoint, EarlyStopping\n",
    "\n",
    "from sklearn.metrics import classification_report, f1_score\n",
    "from sklearn.model_selection import StratifiedKFold\n",
    "from sklearn.preprocessing import LabelEncoder\n",
    "\n",
    "import cv2 as cv\n",
    "\n",
    "# Keras Hypertuner - Hyperband\n",
    "from tensorflow.keras.optimizers import Adam \n",
    "from keras_tuner.tuners import Hyperband\n",
    "\n",
    "# Custom Scripts\n",
    "from utils import *\n",
    "from models import model_example\n",
    "from tuner_models import build_model, model_tuned\n",
    "\n",
    "# QoL\n",
    "import warnings\n",
    "warnings.filterwarnings(\"ignore\")\n",
    "\n",
    "%load_ext autoreload\n",
    "%autoreload 2"
   ]
  },
  {
   "cell_type": "markdown",
   "id": "IU-aZ7-WvL7C",
   "metadata": {
    "id": "IU-aZ7-WvL7C"
   },
   "source": [
    "Verifying if tensorflow is using the GPU"
   ]
  },
  {
   "cell_type": "code",
   "execution_count": 3,
   "id": "424ac92a-5ac9-4227-8687-5c1ca4c5ea66",
   "metadata": {
    "colab": {
     "base_uri": "https://localhost:8080/"
    },
    "id": "424ac92a-5ac9-4227-8687-5c1ca4c5ea66",
    "outputId": "42da6fea-ce48-4a66-94fd-0e814362ef38"
   },
   "outputs": [
    {
     "data": {
      "text/plain": [
       "[PhysicalDevice(name='/physical_device:GPU:0', device_type='GPU')]"
      ]
     },
     "execution_count": 3,
     "metadata": {},
     "output_type": "execute_result"
    }
   ],
   "source": [
    "tf.config.list_physical_devices('GPU')"
   ]
  },
  {
   "cell_type": "markdown",
   "id": "0QLBLnxxvVee",
   "metadata": {
    "id": "0QLBLnxxvVee"
   },
   "source": [
    "Computing the time that has passed since a given start time"
   ]
  },
  {
   "cell_type": "code",
   "execution_count": 4,
   "id": "cfa7a331-ab2c-4275-8607-93452c5c5d24",
   "metadata": {
    "id": "cfa7a331-ab2c-4275-8607-93452c5c5d24"
   },
   "outputs": [],
   "source": [
    "#Start Time\n",
    "start_time = time.time()"
   ]
  },
  {
   "cell_type": "markdown",
   "id": "6XyX6nP1vdak",
   "metadata": {
    "id": "6XyX6nP1vdak"
   },
   "source": [
    "## Importing Data"
   ]
  },
  {
   "cell_type": "markdown",
   "id": "L3LFUUoAv3Vr",
   "metadata": {
    "id": "L3LFUUoAv3Vr"
   },
   "source": [
    "Creating a path"
   ]
  },
  {
   "cell_type": "code",
   "execution_count": 5,
   "id": "913d55b0-6575-48c4-a948-2afa9efe3b22",
   "metadata": {
    "id": "913d55b0-6575-48c4-a948-2afa9efe3b22"
   },
   "outputs": [],
   "source": [
    "path = \".\"\n",
    "#path = \"/content/drive/MyDrive/DL Project\" # Rui\n",
    "#path = '/content/drive/MyDrive/Colab Notebooks/DeepLearning/DL Project' # David\n",
    "#path = \"/content/drive/MyDrive/bachelors/DL project/\" # antonio"
   ]
  },
  {
   "cell_type": "markdown",
   "id": "bRZLBpSUv5iD",
   "metadata": {
    "id": "bRZLBpSUv5iD"
   },
   "source": [
    "Loading Metadata and Images"
   ]
  },
  {
   "cell_type": "code",
   "execution_count": 6,
   "id": "WoejZtS-v20o",
   "metadata": {
    "id": "WoejZtS-v20o"
   },
   "outputs": [],
   "source": [
    "metadata = pd.read_csv(path + '/HAM10000_metadata.csv')\n",
    "train_img = os.listdir(path +\"/train\")"
   ]
  },
  {
   "cell_type": "markdown",
   "id": "A_PmnMvjwW1m",
   "metadata": {
    "id": "A_PmnMvjwW1m"
   },
   "source": [
    "Visualising *metadata*"
   ]
  },
  {
   "cell_type": "code",
   "execution_count": 7,
   "id": "oj6MxdgwwTxP",
   "metadata": {
    "colab": {
     "base_uri": "https://localhost:8080/",
     "height": 362
    },
    "id": "oj6MxdgwwTxP",
    "outputId": "a20397a2-aec9-44fe-9252-8cd9a8032de8"
   },
   "outputs": [
    {
     "data": {
      "text/html": [
       "<div>\n",
       "<style scoped>\n",
       "    .dataframe tbody tr th:only-of-type {\n",
       "        vertical-align: middle;\n",
       "    }\n",
       "\n",
       "    .dataframe tbody tr th {\n",
       "        vertical-align: top;\n",
       "    }\n",
       "\n",
       "    .dataframe thead th {\n",
       "        text-align: right;\n",
       "    }\n",
       "</style>\n",
       "<table border=\"1\" class=\"dataframe\">\n",
       "  <thead>\n",
       "    <tr style=\"text-align: right;\">\n",
       "      <th></th>\n",
       "      <th>lesion_id</th>\n",
       "      <th>image_id</th>\n",
       "      <th>dx</th>\n",
       "      <th>dx_type</th>\n",
       "      <th>age</th>\n",
       "      <th>sex</th>\n",
       "      <th>localization</th>\n",
       "    </tr>\n",
       "  </thead>\n",
       "  <tbody>\n",
       "    <tr>\n",
       "      <th>0</th>\n",
       "      <td>HAM_0000118</td>\n",
       "      <td>ISIC_0027419</td>\n",
       "      <td>bkl</td>\n",
       "      <td>histo</td>\n",
       "      <td>80.0</td>\n",
       "      <td>male</td>\n",
       "      <td>scalp</td>\n",
       "    </tr>\n",
       "    <tr>\n",
       "      <th>1</th>\n",
       "      <td>HAM_0000118</td>\n",
       "      <td>ISIC_0025030</td>\n",
       "      <td>bkl</td>\n",
       "      <td>histo</td>\n",
       "      <td>80.0</td>\n",
       "      <td>male</td>\n",
       "      <td>scalp</td>\n",
       "    </tr>\n",
       "    <tr>\n",
       "      <th>2</th>\n",
       "      <td>HAM_0002730</td>\n",
       "      <td>ISIC_0026769</td>\n",
       "      <td>bkl</td>\n",
       "      <td>histo</td>\n",
       "      <td>80.0</td>\n",
       "      <td>male</td>\n",
       "      <td>scalp</td>\n",
       "    </tr>\n",
       "    <tr>\n",
       "      <th>3</th>\n",
       "      <td>HAM_0002730</td>\n",
       "      <td>ISIC_0025661</td>\n",
       "      <td>bkl</td>\n",
       "      <td>histo</td>\n",
       "      <td>80.0</td>\n",
       "      <td>male</td>\n",
       "      <td>scalp</td>\n",
       "    </tr>\n",
       "    <tr>\n",
       "      <th>4</th>\n",
       "      <td>HAM_0001466</td>\n",
       "      <td>ISIC_0031633</td>\n",
       "      <td>bkl</td>\n",
       "      <td>histo</td>\n",
       "      <td>75.0</td>\n",
       "      <td>male</td>\n",
       "      <td>ear</td>\n",
       "    </tr>\n",
       "    <tr>\n",
       "      <th>5</th>\n",
       "      <td>HAM_0001466</td>\n",
       "      <td>ISIC_0027850</td>\n",
       "      <td>bkl</td>\n",
       "      <td>histo</td>\n",
       "      <td>75.0</td>\n",
       "      <td>male</td>\n",
       "      <td>ear</td>\n",
       "    </tr>\n",
       "    <tr>\n",
       "      <th>6</th>\n",
       "      <td>HAM_0002761</td>\n",
       "      <td>ISIC_0029176</td>\n",
       "      <td>bkl</td>\n",
       "      <td>histo</td>\n",
       "      <td>60.0</td>\n",
       "      <td>male</td>\n",
       "      <td>face</td>\n",
       "    </tr>\n",
       "    <tr>\n",
       "      <th>7</th>\n",
       "      <td>HAM_0002761</td>\n",
       "      <td>ISIC_0029068</td>\n",
       "      <td>bkl</td>\n",
       "      <td>histo</td>\n",
       "      <td>60.0</td>\n",
       "      <td>male</td>\n",
       "      <td>face</td>\n",
       "    </tr>\n",
       "    <tr>\n",
       "      <th>8</th>\n",
       "      <td>HAM_0005132</td>\n",
       "      <td>ISIC_0025837</td>\n",
       "      <td>bkl</td>\n",
       "      <td>histo</td>\n",
       "      <td>70.0</td>\n",
       "      <td>female</td>\n",
       "      <td>back</td>\n",
       "    </tr>\n",
       "    <tr>\n",
       "      <th>9</th>\n",
       "      <td>HAM_0005132</td>\n",
       "      <td>ISIC_0025209</td>\n",
       "      <td>bkl</td>\n",
       "      <td>histo</td>\n",
       "      <td>70.0</td>\n",
       "      <td>female</td>\n",
       "      <td>back</td>\n",
       "    </tr>\n",
       "  </tbody>\n",
       "</table>\n",
       "</div>"
      ],
      "text/plain": [
       "     lesion_id      image_id   dx dx_type   age     sex localization\n",
       "0  HAM_0000118  ISIC_0027419  bkl   histo  80.0    male        scalp\n",
       "1  HAM_0000118  ISIC_0025030  bkl   histo  80.0    male        scalp\n",
       "2  HAM_0002730  ISIC_0026769  bkl   histo  80.0    male        scalp\n",
       "3  HAM_0002730  ISIC_0025661  bkl   histo  80.0    male        scalp\n",
       "4  HAM_0001466  ISIC_0031633  bkl   histo  75.0    male          ear\n",
       "5  HAM_0001466  ISIC_0027850  bkl   histo  75.0    male          ear\n",
       "6  HAM_0002761  ISIC_0029176  bkl   histo  60.0    male         face\n",
       "7  HAM_0002761  ISIC_0029068  bkl   histo  60.0    male         face\n",
       "8  HAM_0005132  ISIC_0025837  bkl   histo  70.0  female         back\n",
       "9  HAM_0005132  ISIC_0025209  bkl   histo  70.0  female         back"
      ]
     },
     "execution_count": 7,
     "metadata": {},
     "output_type": "execute_result"
    }
   ],
   "source": [
    "metadata.head(10)"
   ]
  },
  {
   "cell_type": "markdown",
   "id": "ixusnD8Y4OI8",
   "metadata": {
    "id": "ixusnD8Y4OI8"
   },
   "source": [
    "Creating folders which will later be useful"
   ]
  },
  {
   "cell_type": "code",
   "execution_count": 8,
   "id": "a8d45bcf-03a7-428b-a962-ea2b1e524bc1",
   "metadata": {
    "id": "a8d45bcf-03a7-428b-a962-ea2b1e524bc1"
   },
   "outputs": [],
   "source": [
    "# Create folder for blurred_images\n",
    "blur_folder = \"./new_data/blurred_images/\"\n",
    "os.makedirs(blur_folder, exist_ok=True)\n",
    "\n",
    "# Create folder for dullRazor_images\n",
    "dullRazor_folder = \"./new_data/dullRazor_images/\"\n",
    "os.makedirs(dullRazor_folder, exist_ok=True)\n",
    "\n",
    "# Create folder for circle_mask\n",
    "circle_mask_folder = \"./new_data/circle_mask_images/\"\n",
    "os.makedirs(dullRazor_folder, exist_ok=True)\n",
    "\n",
    "# Create folder for test images\n",
    "test_folder = \"./new_data/test_folder\"\n",
    "os.makedirs(test_folder, exist_ok=True)"
   ]
  },
  {
   "cell_type": "markdown",
   "id": "PEHt64g1hbST",
   "metadata": {
    "id": "PEHt64g1hbST"
   },
   "source": [
    "Creating folders and file for model checkpoint and model save"
   ]
  },
  {
   "cell_type": "code",
   "execution_count": 9,
   "id": "2848a960-e42a-44d3-8572-f9c6c4ea5a17",
   "metadata": {
    "id": "2848a960-e42a-44d3-8572-f9c6c4ea5a17"
   },
   "outputs": [],
   "source": [
    "checkpoints_dir = path + \"/models_checkpoints\""
   ]
  },
  {
   "cell_type": "code",
   "execution_count": 10,
   "id": "d9abf43f-7195-4179-982b-76bd3e4ecf34",
   "metadata": {
    "id": "d9abf43f-7195-4179-982b-76bd3e4ecf34"
   },
   "outputs": [],
   "source": [
    "checkpoint_filepath = checkpoints_dir + \"/model_checkpoint.h5\"\n",
    "best_model_savepath = checkpoints_dir + \"/best_model.h5\""
   ]
  },
  {
   "cell_type": "markdown",
   "id": "g3jeRB7JwkdO",
   "metadata": {
    "id": "g3jeRB7JwkdO"
   },
   "source": [
    "The *Metadata* dataframe includes information about the training and test set, whithout any specification.\n",
    "\n",
    "To overcome this issue, in the cell below, the 'image_id' (i.e. the filename of each image) is used to identify which rows belong to the training set and the same regarding the test set. Thus, it is created a new column on the metadata named 'type', that specifies the set that the respective row corresponds to."
   ]
  },
  {
   "cell_type": "code",
   "execution_count": 11,
   "id": "d8508e2d-112f-43b3-80e1-2e0ca550e097",
   "metadata": {
    "id": "d8508e2d-112f-43b3-80e1-2e0ca550e097"
   },
   "outputs": [],
   "source": [
    "metadata[\"image_jpg\"] = metadata[\"image_id\"] + \".jpg\"\n",
    "metadata[\"type\"] = metadata[\"image_jpg\"].apply(lambda x: \"train\" if x in train_img else \"test\")"
   ]
  },
  {
   "cell_type": "markdown",
   "id": "YyUFk0skxP90",
   "metadata": {
    "id": "YyUFk0skxP90"
   },
   "source": [
    "Dropping the variable *dx_type*, since it is not longer useful"
   ]
  },
  {
   "cell_type": "code",
   "execution_count": 12,
   "id": "c42f7dfc-15c9-4938-bc28-27079249822c",
   "metadata": {
    "id": "c42f7dfc-15c9-4938-bc28-27079249822c"
   },
   "outputs": [],
   "source": [
    "metadata = metadata.drop(\"dx_type\", axis = 1)"
   ]
  },
  {
   "cell_type": "markdown",
   "id": "28f303b5-59de-46be-8d08-856feef6c28c",
   "metadata": {
    "id": "28f303b5-59de-46be-8d08-856feef6c28c"
   },
   "source": [
    "## Exploratory Data Analysis"
   ]
  },
  {
   "cell_type": "markdown",
   "id": "dIbOMYX-yK0f",
   "metadata": {
    "id": "dIbOMYX-yK0f"
   },
   "source": [
    "Performing the *describe()* and *info()* methods"
   ]
  },
  {
   "cell_type": "code",
   "execution_count": 13,
   "id": "Ohup8UNLwk-j",
   "metadata": {
    "colab": {
     "base_uri": "https://localhost:8080/",
     "height": 300
    },
    "id": "Ohup8UNLwk-j",
    "outputId": "d51635f3-e173-4d51-c6db-3ecd72e863c5"
   },
   "outputs": [
    {
     "data": {
      "text/html": [
       "<div>\n",
       "<style scoped>\n",
       "    .dataframe tbody tr th:only-of-type {\n",
       "        vertical-align: middle;\n",
       "    }\n",
       "\n",
       "    .dataframe tbody tr th {\n",
       "        vertical-align: top;\n",
       "    }\n",
       "\n",
       "    .dataframe thead th {\n",
       "        text-align: right;\n",
       "    }\n",
       "</style>\n",
       "<table border=\"1\" class=\"dataframe\">\n",
       "  <thead>\n",
       "    <tr style=\"text-align: right;\">\n",
       "      <th></th>\n",
       "      <th>age</th>\n",
       "    </tr>\n",
       "  </thead>\n",
       "  <tbody>\n",
       "    <tr>\n",
       "      <th>count</th>\n",
       "      <td>9958.000000</td>\n",
       "    </tr>\n",
       "    <tr>\n",
       "      <th>mean</th>\n",
       "      <td>51.863828</td>\n",
       "    </tr>\n",
       "    <tr>\n",
       "      <th>std</th>\n",
       "      <td>16.968614</td>\n",
       "    </tr>\n",
       "    <tr>\n",
       "      <th>min</th>\n",
       "      <td>0.000000</td>\n",
       "    </tr>\n",
       "    <tr>\n",
       "      <th>25%</th>\n",
       "      <td>40.000000</td>\n",
       "    </tr>\n",
       "    <tr>\n",
       "      <th>50%</th>\n",
       "      <td>50.000000</td>\n",
       "    </tr>\n",
       "    <tr>\n",
       "      <th>75%</th>\n",
       "      <td>65.000000</td>\n",
       "    </tr>\n",
       "    <tr>\n",
       "      <th>max</th>\n",
       "      <td>85.000000</td>\n",
       "    </tr>\n",
       "  </tbody>\n",
       "</table>\n",
       "</div>"
      ],
      "text/plain": [
       "               age\n",
       "count  9958.000000\n",
       "mean     51.863828\n",
       "std      16.968614\n",
       "min       0.000000\n",
       "25%      40.000000\n",
       "50%      50.000000\n",
       "75%      65.000000\n",
       "max      85.000000"
      ]
     },
     "execution_count": 13,
     "metadata": {},
     "output_type": "execute_result"
    }
   ],
   "source": [
    "metadata.describe()"
   ]
  },
  {
   "cell_type": "code",
   "execution_count": 14,
   "id": "pL87MFr9wmm_",
   "metadata": {
    "colab": {
     "base_uri": "https://localhost:8080/"
    },
    "id": "pL87MFr9wmm_",
    "outputId": "31431fe0-ba50-4b1d-8d0d-102b41c9b785"
   },
   "outputs": [
    {
     "name": "stdout",
     "output_type": "stream",
     "text": [
      "<class 'pandas.core.frame.DataFrame'>\n",
      "RangeIndex: 10015 entries, 0 to 10014\n",
      "Data columns (total 8 columns):\n",
      " #   Column        Non-Null Count  Dtype  \n",
      "---  ------        --------------  -----  \n",
      " 0   lesion_id     10015 non-null  object \n",
      " 1   image_id      10015 non-null  object \n",
      " 2   dx            10015 non-null  object \n",
      " 3   age           9958 non-null   float64\n",
      " 4   sex           10015 non-null  object \n",
      " 5   localization  10015 non-null  object \n",
      " 6   image_jpg     10015 non-null  object \n",
      " 7   type          10015 non-null  object \n",
      "dtypes: float64(1), object(7)\n",
      "memory usage: 626.1+ KB\n"
     ]
    }
   ],
   "source": [
    "metadata.info()"
   ]
  },
  {
   "cell_type": "markdown",
   "id": "SfXvHtFfylB0",
   "metadata": {
    "id": "SfXvHtFfylB0"
   },
   "source": [
    "Computing the Unique values for each column"
   ]
  },
  {
   "cell_type": "code",
   "execution_count": 15,
   "id": "Mk8CHjNkykcE",
   "metadata": {
    "colab": {
     "base_uri": "https://localhost:8080/"
    },
    "id": "Mk8CHjNkykcE",
    "outputId": "35fe059a-8357-4464-daf8-694da6119a72"
   },
   "outputs": [
    {
     "name": "stdout",
     "output_type": "stream",
     "text": [
      "Column image_id: ['ISIC_0027419' 'ISIC_0025030' 'ISIC_0026769' ... 'ISIC_0033536'\n",
      " 'ISIC_0032854' 'ISIC_0032258']\n",
      "\n",
      "Column dx: ['bkl' 'nv' 'df' 'mel' 'vasc' 'bcc' 'akiec']\n",
      "\n",
      "Column age: [80. 75. 60. 70. 55. 85. 65. 40. 50. 45. 35.  0. 30. nan  5. 25. 20. 10.\n",
      " 15.]\n",
      "\n",
      "Column sex: ['male' 'female' 'unknown']\n",
      "\n",
      "Column localization: ['scalp' 'ear' 'face' 'back' 'trunk' 'chest' 'upper extremity' 'abdomen'\n",
      " 'unknown' 'lower extremity' 'genital' 'neck' 'hand' 'foot' 'acral']\n",
      "\n",
      "Column image_jpg: ['ISIC_0027419.jpg' 'ISIC_0025030.jpg' 'ISIC_0026769.jpg' ...\n",
      " 'ISIC_0033536.jpg' 'ISIC_0032854.jpg' 'ISIC_0032258.jpg']\n",
      "\n",
      "Column type: ['train' 'test']\n",
      "\n"
     ]
    }
   ],
   "source": [
    "for col in metadata.columns[1:]:\n",
    "    unique_values = metadata[col].unique()\n",
    "    print(f\"Column {col}: {unique_values}\\n\")"
   ]
  },
  {
   "cell_type": "markdown",
   "id": "FOiAc9KozF8X",
   "metadata": {
    "id": "FOiAc9KozF8X"
   },
   "source": [
    "Using the *value_counts()* method for relevant variables"
   ]
  },
  {
   "cell_type": "code",
   "execution_count": 16,
   "id": "FS6fkANtzHlk",
   "metadata": {
    "colab": {
     "base_uri": "https://localhost:8080/"
    },
    "id": "FS6fkANtzHlk",
    "outputId": "52b4433f-a9b3-44b7-87b5-1cf6c4366bac"
   },
   "outputs": [
    {
     "name": "stdout",
     "output_type": "stream",
     "text": [
      "Column dx: \n",
      "dx\n",
      "nv       6705\n",
      "mel      1113\n",
      "bkl      1099\n",
      "bcc       514\n",
      "akiec     327\n",
      "vasc      142\n",
      "df        115\n",
      "Name: count, dtype: int64\n",
      "\n",
      "Column age: \n",
      "age\n",
      "45.0    1299\n",
      "50.0    1187\n",
      "55.0    1009\n",
      "40.0     985\n",
      "60.0     803\n",
      "70.0     756\n",
      "35.0     753\n",
      "65.0     731\n",
      "75.0     618\n",
      "30.0     464\n",
      "80.0     404\n",
      "85.0     290\n",
      "25.0     247\n",
      "20.0     169\n",
      "5.0       86\n",
      "15.0      77\n",
      "10.0      41\n",
      "0.0       39\n",
      "Name: count, dtype: int64\n",
      "\n",
      "Column sex: \n",
      "sex\n",
      "male       5406\n",
      "female     4552\n",
      "unknown      57\n",
      "Name: count, dtype: int64\n",
      "\n",
      "Column localization: \n",
      "localization\n",
      "back               2192\n",
      "lower extremity    2077\n",
      "trunk              1404\n",
      "upper extremity    1118\n",
      "abdomen            1022\n",
      "face                745\n",
      "chest               407\n",
      "foot                319\n",
      "unknown             234\n",
      "neck                168\n",
      "scalp               128\n",
      "hand                 90\n",
      "ear                  56\n",
      "genital              48\n",
      "acral                 7\n",
      "Name: count, dtype: int64\n",
      "\n"
     ]
    }
   ],
   "source": [
    "for col in metadata.columns[2:6]:\n",
    "    count_values = metadata[col].value_counts()\n",
    "    print(f\"Column {col}: \\n{count_values}\\n\")"
   ]
  },
  {
   "cell_type": "markdown",
   "id": "yCFPSS7Fyq3A",
   "metadata": {
    "id": "yCFPSS7Fyq3A"
   },
   "source": [
    "#### Missing Values"
   ]
  },
  {
   "cell_type": "code",
   "execution_count": 17,
   "id": "qcACf3r_yu9x",
   "metadata": {
    "colab": {
     "base_uri": "https://localhost:8080/"
    },
    "id": "qcACf3r_yu9x",
    "outputId": "d29128b0-a1c8-4950-a4f0-26b9f292664a"
   },
   "outputs": [
    {
     "data": {
      "text/plain": [
       "lesion_id        0\n",
       "image_id         0\n",
       "dx               0\n",
       "age             57\n",
       "sex              0\n",
       "localization     0\n",
       "image_jpg        0\n",
       "type             0\n",
       "dtype: int64"
      ]
     },
     "execution_count": 17,
     "metadata": {},
     "output_type": "execute_result"
    }
   ],
   "source": [
    "metadata.isnull().sum()"
   ]
  },
  {
   "cell_type": "markdown",
   "id": "uMQPuCAQoBEZ",
   "metadata": {
    "id": "uMQPuCAQoBEZ"
   },
   "source": [
    "Checking to see if the missing values in *age* are the same observations that have unknown *sex*"
   ]
  },
  {
   "cell_type": "code",
   "execution_count": 18,
   "id": "1-HDCkfGnyuh",
   "metadata": {
    "colab": {
     "base_uri": "https://localhost:8080/",
     "height": 53
    },
    "id": "1-HDCkfGnyuh",
    "outputId": "81e12bb7-e88c-4e8e-80b2-a5f785145015"
   },
   "outputs": [
    {
     "data": {
      "text/html": [
       "<div>\n",
       "<style scoped>\n",
       "    .dataframe tbody tr th:only-of-type {\n",
       "        vertical-align: middle;\n",
       "    }\n",
       "\n",
       "    .dataframe tbody tr th {\n",
       "        vertical-align: top;\n",
       "    }\n",
       "\n",
       "    .dataframe thead th {\n",
       "        text-align: right;\n",
       "    }\n",
       "</style>\n",
       "<table border=\"1\" class=\"dataframe\">\n",
       "  <thead>\n",
       "    <tr style=\"text-align: right;\">\n",
       "      <th></th>\n",
       "      <th>lesion_id</th>\n",
       "      <th>image_id</th>\n",
       "      <th>dx</th>\n",
       "      <th>age</th>\n",
       "      <th>sex</th>\n",
       "      <th>localization</th>\n",
       "      <th>image_jpg</th>\n",
       "      <th>type</th>\n",
       "    </tr>\n",
       "  </thead>\n",
       "  <tbody>\n",
       "  </tbody>\n",
       "</table>\n",
       "</div>"
      ],
      "text/plain": [
       "Empty DataFrame\n",
       "Columns: [lesion_id, image_id, dx, age, sex, localization, image_jpg, type]\n",
       "Index: []"
      ]
     },
     "execution_count": 18,
     "metadata": {},
     "output_type": "execute_result"
    }
   ],
   "source": [
    "metadata[metadata['age'].isnull() & metadata['sex'] == 'unknown']"
   ]
  },
  {
   "cell_type": "markdown",
   "id": "MFS-ZdXx09l4",
   "metadata": {
    "id": "MFS-ZdXx09l4"
   },
   "source": [
    "Filling the Missing Values in *age* with the mean of this variable"
   ]
  },
  {
   "cell_type": "code",
   "execution_count": 19,
   "id": "rltuOk5W0Bvs",
   "metadata": {
    "id": "rltuOk5W0Bvs"
   },
   "outputs": [],
   "source": [
    "metadata['age'].fillna(metadata['age'].mean(), inplace=True)"
   ]
  },
  {
   "cell_type": "markdown",
   "id": "tfxn0ftHy_YC",
   "metadata": {
    "id": "tfxn0ftHy_YC"
   },
   "source": [
    "#### Incoherencies"
   ]
  },
  {
   "cell_type": "markdown",
   "id": "QjxeaE4Uzj3d",
   "metadata": {
    "id": "QjxeaE4Uzj3d"
   },
   "source": [
    "As we previously checked with the *value_counts()* method, gender appears to have some incoherent values"
   ]
  },
  {
   "cell_type": "code",
   "execution_count": 20,
   "id": "GM_wb0VEzCda",
   "metadata": {
    "colab": {
     "base_uri": "https://localhost:8080/",
     "height": 472
    },
    "id": "GM_wb0VEzCda",
    "outputId": "4251f12c-3373-40c6-bd72-0e89dec4e211"
   },
   "outputs": [
    {
     "data": {
      "image/png": "[encoded data removed]",
      "text/plain": [
       "<Figure size 640x480 with 1 Axes>"
      ]
     },
     "metadata": {},
     "output_type": "display_data"
    }
   ],
   "source": [
    "value_counts = metadata['sex'].value_counts()\n",
    "\n",
    "# Plotting\n",
    "plt.bar(value_counts.index, value_counts.values, color=['lightblue', 'pink', 'grey'])\n",
    "plt.title('Distribution of Sex in Metadata')\n",
    "plt.xlabel('Sex')\n",
    "plt.ylabel('Count')\n",
    "plt.show()"
   ]
  },
  {
   "cell_type": "markdown",
   "id": "bdipiit8lzNg",
   "metadata": {
    "id": "bdipiit8lzNg"
   },
   "source": [
    "Looking for incoherencies in *age*"
   ]
  },
  {
   "cell_type": "code",
   "execution_count": 21,
   "id": "MBIxPD5Io7j4",
   "metadata": {
    "colab": {
     "base_uri": "https://localhost:8080/"
    },
    "id": "MBIxPD5Io7j4",
    "outputId": "5a76416e-8df5-4e11-e1a6-2b784b0de752"
   },
   "outputs": [
    {
     "data": {
      "text/plain": [
       "lesion_id       39\n",
       "image_id        39\n",
       "dx              39\n",
       "age             39\n",
       "sex             39\n",
       "localization    39\n",
       "image_jpg       39\n",
       "type            39\n",
       "dtype: int64"
      ]
     },
     "execution_count": 21,
     "metadata": {},
     "output_type": "execute_result"
    }
   ],
   "source": [
    "metadata[metadata['age'] == 0].count()"
   ]
  },
  {
   "cell_type": "code",
   "execution_count": 22,
   "id": "zTUIM5BPl2rP",
   "metadata": {
    "colab": {
     "base_uri": "https://localhost:8080/",
     "height": 1000
    },
    "id": "zTUIM5BPl2rP",
    "outputId": "fa24e602-37b0-41a3-9256-4864f6e3cb48"
   },
   "outputs": [
    {
     "data": {
      "text/html": [
       "<div>\n",
       "<style scoped>\n",
       "    .dataframe tbody tr th:only-of-type {\n",
       "        vertical-align: middle;\n",
       "    }\n",
       "\n",
       "    .dataframe tbody tr th {\n",
       "        vertical-align: top;\n",
       "    }\n",
       "\n",
       "    .dataframe thead th {\n",
       "        text-align: right;\n",
       "    }\n",
       "</style>\n",
       "<table border=\"1\" class=\"dataframe\">\n",
       "  <thead>\n",
       "    <tr style=\"text-align: right;\">\n",
       "      <th></th>\n",
       "      <th>lesion_id</th>\n",
       "      <th>image_id</th>\n",
       "      <th>dx</th>\n",
       "      <th>age</th>\n",
       "      <th>sex</th>\n",
       "      <th>localization</th>\n",
       "      <th>image_jpg</th>\n",
       "      <th>type</th>\n",
       "    </tr>\n",
       "  </thead>\n",
       "  <tbody>\n",
       "    <tr>\n",
       "      <th>117</th>\n",
       "      <td>HAM_0007179</td>\n",
       "      <td>ISIC_0025906</td>\n",
       "      <td>bkl</td>\n",
       "      <td>0.0</td>\n",
       "      <td>female</td>\n",
       "      <td>back</td>\n",
       "      <td>ISIC_0025906.jpg</td>\n",
       "      <td>train</td>\n",
       "    </tr>\n",
       "    <tr>\n",
       "      <th>118</th>\n",
       "      <td>HAM_0007179</td>\n",
       "      <td>ISIC_0027151</td>\n",
       "      <td>bkl</td>\n",
       "      <td>0.0</td>\n",
       "      <td>female</td>\n",
       "      <td>back</td>\n",
       "      <td>ISIC_0027151.jpg</td>\n",
       "      <td>test</td>\n",
       "    </tr>\n",
       "    <tr>\n",
       "      <th>865</th>\n",
       "      <td>HAM_0006186</td>\n",
       "      <td>ISIC_0029320</td>\n",
       "      <td>bkl</td>\n",
       "      <td>0.0</td>\n",
       "      <td>male</td>\n",
       "      <td>lower extremity</td>\n",
       "      <td>ISIC_0029320.jpg</td>\n",
       "      <td>train</td>\n",
       "    </tr>\n",
       "    <tr>\n",
       "      <th>866</th>\n",
       "      <td>HAM_0006186</td>\n",
       "      <td>ISIC_0029427</td>\n",
       "      <td>bkl</td>\n",
       "      <td>0.0</td>\n",
       "      <td>male</td>\n",
       "      <td>lower extremity</td>\n",
       "      <td>ISIC_0029427.jpg</td>\n",
       "      <td>train</td>\n",
       "    </tr>\n",
       "    <tr>\n",
       "      <th>902</th>\n",
       "      <td>HAM_0004543</td>\n",
       "      <td>ISIC_0032170</td>\n",
       "      <td>bkl</td>\n",
       "      <td>0.0</td>\n",
       "      <td>female</td>\n",
       "      <td>back</td>\n",
       "      <td>ISIC_0032170.jpg</td>\n",
       "      <td>train</td>\n",
       "    </tr>\n",
       "    <tr>\n",
       "      <th>2388</th>\n",
       "      <td>HAM_0002610</td>\n",
       "      <td>ISIC_0026876</td>\n",
       "      <td>vasc</td>\n",
       "      <td>0.0</td>\n",
       "      <td>female</td>\n",
       "      <td>abdomen</td>\n",
       "      <td>ISIC_0026876.jpg</td>\n",
       "      <td>train</td>\n",
       "    </tr>\n",
       "    <tr>\n",
       "      <th>2389</th>\n",
       "      <td>HAM_0002610</td>\n",
       "      <td>ISIC_0030606</td>\n",
       "      <td>vasc</td>\n",
       "      <td>0.0</td>\n",
       "      <td>female</td>\n",
       "      <td>abdomen</td>\n",
       "      <td>ISIC_0030606.jpg</td>\n",
       "      <td>test</td>\n",
       "    </tr>\n",
       "    <tr>\n",
       "      <th>2398</th>\n",
       "      <td>HAM_0004542</td>\n",
       "      <td>ISIC_0024402</td>\n",
       "      <td>vasc</td>\n",
       "      <td>0.0</td>\n",
       "      <td>female</td>\n",
       "      <td>back</td>\n",
       "      <td>ISIC_0024402.jpg</td>\n",
       "      <td>train</td>\n",
       "    </tr>\n",
       "    <tr>\n",
       "      <th>2399</th>\n",
       "      <td>HAM_0004542</td>\n",
       "      <td>ISIC_0027256</td>\n",
       "      <td>vasc</td>\n",
       "      <td>0.0</td>\n",
       "      <td>female</td>\n",
       "      <td>back</td>\n",
       "      <td>ISIC_0027256.jpg</td>\n",
       "      <td>train</td>\n",
       "    </tr>\n",
       "    <tr>\n",
       "      <th>6683</th>\n",
       "      <td>HAM_0003246</td>\n",
       "      <td>ISIC_0029049</td>\n",
       "      <td>nv</td>\n",
       "      <td>0.0</td>\n",
       "      <td>male</td>\n",
       "      <td>ear</td>\n",
       "      <td>ISIC_0029049.jpg</td>\n",
       "      <td>test</td>\n",
       "    </tr>\n",
       "    <tr>\n",
       "      <th>6684</th>\n",
       "      <td>HAM_0003246</td>\n",
       "      <td>ISIC_0029018</td>\n",
       "      <td>nv</td>\n",
       "      <td>0.0</td>\n",
       "      <td>male</td>\n",
       "      <td>ear</td>\n",
       "      <td>ISIC_0029018.jpg</td>\n",
       "      <td>train</td>\n",
       "    </tr>\n",
       "    <tr>\n",
       "      <th>6860</th>\n",
       "      <td>HAM_0002159</td>\n",
       "      <td>ISIC_0031059</td>\n",
       "      <td>nv</td>\n",
       "      <td>0.0</td>\n",
       "      <td>male</td>\n",
       "      <td>foot</td>\n",
       "      <td>ISIC_0031059.jpg</td>\n",
       "      <td>train</td>\n",
       "    </tr>\n",
       "    <tr>\n",
       "      <th>6861</th>\n",
       "      <td>HAM_0002159</td>\n",
       "      <td>ISIC_0030355</td>\n",
       "      <td>nv</td>\n",
       "      <td>0.0</td>\n",
       "      <td>male</td>\n",
       "      <td>foot</td>\n",
       "      <td>ISIC_0030355.jpg</td>\n",
       "      <td>train</td>\n",
       "    </tr>\n",
       "    <tr>\n",
       "      <th>7499</th>\n",
       "      <td>HAM_0004176</td>\n",
       "      <td>ISIC_0034286</td>\n",
       "      <td>nv</td>\n",
       "      <td>0.0</td>\n",
       "      <td>male</td>\n",
       "      <td>upper extremity</td>\n",
       "      <td>ISIC_0034286.jpg</td>\n",
       "      <td>train</td>\n",
       "    </tr>\n",
       "    <tr>\n",
       "      <th>7500</th>\n",
       "      <td>HAM_0004176</td>\n",
       "      <td>ISIC_0033373</td>\n",
       "      <td>nv</td>\n",
       "      <td>0.0</td>\n",
       "      <td>male</td>\n",
       "      <td>upper extremity</td>\n",
       "      <td>ISIC_0033373.jpg</td>\n",
       "      <td>train</td>\n",
       "    </tr>\n",
       "    <tr>\n",
       "      <th>8016</th>\n",
       "      <td>HAM_0004076</td>\n",
       "      <td>ISIC_0032966</td>\n",
       "      <td>nv</td>\n",
       "      <td>0.0</td>\n",
       "      <td>unknown</td>\n",
       "      <td>back</td>\n",
       "      <td>ISIC_0032966.jpg</td>\n",
       "      <td>test</td>\n",
       "    </tr>\n",
       "    <tr>\n",
       "      <th>8017</th>\n",
       "      <td>HAM_0004076</td>\n",
       "      <td>ISIC_0033864</td>\n",
       "      <td>nv</td>\n",
       "      <td>0.0</td>\n",
       "      <td>unknown</td>\n",
       "      <td>back</td>\n",
       "      <td>ISIC_0033864.jpg</td>\n",
       "      <td>train</td>\n",
       "    </tr>\n",
       "    <tr>\n",
       "      <th>9218</th>\n",
       "      <td>HAM_0001689</td>\n",
       "      <td>ISIC_0025166</td>\n",
       "      <td>nv</td>\n",
       "      <td>0.0</td>\n",
       "      <td>female</td>\n",
       "      <td>upper extremity</td>\n",
       "      <td>ISIC_0025166.jpg</td>\n",
       "      <td>train</td>\n",
       "    </tr>\n",
       "    <tr>\n",
       "      <th>9219</th>\n",
       "      <td>HAM_0001689</td>\n",
       "      <td>ISIC_0028938</td>\n",
       "      <td>nv</td>\n",
       "      <td>0.0</td>\n",
       "      <td>female</td>\n",
       "      <td>upper extremity</td>\n",
       "      <td>ISIC_0028938.jpg</td>\n",
       "      <td>test</td>\n",
       "    </tr>\n",
       "    <tr>\n",
       "      <th>9232</th>\n",
       "      <td>HAM_0006358</td>\n",
       "      <td>ISIC_0027549</td>\n",
       "      <td>nv</td>\n",
       "      <td>0.0</td>\n",
       "      <td>male</td>\n",
       "      <td>foot</td>\n",
       "      <td>ISIC_0027549.jpg</td>\n",
       "      <td>train</td>\n",
       "    </tr>\n",
       "    <tr>\n",
       "      <th>9233</th>\n",
       "      <td>HAM_0006358</td>\n",
       "      <td>ISIC_0025581</td>\n",
       "      <td>nv</td>\n",
       "      <td>0.0</td>\n",
       "      <td>male</td>\n",
       "      <td>foot</td>\n",
       "      <td>ISIC_0025581.jpg</td>\n",
       "      <td>train</td>\n",
       "    </tr>\n",
       "    <tr>\n",
       "      <th>9234</th>\n",
       "      <td>HAM_0005817</td>\n",
       "      <td>ISIC_0028384</td>\n",
       "      <td>nv</td>\n",
       "      <td>0.0</td>\n",
       "      <td>male</td>\n",
       "      <td>upper extremity</td>\n",
       "      <td>ISIC_0028384.jpg</td>\n",
       "      <td>train</td>\n",
       "    </tr>\n",
       "    <tr>\n",
       "      <th>9235</th>\n",
       "      <td>HAM_0005817</td>\n",
       "      <td>ISIC_0030155</td>\n",
       "      <td>nv</td>\n",
       "      <td>0.0</td>\n",
       "      <td>male</td>\n",
       "      <td>upper extremity</td>\n",
       "      <td>ISIC_0030155.jpg</td>\n",
       "      <td>train</td>\n",
       "    </tr>\n",
       "    <tr>\n",
       "      <th>9242</th>\n",
       "      <td>HAM_0002708</td>\n",
       "      <td>ISIC_0029247</td>\n",
       "      <td>nv</td>\n",
       "      <td>0.0</td>\n",
       "      <td>male</td>\n",
       "      <td>lower extremity</td>\n",
       "      <td>ISIC_0029247.jpg</td>\n",
       "      <td>test</td>\n",
       "    </tr>\n",
       "    <tr>\n",
       "      <th>9243</th>\n",
       "      <td>HAM_0002708</td>\n",
       "      <td>ISIC_0024752</td>\n",
       "      <td>nv</td>\n",
       "      <td>0.0</td>\n",
       "      <td>male</td>\n",
       "      <td>lower extremity</td>\n",
       "      <td>ISIC_0024752.jpg</td>\n",
       "      <td>test</td>\n",
       "    </tr>\n",
       "    <tr>\n",
       "      <th>9302</th>\n",
       "      <td>HAM_0000666</td>\n",
       "      <td>ISIC_0026122</td>\n",
       "      <td>nv</td>\n",
       "      <td>0.0</td>\n",
       "      <td>male</td>\n",
       "      <td>foot</td>\n",
       "      <td>ISIC_0026122.jpg</td>\n",
       "      <td>train</td>\n",
       "    </tr>\n",
       "    <tr>\n",
       "      <th>9303</th>\n",
       "      <td>HAM_0000666</td>\n",
       "      <td>ISIC_0026024</td>\n",
       "      <td>nv</td>\n",
       "      <td>0.0</td>\n",
       "      <td>male</td>\n",
       "      <td>foot</td>\n",
       "      <td>ISIC_0026024.jpg</td>\n",
       "      <td>train</td>\n",
       "    </tr>\n",
       "    <tr>\n",
       "      <th>9329</th>\n",
       "      <td>HAM_0003872</td>\n",
       "      <td>ISIC_0028903</td>\n",
       "      <td>nv</td>\n",
       "      <td>0.0</td>\n",
       "      <td>female</td>\n",
       "      <td>abdomen</td>\n",
       "      <td>ISIC_0028903.jpg</td>\n",
       "      <td>train</td>\n",
       "    </tr>\n",
       "    <tr>\n",
       "      <th>9346</th>\n",
       "      <td>HAM_0002084</td>\n",
       "      <td>ISIC_0030404</td>\n",
       "      <td>nv</td>\n",
       "      <td>0.0</td>\n",
       "      <td>male</td>\n",
       "      <td>face</td>\n",
       "      <td>ISIC_0030404.jpg</td>\n",
       "      <td>train</td>\n",
       "    </tr>\n",
       "    <tr>\n",
       "      <th>9347</th>\n",
       "      <td>HAM_0002084</td>\n",
       "      <td>ISIC_0027311</td>\n",
       "      <td>nv</td>\n",
       "      <td>0.0</td>\n",
       "      <td>male</td>\n",
       "      <td>face</td>\n",
       "      <td>ISIC_0027311.jpg</td>\n",
       "      <td>train</td>\n",
       "    </tr>\n",
       "    <tr>\n",
       "      <th>9356</th>\n",
       "      <td>HAM_0002332</td>\n",
       "      <td>ISIC_0025670</td>\n",
       "      <td>nv</td>\n",
       "      <td>0.0</td>\n",
       "      <td>male</td>\n",
       "      <td>foot</td>\n",
       "      <td>ISIC_0025670.jpg</td>\n",
       "      <td>test</td>\n",
       "    </tr>\n",
       "    <tr>\n",
       "      <th>9357</th>\n",
       "      <td>HAM_0002332</td>\n",
       "      <td>ISIC_0025898</td>\n",
       "      <td>nv</td>\n",
       "      <td>0.0</td>\n",
       "      <td>male</td>\n",
       "      <td>foot</td>\n",
       "      <td>ISIC_0025898.jpg</td>\n",
       "      <td>train</td>\n",
       "    </tr>\n",
       "    <tr>\n",
       "      <th>9371</th>\n",
       "      <td>HAM_0005365</td>\n",
       "      <td>ISIC_0025253</td>\n",
       "      <td>nv</td>\n",
       "      <td>0.0</td>\n",
       "      <td>male</td>\n",
       "      <td>chest</td>\n",
       "      <td>ISIC_0025253.jpg</td>\n",
       "      <td>train</td>\n",
       "    </tr>\n",
       "    <tr>\n",
       "      <th>9372</th>\n",
       "      <td>HAM_0005365</td>\n",
       "      <td>ISIC_0027961</td>\n",
       "      <td>nv</td>\n",
       "      <td>0.0</td>\n",
       "      <td>male</td>\n",
       "      <td>chest</td>\n",
       "      <td>ISIC_0027961.jpg</td>\n",
       "      <td>train</td>\n",
       "    </tr>\n",
       "    <tr>\n",
       "      <th>9375</th>\n",
       "      <td>HAM_0005246</td>\n",
       "      <td>ISIC_0030059</td>\n",
       "      <td>nv</td>\n",
       "      <td>0.0</td>\n",
       "      <td>male</td>\n",
       "      <td>scalp</td>\n",
       "      <td>ISIC_0030059.jpg</td>\n",
       "      <td>train</td>\n",
       "    </tr>\n",
       "    <tr>\n",
       "      <th>9377</th>\n",
       "      <td>HAM_0007437</td>\n",
       "      <td>ISIC_0032020</td>\n",
       "      <td>nv</td>\n",
       "      <td>0.0</td>\n",
       "      <td>female</td>\n",
       "      <td>lower extremity</td>\n",
       "      <td>ISIC_0032020.jpg</td>\n",
       "      <td>test</td>\n",
       "    </tr>\n",
       "    <tr>\n",
       "      <th>9378</th>\n",
       "      <td>HAM_0007437</td>\n",
       "      <td>ISIC_0024745</td>\n",
       "      <td>nv</td>\n",
       "      <td>0.0</td>\n",
       "      <td>female</td>\n",
       "      <td>lower extremity</td>\n",
       "      <td>ISIC_0024745.jpg</td>\n",
       "      <td>train</td>\n",
       "    </tr>\n",
       "    <tr>\n",
       "      <th>9633</th>\n",
       "      <td>HAM_0006720</td>\n",
       "      <td>ISIC_0024725</td>\n",
       "      <td>nv</td>\n",
       "      <td>0.0</td>\n",
       "      <td>female</td>\n",
       "      <td>lower extremity</td>\n",
       "      <td>ISIC_0024725.jpg</td>\n",
       "      <td>train</td>\n",
       "    </tr>\n",
       "    <tr>\n",
       "      <th>9634</th>\n",
       "      <td>HAM_0006720</td>\n",
       "      <td>ISIC_0031259</td>\n",
       "      <td>nv</td>\n",
       "      <td>0.0</td>\n",
       "      <td>female</td>\n",
       "      <td>lower extremity</td>\n",
       "      <td>ISIC_0031259.jpg</td>\n",
       "      <td>train</td>\n",
       "    </tr>\n",
       "  </tbody>\n",
       "</table>\n",
       "</div>"
      ],
      "text/plain": [
       "        lesion_id      image_id    dx  age      sex     localization  \\\n",
       "117   HAM_0007179  ISIC_0025906   bkl  0.0   female             back   \n",
       "118   HAM_0007179  ISIC_0027151   bkl  0.0   female             back   \n",
       "865   HAM_0006186  ISIC_0029320   bkl  0.0     male  lower extremity   \n",
       "866   HAM_0006186  ISIC_0029427   bkl  0.0     male  lower extremity   \n",
       "902   HAM_0004543  ISIC_0032170   bkl  0.0   female             back   \n",
       "2388  HAM_0002610  ISIC_0026876  vasc  0.0   female          abdomen   \n",
       "2389  HAM_0002610  ISIC_0030606  vasc  0.0   female          abdomen   \n",
       "2398  HAM_0004542  ISIC_0024402  vasc  0.0   female             back   \n",
       "2399  HAM_0004542  ISIC_0027256  vasc  0.0   female             back   \n",
       "6683  HAM_0003246  ISIC_0029049    nv  0.0     male              ear   \n",
       "6684  HAM_0003246  ISIC_0029018    nv  0.0     male              ear   \n",
       "6860  HAM_0002159  ISIC_0031059    nv  0.0     male             foot   \n",
       "6861  HAM_0002159  ISIC_0030355    nv  0.0     male             foot   \n",
       "7499  HAM_0004176  ISIC_0034286    nv  0.0     male  upper extremity   \n",
       "7500  HAM_0004176  ISIC_0033373    nv  0.0     male  upper extremity   \n",
       "8016  HAM_0004076  ISIC_0032966    nv  0.0  unknown             back   \n",
       "8017  HAM_0004076  ISIC_0033864    nv  0.0  unknown             back   \n",
       "9218  HAM_0001689  ISIC_0025166    nv  0.0   female  upper extremity   \n",
       "9219  HAM_0001689  ISIC_0028938    nv  0.0   female  upper extremity   \n",
       "9232  HAM_0006358  ISIC_0027549    nv  0.0     male             foot   \n",
       "9233  HAM_0006358  ISIC_0025581    nv  0.0     male             foot   \n",
       "9234  HAM_0005817  ISIC_0028384    nv  0.0     male  upper extremity   \n",
       "9235  HAM_0005817  ISIC_0030155    nv  0.0     male  upper extremity   \n",
       "9242  HAM_0002708  ISIC_0029247    nv  0.0     male  lower extremity   \n",
       "9243  HAM_0002708  ISIC_0024752    nv  0.0     male  lower extremity   \n",
       "9302  HAM_0000666  ISIC_0026122    nv  0.0     male             foot   \n",
       "9303  HAM_0000666  ISIC_0026024    nv  0.0     male             foot   \n",
       "9329  HAM_0003872  ISIC_0028903    nv  0.0   female          abdomen   \n",
       "9346  HAM_0002084  ISIC_0030404    nv  0.0     male             face   \n",
       "9347  HAM_0002084  ISIC_0027311    nv  0.0     male             face   \n",
       "9356  HAM_0002332  ISIC_0025670    nv  0.0     male             foot   \n",
       "9357  HAM_0002332  ISIC_0025898    nv  0.0     male             foot   \n",
       "9371  HAM_0005365  ISIC_0025253    nv  0.0     male            chest   \n",
       "9372  HAM_0005365  ISIC_0027961    nv  0.0     male            chest   \n",
       "9375  HAM_0005246  ISIC_0030059    nv  0.0     male            scalp   \n",
       "9377  HAM_0007437  ISIC_0032020    nv  0.0   female  lower extremity   \n",
       "9378  HAM_0007437  ISIC_0024745    nv  0.0   female  lower extremity   \n",
       "9633  HAM_0006720  ISIC_0024725    nv  0.0   female  lower extremity   \n",
       "9634  HAM_0006720  ISIC_0031259    nv  0.0   female  lower extremity   \n",
       "\n",
       "             image_jpg   type  \n",
       "117   ISIC_0025906.jpg  train  \n",
       "118   ISIC_0027151.jpg   test  \n",
       "865   ISIC_0029320.jpg  train  \n",
       "866   ISIC_0029427.jpg  train  \n",
       "902   ISIC_0032170.jpg  train  \n",
       "2388  ISIC_0026876.jpg  train  \n",
       "2389  ISIC_0030606.jpg   test  \n",
       "2398  ISIC_0024402.jpg  train  \n",
       "2399  ISIC_0027256.jpg  train  \n",
       "6683  ISIC_0029049.jpg   test  \n",
       "6684  ISIC_0029018.jpg  train  \n",
       "6860  ISIC_0031059.jpg  train  \n",
       "6861  ISIC_0030355.jpg  train  \n",
       "7499  ISIC_0034286.jpg  train  \n",
       "7500  ISIC_0033373.jpg  train  \n",
       "8016  ISIC_0032966.jpg   test  \n",
       "8017  ISIC_0033864.jpg  train  \n",
       "9218  ISIC_0025166.jpg  train  \n",
       "9219  ISIC_0028938.jpg   test  \n",
       "9232  ISIC_0027549.jpg  train  \n",
       "9233  ISIC_0025581.jpg  train  \n",
       "9234  ISIC_0028384.jpg  train  \n",
       "9235  ISIC_0030155.jpg  train  \n",
       "9242  ISIC_0029247.jpg   test  \n",
       "9243  ISIC_0024752.jpg   test  \n",
       "9302  ISIC_0026122.jpg  train  \n",
       "9303  ISIC_0026024.jpg  train  \n",
       "9329  ISIC_0028903.jpg  train  \n",
       "9346  ISIC_0030404.jpg  train  \n",
       "9347  ISIC_0027311.jpg  train  \n",
       "9356  ISIC_0025670.jpg   test  \n",
       "9357  ISIC_0025898.jpg  train  \n",
       "9371  ISIC_0025253.jpg  train  \n",
       "9372  ISIC_0027961.jpg  train  \n",
       "9375  ISIC_0030059.jpg  train  \n",
       "9377  ISIC_0032020.jpg   test  \n",
       "9378  ISIC_0024745.jpg  train  \n",
       "9633  ISIC_0024725.jpg  train  \n",
       "9634  ISIC_0031259.jpg  train  "
      ]
     },
     "execution_count": 22,
     "metadata": {},
     "output_type": "execute_result"
    }
   ],
   "source": [
    "metadata[metadata['age'] == 0]"
   ]
  },
  {
   "cell_type": "code",
   "execution_count": 23,
   "id": "bVLp0eIpmRy9",
   "metadata": {
    "colab": {
     "base_uri": "https://localhost:8080/",
     "height": 73
    },
    "id": "bVLp0eIpmRy9",
    "outputId": "fcbf0965-de6a-4f01-ea06-2aff466ca5c5"
   },
   "outputs": [
    {
     "data": {
      "text/html": [
       "<div>\n",
       "<style scoped>\n",
       "    .dataframe tbody tr th:only-of-type {\n",
       "        vertical-align: middle;\n",
       "    }\n",
       "\n",
       "    .dataframe tbody tr th {\n",
       "        vertical-align: top;\n",
       "    }\n",
       "\n",
       "    .dataframe thead th {\n",
       "        text-align: right;\n",
       "    }\n",
       "</style>\n",
       "<table border=\"1\" class=\"dataframe\">\n",
       "  <thead>\n",
       "    <tr style=\"text-align: right;\">\n",
       "      <th></th>\n",
       "      <th>lesion_id</th>\n",
       "      <th>image_id</th>\n",
       "      <th>dx</th>\n",
       "      <th>age</th>\n",
       "      <th>sex</th>\n",
       "      <th>localization</th>\n",
       "      <th>image_jpg</th>\n",
       "      <th>type</th>\n",
       "    </tr>\n",
       "  </thead>\n",
       "  <tbody>\n",
       "  </tbody>\n",
       "</table>\n",
       "</div>"
      ],
      "text/plain": [
       "Empty DataFrame\n",
       "Columns: [lesion_id, image_id, dx, age, sex, localization, image_jpg, type]\n",
       "Index: []"
      ]
     },
     "execution_count": 23,
     "metadata": {},
     "output_type": "execute_result"
    }
   ],
   "source": [
    "metadata[metadata['age'] > 90]"
   ]
  },
  {
   "cell_type": "markdown",
   "id": "Uv0IFKp7y86P",
   "metadata": {
    "id": "Uv0IFKp7y86P"
   },
   "source": [
    "#### Feature Engineering"
   ]
  },
  {
   "cell_type": "markdown",
   "id": "lsugQ94_z0Zi",
   "metadata": {
    "id": "lsugQ94_z0Zi"
   },
   "source": [
    "Encoding *dx* and *localization*"
   ]
  },
  {
   "cell_type": "code",
   "execution_count": 25,
   "id": "ba1f67d6-d5d7-459f-ab2f-e646112516b5",
   "metadata": {
    "id": "ba1f67d6-d5d7-459f-ab2f-e646112516b5"
   },
   "outputs": [],
   "source": [
    "label_encoder_dx = LabelEncoder()\n",
    "label_encoder_loc = LabelEncoder()\n",
    "metadata[\"dx_label\"] = label_encoder_dx.fit_transform(metadata[\"dx\"])\n",
    "metadata[\"loc_label\"] = label_encoder_loc.fit_transform(metadata[\"localization\"])"
   ]
  },
  {
   "cell_type": "markdown",
   "id": "hUsv_GZjkqIw",
   "metadata": {
    "id": "hUsv_GZjkqIw"
   },
   "source": [
    "### Outliers"
   ]
  },
  {
   "cell_type": "markdown",
   "id": "HM9Lgeq6leMl",
   "metadata": {
    "id": "HM9Lgeq6leMl"
   },
   "source": [
    "Looking for outliers in the only numeric column"
   ]
  },
  {
   "cell_type": "code",
   "execution_count": 26,
   "id": "xd15ILM0k6U5",
   "metadata": {
    "colab": {
     "base_uri": "https://localhost:8080/",
     "height": 551
    },
    "id": "xd15ILM0k6U5",
    "outputId": "ff141d5f-dde6-40ff-8893-f1255d81e0df"
   },
   "outputs": [
    {
     "data": {
      "image/png": "[encoded data removed]",
      "text/plain": [
       "<Figure size 800x600 with 1 Axes>"
      ]
     },
     "metadata": {},
     "output_type": "display_data"
    }
   ],
   "source": [
    "plt.figure(figsize=(8, 6))\n",
    "sns.boxplot(x=metadata['age'])\n",
    "plt.title(f'Boxplot for Age')\n",
    "plt.show()"
   ]
  },
  {
   "cell_type": "markdown",
   "id": "_DGeDYre1r6D",
   "metadata": {
    "id": "_DGeDYre1r6D"
   },
   "source": [
    "### Visualisations"
   ]
  },
  {
   "cell_type": "markdown",
   "id": "pIFetacw112x",
   "metadata": {
    "id": "pIFetacw112x"
   },
   "source": [
    "Plotting the Average Age per Gender"
   ]
  },
  {
   "cell_type": "code",
   "execution_count": 27,
   "id": "rXDrVlsP12A8",
   "metadata": {
    "colab": {
     "base_uri": "https://localhost:8080/",
     "height": 521
    },
    "id": "rXDrVlsP12A8",
    "outputId": "8fbb95e2-e5a8-4059-9d95-2386aaf6714d"
   },
   "outputs": [
    {
     "data": {
      "image/png": "[encoded data removed]",
      "text/plain": [
       "<Figure size 640x480 with 1 Axes>"
      ]
     },
     "metadata": {},
     "output_type": "display_data"
    }
   ],
   "source": [
    "average_age_per_sex = metadata.groupby('sex')['age'].mean()\n",
    "\n",
    "# Plotting\n",
    "average_age_per_sex.plot(kind='bar', color=['pink', 'lightblue', 'grey'])\n",
    "plt.title('Average Age per Sex')\n",
    "plt.xlabel('Sex')\n",
    "plt.ylabel('Average Age')\n",
    "plt.show()"
   ]
  },
  {
   "cell_type": "markdown",
   "id": "xA3FRoNv1_OQ",
   "metadata": {
    "id": "xA3FRoNv1_OQ"
   },
   "source": [
    "Plotting the Average Age per Cancer Location"
   ]
  },
  {
   "cell_type": "code",
   "execution_count": 28,
   "id": "exrwjAJ11tjB",
   "metadata": {
    "colab": {
     "base_uri": "https://localhost:8080/",
     "height": 452
    },
    "id": "exrwjAJ11tjB",
    "outputId": "7aba53e0-5ee5-41ff-ffd3-eae751372d03"
   },
   "outputs": [
    {
     "data": {
      "image/png": "[encoded data removed]",
      "text/plain": [
       "<Figure size 640x480 with 1 Axes>"
      ]
     },
     "metadata": {},
     "output_type": "display_data"
    }
   ],
   "source": [
    "average_age_per_sex = metadata.groupby('localization')['age'].mean()\n",
    "\n",
    "# Plotting\n",
    "average_age_per_sex.plot(kind='barh')\n",
    "plt.title('Average Age per Cancer Location')\n",
    "plt.xlabel('Location')\n",
    "plt.ylabel('Average Age')\n",
    "plt.show()"
   ]
  },
  {
   "cell_type": "markdown",
   "id": "X27D5lHN3OGw",
   "metadata": {
    "id": "X27D5lHN3OGw"
   },
   "source": [
    "Plotting the Diagnosis made per Location"
   ]
  },
  {
   "cell_type": "code",
   "execution_count": 29,
   "id": "8crJVNtH3OMv",
   "metadata": {
    "colab": {
     "base_uri": "https://localhost:8080/",
     "height": 515
    },
    "id": "8crJVNtH3OMv",
    "outputId": "0b12b4e6-d6f2-4af2-e433-2d22f7bdea49"
   },
   "outputs": [
    {
     "data": {
      "image/png": "[encoded data removed]",
      "text/plain": [
       "<Figure size 640x480 with 1 Axes>"
      ]
     },
     "metadata": {},
     "output_type": "display_data"
    }
   ],
   "source": [
    "diagnosis_counts = metadata.groupby(['localization', 'dx']).size().unstack()\n",
    "\n",
    "# Plotting\n",
    "diagnosis_counts.plot(kind='bar', stacked=True)\n",
    "plt.title('Diagnosis Counts per Cancer Location')\n",
    "plt.xlabel('Location')\n",
    "plt.ylabel('Count')\n",
    "plt.legend(title='Diagnosis', bbox_to_anchor=(1.05, 1), loc='upper left')\n",
    "plt.show()"
   ]
  },
  {
   "cell_type": "markdown",
   "id": "2d876dc5-8324-4f9c-b8f2-d3155104a1f8",
   "metadata": {},
   "source": [
    "Split between train and test *metadata*"
   ]
  },
  {
   "cell_type": "code",
   "execution_count": 30,
   "id": "53510942-1d5d-40fa-8a40-f87f3dcf98aa",
   "metadata": {},
   "outputs": [],
   "source": [
    "train = metadata[metadata[\"type\"]==\"train\"]\n",
    "test = metadata[metadata[\"type\"]==\"test\"]"
   ]
  },
  {
   "cell_type": "markdown",
   "id": "454ff045-2da3-47b5-92de-5c1e77fa990b",
   "metadata": {},
   "source": [
    "## Classification (1)"
   ]
  },
  {
   "cell_type": "markdown",
   "id": "3GZ56Adu6GwU",
   "metadata": {
    "id": "3GZ56Adu6GwU"
   },
   "source": [
    "As a first step, we decided to fit a model without any image preprocessing."
   ]
  },
  {
   "cell_type": "markdown",
   "id": "Tg53cG_e-3aT",
   "metadata": {
    "id": "Tg53cG_e-3aT"
   },
   "source": [
    "Defining the image and batch sizes"
   ]
  },
  {
   "cell_type": "code",
   "execution_count": 31,
   "id": "4125d016-b23e-44f8-b221-d7563c5eca14",
   "metadata": {
    "id": "ax-Tcv88-6XY"
   },
   "outputs": [],
   "source": [
    "#img_size = (112,150)\n",
    "#batch_size= 100"
   ]
  },
  {
   "cell_type": "markdown",
   "id": "P15WaIoz-MHL",
   "metadata": {
    "id": "P15WaIoz-MHL"
   },
   "source": [
    "Creating the Data Generators for train and validation"
   ]
  },
  {
   "cell_type": "code",
   "execution_count": 32,
   "id": "80367b00-a6a8-4568-b6a1-de25c6cce963",
   "metadata": {
    "id": "HoLcFCoO-PLR"
   },
   "outputs": [],
   "source": [
    "# Datagen for training\n",
    "#train_datagen = ImageDataGenerator(\n",
    "#    rescale=1./255,\n",
    "#    rotation_range=20,\n",
    "#    width_shift_range=0.2,\n",
    "#    height_shift_range=0.2,\n",
    "#    shear_range=0.2,\n",
    "#    zoom_range=0.2,\n",
    "#    horizontal_flip=True,\n",
    "#    vertical_flip=True\n",
    "#)"
   ]
  },
  {
   "cell_type": "code",
   "execution_count": 33,
   "id": "45892f24-6978-4f2e-a0a7-386119d11298",
   "metadata": {
    "id": "TaIW4ur0-TUq"
   },
   "outputs": [],
   "source": [
    "# Datagen for validation - just rescales the validation images\n",
    "#val_datagen = ImageDataGenerator(\n",
    "#    rescale=1./255\n",
    "#)"
   ]
  },
  {
   "cell_type": "markdown",
   "id": "MKdxI21Z--mt",
   "metadata": {
    "id": "MKdxI21Z--mt"
   },
   "source": [
    "Creating Callbacks"
   ]
  },
  {
   "cell_type": "code",
   "execution_count": 34,
   "id": "46b21009-9167-44d3-b50d-8e6624fc20c4",
   "metadata": {
    "id": "KUZPGcSs-__i"
   },
   "outputs": [],
   "source": [
    "#model = model_example(img_size, metadata)\n",
    "\n",
    "#checkpoint_filepath = checkpoints_dir + \"/model_checkpoint\"\n",
    "#model_checkpoint_callback = ModelCheckpoint(\n",
    "#    filepath=checkpoint_filepath,\n",
    "#    save_weights_only=True,\n",
    "#    monitor=\"val_loss\",\n",
    "#    mode=\"min\",\n",
    "#    save_best_only=True\n",
    "#)\n",
    "\n",
    "#early_stopping = EarlyStopping(\n",
    "#    monitor=\"val_loss\",\n",
    "#    mode=\"min\",\n",
    "#    patience=3,\n",
    "#    restore_best_weights=True\n",
    "#)"
   ]
  },
  {
   "cell_type": "markdown",
   "id": "dqOPpHZC9ndi",
   "metadata": {
    "id": "dqOPpHZC9ndi"
   },
   "source": [
    "Performing train test split with Stratified K Fold"
   ]
  },
  {
   "cell_type": "code",
   "execution_count": 35,
   "id": "9007cd6e-4b71-498b-a115-2585ac98c8ef",
   "metadata": {
    "id": "FRdJuE6f6Whv"
   },
   "outputs": [],
   "source": [
    "#stratified_kfold = StratifiedKFold(n_splits=5, shuffle=True, random_state=42)\n",
    "\n",
    "#for fold, (train_index, val_index) in enumerate(stratified_kfold.split(train[\"image_jpg\"], train[\"label\"])):\n",
    "\n",
    "#    print(f\"Fold {fold + 1}\")\n",
    "\n",
    "    # Split for train and val\n",
    "#    train_df = train.iloc[train_index]\n",
    "#    val_df = train.iloc[val_index]\n",
    "\n",
    "#    train_generator = train_datagen.flow_from_dataframe(\n",
    "#        train_df,\n",
    "#        directory= path+\"/train\",\n",
    "#        x_col=\"image_jpg\",\n",
    "#        y_col=\"dx\",\n",
    "#        target_size=img_size,\n",
    "#        batch_size=batch_size,\n",
    "#        class_mode=\"categorical\",\n",
    "#        shuffle=True,\n",
    "#        color_mode=\"rgb\"\n",
    "#    )\n",
    "\n",
    "#    val_generator = val_datagen.flow_from_dataframe(\n",
    "#        val_df,\n",
    "#        directory=path+\"/train\",\n",
    "#        x_col=\"image_jpg\",\n",
    "#        y_col=\"dx\",\n",
    "#        target_size=img_size,\n",
    "#        batch_size=batch_size,\n",
    "#        class_mode=\"categorical\",\n",
    "#        shuffle=False,\n",
    "#        color_mode=\"rgb\"\n",
    "#    )\n",
    "\n",
    "    # Train the model\n",
    "#    history = model.fit(\n",
    "#        train_generator,\n",
    "#        epochs=150,\n",
    "#        validation_data=val_generator,\n",
    "#        callbacks=[model_checkpoint_callback,early_stopping]\n",
    "#    )\n",
    "\n",
    "    #Model End Time\n",
    "#    tell_time(start_time, \"Fold finished in:\")\n",
    "\n",
    "#    model.load_weights(checkpoint_filepath)"
   ]
  },
  {
   "cell_type": "code",
   "execution_count": 36,
   "id": "15c343c6-f91f-4a4d-9743-b29d38724d95",
   "metadata": {
    "id": "kfii_RGs6Wph"
   },
   "outputs": [],
   "source": [
    "# Preprocess the test images\n",
    "#testing_images = []\n",
    "#for img_jpg in train[\"image_jpg\"]:\n",
    "#    img = image.load_img(os.path.join(\"./train\", img_jpg ), target_size=img_size)\n",
    "#    img_array = image.img_to_array(img)\n",
    "#    img_array = np.expand_dims(img_array, axis=0)\n",
    "#    img_array /= 255.0\n",
    "#    testing_images.append(img_array)\n",
    "\n",
    "#testing_images = np.vstack(testing_images)\n",
    "\n",
    "# Predict\n",
    "#predictions = model.predict(testing_images)\n",
    "#predicted_labels = np.argmax(predictions, axis=1)\n",
    "#train[\"predicted_labels\"] = predicted_labels\n",
    "# Accuracy\n",
    "#accuracy = np.sum(predicted_labels == train['label']) / len(train)\n",
    "#print(f'Accuracy: {accuracy}')"
   ]
  },
  {
   "cell_type": "markdown",
   "id": "QFdoZHNa9tMv",
   "metadata": {
    "id": "QFdoZHNa9tMv"
   },
   "source": [
    "Looking at the results with a *classification report*"
   ]
  },
  {
   "cell_type": "code",
   "execution_count": 37,
   "id": "91a9742a-7fa5-438b-ac37-a550cb36d611",
   "metadata": {
    "id": "PqY-Oh0b9thk"
   },
   "outputs": [],
   "source": [
    "# Classification report\n",
    "#report = classification_report(train[\"label\"] , predicted_labels, target_names=label_encoder.classes_)\n",
    "#print(report)"
   ]
  },
  {
   "cell_type": "markdown",
   "id": "pUzgQ3kn5y3J",
   "metadata": {
    "id": "pUzgQ3kn5y3J"
   },
   "source": [
    "With our exploratory model done and its results evaluated, we decided to move on to Image Preprocessing"
   ]
  },
  {
   "cell_type": "markdown",
   "id": "wQxuuhSK8-Rl",
   "metadata": {
    "id": "wQxuuhSK8-Rl"
   },
   "source": [
    "## Image Preprocessing"
   ]
  },
  {
   "cell_type": "markdown",
   "id": "noY8peJt9bh_",
   "metadata": {
    "id": "noY8peJt9bh_"
   },
   "source": [
    "In this section of the project we will implement several image preprocessing techniques, aiming to improve the previously computed results"
   ]
  },
  {
   "cell_type": "markdown",
   "id": "30149566-eaaf-4142-aca4-de6c4f51a5f1",
   "metadata": {},
   "source": [
    "Defining the image and batch sizes"
   ]
  },
  {
   "cell_type": "code",
   "execution_count": 38,
   "id": "1311cb7c-df51-4bc8-a9d2-bd19959d342a",
   "metadata": {
    "id": "1311cb7c-df51-4bc8-a9d2-bd19959d342a"
   },
   "outputs": [],
   "source": [
    "img_size = (112,150)\n",
    "batch_size= 100 "
   ]
  },
  {
   "cell_type": "markdown",
   "id": "85ef99ff-e8b2-433b-8377-de6df7a463e6",
   "metadata": {},
   "source": [
    "Display of image preprocessing techniques"
   ]
  },
  {
   "cell_type": "code",
   "execution_count": 39,
   "id": "f1295fb5-bf80-440e-b63d-6d35ef586531",
   "metadata": {
    "id": "f1295fb5-bf80-440e-b63d-6d35ef586531",
    "outputId": "2572108c-9099-4afc-d6e2-aac000f68739"
   },
   "outputs": [
    {
     "data": {
      "image/png": "[encoded data removed]",
      "text/plain": [
       "<Figure size 640x480 with 2 Axes>"
      ]
     },
     "metadata": {},
     "output_type": "display_data"
    }
   ],
   "source": [
    "img_path = \"./train/\" + str(train[\"image_jpg\"].sample().values[0])\n",
    "show_blur(img_path, img_size)"
   ]
  },
  {
   "cell_type": "code",
   "execution_count": 40,
   "id": "c808eff9-e2bb-4f10-b475-6571e7237942",
   "metadata": {
    "id": "c808eff9-e2bb-4f10-b475-6571e7237942",
    "outputId": "03ee4ee7-0359-49c2-87fc-9c695815d201"
   },
   "outputs": [
    {
     "data": {
      "image/png": "[encoded data removed]",
      "text/plain": [
       "<Figure size 640x480 with 2 Axes>"
      ]
     },
     "metadata": {},
     "output_type": "display_data"
    }
   ],
   "source": [
    "show_circle_mask(img_path, img_size)"
   ]
  },
  {
   "cell_type": "code",
   "execution_count": 41,
   "id": "e6ed8e76-6337-4abd-a28e-39e0f80df39b",
   "metadata": {
    "id": "e6ed8e76-6337-4abd-a28e-39e0f80df39b",
    "outputId": "aa615258-4f8f-4654-840b-d911cf2a7d42"
   },
   "outputs": [
    {
     "data": {
      "image/png": "[encoded data removed]",
      "text/plain": [
       "<Figure size 640x480 with 3 Axes>"
      ]
     },
     "metadata": {},
     "output_type": "display_data"
    }
   ],
   "source": [
    "show_dullRazor(img_path, img_size)"
   ]
  },
  {
   "cell_type": "markdown",
   "id": "6e950f89-f764-484a-8ac8-80201fdf8b96",
   "metadata": {},
   "source": [
    "Creating the Data Generators for train and validation"
   ]
  },
  {
   "cell_type": "code",
   "execution_count": 42,
   "id": "79cf182f-3a0a-4594-8f0c-613b06b17039",
   "metadata": {
    "id": "79cf182f-3a0a-4594-8f0c-613b06b17039"
   },
   "outputs": [],
   "source": [
    "# Datagen for training\n",
    "train_datagen = ImageDataGenerator(\n",
    "    rescale=1./255,\n",
    "    rotation_range=20,\n",
    "    width_shift_range=0.2,\n",
    "    height_shift_range=0.2,\n",
    "    shear_range=0.2,\n",
    "    zoom_range=0.2,\n",
    "    horizontal_flip=True,\n",
    "    vertical_flip=True\n",
    ")"
   ]
  },
  {
   "cell_type": "code",
   "execution_count": 43,
   "id": "6fb73020-328d-4543-b5b8-4cb212473727",
   "metadata": {
    "id": "6fb73020-328d-4543-b5b8-4cb212473727"
   },
   "outputs": [],
   "source": [
    "# Datagen for validation - just rescales the validation images\n",
    "val_datagen = ImageDataGenerator(\n",
    "    rescale=1./255\n",
    ")"
   ]
  },
  {
   "cell_type": "markdown",
   "id": "54dc703e-0fb5-4801-9c76-a30975a6f885",
   "metadata": {},
   "source": [
    "Fitting the train data generator"
   ]
  },
  {
   "cell_type": "code",
   "execution_count": 44,
   "id": "6a473793-703a-44ce-a8a8-5f680460ff74",
   "metadata": {
    "id": "6a473793-703a-44ce-a8a8-5f680460ff74"
   },
   "outputs": [],
   "source": [
    "train_images = []\n",
    "for image_path in train[\"image_jpg\"]:\n",
    "\n",
    "    img = cv.imread(dullRazor_folder + f\"/{image_path}\") # change folder here for different images preprocessing techniques\n",
    "    img = cv.resize(img, (img_size[1], img_size[0]))\n",
    "    img = cv.cvtColor(img, cv.COLOR_BGR2RGB)\n",
    "\n",
    "    train_images.append(img)\n",
    "\n",
    "train_images = np.array(train_images)\n",
    "\n",
    "train_datagen.fit(train_images)"
   ]
  },
  {
   "cell_type": "markdown",
   "id": "FzkdcWtL9D1k",
   "metadata": {
    "id": "FzkdcWtL9D1k"
   },
   "source": [
    "## Classification (2)"
   ]
  },
  {
   "cell_type": "markdown",
   "id": "d5896aef-e95c-4f23-b9d3-9c2ccc1df316",
   "metadata": {},
   "source": [
    "Creating Callbacks"
   ]
  },
  {
   "cell_type": "code",
   "execution_count": 45,
   "id": "c4c14247-6f06-4339-b8ad-5e8b14c42189",
   "metadata": {
    "id": "c4c14247-6f06-4339-b8ad-5e8b14c42189"
   },
   "outputs": [],
   "source": [
    "model_checkpoint_callback = ModelCheckpoint(\n",
    "    filepath=checkpoint_filepath,\n",
    "    save_weights_only=True,\n",
    "    monitor=\"val_loss\",\n",
    "    mode=\"min\",\n",
    "    save_best_only=True\n",
    ")\n",
    "\n",
    "early_stopping = EarlyStopping(\n",
    "    monitor=\"val_loss\",\n",
    "    mode=\"min\",\n",
    "    patience=3,\n",
    "    restore_best_weights=True\n",
    ")"
   ]
  },
  {
   "cell_type": "markdown",
   "id": "0353fcb0-9be1-4c55-9177-8bc9e1cc784a",
   "metadata": {},
   "source": [
    "Create Keras Tuner - Hyperband"
   ]
  },
  {
   "cell_type": "code",
   "execution_count": 46,
   "id": "b5b1bb35-c6c1-4ad9-98f5-3d21afbacf69",
   "metadata": {},
   "outputs": [],
   "source": [
    "# Create a Keras Tuner Hyperband tuner\n",
    "#tuner = Hyperband(\n",
    "#    build_model,\n",
    "#    objective='val_loss',\n",
    "#    max_epochs=50,  \n",
    "#    factor=3,       \n",
    "#    directory= checkpoints_dir,\n",
    "#    project_name='tuner_example',\n",
    "#    overwrite=True\n",
    "#)"
   ]
  },
  {
   "cell_type": "markdown",
   "id": "f6b675cc-1896-4455-b3e5-5c162a803ffd",
   "metadata": {},
   "source": [
    "Build_model is a model modification of the model_example to work with Keras Tuner"
   ]
  },
  {
   "cell_type": "markdown",
   "id": "7d1ddc44-22ef-4a30-a60a-36569de235fc",
   "metadata": {},
   "source": [
    "Use Hyperband to find the best hyperparameters"
   ]
  },
  {
   "cell_type": "code",
   "execution_count": 47,
   "id": "1d5feaea-51cc-47a3-aeb7-4d460468b3e1",
   "metadata": {},
   "outputs": [],
   "source": [
    "#Model Fold Time\n",
    "#tell_time(start_time, \"Model training started at:\")\n",
    "\n",
    "# Stratified K-Fold\n",
    "#stratified_kfold = StratifiedKFold(n_splits=5, shuffle=True, random_state=42)\n",
    "\n",
    "# Iterate through folds\n",
    "#for fold, (train_index, val_index) in enumerate(stratified_kfold.split(train[\"image_jpg\"], train[\"dx_label\"])):\n",
    "    \n",
    "#    if fold > 0:\n",
    "#        break\n",
    "    \n",
    "#    print(f\"Fold {fold + 1}\")\n",
    "\n",
    "    # Split for train and val\n",
    "#    train_df = train.iloc[train_index]\n",
    "#    val_df = train.iloc[val_index]\n",
    "\n",
    "    # Data augmentation\n",
    "#    train_generator = train_datagen.flow_from_dataframe(\n",
    "#        train_df,\n",
    "#        directory=dullRazor_folder,\n",
    "#        x_col=\"image_jpg\",\n",
    "#        y_col=\"dx\",\n",
    "#        target_size=img_size,\n",
    "#        batch_size=batch_size,\n",
    "#        class_mode=\"categorical\",\n",
    "#        shuffle=True,\n",
    "#        color_mode=\"rgb\"\n",
    "#    )\n",
    "\n",
    "#    val_generator = val_datagen.flow_from_dataframe(\n",
    "#        val_df,\n",
    "#        directory=dullRazor_folder,\n",
    "#        x_col=\"image_jpg\",\n",
    "#        y_col=\"dx\",\n",
    "#        target_size=img_size,\n",
    "#       batch_size=batch_size,\n",
    "#        class_mode=\"categorical\",\n",
    "#        shuffle=False,\n",
    "#        color_mode=\"rgb\"\n",
    "#    )\n",
    "    \n",
    "    # Search for the best hyperparameters\n",
    "#    tuner.search(train_generator, epochs=50, validation_data=val_generator, callbacks=[model_checkpoint_callback, early_stopping])"
   ]
  },
  {
   "cell_type": "markdown",
   "id": "e8dbc662-4d8e-4443-be58-6cca69f66b35",
   "metadata": {},
   "source": [
    "Creation of a new model with the results of Keras Tuners"
   ]
  },
  {
   "cell_type": "code",
   "execution_count": 48,
   "id": "fe02c7c7-0642-4b69-99ec-b98a31cbd104",
   "metadata": {},
   "outputs": [],
   "source": [
    "# Save best model\n",
    "#best_hps = tuner.get_best_hyperparameters()[0]\n",
    "#best_model = tuner.hypermodel.build(best_hps)\n",
    "\n",
    "#best_hps.values returned:\n",
    "#dict_best_hps = {\n",
    "#    'Conv2D_1': 128,\n",
    "#    'Dropout_1': 0.1,\n",
    "#    'Conv2D_2': 128,\n",
    "#    'Dropout_2': 0.2,\n",
    "#    'Conv2D_3': 192,\n",
    "#    'Dropout_3': 0.1,\n",
    "#    'Conv2D_4': 192,\n",
    "#    'Dropout_4': 0.4,\n",
    "#    'Dense': 192,\n",
    "#    'learning_rate': 0.001,\n",
    "#    'tuner/epochs': 50,\n",
    "#    'tuner/initial_epoch': 17,\n",
    "#    'tuner/bracket': 1,\n",
    "#    'tuner/round': 1,\n",
    "#    'tuner/trial_id': '0077'\n",
    "#     }\n",
    "\n",
    "# We viewed the best parameters and created a model with them because the tuner had a run time of 2h"
   ]
  },
  {
   "cell_type": "markdown",
   "id": "a5631591-6f34-4351-b0ba-97841db8eb74",
   "metadata": {},
   "source": [
    "Training of model_tuned"
   ]
  },
  {
   "cell_type": "code",
   "execution_count": 49,
   "id": "70fd94fa-f815-42d8-b5c0-764d1bb10e04",
   "metadata": {},
   "outputs": [],
   "source": [
    "best_model = model_tuned()"
   ]
  },
  {
   "cell_type": "markdown",
   "id": "bc8885fe-7d82-49c3-b277-49c300f8ab33",
   "metadata": {},
   "source": [
    "model_tuned was create using the best model resulted from Keras Tuner"
   ]
  },
  {
   "cell_type": "markdown",
   "id": "fba53a5d-5619-49ce-8712-cd476d3ae134",
   "metadata": {},
   "source": [
    "Model Training"
   ]
  },
  {
   "cell_type": "code",
   "execution_count": 50,
   "id": "6ad14e90-64fb-42f7-8a96-01f39a8e5df2",
   "metadata": {},
   "outputs": [
    {
     "name": "stdout",
     "output_type": "stream",
     "text": [
      "Model training started at: 0.22205619812011718\n",
      "Fold 1\n",
      "Found 5984 validated image filenames belonging to 7 classes.\n",
      "Found 1497 validated image filenames belonging to 7 classes.\n",
      "Epoch 1/50\n",
      "60/60 [==============================] - 19s 256ms/step - loss: 1.1877 - accuracy: 0.6557 - val_loss: 1.0699 - val_accuracy: 0.6693\n",
      "Epoch 2/50\n",
      "60/60 [==============================] - 13s 221ms/step - loss: 1.0049 - accuracy: 0.6691 - val_loss: 0.9922 - val_accuracy: 0.6693\n",
      "Epoch 3/50\n",
      "60/60 [==============================] - 13s 218ms/step - loss: 0.9674 - accuracy: 0.6688 - val_loss: 1.0089 - val_accuracy: 0.6693\n",
      "Epoch 4/50\n",
      "60/60 [==============================] - 13s 217ms/step - loss: 0.9519 - accuracy: 0.6693 - val_loss: 0.9796 - val_accuracy: 0.6627\n",
      "Epoch 5/50\n",
      "60/60 [==============================] - 13s 219ms/step - loss: 0.9471 - accuracy: 0.6663 - val_loss: 0.9121 - val_accuracy: 0.6727\n",
      "Epoch 6/50\n",
      "60/60 [==============================] - 13s 218ms/step - loss: 0.9266 - accuracy: 0.6705 - val_loss: 0.9283 - val_accuracy: 0.6687\n",
      "Epoch 7/50\n",
      "60/60 [==============================] - 13s 217ms/step - loss: 0.8753 - accuracy: 0.6781 - val_loss: 0.8911 - val_accuracy: 0.6827\n",
      "Epoch 8/50\n",
      "60/60 [==============================] - 13s 217ms/step - loss: 0.8732 - accuracy: 0.6808 - val_loss: 0.8455 - val_accuracy: 0.6860\n",
      "Epoch 9/50\n",
      "60/60 [==============================] - 13s 217ms/step - loss: 0.8458 - accuracy: 0.6893 - val_loss: 0.9097 - val_accuracy: 0.6987\n",
      "Epoch 10/50\n",
      "60/60 [==============================] - 13s 217ms/step - loss: 0.8211 - accuracy: 0.6940 - val_loss: 0.7985 - val_accuracy: 0.7108\n",
      "Epoch 11/50\n",
      "60/60 [==============================] - 13s 218ms/step - loss: 0.8214 - accuracy: 0.7040 - val_loss: 0.8092 - val_accuracy: 0.6921\n",
      "Epoch 12/50\n",
      "60/60 [==============================] - 13s 219ms/step - loss: 0.7993 - accuracy: 0.7057 - val_loss: 0.7853 - val_accuracy: 0.7094\n",
      "Epoch 13/50\n",
      "60/60 [==============================] - 13s 218ms/step - loss: 0.7965 - accuracy: 0.7077 - val_loss: 0.8093 - val_accuracy: 0.7034\n",
      "Epoch 14/50\n",
      "60/60 [==============================] - 13s 217ms/step - loss: 0.8091 - accuracy: 0.7062 - val_loss: 0.8006 - val_accuracy: 0.7067\n",
      "Epoch 15/50\n",
      "60/60 [==============================] - 13s 217ms/step - loss: 0.7836 - accuracy: 0.7059 - val_loss: 0.7819 - val_accuracy: 0.6994\n",
      "Epoch 16/50\n",
      "60/60 [==============================] - 13s 217ms/step - loss: 0.7623 - accuracy: 0.7188 - val_loss: 0.7831 - val_accuracy: 0.7141\n",
      "Epoch 17/50\n",
      "60/60 [==============================] - 13s 213ms/step - loss: 0.7664 - accuracy: 0.7161 - val_loss: 0.7505 - val_accuracy: 0.7108\n",
      "Epoch 18/50\n",
      "60/60 [==============================] - 13s 212ms/step - loss: 0.7565 - accuracy: 0.7203 - val_loss: 0.7385 - val_accuracy: 0.7208\n",
      "Epoch 19/50\n",
      "60/60 [==============================] - 13s 211ms/step - loss: 0.7389 - accuracy: 0.7236 - val_loss: 0.7860 - val_accuracy: 0.7067\n",
      "Epoch 20/50\n",
      "60/60 [==============================] - 13s 213ms/step - loss: 0.7613 - accuracy: 0.7201 - val_loss: 0.7684 - val_accuracy: 0.7221\n",
      "Epoch 21/50\n",
      "60/60 [==============================] - 13s 212ms/step - loss: 0.7307 - accuracy: 0.7276 - val_loss: 0.7411 - val_accuracy: 0.7214\n",
      "Model finished Fold 1 after: 4.897262370586395\n",
      "Fold 2\n",
      "Found 5985 validated image filenames belonging to 7 classes.\n",
      "Found 1496 validated image filenames belonging to 7 classes.\n",
      "Epoch 1/50\n",
      "60/60 [==============================] - 15s 249ms/step - loss: 0.7495 - accuracy: 0.7241 - val_loss: 0.7388 - val_accuracy: 0.7213\n",
      "Epoch 2/50\n",
      "60/60 [==============================] - 13s 215ms/step - loss: 0.7333 - accuracy: 0.7320 - val_loss: 0.7258 - val_accuracy: 0.7299\n",
      "Epoch 3/50\n",
      "60/60 [==============================] - 13s 214ms/step - loss: 0.7314 - accuracy: 0.7272 - val_loss: 0.7419 - val_accuracy: 0.7226\n",
      "Epoch 4/50\n",
      "60/60 [==============================] - 13s 215ms/step - loss: 0.7340 - accuracy: 0.7246 - val_loss: 0.7041 - val_accuracy: 0.7373\n",
      "Epoch 5/50\n",
      "60/60 [==============================] - 13s 218ms/step - loss: 0.7454 - accuracy: 0.7243 - val_loss: 0.7241 - val_accuracy: 0.7273\n",
      "Epoch 6/50\n",
      "60/60 [==============================] - 13s 218ms/step - loss: 0.7221 - accuracy: 0.7300 - val_loss: 0.6870 - val_accuracy: 0.7386\n",
      "Epoch 7/50\n",
      "60/60 [==============================] - 13s 215ms/step - loss: 0.7227 - accuracy: 0.7297 - val_loss: 0.7067 - val_accuracy: 0.7373\n",
      "Epoch 8/50\n",
      "60/60 [==============================] - 13s 216ms/step - loss: 0.7289 - accuracy: 0.7332 - val_loss: 0.7188 - val_accuracy: 0.7199\n",
      "Epoch 9/50\n",
      "60/60 [==============================] - 13s 216ms/step - loss: 0.7283 - accuracy: 0.7277 - val_loss: 0.7135 - val_accuracy: 0.7299\n",
      "Model finished Fold 2 after: 6.887718423207601\n",
      "Fold 3\n",
      "Found 5985 validated image filenames belonging to 7 classes.\n",
      "Found 1496 validated image filenames belonging to 7 classes.\n",
      "Epoch 1/50\n",
      "60/60 [==============================] - 13s 216ms/step - loss: 0.7218 - accuracy: 0.7322 - val_loss: 0.6983 - val_accuracy: 0.7440\n",
      "Epoch 2/50\n",
      "60/60 [==============================] - 13s 214ms/step - loss: 0.7179 - accuracy: 0.7280 - val_loss: 0.7370 - val_accuracy: 0.7293\n",
      "Epoch 3/50\n",
      "60/60 [==============================] - 13s 216ms/step - loss: 0.7141 - accuracy: 0.7317 - val_loss: 0.7057 - val_accuracy: 0.7467\n",
      "Epoch 4/50\n",
      "60/60 [==============================] - 13s 217ms/step - loss: 0.7162 - accuracy: 0.7305 - val_loss: 0.7006 - val_accuracy: 0.7360\n",
      "Model finished Fold 3 after: 7.764430252710978\n",
      "Fold 4\n",
      "Found 5985 validated image filenames belonging to 7 classes.\n",
      "Found 1496 validated image filenames belonging to 7 classes.\n",
      "Epoch 1/50\n",
      "60/60 [==============================] - 13s 215ms/step - loss: 0.7169 - accuracy: 0.7265 - val_loss: 0.6952 - val_accuracy: 0.7520\n",
      "Epoch 2/50\n",
      "60/60 [==============================] - 13s 214ms/step - loss: 0.7217 - accuracy: 0.7263 - val_loss: 0.6804 - val_accuracy: 0.7380\n",
      "Epoch 3/50\n",
      "60/60 [==============================] - 13s 212ms/step - loss: 0.7342 - accuracy: 0.7251 - val_loss: 0.6825 - val_accuracy: 0.7440\n",
      "Epoch 4/50\n",
      "60/60 [==============================] - 13s 215ms/step - loss: 0.7208 - accuracy: 0.7315 - val_loss: 0.6827 - val_accuracy: 0.7513\n",
      "Epoch 5/50\n",
      "60/60 [==============================] - 13s 214ms/step - loss: 0.7234 - accuracy: 0.7240 - val_loss: 0.7001 - val_accuracy: 0.7413\n",
      "Model finished Fold 4 after: 8.846986146767934\n",
      "Fold 5\n",
      "Found 5985 validated image filenames belonging to 7 classes.\n",
      "Found 1496 validated image filenames belonging to 7 classes.\n",
      "Epoch 1/50\n",
      "60/60 [==============================] - 13s 216ms/step - loss: 0.7247 - accuracy: 0.7332 - val_loss: 0.6803 - val_accuracy: 0.7340\n",
      "Epoch 2/50\n",
      "60/60 [==============================] - 13s 213ms/step - loss: 0.7193 - accuracy: 0.7292 - val_loss: 0.6765 - val_accuracy: 0.7406\n",
      "Epoch 3/50\n",
      "60/60 [==============================] - 13s 216ms/step - loss: 0.7189 - accuracy: 0.7307 - val_loss: 0.6917 - val_accuracy: 0.7266\n",
      "Epoch 4/50\n",
      "60/60 [==============================] - 13s 214ms/step - loss: 0.7093 - accuracy: 0.7338 - val_loss: 0.6725 - val_accuracy: 0.7413\n",
      "Epoch 5/50\n",
      "60/60 [==============================] - 13s 216ms/step - loss: 0.6959 - accuracy: 0.7398 - val_loss: 0.6593 - val_accuracy: 0.7520\n",
      "Epoch 6/50\n",
      "60/60 [==============================] - 13s 218ms/step - loss: 0.7088 - accuracy: 0.7362 - val_loss: 0.6892 - val_accuracy: 0.7373\n",
      "Epoch 7/50\n",
      "60/60 [==============================] - 13s 214ms/step - loss: 0.7168 - accuracy: 0.7332 - val_loss: 0.6767 - val_accuracy: 0.7360\n",
      "Epoch 8/50\n",
      "60/60 [==============================] - 13s 220ms/step - loss: 0.7068 - accuracy: 0.7345 - val_loss: 0.6895 - val_accuracy: 0.7406\n",
      "Model finished Fold 5 after: 10.590448252360027\n"
     ]
    }
   ],
   "source": [
    "#Model Fold Time\n",
    "tell_time(start_time, \"Model training started at:\")\n",
    "\n",
    "#List of the acc and loss for plot\n",
    "acc = []\n",
    "val_acc = []\n",
    "loss = []\n",
    "val_loss = []\n",
    "\n",
    "# Stratified K-Fold\n",
    "stratified_kfold = StratifiedKFold(n_splits=5, shuffle=True, random_state=42)\n",
    "\n",
    "# Iterate through folds\n",
    "for fold, (train_index, val_index) in enumerate(stratified_kfold.split(train[\"image_jpg\"], train[\"dx_label\"])):\n",
    "    \n",
    "    print(f\"Fold {fold + 1}\")\n",
    "\n",
    "    # Split for train and val\n",
    "    train_df = train.iloc[train_index]\n",
    "    val_df = train.iloc[val_index]\n",
    "\n",
    "    # Data augmentation\n",
    "    train_generator = train_datagen.flow_from_dataframe(\n",
    "        train_df,\n",
    "        directory=dullRazor_folder,\n",
    "        x_col=\"image_jpg\",\n",
    "        y_col=\"dx\",\n",
    "        target_size=img_size,\n",
    "        batch_size=batch_size,\n",
    "        class_mode=\"categorical\",\n",
    "        shuffle=True,\n",
    "        color_mode=\"rgb\"\n",
    "    )\n",
    "\n",
    "    val_generator = val_datagen.flow_from_dataframe(\n",
    "        val_df,\n",
    "        directory=dullRazor_folder,\n",
    "        x_col=\"image_jpg\",\n",
    "        y_col=\"dx\",\n",
    "        target_size=img_size,\n",
    "        batch_size=batch_size,\n",
    "        class_mode=\"categorical\",\n",
    "        shuffle=False,\n",
    "        color_mode=\"rgb\"\n",
    "    )\n",
    "\n",
    "    # Train the model with callbacks\n",
    "    history = best_model.fit(train_generator, epochs=50, validation_data=val_generator, callbacks=[model_checkpoint_callback, early_stopping])\n",
    "\n",
    "    # Load the weights of the best model\n",
    "    best_model.load_weights(checkpoint_filepath)\n",
    "    \n",
    "    #Append results for plot\n",
    "    for value in history.history['accuracy']:\n",
    "        acc.append(value)\n",
    "        \n",
    "    for value in history.history['val_accuracy']:\n",
    "        val_acc.append(value)\n",
    "        \n",
    "    for value in history.history['loss']:\n",
    "        loss.append(value)\n",
    "        \n",
    "    for value in history.history['val_loss']:\n",
    "        val_loss.append(value)\n",
    "\n",
    "    #Model Fold Time\n",
    "    tell_time(start_time, f\"Model finished Fold {fold + 1} after:\")\n",
    "\n",
    "# Save Model\n",
    "best_model.save(best_model_savepath)"
   ]
  },
  {
   "cell_type": "code",
   "execution_count": 51,
   "id": "efdcab7c-e748-44dc-a927-62ebe3ad590d",
   "metadata": {
    "id": "efdcab7c-e748-44dc-a927-62ebe3ad590d",
    "outputId": "7e08b303-2ff0-4bc1-ec92-363c6b026afb"
   },
   "outputs": [
    {
     "name": "stdout",
     "output_type": "stream",
     "text": [
      "Model training finished in: 10.594130790233612\n"
     ]
    }
   ],
   "source": [
    "#Model End Time\n",
    "tell_time(start_time, \"Model training finished in:\")"
   ]
  },
  {
   "cell_type": "markdown",
   "id": "6d04ca68-9d2c-42b5-b311-edd78192d749",
   "metadata": {
    "id": "6d04ca68-9d2c-42b5-b311-edd78192d749"
   },
   "source": [
    "# Testing from train"
   ]
  },
  {
   "cell_type": "markdown",
   "id": "40be0aa8-8ab1-4074-8a19-824cbc5659ae",
   "metadata": {},
   "source": [
    "Load model and predict the images from train folder"
   ]
  },
  {
   "cell_type": "code",
   "execution_count": 52,
   "id": "598b83e2-b96f-4154-b709-8502db4dc366",
   "metadata": {},
   "outputs": [],
   "source": [
    "#best_model = load_model(best_model_savepath)"
   ]
  },
  {
   "cell_type": "code",
   "execution_count": 53,
   "id": "158287f1-467c-4c6a-9ce3-1776658bf1cf",
   "metadata": {
    "id": "158287f1-467c-4c6a-9ce3-1776658bf1cf",
    "outputId": "9b38cb92-3df0-4447-e2bf-beb32b3f90bf"
   },
   "outputs": [
    {
     "name": "stdout",
     "output_type": "stream",
     "text": [
      "234/234 [==============================] - 2s 7ms/step\n",
      "Accuracy: 0.7535088891859377\n"
     ]
    }
   ],
   "source": [
    "# Preprocess the test images\n",
    "testing_images = []\n",
    "for img_jpg in train[\"image_jpg\"]:\n",
    "    img = image.load_img(os.path.join(dullRazor_folder, img_jpg ), target_size=img_size)\n",
    "    img_array = image.img_to_array(img)\n",
    "    img_array = np.expand_dims(img_array, axis=0)\n",
    "    img_array /= 255.0\n",
    "    testing_images.append(img_array)\n",
    "\n",
    "testing_images = np.vstack(testing_images)\n",
    "\n",
    "# Predict\n",
    "predictions = best_model.predict(testing_images)\n",
    "predicted_labels = np.argmax(predictions, axis=1)\n",
    "train[\"predicted_labels\"] = predicted_labels\n",
    "\n",
    "# Accuracy\n",
    "accuracy = np.sum(predicted_labels == train['dx_label']) / len(train)\n",
    "print(f'Accuracy: {accuracy}')"
   ]
  },
  {
   "cell_type": "markdown",
   "id": "e6b0c5d0-1b3e-4bca-9c3b-ebef7bda41a4",
   "metadata": {},
   "source": [
    "Classification report"
   ]
  },
  {
   "cell_type": "code",
   "execution_count": 54,
   "id": "af703aa7-f4ba-4b69-885b-cf404430cca4",
   "metadata": {
    "id": "af703aa7-f4ba-4b69-885b-cf404430cca4",
    "outputId": "cc7e8cbc-75c8-413e-9cb6-079bc64c498f"
   },
   "outputs": [
    {
     "name": "stdout",
     "output_type": "stream",
     "text": [
      "              precision    recall  f1-score   support\n",
      "\n",
      "       akiec       0.48      0.31      0.37       245\n",
      "         bcc       0.48      0.50      0.49       385\n",
      "         bkl       0.61      0.29      0.40       820\n",
      "          df       0.00      0.00      0.00        86\n",
      "         mel       0.56      0.34      0.42       835\n",
      "          nv       0.81      0.95      0.87      5006\n",
      "        vasc       0.66      0.70      0.68       104\n",
      "\n",
      "    accuracy                           0.75      7481\n",
      "   macro avg       0.51      0.44      0.46      7481\n",
      "weighted avg       0.72      0.75      0.72      7481\n",
      "\n"
     ]
    }
   ],
   "source": [
    "report = classification_report(train[\"dx_label\"] , predicted_labels, target_names=label_encoder_dx.classes_)\n",
    "print(report)"
   ]
  },
  {
   "cell_type": "markdown",
   "id": "80230314-c3a8-433f-8b41-31a2aa937116",
   "metadata": {},
   "source": [
    "The best macro f1-score achieved was 0.53 and weighted f1-score was 0.76"
   ]
  },
  {
   "cell_type": "markdown",
   "id": "a801383d-4014-4cd3-859d-64aa50b4e2c6",
   "metadata": {},
   "source": [
    "Plot Training Accuracy and Loss"
   ]
  },
  {
   "cell_type": "code",
   "execution_count": 55,
   "id": "fEzs3cEmo0bt",
   "metadata": {
    "id": "fEzs3cEmo0bt"
   },
   "outputs": [
    {
     "data": {
      "image/png": "[encoded data removed]",
      "text/plain": [
       "<Figure size 640x480 with 1 Axes>"
      ]
     },
     "metadata": {},
     "output_type": "display_data"
    },
    {
     "data": {
      "image/png": "[encoded data removed]",
      "text/plain": [
       "<Figure size 640x480 with 1 Axes>"
      ]
     },
     "metadata": {},
     "output_type": "display_data"
    }
   ],
   "source": [
    "epochs = range (1, len (acc) + 1)\n",
    "\n",
    "plt.plot(epochs, acc, 'bo', label='Training acc')\n",
    "plt.plot(epochs, val_acc, 'b', label='Validation acc')\n",
    "plt.title('Training and Validation accuracy')\n",
    "plt.legend()\n",
    "\n",
    "plt.figure()\n",
    "\n",
    "plt.plot(epochs, loss, 'bo', label='Training loss')\n",
    "plt.plot(epochs, val_loss, 'b', label='Validation loss')\n",
    "plt.title('Training and Validation loss')\n",
    "plt.legend()\n",
    "plt.show()"
   ]
  },
  {
   "cell_type": "markdown",
   "id": "468efb4d-7a12-4e74-a32d-49f4924e6556",
   "metadata": {},
   "source": [
    "# Predict Test"
   ]
  },
  {
   "cell_type": "markdown",
   "id": "5970145f-4c05-437a-af62-f17fa93a1315",
   "metadata": {},
   "source": [
    "Load model and predict the images from test folder"
   ]
  },
  {
   "cell_type": "code",
   "execution_count": 56,
   "id": "cd3b5466-81e2-4dd4-9a05-7d7735dfe913",
   "metadata": {},
   "outputs": [],
   "source": [
    "#best_model = load_model(best_model_savepath)"
   ]
  },
  {
   "cell_type": "code",
   "execution_count": 57,
   "id": "1e4640a2-09d5-4f32-a151-9ad9fee8815a",
   "metadata": {},
   "outputs": [
    {
     "name": "stdout",
     "output_type": "stream",
     "text": [
      "78/78 [==============================] - 1s 13ms/step\n",
      "Accuracy: 0.7486973947895792\n"
     ]
    }
   ],
   "source": [
    "# Preprocess the test images\n",
    "testing_images = []\n",
    "for img_jpg in test[\"image_jpg\"]:\n",
    "    img = image.load_img(os.path.join(test_folder, img_jpg ), target_size=img_size)\n",
    "    img_array = image.img_to_array(img)\n",
    "    img_array = np.expand_dims(img_array, axis=0)\n",
    "    img_array /= 255.0\n",
    "    testing_images.append(img_array)\n",
    "\n",
    "testing_images = np.vstack(testing_images)\n",
    "\n",
    "# Predict\n",
    "predictions = best_model.predict(testing_images)\n",
    "predicted_labels = np.argmax(predictions, axis=1)\n",
    "test[\"predicted_labels\"] = predicted_labels\n",
    "\n",
    "# Accuracy\n",
    "accuracy = np.sum(predicted_labels == test['dx_label']) / len(test)\n",
    "print(f'Accuracy: {accuracy}')"
   ]
  },
  {
   "cell_type": "markdown",
   "id": "fd3072f2-e69e-4bb3-b6a2-58de139e8abc",
   "metadata": {},
   "source": [
    "Classification report"
   ]
  },
  {
   "cell_type": "code",
   "execution_count": 58,
   "id": "5bedbfb5-3f09-4c62-97f7-cdcea2e1e414",
   "metadata": {},
   "outputs": [
    {
     "name": "stdout",
     "output_type": "stream",
     "text": [
      "              precision    recall  f1-score   support\n",
      "\n",
      "       akiec       0.35      0.21      0.26        82\n",
      "         bcc       0.50      0.50      0.50       129\n",
      "         bkl       0.60      0.27      0.37       274\n",
      "          df       0.00      0.00      0.00        29\n",
      "         mel       0.57      0.37      0.45       278\n",
      "          nv       0.80      0.95      0.87      1669\n",
      "        vasc       0.58      0.74      0.65        34\n",
      "\n",
      "    accuracy                           0.75      2495\n",
      "   macro avg       0.49      0.43      0.44      2495\n",
      "weighted avg       0.71      0.75      0.72      2495\n",
      "\n"
     ]
    }
   ],
   "source": [
    "# Classification report\n",
    "report = classification_report(test[\"dx_label\"] , predicted_labels, target_names=label_encoder_dx.classes_)\n",
    "print(report)"
   ]
  }
 ],
 "metadata": {
  "colab": {
   "provenance": []
  },
  "kernelspec": {
   "display_name": "Python 3 (ipykernel)",
   "language": "python",
   "name": "python3"
  },
  "language_info": {
   "codemirror_mode": {
    "name": "ipython",
    "version": 3
   },
   "file_extension": ".py",
   "mimetype": "text/x-python",
   "name": "python",
   "nbconvert_exporter": "python",
   "pygments_lexer": "ipython3",
   "version": "3.10.3"
  }
 },
 "nbformat": 4,
 "nbformat_minor": 5
}
