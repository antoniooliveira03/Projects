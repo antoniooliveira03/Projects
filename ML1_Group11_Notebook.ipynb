{
 "cells": [
  {
   "cell_type": "markdown",
   "id": "a132b83b",
   "metadata": {
    "ExecuteTime": {
     "end_time": "2022-12-22T14:29:06.670007Z",
     "start_time": "2022-12-22T14:29:06.667268Z"
    }
   },
   "source": [
    "# Hotel California Project"
   ]
  },
  {
   "cell_type": "markdown",
   "id": "9c6399cb",
   "metadata": {
    "ExecuteTime": {
     "end_time": "2022-12-22T14:29:36.067821Z",
     "start_time": "2022-12-22T14:29:36.064190Z"
    }
   },
   "source": [
    "**This project was developed by** <br> \n",
    "\n",
    "António Oliveira - 20211595 <br>\n",
    "David Martins - r202021628 <br>\n",
    "Inês Graça - 20211598"
   ]
  },
  {
   "cell_type": "markdown",
   "id": "16f83425",
   "metadata": {
    "ExecuteTime": {
     "end_time": "2022-12-22T14:32:47.306842Z",
     "start_time": "2022-12-22T14:32:47.304941Z"
    }
   },
   "source": [
    "## Dataset and Packages"
   ]
  },
  {
   "cell_type": "markdown",
   "id": "6cc2ac59",
   "metadata": {
    "ExecuteTime": {
     "end_time": "2022-12-22T14:33:01.552144Z",
     "start_time": "2022-12-22T14:33:01.549735Z"
    }
   },
   "source": [
    "### Importing Packages"
   ]
  },
  {
   "cell_type": "code",
   "execution_count": 1,
   "id": "4284f5b2",
   "metadata": {
    "ExecuteTime": {
     "end_time": "2022-12-23T17:50:16.214778Z",
     "start_time": "2022-12-23T17:50:10.728884Z"
    }
   },
   "outputs": [],
   "source": [
    "import pandas as pd\n",
    "import numpy as np\n",
    "import matplotlib.pyplot as plt\n",
    "import seaborn as sns\n",
    "sns.set()\n",
    "\n",
    "#sklearn packages\n",
    "from sklearn.preprocessing import OrdinalEncoder, LabelEncoder, MinMaxScaler, RobustScaler, StandardScaler\n",
    "from sklearn.model_selection import train_test_split\n",
    "\n",
    "# chi-square\n",
    "import scipy.stats as stats\n",
    "from scipy.stats import chi2_contingency\n",
    "\n",
    "#models\n",
    "from sklearn.linear_model import LogisticRegression, LassoCV, LinearRegression, SGDClassifier\n",
    "from sklearn.naive_bayes import GaussianNB\n",
    "from sklearn.neighbors import KNeighborsClassifier, KNeighborsRegressor\n",
    "from sklearn.tree import DecisionTreeClassifier, DecisionTreeRegressor\n",
    "from sklearn.neural_network import MLPClassifier\n",
    "from sklearn.ensemble import RandomForestClassifier, GradientBoostingClassifier, ExtraTreesClassifier\n",
    "from sklearn import svm\n",
    "from sklearn.datasets import make_classification\n",
    "\n",
    "#Grid Search\n",
    "from sklearn.model_selection import GridSearchCV\n",
    "\n",
    "#feature_selection\n",
    "from sklearn.feature_selection import mutual_info_classif, mutual_info_regression, chi2, f_regression, SelectKBest, RFE\n",
    "\n",
    "#performance metrics\n",
    "from sklearn.metrics import confusion_matrix, accuracy_score, f1_score, precision_score, recall_score, classification_report, mean_squared_error, mean_absolute_error, r2_score\n",
    "\n",
    "#warnings\n",
    "import warnings\n",
    "warnings.filterwarnings('ignore')\n",
    "\n",
    "# profile report\n",
    "# !pip install pandas-profiling\n",
    "from pandas_profiling import ProfileReport"
   ]
  },
  {
   "cell_type": "markdown",
   "id": "bdbcf608",
   "metadata": {
    "ExecuteTime": {
     "end_time": "2022-12-22T14:33:24.759410Z",
     "start_time": "2022-12-22T14:33:24.757152Z"
    }
   },
   "source": [
    "### Importing and Visualizing the dataset"
   ]
  },
  {
   "cell_type": "code",
   "execution_count": 2,
   "id": "239edb61",
   "metadata": {
    "ExecuteTime": {
     "end_time": "2022-12-23T17:50:16.335686Z",
     "start_time": "2022-12-23T17:50:16.217460Z"
    }
   },
   "outputs": [
    {
     "data": {
      "text/html": [
       "<div>\n",
       "<style scoped>\n",
       "    .dataframe tbody tr th:only-of-type {\n",
       "        vertical-align: middle;\n",
       "    }\n",
       "\n",
       "    .dataframe tbody tr th {\n",
       "        vertical-align: top;\n",
       "    }\n",
       "\n",
       "    .dataframe thead th {\n",
       "        text-align: right;\n",
       "    }\n",
       "</style>\n",
       "<table border=\"1\" class=\"dataframe\">\n",
       "  <thead>\n",
       "    <tr style=\"text-align: right;\">\n",
       "      <th></th>\n",
       "      <th>ArrivalYear</th>\n",
       "      <th>ArrivalMonth</th>\n",
       "      <th>ArrivalWeekNumber</th>\n",
       "      <th>ArrivalDayOfMonth</th>\n",
       "      <th>ArrivalHour</th>\n",
       "      <th>WeekendStays</th>\n",
       "      <th>WeekdayStays</th>\n",
       "      <th>Adults</th>\n",
       "      <th>Children</th>\n",
       "      <th>Babies</th>\n",
       "      <th>FirstTimeGuest</th>\n",
       "      <th>AffiliatedCustomer</th>\n",
       "      <th>PreviousReservations</th>\n",
       "      <th>PreviousStays</th>\n",
       "      <th>PreviousCancellations</th>\n",
       "      <th>DaysUntilConfirmation</th>\n",
       "      <th>OnlineReservation</th>\n",
       "      <th>BookingChanges</th>\n",
       "      <th>BookingToArrivalDays</th>\n",
       "      <th>ParkingSpacesBooked</th>\n",
       "      <th>SpecialRequests</th>\n",
       "      <th>PartOfGroup</th>\n",
       "      <th>CompanyReservation</th>\n",
       "      <th>OrderedMealsPerDay</th>\n",
       "      <th>FloorReserved</th>\n",
       "      <th>FloorAssigned</th>\n",
       "      <th>DailyRateEuros</th>\n",
       "      <th>DailyRateUSD</th>\n",
       "      <th>%PaidinAdvance</th>\n",
       "      <th>CountryofOriginAvgIncomeEuros (Year-2)</th>\n",
       "      <th>CountryofOriginAvgIncomeEuros (Year-1)</th>\n",
       "      <th>CountryofOriginHDI (Year-1)</th>\n",
       "      <th>Canceled</th>\n",
       "    </tr>\n",
       "    <tr>\n",
       "      <th>BookingID</th>\n",
       "      <th></th>\n",
       "      <th></th>\n",
       "      <th></th>\n",
       "      <th></th>\n",
       "      <th></th>\n",
       "      <th></th>\n",
       "      <th></th>\n",
       "      <th></th>\n",
       "      <th></th>\n",
       "      <th></th>\n",
       "      <th></th>\n",
       "      <th></th>\n",
       "      <th></th>\n",
       "      <th></th>\n",
       "      <th></th>\n",
       "      <th></th>\n",
       "      <th></th>\n",
       "      <th></th>\n",
       "      <th></th>\n",
       "      <th></th>\n",
       "      <th></th>\n",
       "      <th></th>\n",
       "      <th></th>\n",
       "      <th></th>\n",
       "      <th></th>\n",
       "      <th></th>\n",
       "      <th></th>\n",
       "      <th></th>\n",
       "      <th></th>\n",
       "      <th></th>\n",
       "      <th></th>\n",
       "      <th></th>\n",
       "      <th></th>\n",
       "    </tr>\n",
       "  </thead>\n",
       "  <tbody>\n",
       "    <tr>\n",
       "      <th>10423</th>\n",
       "      <td>2016</td>\n",
       "      <td>3</td>\n",
       "      <td>13</td>\n",
       "      <td>21</td>\n",
       "      <td>18.00</td>\n",
       "      <td>1</td>\n",
       "      <td>2</td>\n",
       "      <td>2</td>\n",
       "      <td>0</td>\n",
       "      <td>0</td>\n",
       "      <td>1</td>\n",
       "      <td>0</td>\n",
       "      <td>0</td>\n",
       "      <td>0</td>\n",
       "      <td>0</td>\n",
       "      <td>0</td>\n",
       "      <td>1</td>\n",
       "      <td>0</td>\n",
       "      <td>45</td>\n",
       "      <td>0</td>\n",
       "      <td>0</td>\n",
       "      <td>0</td>\n",
       "      <td>1</td>\n",
       "      <td>1</td>\n",
       "      <td>6</td>\n",
       "      <td>3</td>\n",
       "      <td>85.00</td>\n",
       "      <td>84.1500</td>\n",
       "      <td>0.0</td>\n",
       "      <td>40141.59</td>\n",
       "      <td>40833.24</td>\n",
       "      <td>0.898</td>\n",
       "      <td>0</td>\n",
       "    </tr>\n",
       "    <tr>\n",
       "      <th>14038</th>\n",
       "      <td>2016</td>\n",
       "      <td>4</td>\n",
       "      <td>17</td>\n",
       "      <td>23</td>\n",
       "      <td>16.00</td>\n",
       "      <td>2</td>\n",
       "      <td>4</td>\n",
       "      <td>2</td>\n",
       "      <td>2</td>\n",
       "      <td>0</td>\n",
       "      <td>1</td>\n",
       "      <td>0</td>\n",
       "      <td>0</td>\n",
       "      <td>0</td>\n",
       "      <td>0</td>\n",
       "      <td>0</td>\n",
       "      <td>1</td>\n",
       "      <td>0</td>\n",
       "      <td>2</td>\n",
       "      <td>0</td>\n",
       "      <td>0</td>\n",
       "      <td>0</td>\n",
       "      <td>1</td>\n",
       "      <td>1</td>\n",
       "      <td>1</td>\n",
       "      <td>1</td>\n",
       "      <td>206.00</td>\n",
       "      <td>203.9400</td>\n",
       "      <td>0.0</td>\n",
       "      <td>7199.25</td>\n",
       "      <td>7096.60</td>\n",
       "      <td>0.572</td>\n",
       "      <td>1</td>\n",
       "    </tr>\n",
       "    <tr>\n",
       "      <th>37179</th>\n",
       "      <td>2016</td>\n",
       "      <td>12</td>\n",
       "      <td>53</td>\n",
       "      <td>28</td>\n",
       "      <td>16.00</td>\n",
       "      <td>0</td>\n",
       "      <td>1</td>\n",
       "      <td>2</td>\n",
       "      <td>0</td>\n",
       "      <td>0</td>\n",
       "      <td>1</td>\n",
       "      <td>0</td>\n",
       "      <td>0</td>\n",
       "      <td>0</td>\n",
       "      <td>0</td>\n",
       "      <td>0</td>\n",
       "      <td>1</td>\n",
       "      <td>0</td>\n",
       "      <td>14</td>\n",
       "      <td>0</td>\n",
       "      <td>1</td>\n",
       "      <td>0</td>\n",
       "      <td>1</td>\n",
       "      <td>1</td>\n",
       "      <td>6</td>\n",
       "      <td>6</td>\n",
       "      <td>138.00</td>\n",
       "      <td>136.6200</td>\n",
       "      <td>0.0</td>\n",
       "      <td>28742.44</td>\n",
       "      <td>29668.86</td>\n",
       "      <td>0.842</td>\n",
       "      <td>1</td>\n",
       "    </tr>\n",
       "    <tr>\n",
       "      <th>15019</th>\n",
       "      <td>2016</td>\n",
       "      <td>4</td>\n",
       "      <td>18</td>\n",
       "      <td>30</td>\n",
       "      <td>15.25</td>\n",
       "      <td>2</td>\n",
       "      <td>5</td>\n",
       "      <td>2</td>\n",
       "      <td>0</td>\n",
       "      <td>0</td>\n",
       "      <td>1</td>\n",
       "      <td>0</td>\n",
       "      <td>0</td>\n",
       "      <td>0</td>\n",
       "      <td>0</td>\n",
       "      <td>0</td>\n",
       "      <td>1</td>\n",
       "      <td>2</td>\n",
       "      <td>98</td>\n",
       "      <td>0</td>\n",
       "      <td>0</td>\n",
       "      <td>0</td>\n",
       "      <td>1</td>\n",
       "      <td>1</td>\n",
       "      <td>6</td>\n",
       "      <td>6</td>\n",
       "      <td>109.81</td>\n",
       "      <td>108.7119</td>\n",
       "      <td>0.0</td>\n",
       "      <td>28742.44</td>\n",
       "      <td>29668.86</td>\n",
       "      <td>0.842</td>\n",
       "      <td>0</td>\n",
       "    </tr>\n",
       "    <tr>\n",
       "      <th>30385</th>\n",
       "      <td>2016</td>\n",
       "      <td>5</td>\n",
       "      <td>21</td>\n",
       "      <td>17</td>\n",
       "      <td>15.50</td>\n",
       "      <td>0</td>\n",
       "      <td>2</td>\n",
       "      <td>2</td>\n",
       "      <td>0</td>\n",
       "      <td>0</td>\n",
       "      <td>1</td>\n",
       "      <td>0</td>\n",
       "      <td>0</td>\n",
       "      <td>0</td>\n",
       "      <td>0</td>\n",
       "      <td>0</td>\n",
       "      <td>0</td>\n",
       "      <td>1</td>\n",
       "      <td>64</td>\n",
       "      <td>0</td>\n",
       "      <td>0</td>\n",
       "      <td>0</td>\n",
       "      <td>1</td>\n",
       "      <td>1</td>\n",
       "      <td>6</td>\n",
       "      <td>5</td>\n",
       "      <td>140.00</td>\n",
       "      <td>138.6000</td>\n",
       "      <td>0.0</td>\n",
       "      <td>28742.44</td>\n",
       "      <td>29668.86</td>\n",
       "      <td>0.842</td>\n",
       "      <td>1</td>\n",
       "    </tr>\n",
       "    <tr>\n",
       "      <th>...</th>\n",
       "      <td>...</td>\n",
       "      <td>...</td>\n",
       "      <td>...</td>\n",
       "      <td>...</td>\n",
       "      <td>...</td>\n",
       "      <td>...</td>\n",
       "      <td>...</td>\n",
       "      <td>...</td>\n",
       "      <td>...</td>\n",
       "      <td>...</td>\n",
       "      <td>...</td>\n",
       "      <td>...</td>\n",
       "      <td>...</td>\n",
       "      <td>...</td>\n",
       "      <td>...</td>\n",
       "      <td>...</td>\n",
       "      <td>...</td>\n",
       "      <td>...</td>\n",
       "      <td>...</td>\n",
       "      <td>...</td>\n",
       "      <td>...</td>\n",
       "      <td>...</td>\n",
       "      <td>...</td>\n",
       "      <td>...</td>\n",
       "      <td>...</td>\n",
       "      <td>...</td>\n",
       "      <td>...</td>\n",
       "      <td>...</td>\n",
       "      <td>...</td>\n",
       "      <td>...</td>\n",
       "      <td>...</td>\n",
       "      <td>...</td>\n",
       "      <td>...</td>\n",
       "    </tr>\n",
       "    <tr>\n",
       "      <th>23233</th>\n",
       "      <td>2016</td>\n",
       "      <td>2</td>\n",
       "      <td>6</td>\n",
       "      <td>4</td>\n",
       "      <td>21.25</td>\n",
       "      <td>0</td>\n",
       "      <td>2</td>\n",
       "      <td>1</td>\n",
       "      <td>0</td>\n",
       "      <td>0</td>\n",
       "      <td>1</td>\n",
       "      <td>0</td>\n",
       "      <td>0</td>\n",
       "      <td>0</td>\n",
       "      <td>0</td>\n",
       "      <td>0</td>\n",
       "      <td>1</td>\n",
       "      <td>0</td>\n",
       "      <td>76</td>\n",
       "      <td>0</td>\n",
       "      <td>0</td>\n",
       "      <td>0</td>\n",
       "      <td>1</td>\n",
       "      <td>1</td>\n",
       "      <td>6</td>\n",
       "      <td>6</td>\n",
       "      <td>62.10</td>\n",
       "      <td>61.4790</td>\n",
       "      <td>0.0</td>\n",
       "      <td>28742.44</td>\n",
       "      <td>29668.86</td>\n",
       "      <td>0.842</td>\n",
       "      <td>1</td>\n",
       "    </tr>\n",
       "    <tr>\n",
       "      <th>32833</th>\n",
       "      <td>2016</td>\n",
       "      <td>7</td>\n",
       "      <td>28</td>\n",
       "      <td>8</td>\n",
       "      <td>16.75</td>\n",
       "      <td>0</td>\n",
       "      <td>1</td>\n",
       "      <td>2</td>\n",
       "      <td>2</td>\n",
       "      <td>0</td>\n",
       "      <td>1</td>\n",
       "      <td>0</td>\n",
       "      <td>0</td>\n",
       "      <td>0</td>\n",
       "      <td>0</td>\n",
       "      <td>0</td>\n",
       "      <td>1</td>\n",
       "      <td>1</td>\n",
       "      <td>173</td>\n",
       "      <td>0</td>\n",
       "      <td>2</td>\n",
       "      <td>0</td>\n",
       "      <td>1</td>\n",
       "      <td>1</td>\n",
       "      <td>1</td>\n",
       "      <td>1</td>\n",
       "      <td>168.30</td>\n",
       "      <td>166.6170</td>\n",
       "      <td>0.0</td>\n",
       "      <td>36194.87</td>\n",
       "      <td>36909.33</td>\n",
       "      <td>0.876</td>\n",
       "      <td>1</td>\n",
       "    </tr>\n",
       "    <tr>\n",
       "      <th>30966</th>\n",
       "      <td>2016</td>\n",
       "      <td>2</td>\n",
       "      <td>6</td>\n",
       "      <td>6</td>\n",
       "      <td>16.00</td>\n",
       "      <td>2</td>\n",
       "      <td>6</td>\n",
       "      <td>2</td>\n",
       "      <td>0</td>\n",
       "      <td>0</td>\n",
       "      <td>1</td>\n",
       "      <td>0</td>\n",
       "      <td>0</td>\n",
       "      <td>0</td>\n",
       "      <td>0</td>\n",
       "      <td>0</td>\n",
       "      <td>1</td>\n",
       "      <td>0</td>\n",
       "      <td>9</td>\n",
       "      <td>0</td>\n",
       "      <td>1</td>\n",
       "      <td>0</td>\n",
       "      <td>1</td>\n",
       "      <td>0</td>\n",
       "      <td>6</td>\n",
       "      <td>6</td>\n",
       "      <td>62.58</td>\n",
       "      <td>61.9542</td>\n",
       "      <td>0.0</td>\n",
       "      <td>49233.22</td>\n",
       "      <td>50302.07</td>\n",
       "      <td>0.926</td>\n",
       "      <td>0</td>\n",
       "    </tr>\n",
       "    <tr>\n",
       "      <th>10462</th>\n",
       "      <td>2016</td>\n",
       "      <td>6</td>\n",
       "      <td>24</td>\n",
       "      <td>8</td>\n",
       "      <td>16.00</td>\n",
       "      <td>0</td>\n",
       "      <td>4</td>\n",
       "      <td>3</td>\n",
       "      <td>0</td>\n",
       "      <td>0</td>\n",
       "      <td>1</td>\n",
       "      <td>0</td>\n",
       "      <td>0</td>\n",
       "      <td>0</td>\n",
       "      <td>0</td>\n",
       "      <td>0</td>\n",
       "      <td>1</td>\n",
       "      <td>0</td>\n",
       "      <td>41</td>\n",
       "      <td>0</td>\n",
       "      <td>0</td>\n",
       "      <td>0</td>\n",
       "      <td>1</td>\n",
       "      <td>1</td>\n",
       "      <td>3</td>\n",
       "      <td>3</td>\n",
       "      <td>150.30</td>\n",
       "      <td>148.7970</td>\n",
       "      <td>0.0</td>\n",
       "      <td>34212.94</td>\n",
       "      <td>35436.81</td>\n",
       "      <td>0.901</td>\n",
       "      <td>1</td>\n",
       "    </tr>\n",
       "    <tr>\n",
       "      <th>24861</th>\n",
       "      <td>2016</td>\n",
       "      <td>6</td>\n",
       "      <td>27</td>\n",
       "      <td>28</td>\n",
       "      <td>19.25</td>\n",
       "      <td>0</td>\n",
       "      <td>4</td>\n",
       "      <td>2</td>\n",
       "      <td>0</td>\n",
       "      <td>0</td>\n",
       "      <td>1</td>\n",
       "      <td>0</td>\n",
       "      <td>0</td>\n",
       "      <td>0</td>\n",
       "      <td>0</td>\n",
       "      <td>0</td>\n",
       "      <td>1</td>\n",
       "      <td>0</td>\n",
       "      <td>137</td>\n",
       "      <td>0</td>\n",
       "      <td>1</td>\n",
       "      <td>0</td>\n",
       "      <td>1</td>\n",
       "      <td>1</td>\n",
       "      <td>3</td>\n",
       "      <td>3</td>\n",
       "      <td>103.70</td>\n",
       "      <td>102.6630</td>\n",
       "      <td>0.0</td>\n",
       "      <td>46880.22</td>\n",
       "      <td>46276.15</td>\n",
       "      <td>0.936</td>\n",
       "      <td>1</td>\n",
       "    </tr>\n",
       "  </tbody>\n",
       "</table>\n",
       "<p>13938 rows × 33 columns</p>\n",
       "</div>"
      ],
      "text/plain": [
       "           ArrivalYear  ArrivalMonth  ArrivalWeekNumber  ArrivalDayOfMonth  \\\n",
       "BookingID                                                                    \n",
       "10423             2016             3                 13                 21   \n",
       "14038             2016             4                 17                 23   \n",
       "37179             2016            12                 53                 28   \n",
       "15019             2016             4                 18                 30   \n",
       "30385             2016             5                 21                 17   \n",
       "...                ...           ...                ...                ...   \n",
       "23233             2016             2                  6                  4   \n",
       "32833             2016             7                 28                  8   \n",
       "30966             2016             2                  6                  6   \n",
       "10462             2016             6                 24                  8   \n",
       "24861             2016             6                 27                 28   \n",
       "\n",
       "           ArrivalHour  WeekendStays  WeekdayStays  Adults  Children  Babies  \\\n",
       "BookingID                                                                      \n",
       "10423            18.00             1             2       2         0       0   \n",
       "14038            16.00             2             4       2         2       0   \n",
       "37179            16.00             0             1       2         0       0   \n",
       "15019            15.25             2             5       2         0       0   \n",
       "30385            15.50             0             2       2         0       0   \n",
       "...                ...           ...           ...     ...       ...     ...   \n",
       "23233            21.25             0             2       1         0       0   \n",
       "32833            16.75             0             1       2         2       0   \n",
       "30966            16.00             2             6       2         0       0   \n",
       "10462            16.00             0             4       3         0       0   \n",
       "24861            19.25             0             4       2         0       0   \n",
       "\n",
       "           FirstTimeGuest  AffiliatedCustomer  PreviousReservations  \\\n",
       "BookingID                                                             \n",
       "10423                   1                   0                     0   \n",
       "14038                   1                   0                     0   \n",
       "37179                   1                   0                     0   \n",
       "15019                   1                   0                     0   \n",
       "30385                   1                   0                     0   \n",
       "...                   ...                 ...                   ...   \n",
       "23233                   1                   0                     0   \n",
       "32833                   1                   0                     0   \n",
       "30966                   1                   0                     0   \n",
       "10462                   1                   0                     0   \n",
       "24861                   1                   0                     0   \n",
       "\n",
       "           PreviousStays  PreviousCancellations  DaysUntilConfirmation  \\\n",
       "BookingID                                                                \n",
       "10423                  0                      0                      0   \n",
       "14038                  0                      0                      0   \n",
       "37179                  0                      0                      0   \n",
       "15019                  0                      0                      0   \n",
       "30385                  0                      0                      0   \n",
       "...                  ...                    ...                    ...   \n",
       "23233                  0                      0                      0   \n",
       "32833                  0                      0                      0   \n",
       "30966                  0                      0                      0   \n",
       "10462                  0                      0                      0   \n",
       "24861                  0                      0                      0   \n",
       "\n",
       "           OnlineReservation  BookingChanges  BookingToArrivalDays  \\\n",
       "BookingID                                                            \n",
       "10423                      1               0                    45   \n",
       "14038                      1               0                     2   \n",
       "37179                      1               0                    14   \n",
       "15019                      1               2                    98   \n",
       "30385                      0               1                    64   \n",
       "...                      ...             ...                   ...   \n",
       "23233                      1               0                    76   \n",
       "32833                      1               1                   173   \n",
       "30966                      1               0                     9   \n",
       "10462                      1               0                    41   \n",
       "24861                      1               0                   137   \n",
       "\n",
       "           ParkingSpacesBooked  SpecialRequests  PartOfGroup  \\\n",
       "BookingID                                                      \n",
       "10423                        0                0            0   \n",
       "14038                        0                0            0   \n",
       "37179                        0                1            0   \n",
       "15019                        0                0            0   \n",
       "30385                        0                0            0   \n",
       "...                        ...              ...          ...   \n",
       "23233                        0                0            0   \n",
       "32833                        0                2            0   \n",
       "30966                        0                1            0   \n",
       "10462                        0                0            0   \n",
       "24861                        0                1            0   \n",
       "\n",
       "           CompanyReservation  OrderedMealsPerDay  FloorReserved  \\\n",
       "BookingID                                                          \n",
       "10423                       1                   1              6   \n",
       "14038                       1                   1              1   \n",
       "37179                       1                   1              6   \n",
       "15019                       1                   1              6   \n",
       "30385                       1                   1              6   \n",
       "...                       ...                 ...            ...   \n",
       "23233                       1                   1              6   \n",
       "32833                       1                   1              1   \n",
       "30966                       1                   0              6   \n",
       "10462                       1                   1              3   \n",
       "24861                       1                   1              3   \n",
       "\n",
       "           FloorAssigned  DailyRateEuros  DailyRateUSD  %PaidinAdvance  \\\n",
       "BookingID                                                                \n",
       "10423                  3           85.00       84.1500             0.0   \n",
       "14038                  1          206.00      203.9400             0.0   \n",
       "37179                  6          138.00      136.6200             0.0   \n",
       "15019                  6          109.81      108.7119             0.0   \n",
       "30385                  5          140.00      138.6000             0.0   \n",
       "...                  ...             ...           ...             ...   \n",
       "23233                  6           62.10       61.4790             0.0   \n",
       "32833                  1          168.30      166.6170             0.0   \n",
       "30966                  6           62.58       61.9542             0.0   \n",
       "10462                  3          150.30      148.7970             0.0   \n",
       "24861                  3          103.70      102.6630             0.0   \n",
       "\n",
       "           CountryofOriginAvgIncomeEuros (Year-2)  \\\n",
       "BookingID                                           \n",
       "10423                                    40141.59   \n",
       "14038                                     7199.25   \n",
       "37179                                    28742.44   \n",
       "15019                                    28742.44   \n",
       "30385                                    28742.44   \n",
       "...                                           ...   \n",
       "23233                                    28742.44   \n",
       "32833                                    36194.87   \n",
       "30966                                    49233.22   \n",
       "10462                                    34212.94   \n",
       "24861                                    46880.22   \n",
       "\n",
       "           CountryofOriginAvgIncomeEuros (Year-1)  \\\n",
       "BookingID                                           \n",
       "10423                                    40833.24   \n",
       "14038                                     7096.60   \n",
       "37179                                    29668.86   \n",
       "15019                                    29668.86   \n",
       "30385                                    29668.86   \n",
       "...                                           ...   \n",
       "23233                                    29668.86   \n",
       "32833                                    36909.33   \n",
       "30966                                    50302.07   \n",
       "10462                                    35436.81   \n",
       "24861                                    46276.15   \n",
       "\n",
       "           CountryofOriginHDI (Year-1)  Canceled  \n",
       "BookingID                                         \n",
       "10423                            0.898         0  \n",
       "14038                            0.572         1  \n",
       "37179                            0.842         1  \n",
       "15019                            0.842         0  \n",
       "30385                            0.842         1  \n",
       "...                                ...       ...  \n",
       "23233                            0.842         1  \n",
       "32833                            0.876         1  \n",
       "30966                            0.926         0  \n",
       "10462                            0.901         1  \n",
       "24861                            0.936         1  \n",
       "\n",
       "[13938 rows x 33 columns]"
      ]
     },
     "execution_count": 2,
     "metadata": {},
     "output_type": "execute_result"
    }
   ],
   "source": [
    "hotel_train = pd.read_csv('train.csv', index_col=0)\n",
    "hotel_test = pd.read_csv('test.csv', index_col=0)\n",
    "\n",
    "pd.set_option('display.max_columns', None)\n",
    "\n",
    "hotel_train"
   ]
  },
  {
   "cell_type": "markdown",
   "id": "04222ee7",
   "metadata": {
    "ExecuteTime": {
     "end_time": "2022-12-22T14:36:05.290721Z",
     "start_time": "2022-12-22T14:36:05.283114Z"
    }
   },
   "source": [
    "## Data Exploration"
   ]
  },
  {
   "cell_type": "code",
   "execution_count": 3,
   "id": "fed8e0a8",
   "metadata": {
    "ExecuteTime": {
     "end_time": "2022-12-23T17:50:16.352461Z",
     "start_time": "2022-12-23T17:50:16.337858Z"
    }
   },
   "outputs": [
    {
     "name": "stdout",
     "output_type": "stream",
     "text": [
      "<class 'pandas.core.frame.DataFrame'>\n",
      "Int64Index: 13938 entries, 10423 to 24861\n",
      "Data columns (total 33 columns):\n",
      " #   Column                                  Non-Null Count  Dtype  \n",
      "---  ------                                  --------------  -----  \n",
      " 0   ArrivalYear                             13938 non-null  int64  \n",
      " 1   ArrivalMonth                            13938 non-null  int64  \n",
      " 2   ArrivalWeekNumber                       13938 non-null  int64  \n",
      " 3   ArrivalDayOfMonth                       13938 non-null  int64  \n",
      " 4   ArrivalHour                             13938 non-null  float64\n",
      " 5   WeekendStays                            13938 non-null  int64  \n",
      " 6   WeekdayStays                            13938 non-null  int64  \n",
      " 7   Adults                                  13938 non-null  int64  \n",
      " 8   Children                                13938 non-null  int64  \n",
      " 9   Babies                                  13938 non-null  int64  \n",
      " 10  FirstTimeGuest                          13938 non-null  int64  \n",
      " 11  AffiliatedCustomer                      13938 non-null  int64  \n",
      " 12  PreviousReservations                    13938 non-null  int64  \n",
      " 13  PreviousStays                           13938 non-null  int64  \n",
      " 14  PreviousCancellations                   13938 non-null  int64  \n",
      " 15  DaysUntilConfirmation                   13938 non-null  int64  \n",
      " 16  OnlineReservation                       13938 non-null  int64  \n",
      " 17  BookingChanges                          13938 non-null  int64  \n",
      " 18  BookingToArrivalDays                    13938 non-null  int64  \n",
      " 19  ParkingSpacesBooked                     13938 non-null  int64  \n",
      " 20  SpecialRequests                         13938 non-null  int64  \n",
      " 21  PartOfGroup                             13938 non-null  int64  \n",
      " 22  CompanyReservation                      13938 non-null  int64  \n",
      " 23  OrderedMealsPerDay                      13938 non-null  int64  \n",
      " 24  FloorReserved                           13938 non-null  int64  \n",
      " 25  FloorAssigned                           13938 non-null  int64  \n",
      " 26  DailyRateEuros                          13938 non-null  float64\n",
      " 27  DailyRateUSD                            13938 non-null  float64\n",
      " 28  %PaidinAdvance                          13938 non-null  float64\n",
      " 29  CountryofOriginAvgIncomeEuros (Year-2)  13938 non-null  float64\n",
      " 30  CountryofOriginAvgIncomeEuros (Year-1)  13938 non-null  float64\n",
      " 31  CountryofOriginHDI (Year-1)             13938 non-null  float64\n",
      " 32  Canceled                                13938 non-null  int64  \n",
      "dtypes: float64(7), int64(26)\n",
      "memory usage: 3.6 MB\n"
     ]
    }
   ],
   "source": [
    "hotel_train.info()"
   ]
  },
  {
   "cell_type": "code",
   "execution_count": 4,
   "id": "eb21ee02",
   "metadata": {
    "ExecuteTime": {
     "end_time": "2022-12-23T17:50:16.457583Z",
     "start_time": "2022-12-23T17:50:16.354550Z"
    }
   },
   "outputs": [
    {
     "data": {
      "text/html": [
       "<div>\n",
       "<style scoped>\n",
       "    .dataframe tbody tr th:only-of-type {\n",
       "        vertical-align: middle;\n",
       "    }\n",
       "\n",
       "    .dataframe tbody tr th {\n",
       "        vertical-align: top;\n",
       "    }\n",
       "\n",
       "    .dataframe thead th {\n",
       "        text-align: right;\n",
       "    }\n",
       "</style>\n",
       "<table border=\"1\" class=\"dataframe\">\n",
       "  <thead>\n",
       "    <tr style=\"text-align: right;\">\n",
       "      <th></th>\n",
       "      <th>count</th>\n",
       "      <th>mean</th>\n",
       "      <th>std</th>\n",
       "      <th>min</th>\n",
       "      <th>25%</th>\n",
       "      <th>50%</th>\n",
       "      <th>75%</th>\n",
       "      <th>max</th>\n",
       "    </tr>\n",
       "  </thead>\n",
       "  <tbody>\n",
       "    <tr>\n",
       "      <th>ArrivalYear</th>\n",
       "      <td>13938.0</td>\n",
       "      <td>2016.000000</td>\n",
       "      <td>0.000000</td>\n",
       "      <td>2016.000</td>\n",
       "      <td>2016.000000</td>\n",
       "      <td>2016.000</td>\n",
       "      <td>2016.000</td>\n",
       "      <td>2016.000</td>\n",
       "    </tr>\n",
       "    <tr>\n",
       "      <th>ArrivalMonth</th>\n",
       "      <td>13938.0</td>\n",
       "      <td>6.854498</td>\n",
       "      <td>3.175421</td>\n",
       "      <td>1.000</td>\n",
       "      <td>4.000000</td>\n",
       "      <td>7.000</td>\n",
       "      <td>10.000</td>\n",
       "      <td>12.000</td>\n",
       "    </tr>\n",
       "    <tr>\n",
       "      <th>ArrivalWeekNumber</th>\n",
       "      <td>13938.0</td>\n",
       "      <td>28.851413</td>\n",
       "      <td>13.901656</td>\n",
       "      <td>1.000</td>\n",
       "      <td>17.000000</td>\n",
       "      <td>29.000</td>\n",
       "      <td>41.000</td>\n",
       "      <td>53.000</td>\n",
       "    </tr>\n",
       "    <tr>\n",
       "      <th>ArrivalDayOfMonth</th>\n",
       "      <td>13938.0</td>\n",
       "      <td>15.888148</td>\n",
       "      <td>8.850454</td>\n",
       "      <td>1.000</td>\n",
       "      <td>8.000000</td>\n",
       "      <td>16.000</td>\n",
       "      <td>24.000</td>\n",
       "      <td>31.000</td>\n",
       "    </tr>\n",
       "    <tr>\n",
       "      <th>ArrivalHour</th>\n",
       "      <td>13938.0</td>\n",
       "      <td>18.874121</td>\n",
       "      <td>2.884563</td>\n",
       "      <td>14.000</td>\n",
       "      <td>16.250000</td>\n",
       "      <td>19.000</td>\n",
       "      <td>21.250</td>\n",
       "      <td>23.750</td>\n",
       "    </tr>\n",
       "    <tr>\n",
       "      <th>WeekendStays</th>\n",
       "      <td>13938.0</td>\n",
       "      <td>0.882695</td>\n",
       "      <td>0.945422</td>\n",
       "      <td>0.000</td>\n",
       "      <td>0.000000</td>\n",
       "      <td>1.000</td>\n",
       "      <td>2.000</td>\n",
       "      <td>14.000</td>\n",
       "    </tr>\n",
       "    <tr>\n",
       "      <th>WeekdayStays</th>\n",
       "      <td>13938.0</td>\n",
       "      <td>2.292510</td>\n",
       "      <td>1.735639</td>\n",
       "      <td>0.000</td>\n",
       "      <td>1.000000</td>\n",
       "      <td>2.000</td>\n",
       "      <td>3.000</td>\n",
       "      <td>35.000</td>\n",
       "    </tr>\n",
       "    <tr>\n",
       "      <th>Adults</th>\n",
       "      <td>13938.0</td>\n",
       "      <td>1.885852</td>\n",
       "      <td>0.547217</td>\n",
       "      <td>0.000</td>\n",
       "      <td>2.000000</td>\n",
       "      <td>2.000</td>\n",
       "      <td>2.000</td>\n",
       "      <td>4.000</td>\n",
       "    </tr>\n",
       "    <tr>\n",
       "      <th>Children</th>\n",
       "      <td>13938.0</td>\n",
       "      <td>0.141627</td>\n",
       "      <td>0.452717</td>\n",
       "      <td>0.000</td>\n",
       "      <td>0.000000</td>\n",
       "      <td>0.000</td>\n",
       "      <td>0.000</td>\n",
       "      <td>3.000</td>\n",
       "    </tr>\n",
       "    <tr>\n",
       "      <th>Babies</th>\n",
       "      <td>13938.0</td>\n",
       "      <td>0.006959</td>\n",
       "      <td>0.116244</td>\n",
       "      <td>0.000</td>\n",
       "      <td>0.000000</td>\n",
       "      <td>0.000</td>\n",
       "      <td>0.000</td>\n",
       "      <td>10.000</td>\n",
       "    </tr>\n",
       "    <tr>\n",
       "      <th>FirstTimeGuest</th>\n",
       "      <td>13938.0</td>\n",
       "      <td>0.972665</td>\n",
       "      <td>0.163064</td>\n",
       "      <td>0.000</td>\n",
       "      <td>1.000000</td>\n",
       "      <td>1.000</td>\n",
       "      <td>1.000</td>\n",
       "      <td>1.000</td>\n",
       "    </tr>\n",
       "    <tr>\n",
       "      <th>AffiliatedCustomer</th>\n",
       "      <td>13938.0</td>\n",
       "      <td>0.005022</td>\n",
       "      <td>0.070692</td>\n",
       "      <td>0.000</td>\n",
       "      <td>0.000000</td>\n",
       "      <td>0.000</td>\n",
       "      <td>0.000</td>\n",
       "      <td>1.000</td>\n",
       "    </tr>\n",
       "    <tr>\n",
       "      <th>PreviousReservations</th>\n",
       "      <td>13938.0</td>\n",
       "      <td>0.208495</td>\n",
       "      <td>2.079191</td>\n",
       "      <td>0.000</td>\n",
       "      <td>0.000000</td>\n",
       "      <td>0.000</td>\n",
       "      <td>0.000</td>\n",
       "      <td>53.000</td>\n",
       "    </tr>\n",
       "    <tr>\n",
       "      <th>PreviousStays</th>\n",
       "      <td>13938.0</td>\n",
       "      <td>0.178792</td>\n",
       "      <td>1.858688</td>\n",
       "      <td>0.000</td>\n",
       "      <td>0.000000</td>\n",
       "      <td>0.000</td>\n",
       "      <td>0.000</td>\n",
       "      <td>48.000</td>\n",
       "    </tr>\n",
       "    <tr>\n",
       "      <th>PreviousCancellations</th>\n",
       "      <td>13938.0</td>\n",
       "      <td>0.029703</td>\n",
       "      <td>0.415294</td>\n",
       "      <td>0.000</td>\n",
       "      <td>0.000000</td>\n",
       "      <td>0.000</td>\n",
       "      <td>0.000</td>\n",
       "      <td>13.000</td>\n",
       "    </tr>\n",
       "    <tr>\n",
       "      <th>DaysUntilConfirmation</th>\n",
       "      <td>13938.0</td>\n",
       "      <td>0.731382</td>\n",
       "      <td>8.785626</td>\n",
       "      <td>0.000</td>\n",
       "      <td>0.000000</td>\n",
       "      <td>0.000</td>\n",
       "      <td>0.000</td>\n",
       "      <td>224.000</td>\n",
       "    </tr>\n",
       "    <tr>\n",
       "      <th>OnlineReservation</th>\n",
       "      <td>13938.0</td>\n",
       "      <td>0.901349</td>\n",
       "      <td>0.298204</td>\n",
       "      <td>0.000</td>\n",
       "      <td>1.000000</td>\n",
       "      <td>1.000</td>\n",
       "      <td>1.000</td>\n",
       "      <td>1.000</td>\n",
       "    </tr>\n",
       "    <tr>\n",
       "      <th>BookingChanges</th>\n",
       "      <td>13938.0</td>\n",
       "      <td>0.236619</td>\n",
       "      <td>0.731895</td>\n",
       "      <td>0.000</td>\n",
       "      <td>0.000000</td>\n",
       "      <td>0.000</td>\n",
       "      <td>0.000</td>\n",
       "      <td>21.000</td>\n",
       "    </tr>\n",
       "    <tr>\n",
       "      <th>BookingToArrivalDays</th>\n",
       "      <td>13938.0</td>\n",
       "      <td>69.492825</td>\n",
       "      <td>66.136276</td>\n",
       "      <td>0.000</td>\n",
       "      <td>14.000000</td>\n",
       "      <td>49.000</td>\n",
       "      <td>109.000</td>\n",
       "      <td>277.000</td>\n",
       "    </tr>\n",
       "    <tr>\n",
       "      <th>ParkingSpacesBooked</th>\n",
       "      <td>13938.0</td>\n",
       "      <td>0.039245</td>\n",
       "      <td>0.194185</td>\n",
       "      <td>0.000</td>\n",
       "      <td>0.000000</td>\n",
       "      <td>0.000</td>\n",
       "      <td>0.000</td>\n",
       "      <td>1.000</td>\n",
       "    </tr>\n",
       "    <tr>\n",
       "      <th>SpecialRequests</th>\n",
       "      <td>13938.0</td>\n",
       "      <td>0.663725</td>\n",
       "      <td>0.796548</td>\n",
       "      <td>0.000</td>\n",
       "      <td>0.000000</td>\n",
       "      <td>0.000</td>\n",
       "      <td>1.000</td>\n",
       "      <td>5.000</td>\n",
       "    </tr>\n",
       "    <tr>\n",
       "      <th>PartOfGroup</th>\n",
       "      <td>13938.0</td>\n",
       "      <td>0.001722</td>\n",
       "      <td>0.041462</td>\n",
       "      <td>0.000</td>\n",
       "      <td>0.000000</td>\n",
       "      <td>0.000</td>\n",
       "      <td>0.000</td>\n",
       "      <td>1.000</td>\n",
       "    </tr>\n",
       "    <tr>\n",
       "      <th>CompanyReservation</th>\n",
       "      <td>13938.0</td>\n",
       "      <td>1.000000</td>\n",
       "      <td>0.000000</td>\n",
       "      <td>1.000</td>\n",
       "      <td>1.000000</td>\n",
       "      <td>1.000</td>\n",
       "      <td>1.000</td>\n",
       "      <td>1.000</td>\n",
       "    </tr>\n",
       "    <tr>\n",
       "      <th>OrderedMealsPerDay</th>\n",
       "      <td>13938.0</td>\n",
       "      <td>0.862821</td>\n",
       "      <td>0.450595</td>\n",
       "      <td>0.000</td>\n",
       "      <td>1.000000</td>\n",
       "      <td>1.000</td>\n",
       "      <td>1.000</td>\n",
       "      <td>3.000</td>\n",
       "    </tr>\n",
       "    <tr>\n",
       "      <th>FloorReserved</th>\n",
       "      <td>13938.0</td>\n",
       "      <td>5.032860</td>\n",
       "      <td>1.570951</td>\n",
       "      <td>0.000</td>\n",
       "      <td>3.000000</td>\n",
       "      <td>6.000</td>\n",
       "      <td>6.000</td>\n",
       "      <td>6.000</td>\n",
       "    </tr>\n",
       "    <tr>\n",
       "      <th>FloorAssigned</th>\n",
       "      <td>13938.0</td>\n",
       "      <td>4.774214</td>\n",
       "      <td>1.708851</td>\n",
       "      <td>-1.000</td>\n",
       "      <td>3.000000</td>\n",
       "      <td>6.000</td>\n",
       "      <td>6.000</td>\n",
       "      <td>6.000</td>\n",
       "    </tr>\n",
       "    <tr>\n",
       "      <th>DailyRateEuros</th>\n",
       "      <td>13938.0</td>\n",
       "      <td>108.082192</td>\n",
       "      <td>36.956578</td>\n",
       "      <td>0.000</td>\n",
       "      <td>84.262500</td>\n",
       "      <td>103.500</td>\n",
       "      <td>130.000</td>\n",
       "      <td>244.000</td>\n",
       "    </tr>\n",
       "    <tr>\n",
       "      <th>DailyRateUSD</th>\n",
       "      <td>13938.0</td>\n",
       "      <td>107.001370</td>\n",
       "      <td>36.587012</td>\n",
       "      <td>0.000</td>\n",
       "      <td>83.419875</td>\n",
       "      <td>102.465</td>\n",
       "      <td>128.700</td>\n",
       "      <td>241.560</td>\n",
       "    </tr>\n",
       "    <tr>\n",
       "      <th>%PaidinAdvance</th>\n",
       "      <td>13938.0</td>\n",
       "      <td>0.011134</td>\n",
       "      <td>0.104765</td>\n",
       "      <td>0.000</td>\n",
       "      <td>0.000000</td>\n",
       "      <td>0.000</td>\n",
       "      <td>0.000</td>\n",
       "      <td>1.000</td>\n",
       "    </tr>\n",
       "    <tr>\n",
       "      <th>CountryofOriginAvgIncomeEuros (Year-2)</th>\n",
       "      <td>13938.0</td>\n",
       "      <td>36409.011327</td>\n",
       "      <td>12294.088313</td>\n",
       "      <td>1291.750</td>\n",
       "      <td>28742.440000</td>\n",
       "      <td>36194.870</td>\n",
       "      <td>44929.690</td>\n",
       "      <td>123308.200</td>\n",
       "    </tr>\n",
       "    <tr>\n",
       "      <th>CountryofOriginAvgIncomeEuros (Year-1)</th>\n",
       "      <td>13938.0</td>\n",
       "      <td>37601.554261</td>\n",
       "      <td>13022.479068</td>\n",
       "      <td>1354.390</td>\n",
       "      <td>29668.860000</td>\n",
       "      <td>36909.330</td>\n",
       "      <td>46213.270</td>\n",
       "      <td>123822.080</td>\n",
       "    </tr>\n",
       "    <tr>\n",
       "      <th>CountryofOriginHDI (Year-1)</th>\n",
       "      <td>13938.0</td>\n",
       "      <td>0.872059</td>\n",
       "      <td>0.063247</td>\n",
       "      <td>0.418</td>\n",
       "      <td>0.842000</td>\n",
       "      <td>0.885</td>\n",
       "      <td>0.918</td>\n",
       "      <td>0.948</td>\n",
       "    </tr>\n",
       "    <tr>\n",
       "      <th>Canceled</th>\n",
       "      <td>13938.0</td>\n",
       "      <td>0.375018</td>\n",
       "      <td>0.484145</td>\n",
       "      <td>0.000</td>\n",
       "      <td>0.000000</td>\n",
       "      <td>0.000</td>\n",
       "      <td>1.000</td>\n",
       "      <td>1.000</td>\n",
       "    </tr>\n",
       "  </tbody>\n",
       "</table>\n",
       "</div>"
      ],
      "text/plain": [
       "                                          count          mean           std  \\\n",
       "ArrivalYear                             13938.0   2016.000000      0.000000   \n",
       "ArrivalMonth                            13938.0      6.854498      3.175421   \n",
       "ArrivalWeekNumber                       13938.0     28.851413     13.901656   \n",
       "ArrivalDayOfMonth                       13938.0     15.888148      8.850454   \n",
       "ArrivalHour                             13938.0     18.874121      2.884563   \n",
       "WeekendStays                            13938.0      0.882695      0.945422   \n",
       "WeekdayStays                            13938.0      2.292510      1.735639   \n",
       "Adults                                  13938.0      1.885852      0.547217   \n",
       "Children                                13938.0      0.141627      0.452717   \n",
       "Babies                                  13938.0      0.006959      0.116244   \n",
       "FirstTimeGuest                          13938.0      0.972665      0.163064   \n",
       "AffiliatedCustomer                      13938.0      0.005022      0.070692   \n",
       "PreviousReservations                    13938.0      0.208495      2.079191   \n",
       "PreviousStays                           13938.0      0.178792      1.858688   \n",
       "PreviousCancellations                   13938.0      0.029703      0.415294   \n",
       "DaysUntilConfirmation                   13938.0      0.731382      8.785626   \n",
       "OnlineReservation                       13938.0      0.901349      0.298204   \n",
       "BookingChanges                          13938.0      0.236619      0.731895   \n",
       "BookingToArrivalDays                    13938.0     69.492825     66.136276   \n",
       "ParkingSpacesBooked                     13938.0      0.039245      0.194185   \n",
       "SpecialRequests                         13938.0      0.663725      0.796548   \n",
       "PartOfGroup                             13938.0      0.001722      0.041462   \n",
       "CompanyReservation                      13938.0      1.000000      0.000000   \n",
       "OrderedMealsPerDay                      13938.0      0.862821      0.450595   \n",
       "FloorReserved                           13938.0      5.032860      1.570951   \n",
       "FloorAssigned                           13938.0      4.774214      1.708851   \n",
       "DailyRateEuros                          13938.0    108.082192     36.956578   \n",
       "DailyRateUSD                            13938.0    107.001370     36.587012   \n",
       "%PaidinAdvance                          13938.0      0.011134      0.104765   \n",
       "CountryofOriginAvgIncomeEuros (Year-2)  13938.0  36409.011327  12294.088313   \n",
       "CountryofOriginAvgIncomeEuros (Year-1)  13938.0  37601.554261  13022.479068   \n",
       "CountryofOriginHDI (Year-1)             13938.0      0.872059      0.063247   \n",
       "Canceled                                13938.0      0.375018      0.484145   \n",
       "\n",
       "                                             min           25%        50%  \\\n",
       "ArrivalYear                             2016.000   2016.000000   2016.000   \n",
       "ArrivalMonth                               1.000      4.000000      7.000   \n",
       "ArrivalWeekNumber                          1.000     17.000000     29.000   \n",
       "ArrivalDayOfMonth                          1.000      8.000000     16.000   \n",
       "ArrivalHour                               14.000     16.250000     19.000   \n",
       "WeekendStays                               0.000      0.000000      1.000   \n",
       "WeekdayStays                               0.000      1.000000      2.000   \n",
       "Adults                                     0.000      2.000000      2.000   \n",
       "Children                                   0.000      0.000000      0.000   \n",
       "Babies                                     0.000      0.000000      0.000   \n",
       "FirstTimeGuest                             0.000      1.000000      1.000   \n",
       "AffiliatedCustomer                         0.000      0.000000      0.000   \n",
       "PreviousReservations                       0.000      0.000000      0.000   \n",
       "PreviousStays                              0.000      0.000000      0.000   \n",
       "PreviousCancellations                      0.000      0.000000      0.000   \n",
       "DaysUntilConfirmation                      0.000      0.000000      0.000   \n",
       "OnlineReservation                          0.000      1.000000      1.000   \n",
       "BookingChanges                             0.000      0.000000      0.000   \n",
       "BookingToArrivalDays                       0.000     14.000000     49.000   \n",
       "ParkingSpacesBooked                        0.000      0.000000      0.000   \n",
       "SpecialRequests                            0.000      0.000000      0.000   \n",
       "PartOfGroup                                0.000      0.000000      0.000   \n",
       "CompanyReservation                         1.000      1.000000      1.000   \n",
       "OrderedMealsPerDay                         0.000      1.000000      1.000   \n",
       "FloorReserved                              0.000      3.000000      6.000   \n",
       "FloorAssigned                             -1.000      3.000000      6.000   \n",
       "DailyRateEuros                             0.000     84.262500    103.500   \n",
       "DailyRateUSD                               0.000     83.419875    102.465   \n",
       "%PaidinAdvance                             0.000      0.000000      0.000   \n",
       "CountryofOriginAvgIncomeEuros (Year-2)  1291.750  28742.440000  36194.870   \n",
       "CountryofOriginAvgIncomeEuros (Year-1)  1354.390  29668.860000  36909.330   \n",
       "CountryofOriginHDI (Year-1)                0.418      0.842000      0.885   \n",
       "Canceled                                   0.000      0.000000      0.000   \n",
       "\n",
       "                                              75%         max  \n",
       "ArrivalYear                              2016.000    2016.000  \n",
       "ArrivalMonth                               10.000      12.000  \n",
       "ArrivalWeekNumber                          41.000      53.000  \n",
       "ArrivalDayOfMonth                          24.000      31.000  \n",
       "ArrivalHour                                21.250      23.750  \n",
       "WeekendStays                                2.000      14.000  \n",
       "WeekdayStays                                3.000      35.000  \n",
       "Adults                                      2.000       4.000  \n",
       "Children                                    0.000       3.000  \n",
       "Babies                                      0.000      10.000  \n",
       "FirstTimeGuest                              1.000       1.000  \n",
       "AffiliatedCustomer                          0.000       1.000  \n",
       "PreviousReservations                        0.000      53.000  \n",
       "PreviousStays                               0.000      48.000  \n",
       "PreviousCancellations                       0.000      13.000  \n",
       "DaysUntilConfirmation                       0.000     224.000  \n",
       "OnlineReservation                           1.000       1.000  \n",
       "BookingChanges                              0.000      21.000  \n",
       "BookingToArrivalDays                      109.000     277.000  \n",
       "ParkingSpacesBooked                         0.000       1.000  \n",
       "SpecialRequests                             1.000       5.000  \n",
       "PartOfGroup                                 0.000       1.000  \n",
       "CompanyReservation                          1.000       1.000  \n",
       "OrderedMealsPerDay                          1.000       3.000  \n",
       "FloorReserved                               6.000       6.000  \n",
       "FloorAssigned                               6.000       6.000  \n",
       "DailyRateEuros                            130.000     244.000  \n",
       "DailyRateUSD                              128.700     241.560  \n",
       "%PaidinAdvance                              0.000       1.000  \n",
       "CountryofOriginAvgIncomeEuros (Year-2)  44929.690  123308.200  \n",
       "CountryofOriginAvgIncomeEuros (Year-1)  46213.270  123822.080  \n",
       "CountryofOriginHDI (Year-1)                 0.918       0.948  \n",
       "Canceled                                    1.000       1.000  "
      ]
     },
     "execution_count": 4,
     "metadata": {},
     "output_type": "execute_result"
    }
   ],
   "source": [
    "hotel_train.describe().T"
   ]
  },
  {
   "cell_type": "markdown",
   "id": "c9311151",
   "metadata": {
    "ExecuteTime": {
     "end_time": "2022-12-22T14:36:57.358354Z",
     "start_time": "2022-12-22T14:36:57.356118Z"
    }
   },
   "source": [
    "### Profile Report"
   ]
  },
  {
   "cell_type": "code",
   "execution_count": 5,
   "id": "7530f553",
   "metadata": {
    "ExecuteTime": {
     "end_time": "2022-12-23T17:50:16.461484Z",
     "start_time": "2022-12-23T17:50:16.459492Z"
    }
   },
   "outputs": [],
   "source": [
    "# instalation of ProfilingReport in the end of the imports cell\n",
    "#profile = ProfileReport(hotel_train,\n",
    "#                        title='MPG Pandas Profiling Report',\n",
    "#                        explorative=True)\n",
    "#profile"
   ]
  },
  {
   "cell_type": "markdown",
   "id": "b2b947a4",
   "metadata": {
    "ExecuteTime": {
     "end_time": "2022-12-22T14:39:28.700657Z",
     "start_time": "2022-12-22T14:39:28.694786Z"
    }
   },
   "source": [
    "### Looking for Inconsistencies and unlikely values"
   ]
  },
  {
   "cell_type": "code",
   "execution_count": 6,
   "id": "f7f83cdb",
   "metadata": {
    "ExecuteTime": {
     "end_time": "2022-12-23T17:50:16.468945Z",
     "start_time": "2022-12-23T17:50:16.463449Z"
    }
   },
   "outputs": [
    {
     "data": {
      "text/plain": [
       "0     13851\n",
       "1        85\n",
       "2         1\n",
       "10        1\n",
       "Name: Babies, dtype: int64"
      ]
     },
     "execution_count": 6,
     "metadata": {},
     "output_type": "execute_result"
    }
   ],
   "source": [
    "hotel_train['Babies'].value_counts()"
   ]
  },
  {
   "cell_type": "code",
   "execution_count": 7,
   "id": "2620da3d",
   "metadata": {
    "ExecuteTime": {
     "end_time": "2022-12-23T17:50:16.510858Z",
     "start_time": "2022-12-23T17:50:16.473571Z"
    }
   },
   "outputs": [
    {
     "data": {
      "text/html": [
       "<div>\n",
       "<style scoped>\n",
       "    .dataframe tbody tr th:only-of-type {\n",
       "        vertical-align: middle;\n",
       "    }\n",
       "\n",
       "    .dataframe tbody tr th {\n",
       "        vertical-align: top;\n",
       "    }\n",
       "\n",
       "    .dataframe thead th {\n",
       "        text-align: right;\n",
       "    }\n",
       "</style>\n",
       "<table border=\"1\" class=\"dataframe\">\n",
       "  <thead>\n",
       "    <tr style=\"text-align: right;\">\n",
       "      <th></th>\n",
       "      <th>ArrivalYear</th>\n",
       "      <th>ArrivalMonth</th>\n",
       "      <th>ArrivalWeekNumber</th>\n",
       "      <th>ArrivalDayOfMonth</th>\n",
       "      <th>ArrivalHour</th>\n",
       "      <th>WeekendStays</th>\n",
       "      <th>WeekdayStays</th>\n",
       "      <th>Adults</th>\n",
       "      <th>Children</th>\n",
       "      <th>Babies</th>\n",
       "      <th>FirstTimeGuest</th>\n",
       "      <th>AffiliatedCustomer</th>\n",
       "      <th>PreviousReservations</th>\n",
       "      <th>PreviousStays</th>\n",
       "      <th>PreviousCancellations</th>\n",
       "      <th>DaysUntilConfirmation</th>\n",
       "      <th>OnlineReservation</th>\n",
       "      <th>BookingChanges</th>\n",
       "      <th>BookingToArrivalDays</th>\n",
       "      <th>ParkingSpacesBooked</th>\n",
       "      <th>SpecialRequests</th>\n",
       "      <th>PartOfGroup</th>\n",
       "      <th>CompanyReservation</th>\n",
       "      <th>OrderedMealsPerDay</th>\n",
       "      <th>FloorReserved</th>\n",
       "      <th>FloorAssigned</th>\n",
       "      <th>DailyRateEuros</th>\n",
       "      <th>DailyRateUSD</th>\n",
       "      <th>%PaidinAdvance</th>\n",
       "      <th>CountryofOriginAvgIncomeEuros (Year-2)</th>\n",
       "      <th>CountryofOriginAvgIncomeEuros (Year-1)</th>\n",
       "      <th>CountryofOriginHDI (Year-1)</th>\n",
       "      <th>Canceled</th>\n",
       "    </tr>\n",
       "    <tr>\n",
       "      <th>BookingID</th>\n",
       "      <th></th>\n",
       "      <th></th>\n",
       "      <th></th>\n",
       "      <th></th>\n",
       "      <th></th>\n",
       "      <th></th>\n",
       "      <th></th>\n",
       "      <th></th>\n",
       "      <th></th>\n",
       "      <th></th>\n",
       "      <th></th>\n",
       "      <th></th>\n",
       "      <th></th>\n",
       "      <th></th>\n",
       "      <th></th>\n",
       "      <th></th>\n",
       "      <th></th>\n",
       "      <th></th>\n",
       "      <th></th>\n",
       "      <th></th>\n",
       "      <th></th>\n",
       "      <th></th>\n",
       "      <th></th>\n",
       "      <th></th>\n",
       "      <th></th>\n",
       "      <th></th>\n",
       "      <th></th>\n",
       "      <th></th>\n",
       "      <th></th>\n",
       "      <th></th>\n",
       "      <th></th>\n",
       "      <th></th>\n",
       "      <th></th>\n",
       "    </tr>\n",
       "  </thead>\n",
       "  <tbody>\n",
       "    <tr>\n",
       "      <th>28739</th>\n",
       "      <td>2016</td>\n",
       "      <td>1</td>\n",
       "      <td>3</td>\n",
       "      <td>12</td>\n",
       "      <td>19.5</td>\n",
       "      <td>0</td>\n",
       "      <td>2</td>\n",
       "      <td>2</td>\n",
       "      <td>0</td>\n",
       "      <td>10</td>\n",
       "      <td>1</td>\n",
       "      <td>0</td>\n",
       "      <td>0</td>\n",
       "      <td>0</td>\n",
       "      <td>0</td>\n",
       "      <td>0</td>\n",
       "      <td>1</td>\n",
       "      <td>1</td>\n",
       "      <td>37</td>\n",
       "      <td>0</td>\n",
       "      <td>1</td>\n",
       "      <td>0</td>\n",
       "      <td>1</td>\n",
       "      <td>1</td>\n",
       "      <td>3</td>\n",
       "      <td>3</td>\n",
       "      <td>84.45</td>\n",
       "      <td>83.6055</td>\n",
       "      <td>0.0</td>\n",
       "      <td>28742.44</td>\n",
       "      <td>29668.86</td>\n",
       "      <td>0.842</td>\n",
       "      <td>0</td>\n",
       "    </tr>\n",
       "  </tbody>\n",
       "</table>\n",
       "</div>"
      ],
      "text/plain": [
       "           ArrivalYear  ArrivalMonth  ArrivalWeekNumber  ArrivalDayOfMonth  \\\n",
       "BookingID                                                                    \n",
       "28739             2016             1                  3                 12   \n",
       "\n",
       "           ArrivalHour  WeekendStays  WeekdayStays  Adults  Children  Babies  \\\n",
       "BookingID                                                                      \n",
       "28739             19.5             0             2       2         0      10   \n",
       "\n",
       "           FirstTimeGuest  AffiliatedCustomer  PreviousReservations  \\\n",
       "BookingID                                                             \n",
       "28739                   1                   0                     0   \n",
       "\n",
       "           PreviousStays  PreviousCancellations  DaysUntilConfirmation  \\\n",
       "BookingID                                                                \n",
       "28739                  0                      0                      0   \n",
       "\n",
       "           OnlineReservation  BookingChanges  BookingToArrivalDays  \\\n",
       "BookingID                                                            \n",
       "28739                      1               1                    37   \n",
       "\n",
       "           ParkingSpacesBooked  SpecialRequests  PartOfGroup  \\\n",
       "BookingID                                                      \n",
       "28739                        0                1            0   \n",
       "\n",
       "           CompanyReservation  OrderedMealsPerDay  FloorReserved  \\\n",
       "BookingID                                                          \n",
       "28739                       1                   1              3   \n",
       "\n",
       "           FloorAssigned  DailyRateEuros  DailyRateUSD  %PaidinAdvance  \\\n",
       "BookingID                                                                \n",
       "28739                  3           84.45       83.6055             0.0   \n",
       "\n",
       "           CountryofOriginAvgIncomeEuros (Year-2)  \\\n",
       "BookingID                                           \n",
       "28739                                    28742.44   \n",
       "\n",
       "           CountryofOriginAvgIncomeEuros (Year-1)  \\\n",
       "BookingID                                           \n",
       "28739                                    29668.86   \n",
       "\n",
       "           CountryofOriginHDI (Year-1)  Canceled  \n",
       "BookingID                                         \n",
       "28739                            0.842         0  "
      ]
     },
     "execution_count": 7,
     "metadata": {},
     "output_type": "execute_result"
    }
   ],
   "source": [
    "hotel_train.loc[(hotel_train['Babies'] == 10), : ]"
   ]
  },
  {
   "cell_type": "code",
   "execution_count": 8,
   "id": "a42e1387",
   "metadata": {
    "ExecuteTime": {
     "end_time": "2022-12-23T17:50:16.520243Z",
     "start_time": "2022-12-23T17:50:16.514432Z"
    },
    "scrolled": true
   },
   "outputs": [
    {
     "data": {
      "text/plain": [
       "0     13495\n",
       "1       182\n",
       "2        44\n",
       "3        36\n",
       "4        25\n",
       "5        21\n",
       "6        16\n",
       "7        12\n",
       "8        10\n",
       "10        8\n",
       "12        8\n",
       "16        7\n",
       "9         7\n",
       "11        6\n",
       "14        6\n",
       "15        4\n",
       "26        3\n",
       "24        3\n",
       "18        3\n",
       "22        3\n",
       "33        3\n",
       "17        3\n",
       "23        3\n",
       "53        2\n",
       "31        2\n",
       "29        2\n",
       "21        2\n",
       "13        2\n",
       "27        2\n",
       "28        2\n",
       "20        2\n",
       "25        2\n",
       "36        1\n",
       "51        1\n",
       "45        1\n",
       "50        1\n",
       "34        1\n",
       "49        1\n",
       "41        1\n",
       "46        1\n",
       "48        1\n",
       "40        1\n",
       "32        1\n",
       "47        1\n",
       "Name: PreviousReservations, dtype: int64"
      ]
     },
     "execution_count": 8,
     "metadata": {},
     "output_type": "execute_result"
    }
   ],
   "source": [
    "hotel_train['PreviousReservations'].value_counts()"
   ]
  },
  {
   "cell_type": "code",
   "execution_count": 9,
   "id": "1f7cf880",
   "metadata": {
    "ExecuteTime": {
     "end_time": "2022-12-23T17:50:16.527990Z",
     "start_time": "2022-12-23T17:50:16.522421Z"
    }
   },
   "outputs": [
    {
     "data": {
      "text/plain": [
       "0      13775\n",
       "63        24\n",
       "15        12\n",
       "98         8\n",
       "178        6\n",
       "4          6\n",
       "34         6\n",
       "1          5\n",
       "176        5\n",
       "44         4\n",
       "41         4\n",
       "31         4\n",
       "56         4\n",
       "46         3\n",
       "101        3\n",
       "43         3\n",
       "96         3\n",
       "39         3\n",
       "48         3\n",
       "147        3\n",
       "11         3\n",
       "8          3\n",
       "93         2\n",
       "61         2\n",
       "20         2\n",
       "187        2\n",
       "107        2\n",
       "80         2\n",
       "50         2\n",
       "224        2\n",
       "42         2\n",
       "25         2\n",
       "3          2\n",
       "27         2\n",
       "71         1\n",
       "40         1\n",
       "55         1\n",
       "6          1\n",
       "160        1\n",
       "9          1\n",
       "38         1\n",
       "30         1\n",
       "22         1\n",
       "14         1\n",
       "91         1\n",
       "85         1\n",
       "193        1\n",
       "99         1\n",
       "77         1\n",
       "69         1\n",
       "2          1\n",
       "45         1\n",
       "21         1\n",
       "60         1\n",
       "10         1\n",
       "12         1\n",
       "74         1\n",
       "111        1\n",
       "Name: DaysUntilConfirmation, dtype: int64"
      ]
     },
     "execution_count": 9,
     "metadata": {},
     "output_type": "execute_result"
    }
   ],
   "source": [
    "hotel_train['DaysUntilConfirmation'].value_counts() "
   ]
  },
  {
   "cell_type": "code",
   "execution_count": 10,
   "id": "2b6e8d83",
   "metadata": {
    "ExecuteTime": {
     "end_time": "2022-12-23T17:50:16.536117Z",
     "start_time": "2022-12-23T17:50:16.530271Z"
    }
   },
   "outputs": [
    {
     "data": {
      "text/plain": [
       "0    13868\n",
       "1       70\n",
       "Name: AffiliatedCustomer, dtype: int64"
      ]
     },
     "execution_count": 10,
     "metadata": {},
     "output_type": "execute_result"
    }
   ],
   "source": [
    "hotel_train['AffiliatedCustomer'].value_counts()"
   ]
  },
  {
   "cell_type": "code",
   "execution_count": 11,
   "id": "4a47cab6",
   "metadata": {
    "ExecuteTime": {
     "end_time": "2022-12-23T17:50:16.544264Z",
     "start_time": "2022-12-23T17:50:16.538556Z"
    }
   },
   "outputs": [
    {
     "data": {
      "text/plain": [
       "0     11806\n",
       "1      1408\n",
       "2       518\n",
       "3       115\n",
       "4        49\n",
       "5        16\n",
       "6        11\n",
       "7         5\n",
       "8         3\n",
       "13        2\n",
       "15        2\n",
       "17        1\n",
       "21        1\n",
       "14        1\n",
       "Name: BookingChanges, dtype: int64"
      ]
     },
     "execution_count": 11,
     "metadata": {},
     "output_type": "execute_result"
    }
   ],
   "source": [
    "hotel_train['BookingChanges'].value_counts()"
   ]
  },
  {
   "cell_type": "code",
   "execution_count": 12,
   "id": "28231ade",
   "metadata": {
    "ExecuteTime": {
     "end_time": "2022-12-23T17:50:16.568603Z",
     "start_time": "2022-12-23T17:50:16.546455Z"
    }
   },
   "outputs": [
    {
     "data": {
      "text/html": [
       "<div>\n",
       "<style scoped>\n",
       "    .dataframe tbody tr th:only-of-type {\n",
       "        vertical-align: middle;\n",
       "    }\n",
       "\n",
       "    .dataframe tbody tr th {\n",
       "        vertical-align: top;\n",
       "    }\n",
       "\n",
       "    .dataframe thead th {\n",
       "        text-align: right;\n",
       "    }\n",
       "</style>\n",
       "<table border=\"1\" class=\"dataframe\">\n",
       "  <thead>\n",
       "    <tr style=\"text-align: right;\">\n",
       "      <th></th>\n",
       "      <th>ArrivalYear</th>\n",
       "      <th>ArrivalMonth</th>\n",
       "      <th>ArrivalWeekNumber</th>\n",
       "      <th>ArrivalDayOfMonth</th>\n",
       "      <th>ArrivalHour</th>\n",
       "      <th>WeekendStays</th>\n",
       "      <th>WeekdayStays</th>\n",
       "      <th>Adults</th>\n",
       "      <th>Children</th>\n",
       "      <th>Babies</th>\n",
       "      <th>FirstTimeGuest</th>\n",
       "      <th>AffiliatedCustomer</th>\n",
       "      <th>PreviousReservations</th>\n",
       "      <th>PreviousStays</th>\n",
       "      <th>PreviousCancellations</th>\n",
       "      <th>DaysUntilConfirmation</th>\n",
       "      <th>OnlineReservation</th>\n",
       "      <th>BookingChanges</th>\n",
       "      <th>BookingToArrivalDays</th>\n",
       "      <th>ParkingSpacesBooked</th>\n",
       "      <th>SpecialRequests</th>\n",
       "      <th>PartOfGroup</th>\n",
       "      <th>CompanyReservation</th>\n",
       "      <th>OrderedMealsPerDay</th>\n",
       "      <th>FloorReserved</th>\n",
       "      <th>FloorAssigned</th>\n",
       "      <th>DailyRateEuros</th>\n",
       "      <th>DailyRateUSD</th>\n",
       "      <th>%PaidinAdvance</th>\n",
       "      <th>CountryofOriginAvgIncomeEuros (Year-2)</th>\n",
       "      <th>CountryofOriginAvgIncomeEuros (Year-1)</th>\n",
       "      <th>CountryofOriginHDI (Year-1)</th>\n",
       "      <th>Canceled</th>\n",
       "    </tr>\n",
       "    <tr>\n",
       "      <th>BookingID</th>\n",
       "      <th></th>\n",
       "      <th></th>\n",
       "      <th></th>\n",
       "      <th></th>\n",
       "      <th></th>\n",
       "      <th></th>\n",
       "      <th></th>\n",
       "      <th></th>\n",
       "      <th></th>\n",
       "      <th></th>\n",
       "      <th></th>\n",
       "      <th></th>\n",
       "      <th></th>\n",
       "      <th></th>\n",
       "      <th></th>\n",
       "      <th></th>\n",
       "      <th></th>\n",
       "      <th></th>\n",
       "      <th></th>\n",
       "      <th></th>\n",
       "      <th></th>\n",
       "      <th></th>\n",
       "      <th></th>\n",
       "      <th></th>\n",
       "      <th></th>\n",
       "      <th></th>\n",
       "      <th></th>\n",
       "      <th></th>\n",
       "      <th></th>\n",
       "      <th></th>\n",
       "      <th></th>\n",
       "      <th></th>\n",
       "      <th></th>\n",
       "    </tr>\n",
       "  </thead>\n",
       "  <tbody>\n",
       "    <tr>\n",
       "      <th>17712</th>\n",
       "      <td>2016</td>\n",
       "      <td>3</td>\n",
       "      <td>11</td>\n",
       "      <td>11</td>\n",
       "      <td>14.0</td>\n",
       "      <td>14</td>\n",
       "      <td>35</td>\n",
       "      <td>0</td>\n",
       "      <td>0</td>\n",
       "      <td>0</td>\n",
       "      <td>1</td>\n",
       "      <td>0</td>\n",
       "      <td>0</td>\n",
       "      <td>0</td>\n",
       "      <td>0</td>\n",
       "      <td>0</td>\n",
       "      <td>0</td>\n",
       "      <td>21</td>\n",
       "      <td>16</td>\n",
       "      <td>0</td>\n",
       "      <td>0</td>\n",
       "      <td>0</td>\n",
       "      <td>1</td>\n",
       "      <td>1</td>\n",
       "      <td>6</td>\n",
       "      <td>-1</td>\n",
       "      <td>0.0</td>\n",
       "      <td>0.0</td>\n",
       "      <td>0.0</td>\n",
       "      <td>28742.44</td>\n",
       "      <td>29668.86</td>\n",
       "      <td>0.842</td>\n",
       "      <td>0</td>\n",
       "    </tr>\n",
       "  </tbody>\n",
       "</table>\n",
       "</div>"
      ],
      "text/plain": [
       "           ArrivalYear  ArrivalMonth  ArrivalWeekNumber  ArrivalDayOfMonth  \\\n",
       "BookingID                                                                    \n",
       "17712             2016             3                 11                 11   \n",
       "\n",
       "           ArrivalHour  WeekendStays  WeekdayStays  Adults  Children  Babies  \\\n",
       "BookingID                                                                      \n",
       "17712             14.0            14            35       0         0       0   \n",
       "\n",
       "           FirstTimeGuest  AffiliatedCustomer  PreviousReservations  \\\n",
       "BookingID                                                             \n",
       "17712                   1                   0                     0   \n",
       "\n",
       "           PreviousStays  PreviousCancellations  DaysUntilConfirmation  \\\n",
       "BookingID                                                                \n",
       "17712                  0                      0                      0   \n",
       "\n",
       "           OnlineReservation  BookingChanges  BookingToArrivalDays  \\\n",
       "BookingID                                                            \n",
       "17712                      0              21                    16   \n",
       "\n",
       "           ParkingSpacesBooked  SpecialRequests  PartOfGroup  \\\n",
       "BookingID                                                      \n",
       "17712                        0                0            0   \n",
       "\n",
       "           CompanyReservation  OrderedMealsPerDay  FloorReserved  \\\n",
       "BookingID                                                          \n",
       "17712                       1                   1              6   \n",
       "\n",
       "           FloorAssigned  DailyRateEuros  DailyRateUSD  %PaidinAdvance  \\\n",
       "BookingID                                                                \n",
       "17712                 -1             0.0           0.0             0.0   \n",
       "\n",
       "           CountryofOriginAvgIncomeEuros (Year-2)  \\\n",
       "BookingID                                           \n",
       "17712                                    28742.44   \n",
       "\n",
       "           CountryofOriginAvgIncomeEuros (Year-1)  \\\n",
       "BookingID                                           \n",
       "17712                                    29668.86   \n",
       "\n",
       "           CountryofOriginHDI (Year-1)  Canceled  \n",
       "BookingID                                         \n",
       "17712                            0.842         0  "
      ]
     },
     "execution_count": 12,
     "metadata": {},
     "output_type": "execute_result"
    }
   ],
   "source": [
    "hotel_train.loc[(hotel_train['BookingChanges'] == 21), : ]"
   ]
  },
  {
   "cell_type": "markdown",
   "id": "03b53547",
   "metadata": {
    "ExecuteTime": {
     "end_time": "2022-12-22T14:47:03.675502Z",
     "start_time": "2022-12-22T14:47:03.673137Z"
    }
   },
   "source": [
    "### Removing Features that are always the same"
   ]
  },
  {
   "cell_type": "code",
   "execution_count": 13,
   "id": "787bb583",
   "metadata": {
    "ExecuteTime": {
     "end_time": "2022-12-23T17:50:16.577738Z",
     "start_time": "2022-12-23T17:50:16.571179Z"
    }
   },
   "outputs": [],
   "source": [
    "hotel_train.drop(['CompanyReservation', 'ArrivalYear'], axis=1, inplace=True)\n",
    "hotel_test.drop(['CompanyReservation', 'ArrivalYear'], axis=1, inplace=True)"
   ]
  },
  {
   "cell_type": "markdown",
   "id": "0460dc00",
   "metadata": {
    "ExecuteTime": {
     "end_time": "2022-12-22T14:49:02.036265Z",
     "start_time": "2022-12-22T14:49:02.033961Z"
    }
   },
   "source": [
    "## Preparing the data for Classification"
   ]
  },
  {
   "cell_type": "markdown",
   "id": "20f96808",
   "metadata": {
    "ExecuteTime": {
     "end_time": "2022-12-22T14:50:09.097919Z",
     "start_time": "2022-12-22T14:50:09.095600Z"
    }
   },
   "source": [
    "### Separating Dependent and Independent Features"
   ]
  },
  {
   "cell_type": "code",
   "execution_count": 14,
   "id": "d5f3f25c",
   "metadata": {
    "ExecuteTime": {
     "end_time": "2022-12-23T17:50:16.584761Z",
     "start_time": "2022-12-23T17:50:16.579967Z"
    }
   },
   "outputs": [],
   "source": [
    "X = hotel_train.drop(['Canceled'], axis=1)\n",
    "y = hotel_train['Canceled']"
   ]
  },
  {
   "cell_type": "markdown",
   "id": "8d8f2aae",
   "metadata": {
    "ExecuteTime": {
     "end_time": "2022-12-22T14:50:44.449251Z",
     "start_time": "2022-12-22T14:50:44.446931Z"
    }
   },
   "source": [
    "### Performing a separation between training and validation data"
   ]
  },
  {
   "cell_type": "code",
   "execution_count": 15,
   "id": "1efdaa5e",
   "metadata": {
    "ExecuteTime": {
     "end_time": "2022-12-23T17:50:16.600065Z",
     "start_time": "2022-12-23T17:50:16.586802Z"
    }
   },
   "outputs": [],
   "source": [
    "X_train, X_val, y_train, y_val = train_test_split(X,\n",
    "                                                  y,\n",
    "                                                  test_size=0.25,\n",
    "                                                  random_state=42,\n",
    "                                                  shuffle=True,\n",
    "                                                  stratify=y)"
   ]
  },
  {
   "cell_type": "markdown",
   "id": "2f025289",
   "metadata": {
    "ExecuteTime": {
     "end_time": "2022-12-22T14:52:44.788254Z",
     "start_time": "2022-12-22T14:52:44.786019Z"
    }
   },
   "source": [
    "### Split between Categorical and Numerical features"
   ]
  },
  {
   "cell_type": "code",
   "execution_count": 16,
   "id": "31c0d041",
   "metadata": {
    "ExecuteTime": {
     "end_time": "2022-12-23T17:50:16.606065Z",
     "start_time": "2022-12-23T17:50:16.602568Z"
    }
   },
   "outputs": [],
   "source": [
    "num_features = [\n",
    "    'ArrivalMonth', 'ArrivalWeekNumber', 'ArrivalDayOfMonth', 'ArrivalHour',\n",
    "    'WeekendStays', 'WeekdayStays', 'PreviousReservations', 'PreviousStays',\n",
    "    'PreviousCancellations', 'DaysUntilConfirmation', 'BookingChanges',\n",
    "    'BookingToArrivalDays', 'SpecialRequests', 'FloorReserved',\n",
    "    'FloorAssigned', 'DailyRateEuros', 'DailyRateUSD',\n",
    "    'CountryofOriginAvgIncomeEuros (Year-2)',\n",
    "    'CountryofOriginAvgIncomeEuros (Year-1)', 'CountryofOriginHDI (Year-1)'\n",
    "]\n",
    "categ_features = [\n",
    "    'Adults', 'Children', 'Babies', 'FirstTimeGuest', 'AffiliatedCustomer',\n",
    "    'OnlineReservation', 'ParkingSpacesBooked', 'PartOfGroup',\n",
    "    'OrderedMealsPerDay', '%PaidinAdvance'\n",
    "]"
   ]
  },
  {
   "cell_type": "markdown",
   "id": "43821cf6",
   "metadata": {
    "ExecuteTime": {
     "end_time": "2022-12-22T14:53:16.971396Z",
     "start_time": "2022-12-22T14:53:16.969038Z"
    }
   },
   "source": [
    "## Feature Selection"
   ]
  },
  {
   "cell_type": "markdown",
   "id": "465bc817",
   "metadata": {
    "ExecuteTime": {
     "end_time": "2022-12-22T14:53:29.943714Z",
     "start_time": "2022-12-22T14:53:29.941271Z"
    }
   },
   "source": [
    "### Numeric Features"
   ]
  },
  {
   "cell_type": "markdown",
   "id": "fadf850c",
   "metadata": {
    "ExecuteTime": {
     "end_time": "2022-12-22T14:54:13.309437Z",
     "start_time": "2022-12-22T14:54:13.307197Z"
    }
   },
   "source": [
    "#### Data Scaling"
   ]
  },
  {
   "cell_type": "code",
   "execution_count": 17,
   "id": "1d59520a",
   "metadata": {
    "ExecuteTime": {
     "end_time": "2022-12-23T17:50:16.714840Z",
     "start_time": "2022-12-23T17:50:16.608117Z"
    }
   },
   "outputs": [],
   "source": [
    "# scaler chosen\n",
    "choosen_scaler = MinMaxScaler()\n",
    "# RobustScaler()\n",
    "# StandardScaler()\n",
    "\n",
    "# apply same transformation for train data\n",
    "X_train[num_features] = choosen_scaler.fit_transform(X_train[num_features])\n",
    "\n",
    "\n",
    "# apply same transformation for validation data\n",
    "X_val[num_features] = choosen_scaler.transform(X_val[num_features])\n",
    "\n",
    "\n",
    "hotel_test[num_features] = choosen_scaler.transform(hotel_test[num_features])"
   ]
  },
  {
   "cell_type": "markdown",
   "id": "8ce08c37",
   "metadata": {
    "ExecuteTime": {
     "end_time": "2022-12-22T14:54:59.009099Z",
     "start_time": "2022-12-22T14:54:59.006891Z"
    }
   },
   "source": [
    "#### Performing Spearman's Correlation"
   ]
  },
  {
   "cell_type": "code",
   "execution_count": 18,
   "id": "d8025b15",
   "metadata": {
    "ExecuteTime": {
     "end_time": "2022-12-23T17:50:16.720677Z",
     "start_time": "2022-12-23T17:50:16.717160Z"
    }
   },
   "outputs": [],
   "source": [
    "def cor_heatmap(cor):\n",
    "    plt.figure(figsize=(12, 10))\n",
    "    sns.heatmap(data=cor, annot=True, cmap=plt.cm.Blues, fmt='.1')\n",
    "    plt.show()"
   ]
  },
  {
   "cell_type": "code",
   "execution_count": 19,
   "id": "8ac4e0ac",
   "metadata": {
    "ExecuteTime": {
     "end_time": "2022-12-23T17:50:19.833976Z",
     "start_time": "2022-12-23T17:50:16.723192Z"
    }
   },
   "outputs": [
    {
     "data": {
      "image/png": "[encoded data removed]",
      "text/plain": [
       "<Figure size 864x720 with 2 Axes>"
      ]
     },
     "metadata": {},
     "output_type": "display_data"
    }
   ],
   "source": [
    "cor_spearman = X_train[num_features].join(other=y_train).corr(\n",
    "    method='spearman')\n",
    "cor_heatmap(cor_spearman)"
   ]
  },
  {
   "cell_type": "markdown",
   "id": "c341150b",
   "metadata": {
    "ExecuteTime": {
     "end_time": "2022-12-22T14:57:07.605952Z",
     "start_time": "2022-12-22T14:57:07.601591Z"
    }
   },
   "source": [
    "Overall there are **low** correlations between all numeric features and the target (Cancelled). However, there are some features that are highly correlated between themselves, like *CountryOfOriginAverageIncomeEuros (Year-2)*, *CountryOfOriginAverageIncomeEuros (Year-1)* and *CountryOfOriginHDI (Year-1)*, as well as *ArrivalWeekNumber* and *ArrivalWeekMonth*. In addition to these, *DailyRateEuros* and *DailyRateUSD* also have a really high correlation."
   ]
  },
  {
   "cell_type": "markdown",
   "id": "bfc0d7e2",
   "metadata": {
    "ExecuteTime": {
     "end_time": "2022-12-22T15:01:49.521339Z",
     "start_time": "2022-12-22T15:01:49.518885Z"
    }
   },
   "source": [
    "#### Performing Lasso Regression"
   ]
  },
  {
   "cell_type": "code",
   "execution_count": 20,
   "id": "dfdba2ce",
   "metadata": {
    "ExecuteTime": {
     "end_time": "2022-12-23T17:50:20.272582Z",
     "start_time": "2022-12-23T17:50:19.836043Z"
    }
   },
   "outputs": [],
   "source": [
    "# fit regression\n",
    "reg = LassoCV().fit(X_train[num_features], y_train)\n",
    "# get coefficients\n",
    "coef = pd.Series(reg.coef_, index=X_train[num_features].columns)"
   ]
  },
  {
   "cell_type": "code",
   "execution_count": 21,
   "id": "810cfe26",
   "metadata": {
    "ExecuteTime": {
     "end_time": "2022-12-23T17:50:20.598240Z",
     "start_time": "2022-12-23T17:50:20.275502Z"
    }
   },
   "outputs": [
    {
     "data": {
      "image/png": "[encoded data removed]",
      "text/plain": [
       "<Figure size 576x720 with 1 Axes>"
      ]
     },
     "metadata": {},
     "output_type": "display_data"
    }
   ],
   "source": [
    "def plot_importance(coef, name):\n",
    "    imp_coef = coef.sort_values()\n",
    "    plt.figure(figsize=(8, 10))\n",
    "    imp_coef.plot(kind=\"barh\")\n",
    "    plt.title(\"Feature importance using \" + name + \" Model\")\n",
    "    plt.show()\n",
    "\n",
    "\n",
    "plot_importance(coef, 'Lasso')"
   ]
  },
  {
   "cell_type": "markdown",
   "id": "38c6ef92",
   "metadata": {},
   "source": [
    "According to Lasso, *DailyRateUSD*, *DaysUntilConfirmation*, *PreviousReservations* and *ArrivalHour* can be removed."
   ]
  },
  {
   "cell_type": "markdown",
   "id": "595cea8f",
   "metadata": {
    "ExecuteTime": {
     "end_time": "2022-12-22T15:06:17.165735Z",
     "start_time": "2022-12-22T15:06:17.163427Z"
    }
   },
   "source": [
    "#### Performing Recursive Feature Selection (RFE)"
   ]
  },
  {
   "cell_type": "code",
   "execution_count": 22,
   "id": "22a993d3",
   "metadata": {
    "ExecuteTime": {
     "end_time": "2022-12-23T17:50:38.202585Z",
     "start_time": "2022-12-23T17:50:20.600435Z"
    }
   },
   "outputs": [
    {
     "name": "stdout",
     "output_type": "stream",
     "text": [
      "Optimum number of features: 19\n",
      "Score with 19 features: 0.689240\n"
     ]
    }
   ],
   "source": [
    "# Choosing the Number of feaures\n",
    "nof_list = np.arange(1, 20)\n",
    "high_score = 0\n",
    "# Variable to store the optimum features\n",
    "nof = 0\n",
    "score_list = []\n",
    "for n in range(len(nof_list)):\n",
    "    model = DecisionTreeClassifier()\n",
    "    rfe = RFE(model, n_features_to_select=nof_list[n])\n",
    "    X_train_rfe = rfe.fit_transform(X_train[num_features], y_train)\n",
    "    X_val_rfe = rfe.transform(X_val[num_features])\n",
    "    model.fit(X_train_rfe, y_train)\n",
    "\n",
    "    score = model.score(X_val_rfe, y_val)\n",
    "    score_list.append(score)\n",
    "\n",
    "    if (score > high_score):\n",
    "        high_score = score\n",
    "        nof = nof_list[n]\n",
    "print(\"Optimum number of features: %d\" % nof)\n",
    "print(\"Score with %d features: %f\" % (nof, high_score))"
   ]
  },
  {
   "cell_type": "code",
   "execution_count": 23,
   "id": "e7145c5a",
   "metadata": {
    "ExecuteTime": {
     "end_time": "2022-12-23T17:50:38.493610Z",
     "start_time": "2022-12-23T17:50:38.204953Z"
    }
   },
   "outputs": [
    {
     "data": {
      "text/plain": [
       "ArrivalMonth                               True\n",
       "ArrivalWeekNumber                          True\n",
       "ArrivalDayOfMonth                          True\n",
       "ArrivalHour                                True\n",
       "WeekendStays                               True\n",
       "WeekdayStays                               True\n",
       "PreviousReservations                       True\n",
       "PreviousStays                             False\n",
       "PreviousCancellations                      True\n",
       "DaysUntilConfirmation                     False\n",
       "BookingChanges                             True\n",
       "BookingToArrivalDays                       True\n",
       "SpecialRequests                            True\n",
       "FloorReserved                              True\n",
       "FloorAssigned                              True\n",
       "DailyRateEuros                             True\n",
       "DailyRateUSD                               True\n",
       "CountryofOriginAvgIncomeEuros (Year-2)     True\n",
       "CountryofOriginAvgIncomeEuros (Year-1)     True\n",
       "CountryofOriginHDI (Year-1)                True\n",
       "dtype: bool"
      ]
     },
     "execution_count": 23,
     "metadata": {},
     "output_type": "execute_result"
    }
   ],
   "source": [
    "model = DecisionTreeClassifier()\n",
    "rfe = RFE(estimator=model, n_features_to_select=18)\n",
    "X_rfe = rfe.fit_transform(X=X_train[num_features], y=y_train)\n",
    "selected_features = pd.Series(rfe.support_,\n",
    "                              index=X_train[num_features].columns)\n",
    "selected_features"
   ]
  },
  {
   "cell_type": "markdown",
   "id": "e4056da8",
   "metadata": {
    "ExecuteTime": {
     "end_time": "2022-12-22T15:09:52.296228Z",
     "start_time": "2022-12-22T15:09:52.292145Z"
    }
   },
   "source": [
    "According to RFE; only *PreviousReservations* can be removed."
   ]
  },
  {
   "cell_type": "markdown",
   "id": "12eee885",
   "metadata": {
    "ExecuteTime": {
     "end_time": "2022-12-22T15:08:50.877384Z",
     "start_time": "2022-12-22T15:08:50.875136Z"
    }
   },
   "source": [
    "### Categorical Data"
   ]
  },
  {
   "cell_type": "markdown",
   "id": "0a8961b8",
   "metadata": {
    "ExecuteTime": {
     "end_time": "2022-12-22T15:11:28.252681Z",
     "start_time": "2022-12-22T15:11:28.250313Z"
    }
   },
   "source": [
    "#### Chi-Squared and Mutual Criterion Test"
   ]
  },
  {
   "cell_type": "code",
   "execution_count": 24,
   "id": "01901359",
   "metadata": {
    "ExecuteTime": {
     "end_time": "2022-12-23T17:50:39.104189Z",
     "start_time": "2022-12-23T17:50:38.495641Z"
    }
   },
   "outputs": [
    {
     "name": "stdout",
     "output_type": "stream",
     "text": [
      "['Children', 'AffiliatedCustomer', 'OnlineReservation', 'ParkingSpacesBooked']\n"
     ]
    }
   ],
   "source": [
    "# Chi-square test\n",
    "threshold = 6\n",
    "high_score_features_chi2 = []\n",
    "scores = []\n",
    "names_Chi2 = []\n",
    "\n",
    "feature_scores = SelectKBest(chi2, k=threshold).fit(\n",
    "    X_train[categ_features], y_train).scores_\n",
    "\n",
    "high_score_features = []\n",
    "for score, f_name in sorted(zip(feature_scores, X_train[categ_features].columns), reverse=True)[:threshold]:\n",
    "    high_score_features_chi2.append(f_name)\n",
    "    scores.append(score)\n",
    "    names_Chi2.append(f_name)\n",
    "    \n",
    "\n",
    "#MIC \n",
    "threshold = 6\n",
    "high_score_features_MIC = []\n",
    "scores = []\n",
    "names_MIC = []\n",
    "feature_scores = mutual_info_classif(X_train[categ_features],y_train, random_state=0)\n",
    "for score, f_name in sorted(zip(feature_scores, X_train[categ_features].columns), reverse=True)[:threshold]:\n",
    "        high_score_features_MIC.append(f_name)\n",
    "        scores.append(score)\n",
    "        names_MIC.append(f_name)\n",
    "        \n",
    "\n",
    "# intersection of the features chosen by both this models\n",
    "common_categ_features = list(set(names_Chi2).intersection(list(names_MIC)))\n",
    "\n",
    "print(common_categ_features)"
   ]
  },
  {
   "cell_type": "markdown",
   "id": "59a213e4",
   "metadata": {
    "ExecuteTime": {
     "end_time": "2022-12-22T15:12:40.314653Z",
     "start_time": "2022-12-22T15:12:40.311213Z"
    }
   },
   "source": [
    "With the chosen threshold, only ['Children', 'ParkingSpacesBooked', 'OnlineReservation', 'AffiliatedCustomer'] are important."
   ]
  },
  {
   "cell_type": "markdown",
   "id": "e11d0093",
   "metadata": {
    "ExecuteTime": {
     "end_time": "2022-12-22T15:09:01.415197Z",
     "start_time": "2022-12-22T15:09:01.412993Z"
    }
   },
   "source": [
    "#### Independence Test"
   ]
  },
  {
   "cell_type": "code",
   "execution_count": 25,
   "id": "41a60ca2",
   "metadata": {
    "ExecuteTime": {
     "end_time": "2022-12-23T17:50:39.261417Z",
     "start_time": "2022-12-23T17:50:39.112704Z"
    }
   },
   "outputs": [
    {
     "name": "stdout",
     "output_type": "stream",
     "text": [
      "Adults is IMPORTANT for Prediction\n",
      "Children is IMPORTANT for Prediction\n",
      "Babies is IMPORTANT for Prediction\n",
      "FirstTimeGuest is IMPORTANT for Prediction\n",
      "AffiliatedCustomer is IMPORTANT for Prediction\n",
      "OnlineReservation is IMPORTANT for Prediction\n",
      "ParkingSpacesBooked is IMPORTANT for Prediction\n",
      "PartOfGroup is IMPORTANT for Prediction\n",
      "OrderedMealsPerDay is IMPORTANT for Prediction\n",
      "%PaidinAdvance is IMPORTANT for Prediction\n"
     ]
    }
   ],
   "source": [
    "def TestIndependence(X, y, var, alpha=0.05):\n",
    "    dfObserved = pd.crosstab(y, X)\n",
    "    chi2, p, dof, expected = stats.chi2_contingency(dfObserved.values)\n",
    "    dfExpected = pd.DataFrame(expected,\n",
    "                              columns=dfObserved.columns,\n",
    "                              index=dfObserved.index)\n",
    "    if p < alpha:\n",
    "        result = \"{0} is IMPORTANT for Prediction\".format(var)\n",
    "    else:\n",
    "        result = \"{0} is NOT an important predictor. (Discard {0} from model)\".format(\n",
    "            var)\n",
    "    print(result)\n",
    "\n",
    "\n",
    "for var in X_train[categ_features]:\n",
    "    TestIndependence(X_train[var], y_train, var)"
   ]
  },
  {
   "cell_type": "markdown",
   "id": "28fdd82e",
   "metadata": {
    "ExecuteTime": {
     "end_time": "2022-12-22T15:10:39.631008Z",
     "start_time": "2022-12-22T15:10:39.627195Z"
    }
   },
   "source": [
    "Following the results of the Independence Test, **all features** are important for prediction."
   ]
  },
  {
   "cell_type": "markdown",
   "id": "75e54b9b",
   "metadata": {
    "ExecuteTime": {
     "end_time": "2022-12-22T15:12:54.735936Z",
     "start_time": "2022-12-22T15:12:54.733758Z"
    }
   },
   "source": [
    "### Final Features"
   ]
  },
  {
   "cell_type": "markdown",
   "id": "cb698b01",
   "metadata": {
    "ExecuteTime": {
     "end_time": "2022-12-22T15:13:28.327925Z",
     "start_time": "2022-12-22T15:13:28.318679Z"
    }
   },
   "source": [
    "\n",
    "\n",
    "\n",
    "**Numerical Data**\n",
    "\n",
    "| Predictor | Spearman | Lasso | RFE | What to do? | \n",
    "| --- | --- | --- | --- | --- |\n",
    "| ArrivalMonth | KEEP | KEEP | KEEP | KEEP |\n",
    "| ArrivalWeekNumber | Drop | KEEP | KEEP | KEEP | \n",
    "| ArrivalDayOfMonth | KEEP | ? | KEEP | *try* |\n",
    "| ArrivalHour | Drop | Drop | KEEP | Drop | \n",
    "| WeekendStays | KEEP | KEEP | KEEP | KEEP | \n",
    "| WeekdayStays | KEEP | KEEP | KEEP | KEEP | \n",
    "| PreviousReservations | Drop | Drop | KEEP | Drop | \n",
    "| PreviousStays | KEEP | KEEP | KEEP | KEEP | \n",
    "| PreviousCancellations | KEEP | KEEP | KEEP | KEEP | \n",
    "| DaysUntilConfirmation | Drop | Drop | Drop | Drop | \n",
    "| BookingChanges | KEEP | KEEP | KEEP | KEEP | \n",
    "| BookingToArrivalDays | KEEP | KEEP | KEEP | KEEP | \n",
    "| SpecialRequests | KEEP | KEEP | KEEP | KEEP | \n",
    "| FloorAssigned | KEEP | KEEP | KEEP | KEEP | \n",
    "| FloorReserved | ? | KEEP | KEEP | *try* | \n",
    "| DailyRateEuros | KEEP | KEEP | KEEP | KEEP | \n",
    "| DailyRateUSD | Drop | Drop | KEEP | Drop | \n",
    "| CountryofOriginAvgIncomeEuros (Year-2) | ? | KEEP | KEEP | *try* | \n",
    "| CountryofOriginAvgIncomeEuros (Year-1) | ? | KEEP | KEEP | *try* | \n",
    "| CountryofOriginHDI (Year-1) | ? | KEEP | KEEP | *try* | \n",
    "\n",
    "\n",
    "<hr>\n",
    "\n",
    "\n",
    "\n",
    "**Categorical Data**\n",
    "\n",
    "| Predictor | Chi-Square | Independence Test | What to do? | \n",
    "| --- | --- | --- | --- |\n",
    "| Adults | Drop | KEEP | Drop | \n",
    "| Children | KEEP | KEEP | KEEP | \n",
    "| Babies | Drop | KEEP | Drop | \n",
    "| FirstTimeGuest | Drop | KEEP | Drop | \n",
    "| AffiliatedCustomer | KEEP | KEEP | Drop | \n",
    "| OnlineReservation | KEEP | KEEP | KEEP | \n",
    "| ParkingSpacesBooked | KEEP | KEEP | KEEP | \n",
    "| PartOfGroup | Drop | KEEP | Drop | \n",
    "| OrderedMealsPerDay | Drop | KEEP | Drop | \n",
    "| %PaidinAdvance | Drop | KEEP | Drop | \n",
    "\n",
    "<hr>\n"
   ]
  },
  {
   "cell_type": "markdown",
   "id": "2c43a89c",
   "metadata": {
    "ExecuteTime": {
     "end_time": "2022-12-22T15:14:38.311169Z",
     "start_time": "2022-12-22T15:14:38.308880Z"
    }
   },
   "source": [
    "#### Joining the final features in a list"
   ]
  },
  {
   "cell_type": "code",
   "execution_count": 104,
   "id": "83730c85",
   "metadata": {
    "ExecuteTime": {
     "end_time": "2022-12-23T18:03:31.902363Z",
     "start_time": "2022-12-23T18:03:31.894077Z"
    }
   },
   "outputs": [],
   "source": [
    "final_num_features = [\n",
    "    i for i in num_features if i not in [\n",
    "        'ArrivalHour', 'PreviousReservations', 'DaysUntilConfirmation',\n",
    "        'DailyRateUSD', 'ArrivalDayOfMonth',\n",
    "        'CountryofOriginAvgIncomeEuros (Year-2)', 'PreviousStays',\n",
    "        'PreviousCancellations'\n",
    "    ]\n",
    "]\n",
    "\n",
    "features_selected = common_categ_features + final_num_features\n",
    "features_selected.remove('AffiliatedCustomer')\n",
    "\n",
    "X_train_final = X_train[features_selected]\n",
    "X_val_final = X_val[features_selected]"
   ]
  },
  {
   "cell_type": "markdown",
   "id": "b929543f",
   "metadata": {
    "ExecuteTime": {
     "end_time": "2022-12-22T15:20:25.053953Z",
     "start_time": "2022-12-22T15:20:25.051748Z"
    }
   },
   "source": [
    "## Modeling"
   ]
  },
  {
   "cell_type": "markdown",
   "id": "cf257d92",
   "metadata": {
    "ExecuteTime": {
     "end_time": "2022-12-22T15:20:52.984332Z",
     "start_time": "2022-12-22T15:20:52.981918Z"
    }
   },
   "source": [
    "### Decision Tree Classifier"
   ]
  },
  {
   "cell_type": "code",
   "execution_count": 27,
   "id": "a0e56b36",
   "metadata": {
    "ExecuteTime": {
     "end_time": "2022-12-23T17:50:39.321568Z",
     "start_time": "2022-12-23T17:50:39.273687Z"
    }
   },
   "outputs": [],
   "source": [
    "decision_t = DecisionTreeClassifier(max_depth=9).fit(X=X_train_final,\n",
    "                                                     y=y_train)\n",
    "\n",
    "dt_train_pred = decision_t.predict(X_train_final)\n",
    "dt_val_pred = decision_t.predict(X_val_final)"
   ]
  },
  {
   "cell_type": "markdown",
   "id": "15ce9961",
   "metadata": {
    "ExecuteTime": {
     "end_time": "2022-12-22T15:23:28.718747Z",
     "start_time": "2022-12-22T15:23:28.716587Z"
    }
   },
   "source": [
    "### Logistic Regression"
   ]
  },
  {
   "cell_type": "code",
   "execution_count": 28,
   "id": "e5e042fc",
   "metadata": {
    "ExecuteTime": {
     "end_time": "2022-12-23T17:50:39.444479Z",
     "start_time": "2022-12-23T17:50:39.323807Z"
    }
   },
   "outputs": [],
   "source": [
    "logistic_reg = LogisticRegression(class_weight='balanced').fit(X=X_train_final,\n",
    "                                                               y=y_train)\n",
    "\n",
    "logistic_train_pred = logistic_reg.predict(X_train_final)\n",
    "logistic_val_pred = logistic_reg.predict(X_val_final)"
   ]
  },
  {
   "cell_type": "markdown",
   "id": "3c2214c4",
   "metadata": {},
   "source": [
    "### K-Neighbours Classifier"
   ]
  },
  {
   "cell_type": "code",
   "execution_count": 29,
   "id": "64d38c81",
   "metadata": {
    "ExecuteTime": {
     "end_time": "2022-12-23T17:50:41.615956Z",
     "start_time": "2022-12-23T17:50:39.446999Z"
    }
   },
   "outputs": [],
   "source": [
    "knn = KNeighborsClassifier().fit(X=X_train_final, y=y_train)\n",
    "\n",
    "knn_train_pred = knn.predict(X_train_final)\n",
    "knn_val_pred = knn.predict(X_val_final)"
   ]
  },
  {
   "cell_type": "markdown",
   "id": "f3da0a75",
   "metadata": {},
   "source": [
    "### Gaussian NB (Naïve Bayes)"
   ]
  },
  {
   "cell_type": "code",
   "execution_count": 30,
   "id": "701b708f",
   "metadata": {
    "ExecuteTime": {
     "end_time": "2022-12-23T17:50:41.634434Z",
     "start_time": "2022-12-23T17:50:41.618203Z"
    }
   },
   "outputs": [],
   "source": [
    "bayes = GaussianNB().fit(X=X_train_final, y=y_train)\n",
    "\n",
    "bayes_train_pred = bayes.predict(X_train_final)\n",
    "bayes_val_pred = bayes.predict(X_val_final)"
   ]
  },
  {
   "cell_type": "markdown",
   "id": "c63ac810",
   "metadata": {
    "ExecuteTime": {
     "end_time": "2022-12-22T15:23:28.722991Z",
     "start_time": "2022-12-22T15:23:28.720742Z"
    }
   },
   "source": [
    "### Neural Networks (MLP Classifier)"
   ]
  },
  {
   "cell_type": "code",
   "execution_count": 31,
   "id": "ab693021",
   "metadata": {
    "ExecuteTime": {
     "end_time": "2022-12-23T17:50:50.260744Z",
     "start_time": "2022-12-23T17:50:41.636565Z"
    }
   },
   "outputs": [],
   "source": [
    "neural_net = MLPClassifier(beta_2 = 0.8, beta_1 = 0.6).fit(X=X_train_final, y=y_train)\n",
    "\n",
    "neural_net_train_pred = neural_net.predict(X_train_final)\n",
    "neural_net_val_pred = neural_net.predict(X_val_final)"
   ]
  },
  {
   "cell_type": "markdown",
   "id": "03cec51e",
   "metadata": {
    "ExecuteTime": {
     "end_time": "2022-12-22T15:23:28.733446Z",
     "start_time": "2022-12-22T15:23:28.730971Z"
    }
   },
   "source": [
    "### Random Forest Classifier"
   ]
  },
  {
   "cell_type": "code",
   "execution_count": 126,
   "id": "1bfc301b",
   "metadata": {
    "ExecuteTime": {
     "end_time": "2022-12-23T18:31:13.431508Z",
     "start_time": "2022-12-23T18:31:05.314592Z"
    }
   },
   "outputs": [],
   "source": [
    "forest = RandomForestClassifier(max_depth=20,\n",
    "                                n_estimators=500,\n",
    "                               random_state=34).fit(X=X_train_final,\n",
    "                                                     y=y_train)\n",
    "\n",
    "forest_train_pred = forest.predict(X_train_final)\n",
    "\n",
    "forest_val_pred = forest.predict(X_val_final)"
   ]
  },
  {
   "cell_type": "code",
   "execution_count": 118,
   "id": "8d63481e",
   "metadata": {
    "ExecuteTime": {
     "end_time": "2022-12-23T18:28:03.507530Z",
     "start_time": "2022-12-23T18:28:03.443117Z"
    }
   },
   "outputs": [
    {
     "data": {
      "text/plain": [
       "Children                                  0.014393\n",
       "OnlineReservation                         0.019119\n",
       "ParkingSpacesBooked                       0.021518\n",
       "FloorReserved                             0.024777\n",
       "BookingChanges                            0.031625\n",
       "FloorAssigned                             0.038227\n",
       "WeekendStays                              0.038571\n",
       "ArrivalMonth                              0.059234\n",
       "WeekdayStays                              0.060523\n",
       "CountryofOriginHDI (Year-1)               0.072375\n",
       "CountryofOriginAvgIncomeEuros (Year-1)    0.075189\n",
       "SpecialRequests                           0.095764\n",
       "ArrivalWeekNumber                         0.105781\n",
       "DailyRateEuros                            0.160507\n",
       "BookingToArrivalDays                      0.182396\n",
       "dtype: float64"
      ]
     },
     "execution_count": 118,
     "metadata": {},
     "output_type": "execute_result"
    }
   ],
   "source": [
    "imp = pd.Series(forest.feature_importances_, index=X_train_final.columns)\n",
    "imp.sort_values(ascending=True)"
   ]
  },
  {
   "cell_type": "code",
   "execution_count": 131,
   "id": "d35de781",
   "metadata": {
    "ExecuteTime": {
     "end_time": "2022-12-23T18:33:17.856969Z",
     "start_time": "2022-12-23T18:33:17.844439Z"
    }
   },
   "outputs": [
    {
     "name": "stdout",
     "output_type": "stream",
     "text": [
      "              precision    recall  f1-score   support\n",
      "\n",
      "           0       0.87      0.81      0.84      2346\n",
      "           1       0.65      0.75      0.70      1139\n",
      "\n",
      "    accuracy                           0.79      3485\n",
      "   macro avg       0.76      0.78      0.77      3485\n",
      "weighted avg       0.80      0.79      0.79      3485\n",
      "\n"
     ]
    }
   ],
   "source": [
    "print(classification_report(forest_val_pred, y_val))\n",
    "# 0.6991005723630418"
   ]
  },
  {
   "cell_type": "markdown",
   "id": "b8d48d43",
   "metadata": {
    "ExecuteTime": {
     "end_time": "2022-12-22T15:23:31.715649Z",
     "start_time": "2022-12-22T15:23:31.713371Z"
    }
   },
   "source": [
    "### Stochastic Gradient Classifier"
   ]
  },
  {
   "cell_type": "code",
   "execution_count": 35,
   "id": "7d07fe59",
   "metadata": {
    "ExecuteTime": {
     "end_time": "2022-12-23T17:50:58.327586Z",
     "start_time": "2022-12-23T17:50:58.219633Z"
    }
   },
   "outputs": [],
   "source": [
    "clf = SGDClassifier(penalty='elasticnet', l1_ratio=0.5,\n",
    "                    loss='modified_huber', shuffle = True, random_state = 42).fit(X=X_train_final, y=y_train)\n",
    "\n",
    "clf_train_pred = clf.predict(X_train_final)\n",
    "clf_val_pred = clf.predict(X_val_final)"
   ]
  },
  {
   "cell_type": "markdown",
   "id": "5bca39a5",
   "metadata": {
    "ExecuteTime": {
     "end_time": "2022-12-22T15:23:54.345727Z",
     "start_time": "2022-12-22T15:23:54.343437Z"
    }
   },
   "source": [
    "### Gradient Boosting Classifier"
   ]
  },
  {
   "cell_type": "code",
   "execution_count": 36,
   "id": "9a8275c4",
   "metadata": {
    "ExecuteTime": {
     "end_time": "2022-12-23T17:51:02.350889Z",
     "start_time": "2022-12-23T17:50:58.330398Z"
    }
   },
   "outputs": [],
   "source": [
    "gbc = GradientBoostingClassifier(random_state = 42, max_depth = 8).fit(X=X_train_final, y=y_train)\n",
    "\n",
    "gbc_train_pred = gbc.predict(X_train_final)\n",
    "gbc_val_pred = gbc.predict(X_val_final)"
   ]
  },
  {
   "cell_type": "markdown",
   "id": "0f99a9a0",
   "metadata": {
    "ExecuteTime": {
     "end_time": "2022-12-22T15:24:05.924730Z",
     "start_time": "2022-12-22T15:24:05.922408Z"
    }
   },
   "source": [
    "### Support Vector Machine"
   ]
  },
  {
   "cell_type": "code",
   "execution_count": 37,
   "id": "6dcc95ef",
   "metadata": {
    "ExecuteTime": {
     "end_time": "2022-12-23T17:51:18.590846Z",
     "start_time": "2022-12-23T17:51:02.352691Z"
    }
   },
   "outputs": [],
   "source": [
    "svm_ = svm.SVC().fit(X=X_train_final, y=y_train)\n",
    "\n",
    "svm_train_pred = svm_.predict(X_train_final)\n",
    "svm_val_pred = svm_.predict(X_val_final)"
   ]
  },
  {
   "cell_type": "markdown",
   "id": "282c6e2e",
   "metadata": {
    "ExecuteTime": {
     "end_time": "2022-12-22T15:24:18.812756Z",
     "start_time": "2022-12-22T15:24:18.810434Z"
    }
   },
   "source": [
    "### Extra Tree Classifier"
   ]
  },
  {
   "cell_type": "code",
   "execution_count": 38,
   "id": "c6315fe6",
   "metadata": {
    "ExecuteTime": {
     "end_time": "2022-12-23T17:51:20.156307Z",
     "start_time": "2022-12-23T17:51:18.593184Z"
    }
   },
   "outputs": [],
   "source": [
    "extra_t = ExtraTreesClassifier().fit(X=X_train_final, y=y_train)\n",
    "\n",
    "extra_t_train_pred = extra_t.predict(X_train_final)\n",
    "extra_t_val_pred = extra_t.predict(X_val_final)"
   ]
  },
  {
   "cell_type": "markdown",
   "id": "34cd34b2",
   "metadata": {
    "ExecuteTime": {
     "end_time": "2022-12-22T15:50:09.847646Z",
     "start_time": "2022-12-22T15:50:09.845374Z"
    }
   },
   "source": [
    "## Parameter Tuning"
   ]
  },
  {
   "cell_type": "markdown",
   "id": "f12b71f4",
   "metadata": {
    "ExecuteTime": {
     "end_time": "2022-12-22T15:50:57.739683Z",
     "start_time": "2022-12-22T15:50:57.735735Z"
    }
   },
   "source": [
    "To be more efficient while testing different parameters and values for each parameter, we used a for loop and GridSearch, changing the model and the tested parameters when necessary."
   ]
  },
  {
   "cell_type": "code",
   "execution_count": 39,
   "id": "205398ab",
   "metadata": {
    "ExecuteTime": {
     "end_time": "2022-12-23T17:51:23.006162Z",
     "start_time": "2022-12-23T17:51:20.158462Z"
    }
   },
   "outputs": [
    {
     "name": "stdout",
     "output_type": "stream",
     "text": [
      "max_depth = 9 highest accuracy - 0.6659099508134696\n"
     ]
    }
   ],
   "source": [
    "max_score = 0\n",
    "for i in range(1, 50):\n",
    "    model = DecisionTreeClassifier(max_depth=i).fit(X_train_final, y_train)\n",
    "    predictions = model.predict(X_val_final)\n",
    "    score = f1_score(y_val, predictions)\n",
    "    if score > max_score:\n",
    "        max_score = score\n",
    "        depth = i\n",
    "\n",
    "print('max_depth =', depth, 'highest accuracy -', max_score)"
   ]
  },
  {
   "cell_type": "code",
   "execution_count": 40,
   "id": "d0ef5f75",
   "metadata": {
    "ExecuteTime": {
     "end_time": "2022-12-23T17:51:23.144930Z",
     "start_time": "2022-12-23T17:51:23.008314Z"
    }
   },
   "outputs": [
    {
     "data": {
      "text/plain": [
       "{}"
      ]
     },
     "execution_count": 40,
     "metadata": {},
     "output_type": "execute_result"
    }
   ],
   "source": [
    "clf = GridSearchCV(estimator=DecisionTreeClassifier(), param_grid={})\n",
    "\n",
    "clf.fit(X_val_final, y_val)\n",
    "clf.best_params_"
   ]
  },
  {
   "cell_type": "markdown",
   "id": "9624e7c0",
   "metadata": {
    "ExecuteTime": {
     "end_time": "2022-12-22T15:24:34.009258Z",
     "start_time": "2022-12-22T15:24:34.006953Z"
    }
   },
   "source": [
    "## Model Evaluation"
   ]
  },
  {
   "cell_type": "markdown",
   "id": "5021952f",
   "metadata": {
    "ExecuteTime": {
     "end_time": "2022-12-22T15:44:02.925430Z",
     "start_time": "2022-12-22T15:44:02.923069Z"
    }
   },
   "source": [
    "### Train"
   ]
  },
  {
   "cell_type": "code",
   "execution_count": 41,
   "id": "73a76663",
   "metadata": {
    "ExecuteTime": {
     "end_time": "2022-12-23T17:51:23.170577Z",
     "start_time": "2022-12-23T17:51:23.147064Z"
    }
   },
   "outputs": [
    {
     "name": "stdout",
     "output_type": "stream",
     "text": [
      "              precision    recall  f1-score   support\n",
      "\n",
      "           0       0.99      0.99      0.99      6517\n",
      "           1       0.98      0.98      0.98      3936\n",
      "\n",
      "    accuracy                           0.99     10453\n",
      "   macro avg       0.99      0.99      0.99     10453\n",
      "weighted avg       0.99      0.99      0.99     10453\n",
      "\n"
     ]
    }
   ],
   "source": [
    "print(classification_report(forest_train_pred, y_train))"
   ]
  },
  {
   "cell_type": "code",
   "execution_count": 42,
   "id": "1e3ba5d3",
   "metadata": {
    "ExecuteTime": {
     "end_time": "2022-12-23T17:51:23.180681Z",
     "start_time": "2022-12-23T17:51:23.172713Z"
    }
   },
   "outputs": [
    {
     "name": "stdout",
     "output_type": "stream",
     "text": [
      "0.9821792260692463\n"
     ]
    }
   ],
   "source": [
    "print(f1_score(forest_train_pred, y_train))"
   ]
  },
  {
   "cell_type": "code",
   "execution_count": 43,
   "id": "bcfdffac",
   "metadata": {
    "ExecuteTime": {
     "end_time": "2022-12-23T17:51:23.194624Z",
     "start_time": "2022-12-23T17:51:23.182673Z"
    }
   },
   "outputs": [
    {
     "name": "stdout",
     "output_type": "stream",
     "text": [
      "[[6455   62]\n",
      " [  78 3858]]\n"
     ]
    }
   ],
   "source": [
    "print(confusion_matrix(forest_train_pred, y_train))"
   ]
  },
  {
   "cell_type": "markdown",
   "id": "1fd02b88",
   "metadata": {
    "ExecuteTime": {
     "end_time": "2022-12-22T15:44:11.730269Z",
     "start_time": "2022-12-22T15:44:11.727991Z"
    }
   },
   "source": [
    "### Validation"
   ]
  },
  {
   "cell_type": "code",
   "execution_count": 44,
   "id": "43c4866f",
   "metadata": {
    "ExecuteTime": {
     "end_time": "2022-12-23T17:51:23.210118Z",
     "start_time": "2022-12-23T17:51:23.197037Z"
    }
   },
   "outputs": [
    {
     "name": "stdout",
     "output_type": "stream",
     "text": [
      "              precision    recall  f1-score   support\n",
      "\n",
      "           0       0.83      0.79      0.81      2279\n",
      "           1       0.64      0.69      0.67      1206\n",
      "\n",
      "    accuracy                           0.76      3485\n",
      "   macro avg       0.73      0.74      0.74      3485\n",
      "weighted avg       0.76      0.76      0.76      3485\n",
      "\n"
     ]
    }
   ],
   "source": [
    "print(classification_report(neural_net_val_pred, y_val))"
   ]
  },
  {
   "cell_type": "code",
   "execution_count": 45,
   "id": "dc8a6317",
   "metadata": {
    "ExecuteTime": {
     "end_time": "2022-12-23T17:51:23.218423Z",
     "start_time": "2022-12-23T17:51:23.212204Z"
    }
   },
   "outputs": [
    {
     "name": "stdout",
     "output_type": "stream",
     "text": [
      "0.6981132075471699\n"
     ]
    }
   ],
   "source": [
    "print(f1_score(forest_val_pred, y_val))"
   ]
  },
  {
   "cell_type": "code",
   "execution_count": 46,
   "id": "02f58ec8",
   "metadata": {
    "ExecuteTime": {
     "end_time": "2022-12-23T17:51:23.227651Z",
     "start_time": "2022-12-23T17:51:23.220419Z"
    }
   },
   "outputs": [
    {
     "name": "stdout",
     "output_type": "stream",
     "text": [
      "[[1898  456]\n",
      " [ 280  851]]\n"
     ]
    }
   ],
   "source": [
    "print(confusion_matrix(forest_val_pred, y_val))"
   ]
  },
  {
   "cell_type": "markdown",
   "id": "a0328c0e",
   "metadata": {
    "ExecuteTime": {
     "end_time": "2022-12-22T15:24:41.975372Z",
     "start_time": "2022-12-22T15:24:41.973148Z"
    }
   },
   "source": [
    "## Exporting to Kaggle"
   ]
  },
  {
   "cell_type": "code",
   "execution_count": 113,
   "id": "da4b7cad",
   "metadata": {
    "ExecuteTime": {
     "end_time": "2022-12-23T18:15:26.181568Z",
     "start_time": "2022-12-23T18:15:25.484936Z"
    }
   },
   "outputs": [],
   "source": [
    "hotel_pred = forest.predict(hotel_test[features_selected])\n",
    "hotel_pred = pd.DataFrame(hotel_pred,\n",
    "                          columns=['Canceled']).set_index(hotel_test.index)"
   ]
  },
  {
   "cell_type": "code",
   "execution_count": 114,
   "id": "c7fb3a17",
   "metadata": {
    "ExecuteTime": {
     "end_time": "2022-12-23T18:15:28.335447Z",
     "start_time": "2022-12-23T18:15:28.321381Z"
    }
   },
   "outputs": [],
   "source": [
    "path = '/Users/antoniooliveira/Desktop/Machine Learning desktop/project/test versions/'\n",
    "hotel_pred.to_csv(path + \"group11_version89.csv\")"
   ]
  }
 ],
 "metadata": {
  "kernelspec": {
   "display_name": "Python 3",
   "language": "python",
   "name": "python3"
  },
  "language_info": {
   "codemirror_mode": {
    "name": "ipython",
    "version": 3
   },
   "file_extension": ".py",
   "mimetype": "text/x-python",
   "name": "python",
   "nbconvert_exporter": "python",
   "pygments_lexer": "ipython3",
   "version": "3.8.8"
  },
  "toc": {
   "base_numbering": 1,
   "nav_menu": {},
   "number_sections": true,
   "sideBar": true,
   "skip_h1_title": false,
   "title_cell": "Table of Contents",
   "title_sidebar": "Contents",
   "toc_cell": false,
   "toc_position": {
    "height": "calc(100% - 180px)",
    "left": "10px",
    "top": "150px",
    "width": "313px"
   },
   "toc_section_display": true,
   "toc_window_display": true
  }
 },
 "nbformat": 4,
 "nbformat_minor": 5
}
