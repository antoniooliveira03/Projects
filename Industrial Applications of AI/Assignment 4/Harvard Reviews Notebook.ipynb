{
 "cells": [
  {
   "cell_type": "markdown",
   "id": "c0f58346",
   "metadata": {},
   "source": [
    "# <center>Sentiment Analysis on Harvard University Reviews</center>\n"
   ]
  },
  {
   "cell_type": "code",
   "execution_count": null,
   "id": "28880c65",
   "metadata": {},
   "outputs": [],
   "source": []
  },
  {
   "cell_type": "markdown",
   "id": "76184e51",
   "metadata": {},
   "source": [
    "# Table of Contents\n",
    "\n",
    "1. [Importing Data & Libraries](#1.-Importing-Data-&-Libraries)\n",
    "\n",
    "    1.1 [Libraries](#1.1-Libraries)\n",
    "    \n",
    "    1.2 [Data](#1.2-Importing-Data)\n",
    "    \n",
    "    1.3 [Initial Exploration](#1.3-Initial-Exploration) <br><br>\n",
    "    \n",
    "2. [Exploratory Data Analysis](#2.Exploratory-Data-Analysis)\n",
    "\n",
    "    2.1 [Missing Values](#2.1-Missing-Values)\n",
    "    \n",
    "    2.2 [Duplicates](#2.2-Duplicates)\n",
    "    \n",
    "    2.3 [Feature Engineering](#2.3-Feature-Engineering)"
   ]
  },
  {
   "cell_type": "markdown",
   "id": "3a9d1987",
   "metadata": {},
   "source": [
    "## 1. Importing Data & Libraries"
   ]
  },
  {
   "cell_type": "markdown",
   "id": "be6e28ae",
   "metadata": {},
   "source": [
    "### 1.1 Libraries"
   ]
  },
  {
   "cell_type": "code",
   "execution_count": 4,
   "id": "0cdd3329",
   "metadata": {
    "ExecuteTime": {
     "end_time": "2024-06-17T12:22:08.496778Z",
     "start_time": "2024-06-17T12:22:06.031024Z"
    }
   },
   "outputs": [],
   "source": [
    "import pandas as pd\n",
    "\n",
    "import functions"
   ]
  },
  {
   "cell_type": "markdown",
   "id": "a1f1f941",
   "metadata": {},
   "source": [
    "### 1.2 Data"
   ]
  },
  {
   "cell_type": "code",
   "execution_count": 5,
   "id": "33aa0e7c",
   "metadata": {
    "ExecuteTime": {
     "end_time": "2024-06-17T12:22:08.564725Z",
     "start_time": "2024-06-17T12:22:08.500018Z"
    }
   },
   "outputs": [
    {
     "data": {
      "text/html": [
       "<div>\n",
       "<style scoped>\n",
       "    .dataframe tbody tr th:only-of-type {\n",
       "        vertical-align: middle;\n",
       "    }\n",
       "\n",
       "    .dataframe tbody tr th {\n",
       "        vertical-align: top;\n",
       "    }\n",
       "\n",
       "    .dataframe thead th {\n",
       "        text-align: right;\n",
       "    }\n",
       "</style>\n",
       "<table border=\"1\" class=\"dataframe\">\n",
       "  <thead>\n",
       "    <tr style=\"text-align: right;\">\n",
       "      <th></th>\n",
       "      <th>published_date</th>\n",
       "      <th>published_platform</th>\n",
       "      <th>rating</th>\n",
       "      <th>type</th>\n",
       "      <th>helpful_votes</th>\n",
       "      <th>title</th>\n",
       "      <th>text</th>\n",
       "    </tr>\n",
       "  </thead>\n",
       "  <tbody>\n",
       "    <tr>\n",
       "      <th>0</th>\n",
       "      <td>2023-12-28T08:02:14-05:00</td>\n",
       "      <td>Mobile</td>\n",
       "      <td>5</td>\n",
       "      <td>review</td>\n",
       "      <td>0</td>\n",
       "      <td>Best classes and good environment</td>\n",
       "      <td>Good thanks for everything good work group 👍 h...</td>\n",
       "    </tr>\n",
       "    <tr>\n",
       "      <th>1</th>\n",
       "      <td>2023-12-12T00:38:26-05:00</td>\n",
       "      <td>Desktop</td>\n",
       "      <td>4</td>\n",
       "      <td>review</td>\n",
       "      <td>0</td>\n",
       "      <td>Harvard University</td>\n",
       "      <td>Harvard University was founded in 1636 and is ...</td>\n",
       "    </tr>\n",
       "    <tr>\n",
       "      <th>2</th>\n",
       "      <td>2023-12-10T08:21:35-05:00</td>\n",
       "      <td>Mobile</td>\n",
       "      <td>3</td>\n",
       "      <td>review</td>\n",
       "      <td>0</td>\n",
       "      <td>Walk around campus</td>\n",
       "      <td>We did a walk around most of the Harvard Campu...</td>\n",
       "    </tr>\n",
       "  </tbody>\n",
       "</table>\n",
       "</div>"
      ],
      "text/plain": [
       "              published_date published_platform  rating    type  \\\n",
       "0  2023-12-28T08:02:14-05:00             Mobile       5  review   \n",
       "1  2023-12-12T00:38:26-05:00            Desktop       4  review   \n",
       "2  2023-12-10T08:21:35-05:00             Mobile       3  review   \n",
       "\n",
       "   helpful_votes                               title  \\\n",
       "0              0  Best classes and good environment    \n",
       "1              0                  Harvard University   \n",
       "2              0                  Walk around campus   \n",
       "\n",
       "                                                text  \n",
       "0  Good thanks for everything good work group 👍 h...  \n",
       "1  Harvard University was founded in 1636 and is ...  \n",
       "2  We did a walk around most of the Harvard Campu...  "
      ]
     },
     "execution_count": 5,
     "metadata": {},
     "output_type": "execute_result"
    }
   ],
   "source": [
    "data = pd.read_csv('/Users/antoniooliveira/Projects/Industrial Applications of AI/Assignment 4/harvard_reviews.csv')\n",
    "data.head(3)"
   ]
  },
  {
   "cell_type": "markdown",
   "id": "468fea0b",
   "metadata": {},
   "source": [
    "### 1.3 Initial Exploration"
   ]
  },
  {
   "cell_type": "markdown",
   "id": "1ac227be",
   "metadata": {},
   "source": [
    "**Describe & Info**"
   ]
  },
  {
   "cell_type": "code",
   "execution_count": 6,
   "id": "c7f8c6fd",
   "metadata": {
    "ExecuteTime": {
     "end_time": "2024-06-17T12:22:08.584262Z",
     "start_time": "2024-06-17T12:22:08.566908Z"
    }
   },
   "outputs": [
    {
     "data": {
      "text/html": [
       "<div>\n",
       "<style scoped>\n",
       "    .dataframe tbody tr th:only-of-type {\n",
       "        vertical-align: middle;\n",
       "    }\n",
       "\n",
       "    .dataframe tbody tr th {\n",
       "        vertical-align: top;\n",
       "    }\n",
       "\n",
       "    .dataframe thead th {\n",
       "        text-align: right;\n",
       "    }\n",
       "</style>\n",
       "<table border=\"1\" class=\"dataframe\">\n",
       "  <thead>\n",
       "    <tr style=\"text-align: right;\">\n",
       "      <th></th>\n",
       "      <th>rating</th>\n",
       "      <th>helpful_votes</th>\n",
       "    </tr>\n",
       "  </thead>\n",
       "  <tbody>\n",
       "    <tr>\n",
       "      <th>count</th>\n",
       "      <td>3184.000000</td>\n",
       "      <td>3184.000000</td>\n",
       "    </tr>\n",
       "    <tr>\n",
       "      <th>mean</th>\n",
       "      <td>4.456658</td>\n",
       "      <td>0.498744</td>\n",
       "    </tr>\n",
       "    <tr>\n",
       "      <th>std</th>\n",
       "      <td>0.744024</td>\n",
       "      <td>2.819638</td>\n",
       "    </tr>\n",
       "    <tr>\n",
       "      <th>min</th>\n",
       "      <td>1.000000</td>\n",
       "      <td>0.000000</td>\n",
       "    </tr>\n",
       "    <tr>\n",
       "      <th>25%</th>\n",
       "      <td>4.000000</td>\n",
       "      <td>0.000000</td>\n",
       "    </tr>\n",
       "    <tr>\n",
       "      <th>50%</th>\n",
       "      <td>5.000000</td>\n",
       "      <td>0.000000</td>\n",
       "    </tr>\n",
       "    <tr>\n",
       "      <th>75%</th>\n",
       "      <td>5.000000</td>\n",
       "      <td>1.000000</td>\n",
       "    </tr>\n",
       "    <tr>\n",
       "      <th>max</th>\n",
       "      <td>5.000000</td>\n",
       "      <td>111.000000</td>\n",
       "    </tr>\n",
       "  </tbody>\n",
       "</table>\n",
       "</div>"
      ],
      "text/plain": [
       "            rating  helpful_votes\n",
       "count  3184.000000    3184.000000\n",
       "mean      4.456658       0.498744\n",
       "std       0.744024       2.819638\n",
       "min       1.000000       0.000000\n",
       "25%       4.000000       0.000000\n",
       "50%       5.000000       0.000000\n",
       "75%       5.000000       1.000000\n",
       "max       5.000000     111.000000"
      ]
     },
     "execution_count": 6,
     "metadata": {},
     "output_type": "execute_result"
    }
   ],
   "source": [
    "data.describe()"
   ]
  },
  {
   "cell_type": "code",
   "execution_count": 7,
   "id": "370356a2",
   "metadata": {
    "ExecuteTime": {
     "end_time": "2024-06-17T12:22:08.604018Z",
     "start_time": "2024-06-17T12:22:08.588207Z"
    }
   },
   "outputs": [
    {
     "name": "stdout",
     "output_type": "stream",
     "text": [
      "<class 'pandas.core.frame.DataFrame'>\n",
      "RangeIndex: 3184 entries, 0 to 3183\n",
      "Data columns (total 7 columns):\n",
      " #   Column              Non-Null Count  Dtype \n",
      "---  ------              --------------  ----- \n",
      " 0   published_date      3184 non-null   object\n",
      " 1   published_platform  3184 non-null   object\n",
      " 2   rating              3184 non-null   int64 \n",
      " 3   type                3184 non-null   object\n",
      " 4   helpful_votes       3184 non-null   int64 \n",
      " 5   title               3184 non-null   object\n",
      " 6   text                3184 non-null   object\n",
      "dtypes: int64(2), object(5)\n",
      "memory usage: 174.2+ KB\n"
     ]
    }
   ],
   "source": [
    "data.info()"
   ]
  },
  {
   "cell_type": "markdown",
   "id": "a14dde31",
   "metadata": {},
   "source": [
    "**Unique Values**"
   ]
  },
  {
   "cell_type": "code",
   "execution_count": 8,
   "id": "3a43bfa8",
   "metadata": {
    "ExecuteTime": {
     "end_time": "2024-06-17T12:22:08.620412Z",
     "start_time": "2024-06-17T12:22:08.606712Z"
    }
   },
   "outputs": [
    {
     "data": {
      "text/plain": [
       "published_date        3184\n",
       "published_platform       2\n",
       "rating                   5\n",
       "type                     1\n",
       "helpful_votes           15\n",
       "title                 2891\n",
       "text                  3184\n",
       "dtype: int64"
      ]
     },
     "execution_count": 8,
     "metadata": {},
     "output_type": "execute_result"
    }
   ],
   "source": [
    "data.nunique()"
   ]
  },
  {
   "cell_type": "code",
   "execution_count": 9,
   "id": "e82be10e",
   "metadata": {
    "ExecuteTime": {
     "end_time": "2024-06-17T12:22:08.628638Z",
     "start_time": "2024-06-17T12:22:08.623026Z"
    }
   },
   "outputs": [
    {
     "name": "stdout",
     "output_type": "stream",
     "text": [
      "Unique values in column 'published_platform': \n",
      " ['Mobile' 'Desktop'] \n",
      "\n",
      "\n",
      "Unique values in column 'rating': \n",
      " [5 4 3 1 2] \n",
      "\n",
      "\n",
      "Unique values in column 'type': \n",
      " ['review'] \n",
      "\n",
      "\n",
      "Unique values in column 'helpful_votes': \n",
      " [  0   2   1   3  91   4  19  48   5   7   8   6 111  14  10] \n",
      "\n",
      "\n"
     ]
    }
   ],
   "source": [
    "list_ = ['published_platform', 'rating', 'type', 'helpful_votes']\n",
    "\n",
    "for value in list_:\n",
    "    unique_values = data[value].unique()\n",
    "    print(f\"Unique values in column '{value}': \\n {unique_values} \\n\\n\")\n",
    "\n"
   ]
  },
  {
   "cell_type": "markdown",
   "id": "443f9756",
   "metadata": {},
   "source": [
    "Since the variable *type* is always the same, it will be dropped."
   ]
  },
  {
   "cell_type": "code",
   "execution_count": 10,
   "id": "63409033",
   "metadata": {
    "ExecuteTime": {
     "end_time": "2024-06-17T12:22:08.635414Z",
     "start_time": "2024-06-17T12:22:08.631027Z"
    }
   },
   "outputs": [],
   "source": [
    "data = data.drop('type', axis = 1)"
   ]
  },
  {
   "cell_type": "markdown",
   "id": "b9bcce73",
   "metadata": {},
   "source": [
    "## 2 Exploratory Data Analysis"
   ]
  },
  {
   "cell_type": "markdown",
   "id": "bdb760b6",
   "metadata": {},
   "source": [
    "### 2.1 Missing Values"
   ]
  },
  {
   "cell_type": "code",
   "execution_count": 11,
   "id": "0ec51eea",
   "metadata": {
    "ExecuteTime": {
     "end_time": "2024-06-17T12:22:08.644519Z",
     "start_time": "2024-06-17T12:22:08.637838Z"
    }
   },
   "outputs": [
    {
     "data": {
      "text/plain": [
       "published_date        0\n",
       "published_platform    0\n",
       "rating                0\n",
       "helpful_votes         0\n",
       "title                 0\n",
       "text                  0\n",
       "dtype: int64"
      ]
     },
     "execution_count": 11,
     "metadata": {},
     "output_type": "execute_result"
    }
   ],
   "source": [
    "data.isnull().sum()"
   ]
  },
  {
   "cell_type": "markdown",
   "id": "5d63a105",
   "metadata": {},
   "source": [
    "### 2.2 Duplicates"
   ]
  },
  {
   "cell_type": "code",
   "execution_count": 12,
   "id": "c9ec8344",
   "metadata": {
    "ExecuteTime": {
     "end_time": "2024-06-17T12:22:08.661583Z",
     "start_time": "2024-06-17T12:22:08.647241Z"
    }
   },
   "outputs": [
    {
     "data": {
      "text/html": [
       "<div>\n",
       "<style scoped>\n",
       "    .dataframe tbody tr th:only-of-type {\n",
       "        vertical-align: middle;\n",
       "    }\n",
       "\n",
       "    .dataframe tbody tr th {\n",
       "        vertical-align: top;\n",
       "    }\n",
       "\n",
       "    .dataframe thead th {\n",
       "        text-align: right;\n",
       "    }\n",
       "</style>\n",
       "<table border=\"1\" class=\"dataframe\">\n",
       "  <thead>\n",
       "    <tr style=\"text-align: right;\">\n",
       "      <th></th>\n",
       "      <th>published_date</th>\n",
       "      <th>published_platform</th>\n",
       "      <th>rating</th>\n",
       "      <th>helpful_votes</th>\n",
       "      <th>title</th>\n",
       "      <th>text</th>\n",
       "    </tr>\n",
       "  </thead>\n",
       "  <tbody>\n",
       "  </tbody>\n",
       "</table>\n",
       "</div>"
      ],
      "text/plain": [
       "Empty DataFrame\n",
       "Columns: [published_date, published_platform, rating, helpful_votes, title, text]\n",
       "Index: []"
      ]
     },
     "execution_count": 12,
     "metadata": {},
     "output_type": "execute_result"
    }
   ],
   "source": [
    "data[data.duplicated()]"
   ]
  },
  {
   "cell_type": "markdown",
   "id": "aa41a773",
   "metadata": {},
   "source": [
    "### 2.3 Feature Engineering"
   ]
  },
  {
   "cell_type": "markdown",
   "id": "973d9907",
   "metadata": {},
   "source": [
    "**Published Date**"
   ]
  },
  {
   "cell_type": "code",
   "execution_count": 13,
   "id": "79d1d81f",
   "metadata": {
    "ExecuteTime": {
     "end_time": "2024-06-17T12:22:08.703778Z",
     "start_time": "2024-06-17T12:22:08.667766Z"
    }
   },
   "outputs": [
    {
     "data": {
      "text/plain": [
       "0      2023-12-28 13:02:14+00:00\n",
       "1      2023-12-12 05:38:26+00:00\n",
       "2      2023-12-10 13:21:35+00:00\n",
       "3      2023-11-08 02:20:21+00:00\n",
       "4      2023-10-02 21:40:42+00:00\n",
       "                  ...           \n",
       "3179   2010-10-29 09:47:57+00:00\n",
       "3180   2010-08-23 10:08:51+00:00\n",
       "3181   2010-08-23 04:06:41+00:00\n",
       "3182   2010-06-03 11:37:36+00:00\n",
       "3183   2009-09-27 20:39:18+00:00\n",
       "Name: published_date, Length: 3184, dtype: datetime64[ns, UTC]"
      ]
     },
     "execution_count": 13,
     "metadata": {},
     "output_type": "execute_result"
    }
   ],
   "source": [
    "# Transforming published_date to datetime and setting all observations to the same timezone\n",
    "data['published_date'] = pd.to_datetime(data['published_date'], utc=True)\n",
    "#data['published_date'] = pd.to_datetime(data['published_date'], format='%Y-%m-%dT%H:%M:%S%z')\n",
    "data['published_date']"
   ]
  },
  {
   "cell_type": "markdown",
   "id": "ef7e524e",
   "metadata": {},
   "source": [
    "Extracting Information from the converted variable *published_date*"
   ]
  },
  {
   "cell_type": "code",
   "execution_count": 14,
   "id": "d1cd9858",
   "metadata": {
    "ExecuteTime": {
     "end_time": "2024-06-17T12:22:08.717587Z",
     "start_time": "2024-06-17T12:22:08.706603Z"
    }
   },
   "outputs": [],
   "source": [
    "data['Hour'] = data['published_date'].dt.dayofweek \n",
    "data['Day'] = data['published_date'].dt.day\n",
    "data['Month'] = data['published_date'].dt.month\n",
    "data['Year'] = data['published_date'].dt.year\n",
    "data['Timezone'] = data['published_date'].dt.tz\n"
   ]
  },
  {
   "cell_type": "markdown",
   "id": "999248f1",
   "metadata": {},
   "source": [
    "### 2.3 Outliers"
   ]
  },
  {
   "cell_type": "code",
   "execution_count": null,
   "id": "bb414d49",
   "metadata": {},
   "outputs": [],
   "source": []
  },
  {
   "cell_type": "code",
   "execution_count": null,
   "id": "7b5d44ab",
   "metadata": {},
   "outputs": [],
   "source": []
  },
  {
   "cell_type": "markdown",
   "id": "27b7ff42",
   "metadata": {},
   "source": [
    "## 3. Text Preprocessing"
   ]
  },
  {
   "cell_type": "markdown",
   "id": "bc755585",
   "metadata": {},
   "source": [
    "Having noticed that there are non-English Reviews, the language in each review will now be detected through the usage of the langdetect library"
   ]
  },
  {
   "cell_type": "markdown",
   "id": "b7943b0d",
   "metadata": {},
   "source": [
    "**Language Detection**"
   ]
  },
  {
   "cell_type": "code",
   "execution_count": 17,
   "id": "df39d8ae",
   "metadata": {
    "ExecuteTime": {
     "end_time": "2024-06-17T12:22:24.426253Z",
     "start_time": "2024-06-17T12:22:08.764896Z"
    }
   },
   "outputs": [],
   "source": [
    "data['language'] = data['text'].apply(functions.detect_language)"
   ]
  },
  {
   "cell_type": "markdown",
   "id": "3e184c4c",
   "metadata": {},
   "source": [
    "Listing the Unique Values of Language"
   ]
  },
  {
   "cell_type": "code",
   "execution_count": 18,
   "id": "e1a8b003",
   "metadata": {
    "ExecuteTime": {
     "end_time": "2024-06-17T12:22:24.433815Z",
     "start_time": "2024-06-17T12:22:24.429349Z"
    }
   },
   "outputs": [
    {
     "name": "stdout",
     "output_type": "stream",
     "text": [
      "Unique values in column 'language': \n",
      " ['en' 'de' 'pt' 'es' 'ja' 'fr' 'it' 'pl' 'tr' 'el' 'ru' 'nl' 'sv' 'ko'\n",
      " 'no' 'id' 'zh-cn' 'hu' 'ar' 'he' 'da' 'zh-tw' 'th' 'sk'] \n",
      "\n",
      "\n"
     ]
    }
   ],
   "source": [
    "list_ = ['language']\n",
    "for value in list_:\n",
    "    unique_values = data[value].unique()\n",
    "    print(f\"Unique values in column '{value}': \\n {unique_values} \\n\\n\")"
   ]
  },
  {
   "cell_type": "markdown",
   "id": "518cf20c",
   "metadata": {},
   "source": [
    "Displaying the Number of Observations per Language"
   ]
  },
  {
   "cell_type": "code",
   "execution_count": 27,
   "id": "59891d61",
   "metadata": {
    "ExecuteTime": {
     "end_time": "2024-06-17T12:35:04.875228Z",
     "start_time": "2024-06-17T12:35:04.513061Z"
    }
   },
   "outputs": [
    {
     "data": {
      "image/png": "[encoded data removed]",
      "text/plain": [
       "<Figure size 1000x600 with 1 Axes>"
      ]
     },
     "metadata": {},
     "output_type": "display_data"
    }
   ],
   "source": [
    "#import seaborn as sns\n",
    "import matplotlib.pyplot as plt\n",
    "\n",
    "# Count observations by language\n",
    "language_counts = data['language'].value_counts()\n",
    "\n",
    "# Plotting the counts\n",
    "plt.figure(figsize=(10, 6))\n",
    "language_counts.plot(kind='bar', color='skyblue')\n",
    "plt.title('Number of Observations per Language')\n",
    "plt.xlabel('Language')\n",
    "plt.ylabel('Number of Observations')\n",
    "plt.xticks(rotation=45)\n",
    "plt.show()"
   ]
  },
  {
   "cell_type": "markdown",
   "id": "d4fbf1e6",
   "metadata": {},
   "source": [
    "Even though most observations are in English (~60%), it is worth it to try to translate the remaining observations, since they still constitute a significant part of the dataset.\n",
    "\n",
    "To do so, I explored several options, such as *libretranslatepy*, *translate* libraries and APIs of Google and DeepL.\n",
    "\n",
    "Since the libraries were not working, possibily because of the amount of text in each observation, I decided to experiment with the DeepL API, as follows."
   ]
  },
  {
   "cell_type": "code",
   "execution_count": null,
   "id": "144eca43",
   "metadata": {},
   "outputs": [],
   "source": [
    "from deepl import DeepL\n",
    "translator = DeepL(auth_key='14143fc8-d67d-487d-8605-a715b2691c9d:fx')"
   ]
  },
  {
   "cell_type": "markdown",
   "id": "255c904c",
   "metadata": {},
   "source": [
    "**Translation**"
   ]
  },
  {
   "cell_type": "code",
   "execution_count": 44,
   "id": "d41692ca",
   "metadata": {
    "ExecuteTime": {
     "end_time": "2024-06-17T13:01:14.482448Z",
     "start_time": "2024-06-17T13:01:14.466887Z"
    }
   },
   "outputs": [
    {
     "data": {
      "text/html": [
       "<div>\n",
       "<style scoped>\n",
       "    .dataframe tbody tr th:only-of-type {\n",
       "        vertical-align: middle;\n",
       "    }\n",
       "\n",
       "    .dataframe tbody tr th {\n",
       "        vertical-align: top;\n",
       "    }\n",
       "\n",
       "    .dataframe thead th {\n",
       "        text-align: right;\n",
       "    }\n",
       "</style>\n",
       "<table border=\"1\" class=\"dataframe\">\n",
       "  <thead>\n",
       "    <tr style=\"text-align: right;\">\n",
       "      <th></th>\n",
       "      <th>published_date</th>\n",
       "      <th>published_platform</th>\n",
       "      <th>rating</th>\n",
       "      <th>helpful_votes</th>\n",
       "      <th>title</th>\n",
       "      <th>text</th>\n",
       "      <th>Hour</th>\n",
       "      <th>Day</th>\n",
       "      <th>Month</th>\n",
       "      <th>Year</th>\n",
       "      <th>Timezone</th>\n",
       "      <th>language</th>\n",
       "      <th>translated_text</th>\n",
       "      <th>char_count</th>\n",
       "    </tr>\n",
       "  </thead>\n",
       "  <tbody>\n",
       "    <tr>\n",
       "      <th>940</th>\n",
       "      <td>2016-02-20 16:16:07+00:00</td>\n",
       "      <td>Desktop</td>\n",
       "      <td>5</td>\n",
       "      <td>0</td>\n",
       "      <td>Student Led Tour</td>\n",
       "      <td>We did a student tour of Harvard, well worth t...</td>\n",
       "      <td>5</td>\n",
       "      <td>20</td>\n",
       "      <td>2</td>\n",
       "      <td>2016</td>\n",
       "      <td>UTC</td>\n",
       "      <td>en</td>\n",
       "      <td>We did a student tour of Harvard, well worth t...</td>\n",
       "      <td>122</td>\n",
       "    </tr>\n",
       "    <tr>\n",
       "      <th>1617</th>\n",
       "      <td>2013-06-23 09:40:15+00:00</td>\n",
       "      <td>Desktop</td>\n",
       "      <td>5</td>\n",
       "      <td>1</td>\n",
       "      <td>The cradle of American Liberal Arts Education!</td>\n",
       "      <td>England has Oxbridge, the US  has Harvard! Lov...</td>\n",
       "      <td>6</td>\n",
       "      <td>23</td>\n",
       "      <td>6</td>\n",
       "      <td>2013</td>\n",
       "      <td>UTC</td>\n",
       "      <td>en</td>\n",
       "      <td>England has Oxbridge, the US  has Harvard! Lov...</td>\n",
       "      <td>339</td>\n",
       "    </tr>\n",
       "    <tr>\n",
       "      <th>1594</th>\n",
       "      <td>2013-07-29 13:53:23+00:00</td>\n",
       "      <td>Desktop</td>\n",
       "      <td>5</td>\n",
       "      <td>0</td>\n",
       "      <td>A must-see</td>\n",
       "      <td>Harvard University is the main attraction in C...</td>\n",
       "      <td>0</td>\n",
       "      <td>29</td>\n",
       "      <td>7</td>\n",
       "      <td>2013</td>\n",
       "      <td>UTC</td>\n",
       "      <td>en</td>\n",
       "      <td>Harvard University is the main attraction in C...</td>\n",
       "      <td>332</td>\n",
       "    </tr>\n",
       "  </tbody>\n",
       "</table>\n",
       "</div>"
      ],
      "text/plain": [
       "                published_date published_platform  rating  helpful_votes  \\\n",
       "940  2016-02-20 16:16:07+00:00            Desktop       5              0   \n",
       "1617 2013-06-23 09:40:15+00:00            Desktop       5              1   \n",
       "1594 2013-07-29 13:53:23+00:00            Desktop       5              0   \n",
       "\n",
       "                                               title  \\\n",
       "940                                 Student Led Tour   \n",
       "1617  The cradle of American Liberal Arts Education!   \n",
       "1594                                      A must-see   \n",
       "\n",
       "                                                   text  Hour  Day  Month  \\\n",
       "940   We did a student tour of Harvard, well worth t...     5   20      2   \n",
       "1617  England has Oxbridge, the US  has Harvard! Lov...     6   23      6   \n",
       "1594  Harvard University is the main attraction in C...     0   29      7   \n",
       "\n",
       "      Year Timezone language  \\\n",
       "940   2016      UTC       en   \n",
       "1617  2013      UTC       en   \n",
       "1594  2013      UTC       en   \n",
       "\n",
       "                                        translated_text  char_count  \n",
       "940   We did a student tour of Harvard, well worth t...         122  \n",
       "1617  England has Oxbridge, the US  has Harvard! Lov...         339  \n",
       "1594  Harvard University is the main attraction in C...         332  "
      ]
     },
     "execution_count": 44,
     "metadata": {},
     "output_type": "execute_result"
    }
   ],
   "source": [
    "data = data.sample(50)\n",
    "data.head(3)"
   ]
  },
  {
   "cell_type": "code",
   "execution_count": 43,
   "id": "c6908e5e",
   "metadata": {
    "ExecuteTime": {
     "end_time": "2024-06-17T12:53:20.064072Z",
     "start_time": "2024-06-17T12:53:20.054502Z"
    }
   },
   "outputs": [
    {
     "data": {
      "text/plain": [
       "29976"
      ]
     },
     "execution_count": 43,
     "metadata": {},
     "output_type": "execute_result"
    }
   ],
   "source": [
    "# Calculate character counts for each row in the 'text' column\n",
    "data['char_count'] = data['text'].str.len()\n",
    "\n",
    "# Sum all character counts to get the total number of characters\n",
    "total_char_count = data['char_count'].sum()\n",
    "\n",
    "total_char_count"
   ]
  },
  {
   "cell_type": "code",
   "execution_count": null,
   "id": "f01722b0",
   "metadata": {},
   "outputs": [],
   "source": [
    "def translate_to_english(text, lang):\n",
    "    if lang.lower() != 'en':  # Check if language code is not 'en' (English)\n",
    "        translated_text = translator.translate(text, target_lang='EN')\n",
    "        return translated_text\n",
    "    else:\n",
    "        return text"
   ]
  }
 ],
 "metadata": {
  "kernelspec": {
   "display_name": "Python 3 (ipykernel)",
   "language": "python",
   "name": "python3"
  },
  "language_info": {
   "codemirror_mode": {
    "name": "ipython",
    "version": 3
   },
   "file_extension": ".py",
   "mimetype": "text/x-python",
   "name": "python",
   "nbconvert_exporter": "python",
   "pygments_lexer": "ipython3",
   "version": "3.10.13"
  }
 },
 "nbformat": 4,
 "nbformat_minor": 5
}
