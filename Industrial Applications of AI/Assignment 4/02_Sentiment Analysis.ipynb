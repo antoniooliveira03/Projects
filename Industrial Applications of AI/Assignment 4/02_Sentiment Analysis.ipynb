{
 "cells": [
  {
   "cell_type": "markdown",
   "id": "a3e6bbdd",
   "metadata": {},
   "source": [
    "# <center>Sentiment Analysis on Harvard University Reviews</center>\n",
    "\n",
    "** **\n",
    "## <center>*02 - Sentiment Analysis Notebook*</center>"
   ]
  },
  {
   "cell_type": "markdown",
   "id": "80d3520b",
   "metadata": {},
   "source": [
    "# Table of Contents\n",
    "\n",
    "1. [Importing Data & Libraries](#1.-Importing-Data-&-Libraries)\n",
    "\n",
    "    1.1 [Libraries](#1.1-Libraries)\n",
    "    \n",
    "    1.2 [Data](#1.2-Importing-Data)"
   ]
  },
  {
   "cell_type": "markdown",
   "id": "86d688ef",
   "metadata": {},
   "source": [
    "## 1. Importing Data & Libraries"
   ]
  },
  {
   "cell_type": "markdown",
   "id": "63392e98",
   "metadata": {},
   "source": [
    "### 1.1 Libraries"
   ]
  },
  {
   "cell_type": "code",
   "execution_count": 38,
   "id": "cfeb0394",
   "metadata": {
    "ExecuteTime": {
     "end_time": "2024-06-20T13:37:53.817992Z",
     "start_time": "2024-06-20T13:37:53.814769Z"
    }
   },
   "outputs": [],
   "source": [
    "import pandas as pd\n",
    "\n",
    "\n",
    "# SentiWordNet\n",
    "from nltk.corpus import sentiwordnet as swn\n",
    "from nltk.tokenize import word_tokenize\n",
    "from nltk import pos_tag\n",
    "\n",
    "# Scaler\n",
    "from sklearn.preprocessing import MinMaxScaler\n",
    "\n",
    "# external py file\n",
    "import functions_SA as f_sa"
   ]
  },
  {
   "cell_type": "markdown",
   "id": "330d4bfd",
   "metadata": {},
   "source": [
    "Checking the functions in the external file"
   ]
  },
  {
   "cell_type": "code",
   "execution_count": null,
   "id": "463cc270",
   "metadata": {},
   "outputs": [],
   "source": [
    "functions = [func for func in dir(f_sa) if callable(getattr(f_sa, func))]\n",
    "\n",
    "# Print the list of functions\n",
    "print(\"Functions in the external module:\\n\")\n",
    "for func in functions:\n",
    "    print(func+ '\\n')"
   ]
  },
  {
   "cell_type": "markdown",
   "id": "f73954bd",
   "metadata": {},
   "source": [
    "### 1.2 Data"
   ]
  },
  {
   "cell_type": "code",
   "execution_count": 4,
   "id": "6aab89aa",
   "metadata": {
    "ExecuteTime": {
     "end_time": "2024-06-20T13:10:28.598065Z",
     "start_time": "2024-06-20T13:10:28.583965Z"
    }
   },
   "outputs": [
    {
     "data": {
      "text/html": [
       "<div>\n",
       "<style scoped>\n",
       "    .dataframe tbody tr th:only-of-type {\n",
       "        vertical-align: middle;\n",
       "    }\n",
       "\n",
       "    .dataframe tbody tr th {\n",
       "        vertical-align: top;\n",
       "    }\n",
       "\n",
       "    .dataframe thead th {\n",
       "        text-align: right;\n",
       "    }\n",
       "</style>\n",
       "<table border=\"1\" class=\"dataframe\">\n",
       "  <thead>\n",
       "    <tr style=\"text-align: right;\">\n",
       "      <th></th>\n",
       "      <th>published_date</th>\n",
       "      <th>published_platform</th>\n",
       "      <th>rating</th>\n",
       "      <th>helpful_votes</th>\n",
       "      <th>title</th>\n",
       "      <th>text</th>\n",
       "      <th>Hour</th>\n",
       "      <th>Day</th>\n",
       "      <th>Month</th>\n",
       "      <th>Year</th>\n",
       "      <th>Timezone</th>\n",
       "      <th>language</th>\n",
       "      <th>char_count</th>\n",
       "      <th>translated_text</th>\n",
       "      <th>clean_text</th>\n",
       "    </tr>\n",
       "  </thead>\n",
       "  <tbody>\n",
       "    <tr>\n",
       "      <th>0</th>\n",
       "      <td>2015-03-04 20:15:25+00:00</td>\n",
       "      <td>Desktop</td>\n",
       "      <td>4</td>\n",
       "      <td>2</td>\n",
       "      <td>A nice walk</td>\n",
       "      <td>This was an interesting place to walk around, ...</td>\n",
       "      <td>2</td>\n",
       "      <td>4</td>\n",
       "      <td>3</td>\n",
       "      <td>2015</td>\n",
       "      <td>UTC</td>\n",
       "      <td>en</td>\n",
       "      <td>142</td>\n",
       "      <td>This was an interesting place to walk around, ...</td>\n",
       "      <td>This interesting place walk around, spread HUG...</td>\n",
       "    </tr>\n",
       "    <tr>\n",
       "      <th>1</th>\n",
       "      <td>2015-08-05 23:38:34+00:00</td>\n",
       "      <td>Desktop</td>\n",
       "      <td>5</td>\n",
       "      <td>1</td>\n",
       "      <td>If you're in Cambridge you have to go to Harvard</td>\n",
       "      <td>It's everything you expect from Harvard.  Ther...</td>\n",
       "      <td>2</td>\n",
       "      <td>5</td>\n",
       "      <td>8</td>\n",
       "      <td>2015</td>\n",
       "      <td>UTC</td>\n",
       "      <td>en</td>\n",
       "      <td>139</td>\n",
       "      <td>It's everything you expect from Harvard.  Ther...</td>\n",
       "      <td>It's everything expect Harvard. There Harvard ...</td>\n",
       "    </tr>\n",
       "    <tr>\n",
       "      <th>2</th>\n",
       "      <td>2018-09-08 21:02:12+00:00</td>\n",
       "      <td>Mobile</td>\n",
       "      <td>3</td>\n",
       "      <td>0</td>\n",
       "      <td>Harvard visit was just ok</td>\n",
       "      <td>We went into this with higher expectations. We...</td>\n",
       "      <td>5</td>\n",
       "      <td>8</td>\n",
       "      <td>9</td>\n",
       "      <td>2018</td>\n",
       "      <td>UTC</td>\n",
       "      <td>en</td>\n",
       "      <td>154</td>\n",
       "      <td>We went into this with higher expectations. We...</td>\n",
       "      <td>We went higher expectations. We certainly visi...</td>\n",
       "    </tr>\n",
       "  </tbody>\n",
       "</table>\n",
       "</div>"
      ],
      "text/plain": [
       "              published_date published_platform  rating  helpful_votes  \\\n",
       "0  2015-03-04 20:15:25+00:00            Desktop       4              2   \n",
       "1  2015-08-05 23:38:34+00:00            Desktop       5              1   \n",
       "2  2018-09-08 21:02:12+00:00             Mobile       3              0   \n",
       "\n",
       "                                              title  \\\n",
       "0                                       A nice walk   \n",
       "1  If you're in Cambridge you have to go to Harvard   \n",
       "2                         Harvard visit was just ok   \n",
       "\n",
       "                                                text  Hour  Day  Month  Year  \\\n",
       "0  This was an interesting place to walk around, ...     2    4      3  2015   \n",
       "1  It's everything you expect from Harvard.  Ther...     2    5      8  2015   \n",
       "2  We went into this with higher expectations. We...     5    8      9  2018   \n",
       "\n",
       "  Timezone language  char_count  \\\n",
       "0      UTC       en         142   \n",
       "1      UTC       en         139   \n",
       "2      UTC       en         154   \n",
       "\n",
       "                                     translated_text  \\\n",
       "0  This was an interesting place to walk around, ...   \n",
       "1  It's everything you expect from Harvard.  Ther...   \n",
       "2  We went into this with higher expectations. We...   \n",
       "\n",
       "                                          clean_text  \n",
       "0  This interesting place walk around, spread HUG...  \n",
       "1  It's everything expect Harvard. There Harvard ...  \n",
       "2  We went higher expectations. We certainly visi...  "
      ]
     },
     "execution_count": 4,
     "metadata": {},
     "output_type": "execute_result"
    }
   ],
   "source": [
    "data = pd.read_csv('/Users/antoniooliveira/Projects/Industrial Applications of AI/Assignment 4/clean_sample_data.csv')\n",
    "data.head(3)"
   ]
  },
  {
   "cell_type": "markdown",
   "id": "9b46251b",
   "metadata": {},
   "source": [
    "## 2. Vader"
   ]
  },
  {
   "cell_type": "code",
   "execution_count": 7,
   "id": "08e7914a",
   "metadata": {
    "ExecuteTime": {
     "end_time": "2024-06-20T13:12:41.630675Z",
     "start_time": "2024-06-20T13:12:41.615831Z"
    }
   },
   "outputs": [],
   "source": [
    "data[\"vader_polarity_compound\"] = data[\"clean_text\"].apply(lambda review : vader_sa(str(review)))\n",
    "\n",
    "data[\"vader_polarity_scores\"] = data[\"clean_text\"].apply(lambda review : vader_sa(str(review), compound = False))"
   ]
  },
  {
   "cell_type": "markdown",
   "id": "59eaa3b7",
   "metadata": {},
   "source": [
    "**Grouping observations by Rating**"
   ]
  },
  {
   "cell_type": "code",
   "execution_count": 8,
   "id": "62a1d8ae",
   "metadata": {
    "ExecuteTime": {
     "end_time": "2024-06-20T13:13:13.397101Z",
     "start_time": "2024-06-20T13:13:13.375409Z"
    }
   },
   "outputs": [
    {
     "data": {
      "text/html": [
       "<div>\n",
       "<style scoped>\n",
       "    .dataframe tbody tr th:only-of-type {\n",
       "        vertical-align: middle;\n",
       "    }\n",
       "\n",
       "    .dataframe tbody tr th {\n",
       "        vertical-align: top;\n",
       "    }\n",
       "\n",
       "    .dataframe thead th {\n",
       "        text-align: right;\n",
       "    }\n",
       "</style>\n",
       "<table border=\"1\" class=\"dataframe\">\n",
       "  <thead>\n",
       "    <tr style=\"text-align: right;\">\n",
       "      <th></th>\n",
       "      <th>count</th>\n",
       "      <th>mean</th>\n",
       "      <th>std</th>\n",
       "      <th>min</th>\n",
       "      <th>25%</th>\n",
       "      <th>50%</th>\n",
       "      <th>75%</th>\n",
       "      <th>max</th>\n",
       "    </tr>\n",
       "    <tr>\n",
       "      <th>rating</th>\n",
       "      <th></th>\n",
       "      <th></th>\n",
       "      <th></th>\n",
       "      <th></th>\n",
       "      <th></th>\n",
       "      <th></th>\n",
       "      <th></th>\n",
       "      <th></th>\n",
       "    </tr>\n",
       "  </thead>\n",
       "  <tbody>\n",
       "    <tr>\n",
       "      <th>3</th>\n",
       "      <td>4.0</td>\n",
       "      <td>0.447275</td>\n",
       "      <td>0.326403</td>\n",
       "      <td>0.000</td>\n",
       "      <td>0.316125</td>\n",
       "      <td>0.52305</td>\n",
       "      <td>0.654200</td>\n",
       "      <td>0.7430</td>\n",
       "    </tr>\n",
       "    <tr>\n",
       "      <th>4</th>\n",
       "      <td>2.0</td>\n",
       "      <td>0.827350</td>\n",
       "      <td>0.188585</td>\n",
       "      <td>0.694</td>\n",
       "      <td>0.760675</td>\n",
       "      <td>0.82735</td>\n",
       "      <td>0.894025</td>\n",
       "      <td>0.9607</td>\n",
       "    </tr>\n",
       "    <tr>\n",
       "      <th>5</th>\n",
       "      <td>4.0</td>\n",
       "      <td>0.678125</td>\n",
       "      <td>0.453364</td>\n",
       "      <td>0.000</td>\n",
       "      <td>0.646875</td>\n",
       "      <td>0.88330</td>\n",
       "      <td>0.914550</td>\n",
       "      <td>0.9459</td>\n",
       "    </tr>\n",
       "  </tbody>\n",
       "</table>\n",
       "</div>"
      ],
      "text/plain": [
       "        count      mean       std    min       25%      50%       75%     max\n",
       "rating                                                                       \n",
       "3         4.0  0.447275  0.326403  0.000  0.316125  0.52305  0.654200  0.7430\n",
       "4         2.0  0.827350  0.188585  0.694  0.760675  0.82735  0.894025  0.9607\n",
       "5         4.0  0.678125  0.453364  0.000  0.646875  0.88330  0.914550  0.9459"
      ]
     },
     "execution_count": 8,
     "metadata": {},
     "output_type": "execute_result"
    }
   ],
   "source": [
    "data.groupby('rating')['vader_polarity_compound'].describe()"
   ]
  },
  {
   "cell_type": "markdown",
   "id": "4d56b264",
   "metadata": {},
   "source": [
    "### 2.1 Visualisations"
   ]
  },
  {
   "cell_type": "code",
   "execution_count": 16,
   "id": "533cb868",
   "metadata": {
    "ExecuteTime": {
     "end_time": "2024-06-20T13:16:57.657756Z",
     "start_time": "2024-06-20T13:16:57.653606Z"
    }
   },
   "outputs": [],
   "source": [
    "import matplotlib.pyplot as plt\n",
    "def histogram(data):\n",
    "    plt.hist(data, bins=22, color='indianred', ec='indianred', alpha=0.7, label='Data Points')  # Adjust the number of bins\n",
    "    plt.title('Histogram')\n",
    "    plt.xlabel('Values')\n",
    "    plt.ylabel('Frequency')\n",
    "    plt.legend()\n",
    "\n",
    "    # Set x-axis limits to include a larger range\n",
    "    plt.xlim(min(data), max(data)) \n",
    "\n",
    "    plt.show()"
   ]
  },
  {
   "cell_type": "code",
   "execution_count": 17,
   "id": "50740d5b",
   "metadata": {
    "ExecuteTime": {
     "end_time": "2024-06-20T13:16:59.529148Z",
     "start_time": "2024-06-20T13:16:58.992217Z"
    },
    "collapsed": true
   },
   "outputs": [
    {
     "name": "stdout",
     "output_type": "stream",
     "text": [
      "--------------------------------------------------------------------------------\n",
      "                               rating:  4\n"
     ]
    },
    {
     "data": {
      "image/png": "[encoded data removed]",
      "text/plain": [
       "<Figure size 640x480 with 1 Axes>"
      ]
     },
     "metadata": {},
     "output_type": "display_data"
    },
    {
     "name": "stdout",
     "output_type": "stream",
     "text": [
      "\n",
      "--------------------------------------------------------------------------------\n",
      "                               rating:  5\n"
     ]
    },
    {
     "data": {
      "image/png": "[encoded data removed]",
      "text/plain": [
       "<Figure size 640x480 with 1 Axes>"
      ]
     },
     "metadata": {},
     "output_type": "display_data"
    },
    {
     "name": "stdout",
     "output_type": "stream",
     "text": [
      "\n",
      "--------------------------------------------------------------------------------\n",
      "                               rating:  3\n"
     ]
    },
    {
     "data": {
      "image/png": "[encoded data removed]",
      "text/plain": [
       "<Figure size 640x480 with 1 Axes>"
      ]
     },
     "metadata": {},
     "output_type": "display_data"
    },
    {
     "name": "stdout",
     "output_type": "stream",
     "text": [
      "\n"
     ]
    }
   ],
   "source": [
    "for rating in data['rating'].unique():\n",
    "    print('--'*40)\n",
    "    print(' '*30, f'rating:  {rating}')\n",
    "    histogram(data[data['rating']== rating]['vader_polarity_compound'])\n",
    "    print('')"
   ]
  },
  {
   "cell_type": "markdown",
   "id": "af37e21f",
   "metadata": {},
   "source": [
    "## 3. TextBlob"
   ]
  },
  {
   "cell_type": "code",
   "execution_count": 20,
   "id": "7da90ec1",
   "metadata": {
    "ExecuteTime": {
     "end_time": "2024-06-20T13:18:51.316979Z",
     "start_time": "2024-06-20T13:18:51.274264Z"
    }
   },
   "outputs": [],
   "source": [
    "data[\"textblob_polarity_compound\"] = data[\"clean_text\"].apply(lambda review : textblob_sa(str(review)))"
   ]
  },
  {
   "cell_type": "markdown",
   "id": "fc339d55",
   "metadata": {},
   "source": [
    "**Grouping observations by Rating**"
   ]
  },
  {
   "cell_type": "code",
   "execution_count": 21,
   "id": "5220282d",
   "metadata": {
    "ExecuteTime": {
     "end_time": "2024-06-20T13:19:26.526874Z",
     "start_time": "2024-06-20T13:19:26.508965Z"
    }
   },
   "outputs": [
    {
     "data": {
      "text/html": [
       "<div>\n",
       "<style scoped>\n",
       "    .dataframe tbody tr th:only-of-type {\n",
       "        vertical-align: middle;\n",
       "    }\n",
       "\n",
       "    .dataframe tbody tr th {\n",
       "        vertical-align: top;\n",
       "    }\n",
       "\n",
       "    .dataframe thead th {\n",
       "        text-align: right;\n",
       "    }\n",
       "</style>\n",
       "<table border=\"1\" class=\"dataframe\">\n",
       "  <thead>\n",
       "    <tr style=\"text-align: right;\">\n",
       "      <th></th>\n",
       "      <th>count</th>\n",
       "      <th>mean</th>\n",
       "      <th>std</th>\n",
       "      <th>min</th>\n",
       "      <th>25%</th>\n",
       "      <th>50%</th>\n",
       "      <th>75%</th>\n",
       "      <th>max</th>\n",
       "    </tr>\n",
       "    <tr>\n",
       "      <th>rating</th>\n",
       "      <th></th>\n",
       "      <th></th>\n",
       "      <th></th>\n",
       "      <th></th>\n",
       "      <th></th>\n",
       "      <th></th>\n",
       "      <th></th>\n",
       "      <th></th>\n",
       "    </tr>\n",
       "  </thead>\n",
       "  <tbody>\n",
       "    <tr>\n",
       "      <th>3</th>\n",
       "      <td>4.0</td>\n",
       "      <td>0.227360</td>\n",
       "      <td>1.179825e-01</td>\n",
       "      <td>0.10</td>\n",
       "      <td>0.160651</td>\n",
       "      <td>0.215434</td>\n",
       "      <td>0.282143</td>\n",
       "      <td>0.378571</td>\n",
       "    </tr>\n",
       "    <tr>\n",
       "      <th>4</th>\n",
       "      <td>2.0</td>\n",
       "      <td>0.450000</td>\n",
       "      <td>5.551115e-17</td>\n",
       "      <td>0.45</td>\n",
       "      <td>0.450000</td>\n",
       "      <td>0.450000</td>\n",
       "      <td>0.450000</td>\n",
       "      <td>0.450000</td>\n",
       "    </tr>\n",
       "    <tr>\n",
       "      <th>5</th>\n",
       "      <td>4.0</td>\n",
       "      <td>0.165933</td>\n",
       "      <td>1.254988e-01</td>\n",
       "      <td>0.00</td>\n",
       "      <td>0.110000</td>\n",
       "      <td>0.186032</td>\n",
       "      <td>0.241964</td>\n",
       "      <td>0.291667</td>\n",
       "    </tr>\n",
       "  </tbody>\n",
       "</table>\n",
       "</div>"
      ],
      "text/plain": [
       "        count      mean           std   min       25%       50%       75%  \\\n",
       "rating                                                                      \n",
       "3         4.0  0.227360  1.179825e-01  0.10  0.160651  0.215434  0.282143   \n",
       "4         2.0  0.450000  5.551115e-17  0.45  0.450000  0.450000  0.450000   \n",
       "5         4.0  0.165933  1.254988e-01  0.00  0.110000  0.186032  0.241964   \n",
       "\n",
       "             max  \n",
       "rating            \n",
       "3       0.378571  \n",
       "4       0.450000  \n",
       "5       0.291667  "
      ]
     },
     "execution_count": 21,
     "metadata": {},
     "output_type": "execute_result"
    }
   ],
   "source": [
    "data.groupby('rating')['textblob_polarity_compound'].describe()"
   ]
  },
  {
   "cell_type": "markdown",
   "id": "ee074de6",
   "metadata": {},
   "source": [
    "### 3.1 Visualisations"
   ]
  },
  {
   "cell_type": "code",
   "execution_count": null,
   "id": "0cb22e83",
   "metadata": {},
   "outputs": [],
   "source": []
  },
  {
   "cell_type": "markdown",
   "id": "a2d93b10",
   "metadata": {},
   "source": [
    "## 4. SentiWordNet"
   ]
  },
  {
   "cell_type": "code",
   "execution_count": 25,
   "id": "6982bcaa",
   "metadata": {
    "ExecuteTime": {
     "end_time": "2024-06-20T13:21:35.562227Z",
     "start_time": "2024-06-20T13:21:35.545270Z"
    }
   },
   "outputs": [],
   "source": [
    "data['clean_sentiment'] = data['clean_text'].astype(str)\n",
    "data['TokenizedColumn'] = data['clean_sentiment'].apply(lambda x: word_tokenize(x))"
   ]
  },
  {
   "cell_type": "code",
   "execution_count": 26,
   "id": "da6bcbf9",
   "metadata": {
    "ExecuteTime": {
     "end_time": "2024-06-20T13:21:56.522727Z",
     "start_time": "2024-06-20T13:21:56.418984Z"
    }
   },
   "outputs": [],
   "source": [
    "data['PosTagsColumn'] = data['TokenizedColumn'].apply(lambda x: pos_tag(x))"
   ]
  },
  {
   "cell_type": "code",
   "execution_count": 27,
   "id": "79f97ca7",
   "metadata": {
    "ExecuteTime": {
     "end_time": "2024-06-20T13:22:12.838960Z",
     "start_time": "2024-06-20T13:22:11.596565Z"
    }
   },
   "outputs": [],
   "source": [
    "# Convert NLTK POS tags to WordNet POS tags\n",
    "data['WordNet_PosTagsColumn'] = data['PosTagsColumn'].apply(\n",
    "    lambda tags: [(word, nltk_to_wordnet_pos(pos)) for word, pos in tags if nltk_to_wordnet_pos(pos) is not None]\n",
    ")"
   ]
  },
  {
   "cell_type": "code",
   "execution_count": 30,
   "id": "f5a5f623",
   "metadata": {
    "ExecuteTime": {
     "end_time": "2024-06-20T13:23:51.189182Z",
     "start_time": "2024-06-20T13:23:51.168428Z"
    }
   },
   "outputs": [
    {
     "data": {
      "text/html": [
       "<div>\n",
       "<style scoped>\n",
       "    .dataframe tbody tr th:only-of-type {\n",
       "        vertical-align: middle;\n",
       "    }\n",
       "\n",
       "    .dataframe tbody tr th {\n",
       "        vertical-align: top;\n",
       "    }\n",
       "\n",
       "    .dataframe thead th {\n",
       "        text-align: right;\n",
       "    }\n",
       "</style>\n",
       "<table border=\"1\" class=\"dataframe\">\n",
       "  <thead>\n",
       "    <tr style=\"text-align: right;\">\n",
       "      <th></th>\n",
       "      <th>clean_sentiment</th>\n",
       "      <th>SentiWordNet_polarity_compound</th>\n",
       "    </tr>\n",
       "  </thead>\n",
       "  <tbody>\n",
       "    <tr>\n",
       "      <th>0</th>\n",
       "      <td>This interesting place walk around, spread HUG...</td>\n",
       "      <td>0.375</td>\n",
       "    </tr>\n",
       "    <tr>\n",
       "      <th>1</th>\n",
       "      <td>It's everything expect Harvard. There Harvard ...</td>\n",
       "      <td>-0.125</td>\n",
       "    </tr>\n",
       "    <tr>\n",
       "      <th>2</th>\n",
       "      <td>We went higher expectations. We certainly visi...</td>\n",
       "      <td>1.375</td>\n",
       "    </tr>\n",
       "    <tr>\n",
       "      <th>3</th>\n",
       "      <td>You know, one best universities world! I meek ...</td>\n",
       "      <td>0.375</td>\n",
       "    </tr>\n",
       "    <tr>\n",
       "      <th>4</th>\n",
       "      <td>The campus easily reached; subway stop Harvard...</td>\n",
       "      <td>3.750</td>\n",
       "    </tr>\n",
       "    <tr>\n",
       "      <th>5</th>\n",
       "      <td>For, fact instruction around since 1636 gives ...</td>\n",
       "      <td>0.375</td>\n",
       "    </tr>\n",
       "    <tr>\n",
       "      <th>6</th>\n",
       "      <td>It nice seen campus, expected saw TV</td>\n",
       "      <td>0.000</td>\n",
       "    </tr>\n",
       "    <tr>\n",
       "      <th>7</th>\n",
       "      <td>available academic tour historic tours booked....</td>\n",
       "      <td>1.000</td>\n",
       "    </tr>\n",
       "    <tr>\n",
       "      <th>8</th>\n",
       "      <td>The well-known timeless University great perso...</td>\n",
       "      <td>2.625</td>\n",
       "    </tr>\n",
       "    <tr>\n",
       "      <th>9</th>\n",
       "      <td>We decided visit Harvard University&amp; glad. We ...</td>\n",
       "      <td>0.875</td>\n",
       "    </tr>\n",
       "  </tbody>\n",
       "</table>\n",
       "</div>"
      ],
      "text/plain": [
       "                                     clean_sentiment  \\\n",
       "0  This interesting place walk around, spread HUG...   \n",
       "1  It's everything expect Harvard. There Harvard ...   \n",
       "2  We went higher expectations. We certainly visi...   \n",
       "3  You know, one best universities world! I meek ...   \n",
       "4  The campus easily reached; subway stop Harvard...   \n",
       "5  For, fact instruction around since 1636 gives ...   \n",
       "6               It nice seen campus, expected saw TV   \n",
       "7  available academic tour historic tours booked....   \n",
       "8  The well-known timeless University great perso...   \n",
       "9  We decided visit Harvard University& glad. We ...   \n",
       "\n",
       "   SentiWordNet_polarity_compound  \n",
       "0                           0.375  \n",
       "1                          -0.125  \n",
       "2                           1.375  \n",
       "3                           0.375  \n",
       "4                           3.750  \n",
       "5                           0.375  \n",
       "6                           0.000  \n",
       "7                           1.000  \n",
       "8                           2.625  \n",
       "9                           0.875  "
      ]
     },
     "execution_count": 30,
     "metadata": {},
     "output_type": "execute_result"
    }
   ],
   "source": [
    "# Calculate sentiment scores and interpret the overall sentiment\n",
    "data['SentiWordNet_polarity_compound'] = data['WordNet_PosTagsColumn'].apply(\n",
    "    lambda pos_tags: sum(get_sentiment_score(word, pos) for word, pos in pos_tags)\n",
    ")\n",
    "\n",
    "\n",
    "# Display the resulting DataFrame\n",
    "data[['clean_sentiment', 'SentiWordNet_polarity_compound']]"
   ]
  },
  {
   "cell_type": "code",
   "execution_count": 31,
   "id": "94a74e7c",
   "metadata": {
    "ExecuteTime": {
     "end_time": "2024-06-20T13:24:09.979970Z",
     "start_time": "2024-06-20T13:24:09.961575Z"
    }
   },
   "outputs": [
    {
     "data": {
      "text/html": [
       "<div>\n",
       "<style scoped>\n",
       "    .dataframe tbody tr th:only-of-type {\n",
       "        vertical-align: middle;\n",
       "    }\n",
       "\n",
       "    .dataframe tbody tr th {\n",
       "        vertical-align: top;\n",
       "    }\n",
       "\n",
       "    .dataframe thead th {\n",
       "        text-align: right;\n",
       "    }\n",
       "</style>\n",
       "<table border=\"1\" class=\"dataframe\">\n",
       "  <thead>\n",
       "    <tr style=\"text-align: right;\">\n",
       "      <th></th>\n",
       "      <th>count</th>\n",
       "      <th>mean</th>\n",
       "      <th>std</th>\n",
       "      <th>min</th>\n",
       "      <th>25%</th>\n",
       "      <th>50%</th>\n",
       "      <th>75%</th>\n",
       "      <th>max</th>\n",
       "    </tr>\n",
       "    <tr>\n",
       "      <th>rating</th>\n",
       "      <th></th>\n",
       "      <th></th>\n",
       "      <th></th>\n",
       "      <th></th>\n",
       "      <th></th>\n",
       "      <th></th>\n",
       "      <th></th>\n",
       "      <th></th>\n",
       "    </tr>\n",
       "  </thead>\n",
       "  <tbody>\n",
       "    <tr>\n",
       "      <th>3</th>\n",
       "      <td>4.0</td>\n",
       "      <td>0.68750</td>\n",
       "      <td>0.616610</td>\n",
       "      <td>0.000</td>\n",
       "      <td>0.28125</td>\n",
       "      <td>0.6875</td>\n",
       "      <td>1.09375</td>\n",
       "      <td>1.375</td>\n",
       "    </tr>\n",
       "    <tr>\n",
       "      <th>4</th>\n",
       "      <td>2.0</td>\n",
       "      <td>1.50000</td>\n",
       "      <td>1.590990</td>\n",
       "      <td>0.375</td>\n",
       "      <td>0.93750</td>\n",
       "      <td>1.5000</td>\n",
       "      <td>2.06250</td>\n",
       "      <td>2.625</td>\n",
       "    </tr>\n",
       "    <tr>\n",
       "      <th>5</th>\n",
       "      <td>4.0</td>\n",
       "      <td>1.21875</td>\n",
       "      <td>1.736181</td>\n",
       "      <td>-0.125</td>\n",
       "      <td>0.25000</td>\n",
       "      <td>0.6250</td>\n",
       "      <td>1.59375</td>\n",
       "      <td>3.750</td>\n",
       "    </tr>\n",
       "  </tbody>\n",
       "</table>\n",
       "</div>"
      ],
      "text/plain": [
       "        count     mean       std    min      25%     50%      75%    max\n",
       "rating                                                                  \n",
       "3         4.0  0.68750  0.616610  0.000  0.28125  0.6875  1.09375  1.375\n",
       "4         2.0  1.50000  1.590990  0.375  0.93750  1.5000  2.06250  2.625\n",
       "5         4.0  1.21875  1.736181 -0.125  0.25000  0.6250  1.59375  3.750"
      ]
     },
     "execution_count": 31,
     "metadata": {},
     "output_type": "execute_result"
    }
   ],
   "source": [
    "data.groupby('rating')['SentiWordNet_polarity_compound'].describe()"
   ]
  },
  {
   "cell_type": "markdown",
   "id": "8d04a1e0",
   "metadata": {
    "ExecuteTime": {
     "end_time": "2024-06-20T13:24:37.278687Z",
     "start_time": "2024-06-20T13:24:37.276224Z"
    }
   },
   "source": [
    "### 4.1 Normalised SentiWordNet"
   ]
  },
  {
   "cell_type": "code",
   "execution_count": null,
   "id": "baa0a20a",
   "metadata": {},
   "outputs": [],
   "source": [
    "scaler = MinMaxScaler(feature_range = (-1,1))\n",
    "\n",
    "SentiWordNet_normalized_polarity = scaler.fit_transform(data[\"SentiWordNet_polarity_compound\"].to_numpy().reshape(-1, 1))"
   ]
  },
  {
   "cell_type": "code",
   "execution_count": null,
   "id": "9c8d8fcf",
   "metadata": {},
   "outputs": [],
   "source": [
    "data[\"SentiWordNet_normalized_polarity\"] = SentiWordNet_normalized_polarity.reshape(-1)\n",
    "data[['clean_sentiment', 'SentiWordNet_polarity_compound', 'SentiWordNet_normalized_polarity']].describe()\n"
   ]
  },
  {
   "cell_type": "code",
   "execution_count": null,
   "id": "d4464f1c",
   "metadata": {},
   "outputs": [],
   "source": [
    "data.groupby('rating')['SentiWordNet_normalized_polarity'].describe()"
   ]
  },
  {
   "cell_type": "markdown",
   "id": "6a1ae59a",
   "metadata": {},
   "source": [
    "### 4.2 Visualisations"
   ]
  },
  {
   "cell_type": "code",
   "execution_count": null,
   "id": "0c902dba",
   "metadata": {},
   "outputs": [],
   "source": []
  },
  {
   "cell_type": "code",
   "execution_count": null,
   "id": "19be37b9",
   "metadata": {},
   "outputs": [],
   "source": []
  },
  {
   "cell_type": "markdown",
   "id": "14120885",
   "metadata": {},
   "source": [
    "## 5. AFINN Lexicon"
   ]
  },
  {
   "cell_type": "code",
   "execution_count": 35,
   "id": "bb4d33e4",
   "metadata": {
    "ExecuteTime": {
     "end_time": "2024-06-20T13:27:54.973124Z",
     "start_time": "2024-06-20T13:27:54.946177Z"
    }
   },
   "outputs": [],
   "source": [
    "data['Afinn_polarity_compound'] = data['clean_sentiment'].apply(lambda x: \n",
    "                                              afinn.score(x))"
   ]
  },
  {
   "cell_type": "code",
   "execution_count": 37,
   "id": "89d3c38b",
   "metadata": {
    "ExecuteTime": {
     "end_time": "2024-06-20T13:27:59.667203Z",
     "start_time": "2024-06-20T13:27:59.659336Z"
    }
   },
   "outputs": [
    {
     "data": {
      "text/html": [
       "<div>\n",
       "<style scoped>\n",
       "    .dataframe tbody tr th:only-of-type {\n",
       "        vertical-align: middle;\n",
       "    }\n",
       "\n",
       "    .dataframe tbody tr th {\n",
       "        vertical-align: top;\n",
       "    }\n",
       "\n",
       "    .dataframe thead th {\n",
       "        text-align: right;\n",
       "    }\n",
       "</style>\n",
       "<table border=\"1\" class=\"dataframe\">\n",
       "  <thead>\n",
       "    <tr style=\"text-align: right;\">\n",
       "      <th></th>\n",
       "      <th>clean_sentiment</th>\n",
       "      <th>Afinn_polarity_compound</th>\n",
       "    </tr>\n",
       "  </thead>\n",
       "  <tbody>\n",
       "    <tr>\n",
       "      <th>0</th>\n",
       "      <td>This interesting place walk around, spread HUG...</td>\n",
       "      <td>3.0</td>\n",
       "    </tr>\n",
       "    <tr>\n",
       "      <th>1</th>\n",
       "      <td>It's everything expect Harvard. There Harvard ...</td>\n",
       "      <td>0.0</td>\n",
       "    </tr>\n",
       "    <tr>\n",
       "      <th>2</th>\n",
       "      <td>We went higher expectations. We certainly visi...</td>\n",
       "      <td>3.0</td>\n",
       "    </tr>\n",
       "    <tr>\n",
       "      <th>3</th>\n",
       "      <td>You know, one best universities world! I meek ...</td>\n",
       "      <td>6.0</td>\n",
       "    </tr>\n",
       "    <tr>\n",
       "      <th>4</th>\n",
       "      <td>The campus easily reached; subway stop Harvard...</td>\n",
       "      <td>10.0</td>\n",
       "    </tr>\n",
       "    <tr>\n",
       "      <th>5</th>\n",
       "      <td>For, fact instruction around since 1636 gives ...</td>\n",
       "      <td>6.0</td>\n",
       "    </tr>\n",
       "    <tr>\n",
       "      <th>6</th>\n",
       "      <td>It nice seen campus, expected saw TV</td>\n",
       "      <td>3.0</td>\n",
       "    </tr>\n",
       "    <tr>\n",
       "      <th>7</th>\n",
       "      <td>available academic tour historic tours booked....</td>\n",
       "      <td>1.0</td>\n",
       "    </tr>\n",
       "    <tr>\n",
       "      <th>8</th>\n",
       "      <td>The well-known timeless University great perso...</td>\n",
       "      <td>16.0</td>\n",
       "    </tr>\n",
       "    <tr>\n",
       "      <th>9</th>\n",
       "      <td>We decided visit Harvard University&amp; glad. We ...</td>\n",
       "      <td>7.0</td>\n",
       "    </tr>\n",
       "  </tbody>\n",
       "</table>\n",
       "</div>"
      ],
      "text/plain": [
       "                                     clean_sentiment  Afinn_polarity_compound\n",
       "0  This interesting place walk around, spread HUG...                      3.0\n",
       "1  It's everything expect Harvard. There Harvard ...                      0.0\n",
       "2  We went higher expectations. We certainly visi...                      3.0\n",
       "3  You know, one best universities world! I meek ...                      6.0\n",
       "4  The campus easily reached; subway stop Harvard...                     10.0\n",
       "5  For, fact instruction around since 1636 gives ...                      6.0\n",
       "6               It nice seen campus, expected saw TV                      3.0\n",
       "7  available academic tour historic tours booked....                      1.0\n",
       "8  The well-known timeless University great perso...                     16.0\n",
       "9  We decided visit Harvard University& glad. We ...                      7.0"
      ]
     },
     "execution_count": 37,
     "metadata": {},
     "output_type": "execute_result"
    }
   ],
   "source": [
    "data[['clean_sentiment', 'Afinn_polarity_compound']]"
   ]
  },
  {
   "cell_type": "code",
   "execution_count": null,
   "id": "6286bab8",
   "metadata": {},
   "outputs": [],
   "source": [
    "data.groupby('rating')['Afinn_polarity_compound'].describe()"
   ]
  },
  {
   "cell_type": "markdown",
   "id": "9132b9f7",
   "metadata": {},
   "source": [
    "### 5.1 Normalised AFINN"
   ]
  },
  {
   "cell_type": "code",
   "execution_count": null,
   "id": "7f640e42",
   "metadata": {},
   "outputs": [],
   "source": [
    "scaler = preprocessing.MinMaxScaler(feature_range = (-1,1))\n",
    "\n",
    "afinn_normalized_polarity = scaler.fit_transform(data[\"Afinn_polarity_compound\"].to_numpy().reshape(-1, 1))"
   ]
  },
  {
   "cell_type": "code",
   "execution_count": null,
   "id": "f1efa4ac",
   "metadata": {},
   "outputs": [],
   "source": [
    "data[\"afinn_normalized_polarity\"] = afinn_normalized_polarity.reshape(-1)\n",
    "data[['clean_lyrics_sentiment', 'Afinn_polarity_compound', 'afinn_normalized_polarity']].describe()"
   ]
  },
  {
   "cell_type": "code",
   "execution_count": null,
   "id": "b3bccdd1",
   "metadata": {},
   "outputs": [],
   "source": [
    "data.groupby('rating')['afinn_normalized_polarity'].describe()"
   ]
  },
  {
   "cell_type": "markdown",
   "id": "f05a97ad",
   "metadata": {},
   "source": [
    "### 5.2 Visualisations"
   ]
  }
 ],
 "metadata": {
  "kernelspec": {
   "display_name": "Python 3 (ipykernel)",
   "language": "python",
   "name": "python3"
  },
  "language_info": {
   "codemirror_mode": {
    "name": "ipython",
    "version": 3
   },
   "file_extension": ".py",
   "mimetype": "text/x-python",
   "name": "python",
   "nbconvert_exporter": "python",
   "pygments_lexer": "ipython3",
   "version": "3.10.13"
  }
 },
 "nbformat": 4,
 "nbformat_minor": 5
}
