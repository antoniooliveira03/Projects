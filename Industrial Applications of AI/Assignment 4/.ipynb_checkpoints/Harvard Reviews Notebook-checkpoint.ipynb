{
 "cells": [
  {
   "cell_type": "code",
   "execution_count": 1,
   "id": "0cdd3329",
   "metadata": {
    "ExecuteTime": {
     "end_time": "2024-06-16T12:06:05.333046Z",
     "start_time": "2024-06-16T12:06:03.257006Z"
    }
   },
   "outputs": [],
   "source": [
    "import pandas as pd"
   ]
  },
  {
   "cell_type": "code",
   "execution_count": null,
   "id": "9fdec62f",
   "metadata": {},
   "outputs": [],
   "source": []
  },
  {
   "cell_type": "code",
   "execution_count": 2,
   "id": "33aa0e7c",
   "metadata": {
    "ExecuteTime": {
     "end_time": "2024-06-16T12:06:05.386941Z",
     "start_time": "2024-06-16T12:06:05.336510Z"
    }
   },
   "outputs": [
    {
     "data": {
      "text/html": [
       "<div>\n",
       "<style scoped>\n",
       "    .dataframe tbody tr th:only-of-type {\n",
       "        vertical-align: middle;\n",
       "    }\n",
       "\n",
       "    .dataframe tbody tr th {\n",
       "        vertical-align: top;\n",
       "    }\n",
       "\n",
       "    .dataframe thead th {\n",
       "        text-align: right;\n",
       "    }\n",
       "</style>\n",
       "<table border=\"1\" class=\"dataframe\">\n",
       "  <thead>\n",
       "    <tr style=\"text-align: right;\">\n",
       "      <th></th>\n",
       "      <th>published_date</th>\n",
       "      <th>published_platform</th>\n",
       "      <th>rating</th>\n",
       "      <th>type</th>\n",
       "      <th>helpful_votes</th>\n",
       "      <th>title</th>\n",
       "      <th>text</th>\n",
       "    </tr>\n",
       "  </thead>\n",
       "  <tbody>\n",
       "    <tr>\n",
       "      <th>0</th>\n",
       "      <td>2023-12-28T08:02:14-05:00</td>\n",
       "      <td>Mobile</td>\n",
       "      <td>5</td>\n",
       "      <td>review</td>\n",
       "      <td>0</td>\n",
       "      <td>Best classes and good environment</td>\n",
       "      <td>Good thanks for everything good work group 👍 h...</td>\n",
       "    </tr>\n",
       "    <tr>\n",
       "      <th>1</th>\n",
       "      <td>2023-12-12T00:38:26-05:00</td>\n",
       "      <td>Desktop</td>\n",
       "      <td>4</td>\n",
       "      <td>review</td>\n",
       "      <td>0</td>\n",
       "      <td>Harvard University</td>\n",
       "      <td>Harvard University was founded in 1636 and is ...</td>\n",
       "    </tr>\n",
       "    <tr>\n",
       "      <th>2</th>\n",
       "      <td>2023-12-10T08:21:35-05:00</td>\n",
       "      <td>Mobile</td>\n",
       "      <td>3</td>\n",
       "      <td>review</td>\n",
       "      <td>0</td>\n",
       "      <td>Walk around campus</td>\n",
       "      <td>We did a walk around most of the Harvard Campu...</td>\n",
       "    </tr>\n",
       "  </tbody>\n",
       "</table>\n",
       "</div>"
      ],
      "text/plain": [
       "              published_date published_platform  rating    type  \\\n",
       "0  2023-12-28T08:02:14-05:00             Mobile       5  review   \n",
       "1  2023-12-12T00:38:26-05:00            Desktop       4  review   \n",
       "2  2023-12-10T08:21:35-05:00             Mobile       3  review   \n",
       "\n",
       "   helpful_votes                               title  \\\n",
       "0              0  Best classes and good environment    \n",
       "1              0                  Harvard University   \n",
       "2              0                  Walk around campus   \n",
       "\n",
       "                                                text  \n",
       "0  Good thanks for everything good work group 👍 h...  \n",
       "1  Harvard University was founded in 1636 and is ...  \n",
       "2  We did a walk around most of the Harvard Campu...  "
      ]
     },
     "execution_count": 2,
     "metadata": {},
     "output_type": "execute_result"
    }
   ],
   "source": [
    "data = pd.read_csv('/Users/antoniooliveira/Projects/Industrial Applications of AI/Assignment 4/harvard_reviews.csv')\n",
    "data.head(3)"
   ]
  },
  {
   "cell_type": "code",
   "execution_count": 3,
   "id": "c7f8c6fd",
   "metadata": {
    "ExecuteTime": {
     "end_time": "2024-06-16T12:06:05.404349Z",
     "start_time": "2024-06-16T12:06:05.389620Z"
    }
   },
   "outputs": [
    {
     "data": {
      "text/html": [
       "<div>\n",
       "<style scoped>\n",
       "    .dataframe tbody tr th:only-of-type {\n",
       "        vertical-align: middle;\n",
       "    }\n",
       "\n",
       "    .dataframe tbody tr th {\n",
       "        vertical-align: top;\n",
       "    }\n",
       "\n",
       "    .dataframe thead th {\n",
       "        text-align: right;\n",
       "    }\n",
       "</style>\n",
       "<table border=\"1\" class=\"dataframe\">\n",
       "  <thead>\n",
       "    <tr style=\"text-align: right;\">\n",
       "      <th></th>\n",
       "      <th>rating</th>\n",
       "      <th>helpful_votes</th>\n",
       "    </tr>\n",
       "  </thead>\n",
       "  <tbody>\n",
       "    <tr>\n",
       "      <th>count</th>\n",
       "      <td>3184.000000</td>\n",
       "      <td>3184.000000</td>\n",
       "    </tr>\n",
       "    <tr>\n",
       "      <th>mean</th>\n",
       "      <td>4.456658</td>\n",
       "      <td>0.498744</td>\n",
       "    </tr>\n",
       "    <tr>\n",
       "      <th>std</th>\n",
       "      <td>0.744024</td>\n",
       "      <td>2.819638</td>\n",
       "    </tr>\n",
       "    <tr>\n",
       "      <th>min</th>\n",
       "      <td>1.000000</td>\n",
       "      <td>0.000000</td>\n",
       "    </tr>\n",
       "    <tr>\n",
       "      <th>25%</th>\n",
       "      <td>4.000000</td>\n",
       "      <td>0.000000</td>\n",
       "    </tr>\n",
       "    <tr>\n",
       "      <th>50%</th>\n",
       "      <td>5.000000</td>\n",
       "      <td>0.000000</td>\n",
       "    </tr>\n",
       "    <tr>\n",
       "      <th>75%</th>\n",
       "      <td>5.000000</td>\n",
       "      <td>1.000000</td>\n",
       "    </tr>\n",
       "    <tr>\n",
       "      <th>max</th>\n",
       "      <td>5.000000</td>\n",
       "      <td>111.000000</td>\n",
       "    </tr>\n",
       "  </tbody>\n",
       "</table>\n",
       "</div>"
      ],
      "text/plain": [
       "            rating  helpful_votes\n",
       "count  3184.000000    3184.000000\n",
       "mean      4.456658       0.498744\n",
       "std       0.744024       2.819638\n",
       "min       1.000000       0.000000\n",
       "25%       4.000000       0.000000\n",
       "50%       5.000000       0.000000\n",
       "75%       5.000000       1.000000\n",
       "max       5.000000     111.000000"
      ]
     },
     "execution_count": 3,
     "metadata": {},
     "output_type": "execute_result"
    }
   ],
   "source": [
    "data.describe()"
   ]
  },
  {
   "cell_type": "code",
   "execution_count": 4,
   "id": "370356a2",
   "metadata": {
    "ExecuteTime": {
     "end_time": "2024-06-16T12:06:05.418991Z",
     "start_time": "2024-06-16T12:06:05.408401Z"
    }
   },
   "outputs": [
    {
     "name": "stdout",
     "output_type": "stream",
     "text": [
      "<class 'pandas.core.frame.DataFrame'>\n",
      "RangeIndex: 3184 entries, 0 to 3183\n",
      "Data columns (total 7 columns):\n",
      " #   Column              Non-Null Count  Dtype \n",
      "---  ------              --------------  ----- \n",
      " 0   published_date      3184 non-null   object\n",
      " 1   published_platform  3184 non-null   object\n",
      " 2   rating              3184 non-null   int64 \n",
      " 3   type                3184 non-null   object\n",
      " 4   helpful_votes       3184 non-null   int64 \n",
      " 5   title               3184 non-null   object\n",
      " 6   text                3184 non-null   object\n",
      "dtypes: int64(2), object(5)\n",
      "memory usage: 174.2+ KB\n"
     ]
    }
   ],
   "source": [
    "data.info()"
   ]
  },
  {
   "cell_type": "markdown",
   "id": "a14dde31",
   "metadata": {},
   "source": [
    "**Unique Values**"
   ]
  },
  {
   "cell_type": "code",
   "execution_count": 5,
   "id": "3a43bfa8",
   "metadata": {
    "ExecuteTime": {
     "end_time": "2024-06-16T12:06:05.434213Z",
     "start_time": "2024-06-16T12:06:05.421598Z"
    }
   },
   "outputs": [
    {
     "data": {
      "text/plain": [
       "published_date        3184\n",
       "published_platform       2\n",
       "rating                   5\n",
       "type                     1\n",
       "helpful_votes           15\n",
       "title                 2891\n",
       "text                  3184\n",
       "dtype: int64"
      ]
     },
     "execution_count": 5,
     "metadata": {},
     "output_type": "execute_result"
    }
   ],
   "source": [
    "data.nunique()"
   ]
  },
  {
   "cell_type": "code",
   "execution_count": 6,
   "id": "e82be10e",
   "metadata": {
    "ExecuteTime": {
     "end_time": "2024-06-16T12:06:05.442233Z",
     "start_time": "2024-06-16T12:06:05.436964Z"
    }
   },
   "outputs": [
    {
     "name": "stdout",
     "output_type": "stream",
     "text": [
      "Unique values in column 'published_platform': \n",
      " ['Mobile' 'Desktop'] \n",
      "\n",
      "\n",
      "Unique values in column 'rating': \n",
      " [5 4 3 1 2] \n",
      "\n",
      "\n",
      "Unique values in column 'type': \n",
      " ['review'] \n",
      "\n",
      "\n",
      "Unique values in column 'helpful_votes': \n",
      " [  0   2   1   3  91   4  19  48   5   7   8   6 111  14  10] \n",
      "\n",
      "\n"
     ]
    }
   ],
   "source": [
    "list_ = ['published_platform', 'rating', 'type', 'helpful_votes']\n",
    "\n",
    "for value in list_:\n",
    "    unique_values = data[value].unique()\n",
    "    print(f\"Unique values in column '{value}': \\n {unique_values} \\n\\n\")\n",
    "\n"
   ]
  },
  {
   "cell_type": "markdown",
   "id": "443f9756",
   "metadata": {},
   "source": [
    "Since the variable *type* is always the same, it will be dropped."
   ]
  },
  {
   "cell_type": "code",
   "execution_count": 7,
   "id": "63409033",
   "metadata": {
    "ExecuteTime": {
     "end_time": "2024-06-16T12:06:05.449643Z",
     "start_time": "2024-06-16T12:06:05.444910Z"
    }
   },
   "outputs": [],
   "source": [
    "data = data.drop('type', axis = 1)"
   ]
  },
  {
   "cell_type": "markdown",
   "id": "b9bcce73",
   "metadata": {},
   "source": [
    "## Exploratory Data Analysis"
   ]
  },
  {
   "cell_type": "markdown",
   "id": "bdb760b6",
   "metadata": {},
   "source": [
    "#### Missing Values"
   ]
  },
  {
   "cell_type": "code",
   "execution_count": 8,
   "id": "0ec51eea",
   "metadata": {
    "ExecuteTime": {
     "end_time": "2024-06-16T12:06:05.460020Z",
     "start_time": "2024-06-16T12:06:05.452639Z"
    }
   },
   "outputs": [
    {
     "data": {
      "text/plain": [
       "published_date        0\n",
       "published_platform    0\n",
       "rating                0\n",
       "helpful_votes         0\n",
       "title                 0\n",
       "text                  0\n",
       "dtype: int64"
      ]
     },
     "execution_count": 8,
     "metadata": {},
     "output_type": "execute_result"
    }
   ],
   "source": [
    "data.isnull().sum()"
   ]
  },
  {
   "cell_type": "markdown",
   "id": "5d63a105",
   "metadata": {},
   "source": [
    "#### Duplicates"
   ]
  },
  {
   "cell_type": "code",
   "execution_count": 9,
   "id": "c9ec8344",
   "metadata": {
    "ExecuteTime": {
     "end_time": "2024-06-16T12:06:05.476052Z",
     "start_time": "2024-06-16T12:06:05.463099Z"
    }
   },
   "outputs": [
    {
     "data": {
      "text/html": [
       "<div>\n",
       "<style scoped>\n",
       "    .dataframe tbody tr th:only-of-type {\n",
       "        vertical-align: middle;\n",
       "    }\n",
       "\n",
       "    .dataframe tbody tr th {\n",
       "        vertical-align: top;\n",
       "    }\n",
       "\n",
       "    .dataframe thead th {\n",
       "        text-align: right;\n",
       "    }\n",
       "</style>\n",
       "<table border=\"1\" class=\"dataframe\">\n",
       "  <thead>\n",
       "    <tr style=\"text-align: right;\">\n",
       "      <th></th>\n",
       "      <th>published_date</th>\n",
       "      <th>published_platform</th>\n",
       "      <th>rating</th>\n",
       "      <th>helpful_votes</th>\n",
       "      <th>title</th>\n",
       "      <th>text</th>\n",
       "    </tr>\n",
       "  </thead>\n",
       "  <tbody>\n",
       "  </tbody>\n",
       "</table>\n",
       "</div>"
      ],
      "text/plain": [
       "Empty DataFrame\n",
       "Columns: [published_date, published_platform, rating, helpful_votes, title, text]\n",
       "Index: []"
      ]
     },
     "execution_count": 9,
     "metadata": {},
     "output_type": "execute_result"
    }
   ],
   "source": [
    "data[data.duplicated()]"
   ]
  },
  {
   "cell_type": "markdown",
   "id": "aa41a773",
   "metadata": {},
   "source": [
    "#### Feature Engineering"
   ]
  },
  {
   "cell_type": "markdown",
   "id": "973d9907",
   "metadata": {},
   "source": [
    "**Published Date**"
   ]
  },
  {
   "cell_type": "code",
   "execution_count": 10,
   "id": "79d1d81f",
   "metadata": {
    "ExecuteTime": {
     "end_time": "2024-06-16T12:06:08.905560Z",
     "start_time": "2024-06-16T12:06:08.873905Z"
    }
   },
   "outputs": [
    {
     "data": {
      "text/plain": [
       "0      2023-12-28 13:02:14+00:00\n",
       "1      2023-12-12 05:38:26+00:00\n",
       "2      2023-12-10 13:21:35+00:00\n",
       "3      2023-11-08 02:20:21+00:00\n",
       "4      2023-10-02 21:40:42+00:00\n",
       "                  ...           \n",
       "3179   2010-10-29 09:47:57+00:00\n",
       "3180   2010-08-23 10:08:51+00:00\n",
       "3181   2010-08-23 04:06:41+00:00\n",
       "3182   2010-06-03 11:37:36+00:00\n",
       "3183   2009-09-27 20:39:18+00:00\n",
       "Name: published_date, Length: 3184, dtype: datetime64[ns, UTC]"
      ]
     },
     "execution_count": 10,
     "metadata": {},
     "output_type": "execute_result"
    }
   ],
   "source": [
    "# Transforming published_date to datetime\n",
    "data['published_date'] = pd.to_datetime(data['published_date'], utc=True)\n",
    "#data['published_date'] = pd.to_datetime(data['published_date'], format='%Y-%m-%dT%H:%M:%S%z')\n",
    "data['published_date']"
   ]
  },
  {
   "cell_type": "markdown",
   "id": "ef7e524e",
   "metadata": {},
   "source": [
    "Extracting Information from the converted variable *published_date*"
   ]
  },
  {
   "cell_type": "code",
   "execution_count": 11,
   "id": "d1cd9858",
   "metadata": {
    "ExecuteTime": {
     "end_time": "2024-06-16T12:06:24.920052Z",
     "start_time": "2024-06-16T12:06:24.910594Z"
    }
   },
   "outputs": [],
   "source": [
    "data['Hour'] = data['published_date'].dt.dayofweek \n",
    "data['Day'] = data['published_date'].dt.day\n",
    "data['Month'] = data['published_date'].dt.month\n",
    "data['Year'] = data['published_date'].dt.year\n",
    "#data['Week_day'] = data['published_date'].dt.dayofweek \n",
    "data['Timezone'] = data['published_date'].dt.tz\n"
   ]
  },
  {
   "cell_type": "code",
   "execution_count": 12,
   "id": "835973a6",
   "metadata": {
    "ExecuteTime": {
     "end_time": "2024-06-16T12:06:30.598180Z",
     "start_time": "2024-06-16T12:06:30.581457Z"
    }
   },
   "outputs": [
    {
     "data": {
      "text/html": [
       "<div>\n",
       "<style scoped>\n",
       "    .dataframe tbody tr th:only-of-type {\n",
       "        vertical-align: middle;\n",
       "    }\n",
       "\n",
       "    .dataframe tbody tr th {\n",
       "        vertical-align: top;\n",
       "    }\n",
       "\n",
       "    .dataframe thead th {\n",
       "        text-align: right;\n",
       "    }\n",
       "</style>\n",
       "<table border=\"1\" class=\"dataframe\">\n",
       "  <thead>\n",
       "    <tr style=\"text-align: right;\">\n",
       "      <th></th>\n",
       "      <th>published_date</th>\n",
       "      <th>published_platform</th>\n",
       "      <th>rating</th>\n",
       "      <th>helpful_votes</th>\n",
       "      <th>title</th>\n",
       "      <th>text</th>\n",
       "      <th>Hour</th>\n",
       "      <th>Day</th>\n",
       "      <th>Month</th>\n",
       "      <th>Year</th>\n",
       "      <th>Timezone</th>\n",
       "    </tr>\n",
       "  </thead>\n",
       "  <tbody>\n",
       "    <tr>\n",
       "      <th>0</th>\n",
       "      <td>2023-12-28 13:02:14+00:00</td>\n",
       "      <td>Mobile</td>\n",
       "      <td>5</td>\n",
       "      <td>0</td>\n",
       "      <td>Best classes and good environment</td>\n",
       "      <td>Good thanks for everything good work group 👍 h...</td>\n",
       "      <td>3</td>\n",
       "      <td>28</td>\n",
       "      <td>12</td>\n",
       "      <td>2023</td>\n",
       "      <td>UTC</td>\n",
       "    </tr>\n",
       "    <tr>\n",
       "      <th>1</th>\n",
       "      <td>2023-12-12 05:38:26+00:00</td>\n",
       "      <td>Desktop</td>\n",
       "      <td>4</td>\n",
       "      <td>0</td>\n",
       "      <td>Harvard University</td>\n",
       "      <td>Harvard University was founded in 1636 and is ...</td>\n",
       "      <td>1</td>\n",
       "      <td>12</td>\n",
       "      <td>12</td>\n",
       "      <td>2023</td>\n",
       "      <td>UTC</td>\n",
       "    </tr>\n",
       "    <tr>\n",
       "      <th>2</th>\n",
       "      <td>2023-12-10 13:21:35+00:00</td>\n",
       "      <td>Mobile</td>\n",
       "      <td>3</td>\n",
       "      <td>0</td>\n",
       "      <td>Walk around campus</td>\n",
       "      <td>We did a walk around most of the Harvard Campu...</td>\n",
       "      <td>6</td>\n",
       "      <td>10</td>\n",
       "      <td>12</td>\n",
       "      <td>2023</td>\n",
       "      <td>UTC</td>\n",
       "    </tr>\n",
       "    <tr>\n",
       "      <th>3</th>\n",
       "      <td>2023-11-08 02:20:21+00:00</td>\n",
       "      <td>Desktop</td>\n",
       "      <td>4</td>\n",
       "      <td>0</td>\n",
       "      <td>Interesting Harvard University</td>\n",
       "      <td>We had a walk through the university grounds w...</td>\n",
       "      <td>2</td>\n",
       "      <td>8</td>\n",
       "      <td>11</td>\n",
       "      <td>2023</td>\n",
       "      <td>UTC</td>\n",
       "    </tr>\n",
       "    <tr>\n",
       "      <th>4</th>\n",
       "      <td>2023-10-02 21:40:42+00:00</td>\n",
       "      <td>Desktop</td>\n",
       "      <td>5</td>\n",
       "      <td>0</td>\n",
       "      <td>Lovely university campus has many historic and...</td>\n",
       "      <td>Finally made it to Harvard!!  This iconic univ...</td>\n",
       "      <td>0</td>\n",
       "      <td>2</td>\n",
       "      <td>10</td>\n",
       "      <td>2023</td>\n",
       "      <td>UTC</td>\n",
       "    </tr>\n",
       "    <tr>\n",
       "      <th>...</th>\n",
       "      <td>...</td>\n",
       "      <td>...</td>\n",
       "      <td>...</td>\n",
       "      <td>...</td>\n",
       "      <td>...</td>\n",
       "      <td>...</td>\n",
       "      <td>...</td>\n",
       "      <td>...</td>\n",
       "      <td>...</td>\n",
       "      <td>...</td>\n",
       "      <td>...</td>\n",
       "    </tr>\n",
       "    <tr>\n",
       "      <th>3179</th>\n",
       "      <td>2010-10-29 09:47:57+00:00</td>\n",
       "      <td>Desktop</td>\n",
       "      <td>3</td>\n",
       "      <td>0</td>\n",
       "      <td>amerikanischer campus fuer touristen</td>\n",
       "      <td>wenn man in boston ist hat manmeistens zeit au...</td>\n",
       "      <td>4</td>\n",
       "      <td>29</td>\n",
       "      <td>10</td>\n",
       "      <td>2010</td>\n",
       "      <td>UTC</td>\n",
       "    </tr>\n",
       "    <tr>\n",
       "      <th>3180</th>\n",
       "      <td>2010-08-23 10:08:51+00:00</td>\n",
       "      <td>Desktop</td>\n",
       "      <td>3</td>\n",
       "      <td>0</td>\n",
       "      <td>Weniger als erwartet</td>\n",
       "      <td>Von der Führung der Harvard University erhofft...</td>\n",
       "      <td>0</td>\n",
       "      <td>23</td>\n",
       "      <td>8</td>\n",
       "      <td>2010</td>\n",
       "      <td>UTC</td>\n",
       "    </tr>\n",
       "    <tr>\n",
       "      <th>3181</th>\n",
       "      <td>2010-08-23 04:06:41+00:00</td>\n",
       "      <td>Desktop</td>\n",
       "      <td>5</td>\n",
       "      <td>0</td>\n",
       "      <td>bellissima università</td>\n",
       "      <td>da vedere questa città, studio sede di una del...</td>\n",
       "      <td>0</td>\n",
       "      <td>23</td>\n",
       "      <td>8</td>\n",
       "      <td>2010</td>\n",
       "      <td>UTC</td>\n",
       "    </tr>\n",
       "    <tr>\n",
       "      <th>3182</th>\n",
       "      <td>2010-06-03 11:37:36+00:00</td>\n",
       "      <td>Desktop</td>\n",
       "      <td>5</td>\n",
       "      <td>2</td>\n",
       "      <td>Tolle Universität, definitiv einen Abstecher wert</td>\n",
       "      <td>Hallo,\\nich habe ein Jahr an der Harvard Law S...</td>\n",
       "      <td>3</td>\n",
       "      <td>3</td>\n",
       "      <td>6</td>\n",
       "      <td>2010</td>\n",
       "      <td>UTC</td>\n",
       "    </tr>\n",
       "    <tr>\n",
       "      <th>3183</th>\n",
       "      <td>2009-09-27 20:39:18+00:00</td>\n",
       "      <td>Desktop</td>\n",
       "      <td>5</td>\n",
       "      <td>1</td>\n",
       "      <td>一度は行くべき</td>\n",
       "      <td>とても歴史のある素敵な建物です。ハーバードスクエアーの駅の近くから無料のツアー（英語）をハー...</td>\n",
       "      <td>6</td>\n",
       "      <td>27</td>\n",
       "      <td>9</td>\n",
       "      <td>2009</td>\n",
       "      <td>UTC</td>\n",
       "    </tr>\n",
       "  </tbody>\n",
       "</table>\n",
       "<p>3184 rows × 11 columns</p>\n",
       "</div>"
      ],
      "text/plain": [
       "                published_date published_platform  rating  helpful_votes  \\\n",
       "0    2023-12-28 13:02:14+00:00             Mobile       5              0   \n",
       "1    2023-12-12 05:38:26+00:00            Desktop       4              0   \n",
       "2    2023-12-10 13:21:35+00:00             Mobile       3              0   \n",
       "3    2023-11-08 02:20:21+00:00            Desktop       4              0   \n",
       "4    2023-10-02 21:40:42+00:00            Desktop       5              0   \n",
       "...                        ...                ...     ...            ...   \n",
       "3179 2010-10-29 09:47:57+00:00            Desktop       3              0   \n",
       "3180 2010-08-23 10:08:51+00:00            Desktop       3              0   \n",
       "3181 2010-08-23 04:06:41+00:00            Desktop       5              0   \n",
       "3182 2010-06-03 11:37:36+00:00            Desktop       5              2   \n",
       "3183 2009-09-27 20:39:18+00:00            Desktop       5              1   \n",
       "\n",
       "                                                  title  \\\n",
       "0                    Best classes and good environment    \n",
       "1                                    Harvard University   \n",
       "2                                    Walk around campus   \n",
       "3                        Interesting Harvard University   \n",
       "4     Lovely university campus has many historic and...   \n",
       "...                                                 ...   \n",
       "3179               amerikanischer campus fuer touristen   \n",
       "3180                               Weniger als erwartet   \n",
       "3181                              bellissima università   \n",
       "3182  Tolle Universität, definitiv einen Abstecher wert   \n",
       "3183                                            一度は行くべき   \n",
       "\n",
       "                                                   text  Hour  Day  Month  \\\n",
       "0     Good thanks for everything good work group 👍 h...     3   28     12   \n",
       "1     Harvard University was founded in 1636 and is ...     1   12     12   \n",
       "2     We did a walk around most of the Harvard Campu...     6   10     12   \n",
       "3     We had a walk through the university grounds w...     2    8     11   \n",
       "4     Finally made it to Harvard!!  This iconic univ...     0    2     10   \n",
       "...                                                 ...   ...  ...    ...   \n",
       "3179  wenn man in boston ist hat manmeistens zeit au...     4   29     10   \n",
       "3180  Von der Führung der Harvard University erhofft...     0   23      8   \n",
       "3181  da vedere questa città, studio sede di una del...     0   23      8   \n",
       "3182  Hallo,\\nich habe ein Jahr an der Harvard Law S...     3    3      6   \n",
       "3183  とても歴史のある素敵な建物です。ハーバードスクエアーの駅の近くから無料のツアー（英語）をハー...     6   27      9   \n",
       "\n",
       "      Year Timezone  \n",
       "0     2023      UTC  \n",
       "1     2023      UTC  \n",
       "2     2023      UTC  \n",
       "3     2023      UTC  \n",
       "4     2023      UTC  \n",
       "...    ...      ...  \n",
       "3179  2010      UTC  \n",
       "3180  2010      UTC  \n",
       "3181  2010      UTC  \n",
       "3182  2010      UTC  \n",
       "3183  2009      UTC  \n",
       "\n",
       "[3184 rows x 11 columns]"
      ]
     },
     "execution_count": 12,
     "metadata": {},
     "output_type": "execute_result"
    }
   ],
   "source": [
    "data"
   ]
  },
  {
   "cell_type": "markdown",
   "id": "27b7ff42",
   "metadata": {},
   "source": [
    "### Text Preprocessing"
   ]
  },
  {
   "cell_type": "code",
   "execution_count": 15,
   "id": "a33194c3",
   "metadata": {
    "ExecuteTime": {
     "end_time": "2024-06-16T12:16:58.899641Z",
     "start_time": "2024-06-16T12:16:58.876894Z"
    }
   },
   "outputs": [],
   "source": [
    "from langdetect import detect"
   ]
  },
  {
   "cell_type": "code",
   "execution_count": 16,
   "id": "df39d8ae",
   "metadata": {
    "ExecuteTime": {
     "end_time": "2024-06-16T12:18:07.988142Z",
     "start_time": "2024-06-16T12:17:52.192612Z"
    }
   },
   "outputs": [],
   "source": [
    "def detect_language(text):\n",
    "    try:\n",
    "        lang = detect(text)\n",
    "    except:\n",
    "        lang = 'unknown'  \n",
    "    return lang\n",
    "\n",
    "data['language'] = data['text'].apply(detect_language)\n"
   ]
  },
  {
   "cell_type": "code",
   "execution_count": 18,
   "id": "e1a8b003",
   "metadata": {
    "ExecuteTime": {
     "end_time": "2024-06-16T12:18:43.879459Z",
     "start_time": "2024-06-16T12:18:43.874380Z"
    }
   },
   "outputs": [
    {
     "name": "stdout",
     "output_type": "stream",
     "text": [
      "Unique values in column 'language': \n",
      " ['en' 'de' 'pt' 'es' 'ja' 'fr' 'it' 'pl' 'tr' 'el' 'ru' 'nl' 'sv' 'ko'\n",
      " 'no' 'id' 'zh-cn' 'hu' 'ar' 'he' 'da' 'zh-tw' 'th' 'sk'] \n",
      "\n",
      "\n"
     ]
    }
   ],
   "source": [
    "list_ = ['language']\n",
    "\n",
    "for value in list_:\n",
    "    unique_values = data[value].unique()\n",
    "    print(f\"Unique values in column '{value}': \\n {unique_values} \\n\\n\")\n",
    "\n"
   ]
  },
  {
   "cell_type": "code",
   "execution_count": 27,
   "id": "59891d61",
   "metadata": {
    "ExecuteTime": {
     "end_time": "2024-06-16T12:25:54.043736Z",
     "start_time": "2024-06-16T12:25:54.036990Z"
    }
   },
   "outputs": [
    {
     "data": {
      "text/plain": [
       "language\n",
       "en       1917\n",
       "es        359\n",
       "pt        314\n",
       "it        158\n",
       "fr        134\n",
       "ja         75\n",
       "de         58\n",
       "ru         36\n",
       "ko         29\n",
       "nl         25\n",
       "zh-cn      22\n",
       "sv          9\n",
       "tr          9\n",
       "el          8\n",
       "id          6\n",
       "da          6\n",
       "zh-tw       5\n",
       "no          4\n",
       "pl          3\n",
       "he          2\n",
       "th          2\n",
       "hu          1\n",
       "ar          1\n",
       "sk          1\n",
       "Name: count, dtype: int64"
      ]
     },
     "execution_count": 27,
     "metadata": {},
     "output_type": "execute_result"
    }
   ],
   "source": [
    "language_counts = data['language'].value_counts()\n",
    "language_counts"
   ]
  }
 ],
 "metadata": {
  "kernelspec": {
   "display_name": "Python 3 (ipykernel)",
   "language": "python",
   "name": "python3"
  },
  "language_info": {
   "codemirror_mode": {
    "name": "ipython",
    "version": 3
   },
   "file_extension": ".py",
   "mimetype": "text/x-python",
   "name": "python",
   "nbconvert_exporter": "python",
   "pygments_lexer": "ipython3",
   "version": "3.10.13"
  }
 },
 "nbformat": 4,
 "nbformat_minor": 5
}
