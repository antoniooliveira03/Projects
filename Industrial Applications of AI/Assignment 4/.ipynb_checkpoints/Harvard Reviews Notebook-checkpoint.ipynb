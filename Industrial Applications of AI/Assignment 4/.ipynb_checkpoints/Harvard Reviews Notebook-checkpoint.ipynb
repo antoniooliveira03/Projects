{
 "cells": [
  {
   "cell_type": "markdown",
   "id": "b5dd2815",
   "metadata": {},
   "source": [
    "# <center>Sentiment Analysis on Harvard University Reviews</center>\n"
   ]
  },
  {
   "cell_type": "code",
   "execution_count": null,
   "id": "dae2e535",
   "metadata": {},
   "outputs": [],
   "source": []
  },
  {
   "cell_type": "markdown",
   "id": "d632af51",
   "metadata": {},
   "source": [
    "# Table of Contents\n",
    "\n",
    "1. [Importing Data & Libraries](#1.-Importing-Data-&-Libraries)\n",
    "\n",
    "    1.1 [Libraries](#1.1-Libraries)\n",
    "    \n",
    "    1.2 [Data](#1.2-Importing-Data)\n",
    "    \n",
    "    1.3 [Initial Exploration](#1.3-Initial-Exploration) <br><br>\n",
    "    \n",
    "2. [Exploratory Data Analysis](#2.Exploratory-Data-Analysis)\n",
    "\n",
    "    2.1 [Missing Values](#2.1-Missing-Values)\n",
    "    \n",
    "    2.2 [Duplicates](#2.2-Duplicates)\n",
    "    \n",
    "    2.3 [Feature Engineering](#2.3-Feature-Engineering)"
   ]
  },
  {
   "cell_type": "markdown",
   "id": "a5286ada",
   "metadata": {},
   "source": [
    "## 1. Importing Data & Libraries"
   ]
  },
  {
   "cell_type": "markdown",
   "id": "39056e7d",
   "metadata": {},
   "source": [
    "### 1.1 Libraries"
   ]
  },
  {
   "cell_type": "code",
   "execution_count": 13,
   "id": "0cdd3329",
   "metadata": {
    "ExecuteTime": {
     "end_time": "2024-06-18T10:59:29.680490Z",
     "start_time": "2024-06-18T10:59:29.676873Z"
    }
   },
   "outputs": [],
   "source": [
    "import pandas as pd\n",
    "import matplotlib.pyplot as plt\n",
    "import seaborn as sns\n",
    "\n",
    "# external py file\n",
    "import functions\n",
    "\n",
    "# Warnings\n",
    "import warnings\n",
    "warnings.filterwarnings(\"ignore\")"
   ]
  },
  {
   "cell_type": "markdown",
   "id": "8ac33e7e",
   "metadata": {},
   "source": [
    "### 1.2 Data"
   ]
  },
  {
   "cell_type": "code",
   "execution_count": 2,
   "id": "33aa0e7c",
   "metadata": {
    "ExecuteTime": {
     "end_time": "2024-06-18T10:59:01.460449Z",
     "start_time": "2024-06-18T10:59:01.397829Z"
    }
   },
   "outputs": [
    {
     "data": {
      "text/html": [
       "<div>\n",
       "<style scoped>\n",
       "    .dataframe tbody tr th:only-of-type {\n",
       "        vertical-align: middle;\n",
       "    }\n",
       "\n",
       "    .dataframe tbody tr th {\n",
       "        vertical-align: top;\n",
       "    }\n",
       "\n",
       "    .dataframe thead th {\n",
       "        text-align: right;\n",
       "    }\n",
       "</style>\n",
       "<table border=\"1\" class=\"dataframe\">\n",
       "  <thead>\n",
       "    <tr style=\"text-align: right;\">\n",
       "      <th></th>\n",
       "      <th>published_date</th>\n",
       "      <th>published_platform</th>\n",
       "      <th>rating</th>\n",
       "      <th>type</th>\n",
       "      <th>helpful_votes</th>\n",
       "      <th>title</th>\n",
       "      <th>text</th>\n",
       "    </tr>\n",
       "  </thead>\n",
       "  <tbody>\n",
       "    <tr>\n",
       "      <th>0</th>\n",
       "      <td>2023-12-28T08:02:14-05:00</td>\n",
       "      <td>Mobile</td>\n",
       "      <td>5</td>\n",
       "      <td>review</td>\n",
       "      <td>0</td>\n",
       "      <td>Best classes and good environment</td>\n",
       "      <td>Good thanks for everything good work group 👍 h...</td>\n",
       "    </tr>\n",
       "    <tr>\n",
       "      <th>1</th>\n",
       "      <td>2023-12-12T00:38:26-05:00</td>\n",
       "      <td>Desktop</td>\n",
       "      <td>4</td>\n",
       "      <td>review</td>\n",
       "      <td>0</td>\n",
       "      <td>Harvard University</td>\n",
       "      <td>Harvard University was founded in 1636 and is ...</td>\n",
       "    </tr>\n",
       "    <tr>\n",
       "      <th>2</th>\n",
       "      <td>2023-12-10T08:21:35-05:00</td>\n",
       "      <td>Mobile</td>\n",
       "      <td>3</td>\n",
       "      <td>review</td>\n",
       "      <td>0</td>\n",
       "      <td>Walk around campus</td>\n",
       "      <td>We did a walk around most of the Harvard Campu...</td>\n",
       "    </tr>\n",
       "  </tbody>\n",
       "</table>\n",
       "</div>"
      ],
      "text/plain": [
       "              published_date published_platform  rating    type  \\\n",
       "0  2023-12-28T08:02:14-05:00             Mobile       5  review   \n",
       "1  2023-12-12T00:38:26-05:00            Desktop       4  review   \n",
       "2  2023-12-10T08:21:35-05:00             Mobile       3  review   \n",
       "\n",
       "   helpful_votes                               title  \\\n",
       "0              0  Best classes and good environment    \n",
       "1              0                  Harvard University   \n",
       "2              0                  Walk around campus   \n",
       "\n",
       "                                                text  \n",
       "0  Good thanks for everything good work group 👍 h...  \n",
       "1  Harvard University was founded in 1636 and is ...  \n",
       "2  We did a walk around most of the Harvard Campu...  "
      ]
     },
     "execution_count": 2,
     "metadata": {},
     "output_type": "execute_result"
    }
   ],
   "source": [
    "data = pd.read_csv('/Users/antoniooliveira/Projects/Industrial Applications of AI/Assignment 4/harvard_reviews.csv')\n",
    "data.head(3)"
   ]
  },
  {
   "cell_type": "markdown",
   "id": "b7a3c5f3",
   "metadata": {},
   "source": [
    "### 1.3 Initial Exploration"
   ]
  },
  {
   "cell_type": "markdown",
   "id": "e7a8eeca",
   "metadata": {},
   "source": [
    "**Describe & Info**"
   ]
  },
  {
   "cell_type": "code",
   "execution_count": 3,
   "id": "c7f8c6fd",
   "metadata": {
    "ExecuteTime": {
     "end_time": "2024-06-18T10:59:01.482846Z",
     "start_time": "2024-06-18T10:59:01.464196Z"
    }
   },
   "outputs": [
    {
     "data": {
      "text/html": [
       "<div>\n",
       "<style scoped>\n",
       "    .dataframe tbody tr th:only-of-type {\n",
       "        vertical-align: middle;\n",
       "    }\n",
       "\n",
       "    .dataframe tbody tr th {\n",
       "        vertical-align: top;\n",
       "    }\n",
       "\n",
       "    .dataframe thead th {\n",
       "        text-align: right;\n",
       "    }\n",
       "</style>\n",
       "<table border=\"1\" class=\"dataframe\">\n",
       "  <thead>\n",
       "    <tr style=\"text-align: right;\">\n",
       "      <th></th>\n",
       "      <th>rating</th>\n",
       "      <th>helpful_votes</th>\n",
       "    </tr>\n",
       "  </thead>\n",
       "  <tbody>\n",
       "    <tr>\n",
       "      <th>count</th>\n",
       "      <td>3184.000000</td>\n",
       "      <td>3184.000000</td>\n",
       "    </tr>\n",
       "    <tr>\n",
       "      <th>mean</th>\n",
       "      <td>4.456658</td>\n",
       "      <td>0.498744</td>\n",
       "    </tr>\n",
       "    <tr>\n",
       "      <th>std</th>\n",
       "      <td>0.744024</td>\n",
       "      <td>2.819638</td>\n",
       "    </tr>\n",
       "    <tr>\n",
       "      <th>min</th>\n",
       "      <td>1.000000</td>\n",
       "      <td>0.000000</td>\n",
       "    </tr>\n",
       "    <tr>\n",
       "      <th>25%</th>\n",
       "      <td>4.000000</td>\n",
       "      <td>0.000000</td>\n",
       "    </tr>\n",
       "    <tr>\n",
       "      <th>50%</th>\n",
       "      <td>5.000000</td>\n",
       "      <td>0.000000</td>\n",
       "    </tr>\n",
       "    <tr>\n",
       "      <th>75%</th>\n",
       "      <td>5.000000</td>\n",
       "      <td>1.000000</td>\n",
       "    </tr>\n",
       "    <tr>\n",
       "      <th>max</th>\n",
       "      <td>5.000000</td>\n",
       "      <td>111.000000</td>\n",
       "    </tr>\n",
       "  </tbody>\n",
       "</table>\n",
       "</div>"
      ],
      "text/plain": [
       "            rating  helpful_votes\n",
       "count  3184.000000    3184.000000\n",
       "mean      4.456658       0.498744\n",
       "std       0.744024       2.819638\n",
       "min       1.000000       0.000000\n",
       "25%       4.000000       0.000000\n",
       "50%       5.000000       0.000000\n",
       "75%       5.000000       1.000000\n",
       "max       5.000000     111.000000"
      ]
     },
     "execution_count": 3,
     "metadata": {},
     "output_type": "execute_result"
    }
   ],
   "source": [
    "data.describe()"
   ]
  },
  {
   "cell_type": "code",
   "execution_count": 4,
   "id": "370356a2",
   "metadata": {
    "ExecuteTime": {
     "end_time": "2024-06-18T10:59:01.505609Z",
     "start_time": "2024-06-18T10:59:01.487472Z"
    }
   },
   "outputs": [
    {
     "name": "stdout",
     "output_type": "stream",
     "text": [
      "<class 'pandas.core.frame.DataFrame'>\n",
      "RangeIndex: 3184 entries, 0 to 3183\n",
      "Data columns (total 7 columns):\n",
      " #   Column              Non-Null Count  Dtype \n",
      "---  ------              --------------  ----- \n",
      " 0   published_date      3184 non-null   object\n",
      " 1   published_platform  3184 non-null   object\n",
      " 2   rating              3184 non-null   int64 \n",
      " 3   type                3184 non-null   object\n",
      " 4   helpful_votes       3184 non-null   int64 \n",
      " 5   title               3184 non-null   object\n",
      " 6   text                3184 non-null   object\n",
      "dtypes: int64(2), object(5)\n",
      "memory usage: 174.2+ KB\n"
     ]
    }
   ],
   "source": [
    "data.info()"
   ]
  },
  {
   "cell_type": "markdown",
   "id": "a14dde31",
   "metadata": {},
   "source": [
    "**Unique Values**"
   ]
  },
  {
   "cell_type": "code",
   "execution_count": 5,
   "id": "3a43bfa8",
   "metadata": {
    "ExecuteTime": {
     "end_time": "2024-06-18T10:59:01.523590Z",
     "start_time": "2024-06-18T10:59:01.508759Z"
    }
   },
   "outputs": [
    {
     "data": {
      "text/plain": [
       "published_date        3184\n",
       "published_platform       2\n",
       "rating                   5\n",
       "type                     1\n",
       "helpful_votes           15\n",
       "title                 2891\n",
       "text                  3184\n",
       "dtype: int64"
      ]
     },
     "execution_count": 5,
     "metadata": {},
     "output_type": "execute_result"
    }
   ],
   "source": [
    "data.nunique()"
   ]
  },
  {
   "cell_type": "code",
   "execution_count": 6,
   "id": "e82be10e",
   "metadata": {
    "ExecuteTime": {
     "end_time": "2024-06-18T10:59:01.532143Z",
     "start_time": "2024-06-18T10:59:01.526386Z"
    }
   },
   "outputs": [
    {
     "name": "stdout",
     "output_type": "stream",
     "text": [
      "Unique values in column 'published_platform': \n",
      " ['Mobile' 'Desktop'] \n",
      "\n",
      "\n",
      "Unique values in column 'rating': \n",
      " [5 4 3 1 2] \n",
      "\n",
      "\n",
      "Unique values in column 'type': \n",
      " ['review'] \n",
      "\n",
      "\n",
      "Unique values in column 'helpful_votes': \n",
      " [  0   2   1   3  91   4  19  48   5   7   8   6 111  14  10] \n",
      "\n",
      "\n"
     ]
    }
   ],
   "source": [
    "list_ = ['published_platform', 'rating', 'type', 'helpful_votes']\n",
    "\n",
    "for value in list_:\n",
    "    unique_values = data[value].unique()\n",
    "    print(f\"Unique values in column '{value}': \\n {unique_values} \\n\\n\")\n",
    "\n"
   ]
  },
  {
   "cell_type": "markdown",
   "id": "443f9756",
   "metadata": {},
   "source": [
    "Since the variable *type* is always the same, it will be dropped."
   ]
  },
  {
   "cell_type": "code",
   "execution_count": 7,
   "id": "63409033",
   "metadata": {
    "ExecuteTime": {
     "end_time": "2024-06-18T10:59:01.539815Z",
     "start_time": "2024-06-18T10:59:01.535062Z"
    }
   },
   "outputs": [],
   "source": [
    "data = data.drop('type', axis = 1)"
   ]
  },
  {
   "cell_type": "markdown",
   "id": "b9bcce73",
   "metadata": {},
   "source": [
    "## 2 Exploratory Data Analysis"
   ]
  },
  {
   "cell_type": "markdown",
   "id": "bdb760b6",
   "metadata": {},
   "source": [
    "### 2.1 Missing Values"
   ]
  },
  {
   "cell_type": "code",
   "execution_count": 8,
   "id": "0ec51eea",
   "metadata": {
    "ExecuteTime": {
     "end_time": "2024-06-18T10:59:01.552181Z",
     "start_time": "2024-06-18T10:59:01.543403Z"
    }
   },
   "outputs": [
    {
     "data": {
      "text/plain": [
       "published_date        0\n",
       "published_platform    0\n",
       "rating                0\n",
       "helpful_votes         0\n",
       "title                 0\n",
       "text                  0\n",
       "dtype: int64"
      ]
     },
     "execution_count": 8,
     "metadata": {},
     "output_type": "execute_result"
    }
   ],
   "source": [
    "data.isnull().sum()"
   ]
  },
  {
   "cell_type": "markdown",
   "id": "5d63a105",
   "metadata": {},
   "source": [
    "### 2.2 Duplicates"
   ]
  },
  {
   "cell_type": "code",
   "execution_count": 9,
   "id": "c9ec8344",
   "metadata": {
    "ExecuteTime": {
     "end_time": "2024-06-18T10:59:01.571952Z",
     "start_time": "2024-06-18T10:59:01.555943Z"
    }
   },
   "outputs": [
    {
     "data": {
      "text/html": [
       "<div>\n",
       "<style scoped>\n",
       "    .dataframe tbody tr th:only-of-type {\n",
       "        vertical-align: middle;\n",
       "    }\n",
       "\n",
       "    .dataframe tbody tr th {\n",
       "        vertical-align: top;\n",
       "    }\n",
       "\n",
       "    .dataframe thead th {\n",
       "        text-align: right;\n",
       "    }\n",
       "</style>\n",
       "<table border=\"1\" class=\"dataframe\">\n",
       "  <thead>\n",
       "    <tr style=\"text-align: right;\">\n",
       "      <th></th>\n",
       "      <th>published_date</th>\n",
       "      <th>published_platform</th>\n",
       "      <th>rating</th>\n",
       "      <th>helpful_votes</th>\n",
       "      <th>title</th>\n",
       "      <th>text</th>\n",
       "    </tr>\n",
       "  </thead>\n",
       "  <tbody>\n",
       "  </tbody>\n",
       "</table>\n",
       "</div>"
      ],
      "text/plain": [
       "Empty DataFrame\n",
       "Columns: [published_date, published_platform, rating, helpful_votes, title, text]\n",
       "Index: []"
      ]
     },
     "execution_count": 9,
     "metadata": {},
     "output_type": "execute_result"
    }
   ],
   "source": [
    "data[data.duplicated()]"
   ]
  },
  {
   "cell_type": "markdown",
   "id": "aa41a773",
   "metadata": {},
   "source": [
    "### 2.3 Feature Engineering"
   ]
  },
  {
   "cell_type": "markdown",
   "id": "973d9907",
   "metadata": {},
   "source": [
    "**Published Date**"
   ]
  },
  {
   "cell_type": "code",
   "execution_count": 10,
   "id": "79d1d81f",
   "metadata": {
    "ExecuteTime": {
     "end_time": "2024-06-18T10:59:01.614605Z",
     "start_time": "2024-06-18T10:59:01.577229Z"
    }
   },
   "outputs": [
    {
     "data": {
      "text/plain": [
       "0      2023-12-28 13:02:14+00:00\n",
       "1      2023-12-12 05:38:26+00:00\n",
       "2      2023-12-10 13:21:35+00:00\n",
       "3      2023-11-08 02:20:21+00:00\n",
       "4      2023-10-02 21:40:42+00:00\n",
       "                  ...           \n",
       "3179   2010-10-29 09:47:57+00:00\n",
       "3180   2010-08-23 10:08:51+00:00\n",
       "3181   2010-08-23 04:06:41+00:00\n",
       "3182   2010-06-03 11:37:36+00:00\n",
       "3183   2009-09-27 20:39:18+00:00\n",
       "Name: published_date, Length: 3184, dtype: datetime64[ns, UTC]"
      ]
     },
     "execution_count": 10,
     "metadata": {},
     "output_type": "execute_result"
    }
   ],
   "source": [
    "# Transforming published_date to datetime and setting all observations to the same timezone\n",
    "data['published_date'] = pd.to_datetime(data['published_date'], utc=True)\n",
    "data['published_date']"
   ]
  },
  {
   "cell_type": "markdown",
   "id": "ef7e524e",
   "metadata": {},
   "source": [
    "Extracting Information from the converted variable *published_date*"
   ]
  },
  {
   "cell_type": "code",
   "execution_count": 11,
   "id": "d1cd9858",
   "metadata": {
    "ExecuteTime": {
     "end_time": "2024-06-18T10:59:01.626419Z",
     "start_time": "2024-06-18T10:59:01.617331Z"
    }
   },
   "outputs": [],
   "source": [
    "data['Hour'] = data['published_date'].dt.dayofweek \n",
    "data['Day'] = data['published_date'].dt.day\n",
    "data['Month'] = data['published_date'].dt.month\n",
    "data['Year'] = data['published_date'].dt.year\n",
    "data['Timezone'] = data['published_date'].dt.tz"
   ]
  },
  {
   "cell_type": "markdown",
   "id": "398822bc",
   "metadata": {},
   "source": [
    "### 2.3 Outliers"
   ]
  },
  {
   "cell_type": "code",
   "execution_count": 14,
   "id": "50ee7a98",
   "metadata": {
    "ExecuteTime": {
     "end_time": "2024-06-18T10:59:33.572572Z",
     "start_time": "2024-06-18T10:59:33.566271Z"
    }
   },
   "outputs": [],
   "source": [
    "# Defining a Colour Palette\n",
    "palette = sns.color_palette(\"dark:salmon_r\")"
   ]
  },
  {
   "cell_type": "markdown",
   "id": "1dd2c227",
   "metadata": {},
   "source": [
    "Visualising Outliers by using Boxplots"
   ]
  },
  {
   "cell_type": "code",
   "execution_count": 20,
   "id": "d6503637",
   "metadata": {
    "ExecuteTime": {
     "end_time": "2024-06-18T11:01:18.025924Z",
     "start_time": "2024-06-18T11:01:16.874825Z"
    },
    "scrolled": true
   },
   "outputs": [
    {
     "data": {
      "image/png": "[encoded data removed]",
      "text/plain": [
       "<Figure size 600x400 with 1 Axes>"
      ]
     },
     "metadata": {},
     "output_type": "display_data"
    },
    {
     "data": {
      "image/png": "[encoded data removed]",
      "text/plain": [
       "<Figure size 600x400 with 1 Axes>"
      ]
     },
     "metadata": {},
     "output_type": "display_data"
    },
    {
     "data": {
      "image/png": "[encoded data removed]",
      "text/plain": [
       "<Figure size 600x400 with 1 Axes>"
      ]
     },
     "metadata": {},
     "output_type": "display_data"
    },
    {
     "data": {
      "image/png": "[encoded data removed]",
      "text/plain": [
       "<Figure size 600x400 with 1 Axes>"
      ]
     },
     "metadata": {},
     "output_type": "display_data"
    },
    {
     "data": {
      "image/png": "[encoded data removed]",
      "text/plain": [
       "<Figure size 600x400 with 1 Axes>"
      ]
     },
     "metadata": {},
     "output_type": "display_data"
    },
    {
     "data": {
      "image/png": "[encoded data removed]",
      "text/plain": [
       "<Figure size 600x400 with 1 Axes>"
      ]
     },
     "metadata": {},
     "output_type": "display_data"
    }
   ],
   "source": [
    "# Get a list of all numeric column names\n",
    "columns_to_check = data.select_dtypes(include=['int', 'float']).columns.to_list()\n",
    "        \n",
    "functions.plot_boxplots(data, columns_to_check, palette=palette)"
   ]
  },
  {
   "cell_type": "markdown",
   "id": "3b069da9",
   "metadata": {
    "ExecuteTime": {
     "end_time": "2024-06-17T13:48:16.215558Z",
     "start_time": "2024-06-17T13:48:16.210754Z"
    }
   },
   "source": [
    "Taking a closer look at the variables that show Outliers by using Statistical methods"
   ]
  },
  {
   "cell_type": "code",
   "execution_count": 22,
   "id": "8b5f098b",
   "metadata": {
    "ExecuteTime": {
     "end_time": "2024-06-18T11:03:49.050817Z",
     "start_time": "2024-06-18T11:03:49.038142Z"
    }
   },
   "outputs": [
    {
     "name": "stdout",
     "output_type": "stream",
     "text": [
      "Column: rating\n",
      "Q1: 4.0\n",
      "Q3: 5.0\n",
      "Number of outliers: 60\n",
      "--------------------\n",
      "Column: helpful_votes\n",
      "Q1: 0.0\n",
      "Q3: 1.0\n",
      "Number of outliers: 87\n",
      "--------------------\n",
      "Column: Year\n",
      "Q1: 2014.0\n",
      "Q3: 2017.0\n",
      "Number of outliers: 50\n",
      "--------------------\n"
     ]
    }
   ],
   "source": [
    "columns_to_check = ['rating', 'helpful_votes', 'Year']\n",
    "outlier_info = functions.detect_outliers_per_column(data, columns_to_check)\n",
    "\n",
    "# Print information for each column\n",
    "for column, info in outlier_info.items():\n",
    "    print(f\"Column: {column}\")\n",
    "    print(f\"Lower Bound: {info['lower_bound']}\")\n",
    "    print(f\"Upper Bound: {info['upper_bound']}\")\n",
    "    print(f\"Number of outliers: {info['outlier_count']}\")\n",
    "    print(\"--------------------\")\n"
   ]
  },
  {
   "cell_type": "code",
   "execution_count": 23,
   "id": "ddcd5690",
   "metadata": {
    "ExecuteTime": {
     "end_time": "2024-06-18T11:04:22.627025Z",
     "start_time": "2024-06-18T11:04:22.607959Z"
    }
   },
   "outputs": [
    {
     "data": {
      "text/html": [
       "<div>\n",
       "<style scoped>\n",
       "    .dataframe tbody tr th:only-of-type {\n",
       "        vertical-align: middle;\n",
       "    }\n",
       "\n",
       "    .dataframe tbody tr th {\n",
       "        vertical-align: top;\n",
       "    }\n",
       "\n",
       "    .dataframe thead th {\n",
       "        text-align: right;\n",
       "    }\n",
       "</style>\n",
       "<table border=\"1\" class=\"dataframe\">\n",
       "  <thead>\n",
       "    <tr style=\"text-align: right;\">\n",
       "      <th></th>\n",
       "      <th>published_date</th>\n",
       "      <th>published_platform</th>\n",
       "      <th>rating</th>\n",
       "      <th>helpful_votes</th>\n",
       "      <th>title</th>\n",
       "      <th>text</th>\n",
       "      <th>Hour</th>\n",
       "      <th>Day</th>\n",
       "      <th>Month</th>\n",
       "      <th>Year</th>\n",
       "      <th>Timezone</th>\n",
       "    </tr>\n",
       "  </thead>\n",
       "  <tbody>\n",
       "    <tr>\n",
       "      <th>0</th>\n",
       "      <td>2023-12-28 13:02:14+00:00</td>\n",
       "      <td>Mobile</td>\n",
       "      <td>5</td>\n",
       "      <td>0</td>\n",
       "      <td>Best classes and good environment</td>\n",
       "      <td>Good thanks for everything good work group 👍 h...</td>\n",
       "      <td>3</td>\n",
       "      <td>28</td>\n",
       "      <td>12</td>\n",
       "      <td>2023</td>\n",
       "      <td>UTC</td>\n",
       "    </tr>\n",
       "    <tr>\n",
       "      <th>2</th>\n",
       "      <td>2023-12-10 13:21:35+00:00</td>\n",
       "      <td>Mobile</td>\n",
       "      <td>3</td>\n",
       "      <td>0</td>\n",
       "      <td>Walk around campus</td>\n",
       "      <td>We did a walk around most of the Harvard Campu...</td>\n",
       "      <td>6</td>\n",
       "      <td>10</td>\n",
       "      <td>12</td>\n",
       "      <td>2023</td>\n",
       "      <td>UTC</td>\n",
       "    </tr>\n",
       "    <tr>\n",
       "      <th>4</th>\n",
       "      <td>2023-10-02 21:40:42+00:00</td>\n",
       "      <td>Desktop</td>\n",
       "      <td>5</td>\n",
       "      <td>0</td>\n",
       "      <td>Lovely university campus has many historic and...</td>\n",
       "      <td>Finally made it to Harvard!!  This iconic univ...</td>\n",
       "      <td>0</td>\n",
       "      <td>2</td>\n",
       "      <td>10</td>\n",
       "      <td>2023</td>\n",
       "      <td>UTC</td>\n",
       "    </tr>\n",
       "    <tr>\n",
       "      <th>6</th>\n",
       "      <td>2023-09-26 08:56:29+00:00</td>\n",
       "      <td>Desktop</td>\n",
       "      <td>5</td>\n",
       "      <td>0</td>\n",
       "      <td>Inspirational place</td>\n",
       "      <td>Being there, after all this years watching at ...</td>\n",
       "      <td>1</td>\n",
       "      <td>26</td>\n",
       "      <td>9</td>\n",
       "      <td>2023</td>\n",
       "      <td>UTC</td>\n",
       "    </tr>\n",
       "    <tr>\n",
       "      <th>7</th>\n",
       "      <td>2023-08-02 20:10:20+00:00</td>\n",
       "      <td>Desktop</td>\n",
       "      <td>5</td>\n",
       "      <td>0</td>\n",
       "      <td>Harvard University student guided tour</td>\n",
       "      <td>We took the Harvard student guided tours and l...</td>\n",
       "      <td>2</td>\n",
       "      <td>2</td>\n",
       "      <td>8</td>\n",
       "      <td>2023</td>\n",
       "      <td>UTC</td>\n",
       "    </tr>\n",
       "    <tr>\n",
       "      <th>...</th>\n",
       "      <td>...</td>\n",
       "      <td>...</td>\n",
       "      <td>...</td>\n",
       "      <td>...</td>\n",
       "      <td>...</td>\n",
       "      <td>...</td>\n",
       "      <td>...</td>\n",
       "      <td>...</td>\n",
       "      <td>...</td>\n",
       "      <td>...</td>\n",
       "      <td>...</td>\n",
       "    </tr>\n",
       "    <tr>\n",
       "      <th>3179</th>\n",
       "      <td>2010-10-29 09:47:57+00:00</td>\n",
       "      <td>Desktop</td>\n",
       "      <td>3</td>\n",
       "      <td>0</td>\n",
       "      <td>amerikanischer campus fuer touristen</td>\n",
       "      <td>wenn man in boston ist hat manmeistens zeit au...</td>\n",
       "      <td>4</td>\n",
       "      <td>29</td>\n",
       "      <td>10</td>\n",
       "      <td>2010</td>\n",
       "      <td>UTC</td>\n",
       "    </tr>\n",
       "    <tr>\n",
       "      <th>3180</th>\n",
       "      <td>2010-08-23 10:08:51+00:00</td>\n",
       "      <td>Desktop</td>\n",
       "      <td>3</td>\n",
       "      <td>0</td>\n",
       "      <td>Weniger als erwartet</td>\n",
       "      <td>Von der Führung der Harvard University erhofft...</td>\n",
       "      <td>0</td>\n",
       "      <td>23</td>\n",
       "      <td>8</td>\n",
       "      <td>2010</td>\n",
       "      <td>UTC</td>\n",
       "    </tr>\n",
       "    <tr>\n",
       "      <th>3181</th>\n",
       "      <td>2010-08-23 04:06:41+00:00</td>\n",
       "      <td>Desktop</td>\n",
       "      <td>5</td>\n",
       "      <td>0</td>\n",
       "      <td>bellissima università</td>\n",
       "      <td>da vedere questa città, studio sede di una del...</td>\n",
       "      <td>0</td>\n",
       "      <td>23</td>\n",
       "      <td>8</td>\n",
       "      <td>2010</td>\n",
       "      <td>UTC</td>\n",
       "    </tr>\n",
       "    <tr>\n",
       "      <th>3182</th>\n",
       "      <td>2010-06-03 11:37:36+00:00</td>\n",
       "      <td>Desktop</td>\n",
       "      <td>5</td>\n",
       "      <td>2</td>\n",
       "      <td>Tolle Universität, definitiv einen Abstecher wert</td>\n",
       "      <td>Hallo,\\nich habe ein Jahr an der Harvard Law S...</td>\n",
       "      <td>3</td>\n",
       "      <td>3</td>\n",
       "      <td>6</td>\n",
       "      <td>2010</td>\n",
       "      <td>UTC</td>\n",
       "    </tr>\n",
       "    <tr>\n",
       "      <th>3183</th>\n",
       "      <td>2009-09-27 20:39:18+00:00</td>\n",
       "      <td>Desktop</td>\n",
       "      <td>5</td>\n",
       "      <td>1</td>\n",
       "      <td>一度は行くべき</td>\n",
       "      <td>とても歴史のある素敵な建物です。ハーバードスクエアーの駅の近くから無料のツアー（英語）をハー...</td>\n",
       "      <td>6</td>\n",
       "      <td>27</td>\n",
       "      <td>9</td>\n",
       "      <td>2009</td>\n",
       "      <td>UTC</td>\n",
       "    </tr>\n",
       "  </tbody>\n",
       "</table>\n",
       "<p>2176 rows × 11 columns</p>\n",
       "</div>"
      ],
      "text/plain": [
       "                published_date published_platform  rating  helpful_votes  \\\n",
       "0    2023-12-28 13:02:14+00:00             Mobile       5              0   \n",
       "2    2023-12-10 13:21:35+00:00             Mobile       3              0   \n",
       "4    2023-10-02 21:40:42+00:00            Desktop       5              0   \n",
       "6    2023-09-26 08:56:29+00:00            Desktop       5              0   \n",
       "7    2023-08-02 20:10:20+00:00            Desktop       5              0   \n",
       "...                        ...                ...     ...            ...   \n",
       "3179 2010-10-29 09:47:57+00:00            Desktop       3              0   \n",
       "3180 2010-08-23 10:08:51+00:00            Desktop       3              0   \n",
       "3181 2010-08-23 04:06:41+00:00            Desktop       5              0   \n",
       "3182 2010-06-03 11:37:36+00:00            Desktop       5              2   \n",
       "3183 2009-09-27 20:39:18+00:00            Desktop       5              1   \n",
       "\n",
       "                                                  title  \\\n",
       "0                    Best classes and good environment    \n",
       "2                                    Walk around campus   \n",
       "4     Lovely university campus has many historic and...   \n",
       "6                                   Inspirational place   \n",
       "7                Harvard University student guided tour   \n",
       "...                                                 ...   \n",
       "3179               amerikanischer campus fuer touristen   \n",
       "3180                               Weniger als erwartet   \n",
       "3181                              bellissima università   \n",
       "3182  Tolle Universität, definitiv einen Abstecher wert   \n",
       "3183                                            一度は行くべき   \n",
       "\n",
       "                                                   text  Hour  Day  Month  \\\n",
       "0     Good thanks for everything good work group 👍 h...     3   28     12   \n",
       "2     We did a walk around most of the Harvard Campu...     6   10     12   \n",
       "4     Finally made it to Harvard!!  This iconic univ...     0    2     10   \n",
       "6     Being there, after all this years watching at ...     1   26      9   \n",
       "7     We took the Harvard student guided tours and l...     2    2      8   \n",
       "...                                                 ...   ...  ...    ...   \n",
       "3179  wenn man in boston ist hat manmeistens zeit au...     4   29     10   \n",
       "3180  Von der Führung der Harvard University erhofft...     0   23      8   \n",
       "3181  da vedere questa città, studio sede di una del...     0   23      8   \n",
       "3182  Hallo,\\nich habe ein Jahr an der Harvard Law S...     3    3      6   \n",
       "3183  とても歴史のある素敵な建物です。ハーバードスクエアーの駅の近くから無料のツアー（英語）をハー...     6   27      9   \n",
       "\n",
       "      Year Timezone  \n",
       "0     2023      UTC  \n",
       "2     2023      UTC  \n",
       "4     2023      UTC  \n",
       "6     2023      UTC  \n",
       "7     2023      UTC  \n",
       "...    ...      ...  \n",
       "3179  2010      UTC  \n",
       "3180  2010      UTC  \n",
       "3181  2010      UTC  \n",
       "3182  2010      UTC  \n",
       "3183  2009      UTC  \n",
       "\n",
       "[2176 rows x 11 columns]"
      ]
     },
     "execution_count": 23,
     "metadata": {},
     "output_type": "execute_result"
    }
   ],
   "source": [
    "data[(data['rating'] < 4) | (data['rating'] >= 5)]"
   ]
  },
  {
   "cell_type": "markdown",
   "id": "06334875",
   "metadata": {},
   "source": [
    "# !!!!!!! look at rating < q1 or > q3 see if makes sense\n",
    "do for the rest of variables"
   ]
  },
  {
   "cell_type": "markdown",
   "id": "27b7ff42",
   "metadata": {},
   "source": [
    "## 3. Text Preprocessing"
   ]
  },
  {
   "cell_type": "markdown",
   "id": "87a10bac",
   "metadata": {},
   "source": [
    "Having noticed that there are non-English Reviews, the language in each review will now be detected through the usage of the langdetect library"
   ]
  },
  {
   "cell_type": "markdown",
   "id": "46423643",
   "metadata": {},
   "source": [
    "**Language Detection**"
   ]
  },
  {
   "cell_type": "code",
   "execution_count": 12,
   "id": "df39d8ae",
   "metadata": {
    "ExecuteTime": {
     "end_time": "2024-06-17T13:07:04.192224Z",
     "start_time": "2024-06-17T13:06:48.285531Z"
    }
   },
   "outputs": [],
   "source": [
    "data['language'] = data['text'].apply(functions.detect_language)"
   ]
  },
  {
   "cell_type": "markdown",
   "id": "eec5d9e5",
   "metadata": {},
   "source": [
    "Listing the Unique Values of Language"
   ]
  },
  {
   "cell_type": "code",
   "execution_count": 13,
   "id": "e1a8b003",
   "metadata": {
    "ExecuteTime": {
     "end_time": "2024-06-17T13:07:04.199567Z",
     "start_time": "2024-06-17T13:07:04.195360Z"
    }
   },
   "outputs": [
    {
     "name": "stdout",
     "output_type": "stream",
     "text": [
      "Unique values in column 'language': \n",
      " ['en' 'de' 'pt' 'es' 'ja' 'fr' 'it' 'pl' 'tr' 'el' 'ru' 'nl' 'sv' 'ko'\n",
      " 'no' 'id' 'zh-cn' 'hu' 'ar' 'he' 'da' 'zh-tw' 'th' 'sk'] \n",
      "\n",
      "\n"
     ]
    }
   ],
   "source": [
    "list_ = ['language']\n",
    "for value in list_:\n",
    "    unique_values = data[value].unique()\n",
    "    print(f\"Unique values in column '{value}': \\n {unique_values} \\n\\n\")"
   ]
  },
  {
   "cell_type": "markdown",
   "id": "59a07236",
   "metadata": {},
   "source": [
    "Displaying the Number of Observations per Language"
   ]
  },
  {
   "cell_type": "code",
   "execution_count": 76,
   "id": "59891d61",
   "metadata": {
    "ExecuteTime": {
     "end_time": "2024-06-17T13:58:38.810392Z",
     "start_time": "2024-06-17T13:58:38.284885Z"
    }
   },
   "outputs": [
    {
     "data": {
      "image/png": "[encoded data removed]",
      "text/plain": [
       "<Figure size 1000x600 with 1 Axes>"
      ]
     },
     "metadata": {},
     "output_type": "display_data"
    }
   ],
   "source": [
    "# Count observations by language\n",
    "language_counts = data['language'].value_counts()\n",
    "\n",
    "# Plotting\n",
    "plt.figure(figsize=(10, 6))\n",
    "language_counts.plot(kind='bar', color='indianred')\n",
    "plt.title('Number of Observations per Language')\n",
    "plt.xlabel('Language')\n",
    "plt.ylabel('Number of Observations')\n",
    "plt.xticks(rotation=45)\n",
    "plt.show()"
   ]
  },
  {
   "cell_type": "markdown",
   "id": "a6833b0a",
   "metadata": {},
   "source": [
    "Even though most observations are in English (~60%), it is worth it to try to translate the remaining observations, since they still constitute a significant part of the dataset.\n",
    "\n",
    "To do so, I explored several options, such as *libretranslatepy*, *translate* libraries and APIs of Google and DeepL.\n",
    "\n",
    "Since the libraries were not working, possibily because of the amount of text in each observation, I decided to experiment with the DeepL API, as follows.\n",
    "\n",
    "The DeepL API has a free tier which allows to translate 500k characters per month. As so, the number of characters existent in the dataset will be computed, to ensure they are within this limit."
   ]
  },
  {
   "cell_type": "code",
   "execution_count": 16,
   "id": "e4e35def",
   "metadata": {
    "ExecuteTime": {
     "end_time": "2024-06-17T13:09:06.700639Z",
     "start_time": "2024-06-17T13:09:06.693530Z"
    }
   },
   "outputs": [
    {
     "data": {
      "text/plain": [
       "969564"
      ]
     },
     "execution_count": 16,
     "metadata": {},
     "output_type": "execute_result"
    }
   ],
   "source": [
    "# characters per observations\n",
    "data['char_count'] = data['text'].str.len()\n",
    "\n",
    "# total characters\n",
    "data['char_count'].sum()"
   ]
  },
  {
   "cell_type": "markdown",
   "id": "cb5e8860",
   "metadata": {},
   "source": [
    "Since the total character counts exceeds the limit, one must check the sum of characters from non-English observations (the ones that need translation)."
   ]
  },
  {
   "cell_type": "code",
   "execution_count": 17,
   "id": "acbd4d00",
   "metadata": {
    "ExecuteTime": {
     "end_time": "2024-06-17T13:09:08.653530Z",
     "start_time": "2024-06-17T13:09:08.644893Z"
    }
   },
   "outputs": [
    {
     "data": {
      "text/plain": [
       "361966"
      ]
     },
     "execution_count": 17,
     "metadata": {},
     "output_type": "execute_result"
    }
   ],
   "source": [
    "data[data['language'] != 'en']['char_count'].sum()"
   ]
  },
  {
   "cell_type": "markdown",
   "id": "2cd113cc",
   "metadata": {},
   "source": [
    "Since 361966 < 500000, this approach can be used. However, since this only allows 1 translation of the entire dataset per month, a smaller sample will be used to develop the rest of the notebook.\n",
    "\n",
    "When most steps are finalised, the full dataset will then be translated."
   ]
  },
  {
   "cell_type": "code",
   "execution_count": 32,
   "id": "23b46808",
   "metadata": {
    "ExecuteTime": {
     "end_time": "2024-06-17T13:16:21.604835Z",
     "start_time": "2024-06-17T13:16:21.590024Z"
    }
   },
   "outputs": [
    {
     "data": {
      "text/html": [
       "<div>\n",
       "<style scoped>\n",
       "    .dataframe tbody tr th:only-of-type {\n",
       "        vertical-align: middle;\n",
       "    }\n",
       "\n",
       "    .dataframe tbody tr th {\n",
       "        vertical-align: top;\n",
       "    }\n",
       "\n",
       "    .dataframe thead th {\n",
       "        text-align: right;\n",
       "    }\n",
       "</style>\n",
       "<table border=\"1\" class=\"dataframe\">\n",
       "  <thead>\n",
       "    <tr style=\"text-align: right;\">\n",
       "      <th></th>\n",
       "      <th>published_date</th>\n",
       "      <th>published_platform</th>\n",
       "      <th>rating</th>\n",
       "      <th>helpful_votes</th>\n",
       "      <th>title</th>\n",
       "      <th>text</th>\n",
       "      <th>Hour</th>\n",
       "      <th>Day</th>\n",
       "      <th>Month</th>\n",
       "      <th>Year</th>\n",
       "      <th>Timezone</th>\n",
       "      <th>language</th>\n",
       "      <th>char_count</th>\n",
       "    </tr>\n",
       "  </thead>\n",
       "  <tbody>\n",
       "    <tr>\n",
       "      <th>107</th>\n",
       "      <td>2019-09-02 04:13:56+00:00</td>\n",
       "      <td>Mobile</td>\n",
       "      <td>5</td>\n",
       "      <td>0</td>\n",
       "      <td>Harvard</td>\n",
       "      <td>A must see if in the area. The old buildings a...</td>\n",
       "      <td>0</td>\n",
       "      <td>2</td>\n",
       "      <td>9</td>\n",
       "      <td>2019</td>\n",
       "      <td>UTC</td>\n",
       "      <td>en</td>\n",
       "      <td>192</td>\n",
       "    </tr>\n",
       "    <tr>\n",
       "      <th>2308</th>\n",
       "      <td>2017-04-20 14:43:07+00:00</td>\n",
       "      <td>Desktop</td>\n",
       "      <td>5</td>\n",
       "      <td>0</td>\n",
       "      <td>Donde la excelencia se hace presente</td>\n",
       "      <td>Solamente de pasear por sus jardines y parques...</td>\n",
       "      <td>3</td>\n",
       "      <td>20</td>\n",
       "      <td>4</td>\n",
       "      <td>2017</td>\n",
       "      <td>UTC</td>\n",
       "      <td>es</td>\n",
       "      <td>108</td>\n",
       "    </tr>\n",
       "    <tr>\n",
       "      <th>2701</th>\n",
       "      <td>2015-09-15 14:15:10+00:00</td>\n",
       "      <td>Desktop</td>\n",
       "      <td>4</td>\n",
       "      <td>0</td>\n",
       "      <td>Interesante</td>\n",
       "      <td>Buena visita si vas a Boston... Si bien es una...</td>\n",
       "      <td>1</td>\n",
       "      <td>15</td>\n",
       "      <td>9</td>\n",
       "      <td>2015</td>\n",
       "      <td>UTC</td>\n",
       "      <td>es</td>\n",
       "      <td>217</td>\n",
       "    </tr>\n",
       "  </tbody>\n",
       "</table>\n",
       "</div>"
      ],
      "text/plain": [
       "                published_date published_platform  rating  helpful_votes  \\\n",
       "107  2019-09-02 04:13:56+00:00             Mobile       5              0   \n",
       "2308 2017-04-20 14:43:07+00:00            Desktop       5              0   \n",
       "2701 2015-09-15 14:15:10+00:00            Desktop       4              0   \n",
       "\n",
       "                                     title  \\\n",
       "107                                Harvard   \n",
       "2308  Donde la excelencia se hace presente   \n",
       "2701                           Interesante   \n",
       "\n",
       "                                                   text  Hour  Day  Month  \\\n",
       "107   A must see if in the area. The old buildings a...     0    2      9   \n",
       "2308  Solamente de pasear por sus jardines y parques...     3   20      4   \n",
       "2701  Buena visita si vas a Boston... Si bien es una...     1   15      9   \n",
       "\n",
       "      Year Timezone language  char_count  \n",
       "107   2019      UTC       en         192  \n",
       "2308  2017      UTC       es         108  \n",
       "2701  2015      UTC       es         217  "
      ]
     },
     "execution_count": 32,
     "metadata": {},
     "output_type": "execute_result"
    }
   ],
   "source": [
    "data_sample = data.sample(10)\n",
    "data_sample.head(3)"
   ]
  },
  {
   "cell_type": "markdown",
   "id": "54b42afe",
   "metadata": {},
   "source": [
    "Counting the number of characters in the sample"
   ]
  },
  {
   "cell_type": "code",
   "execution_count": 33,
   "id": "6bf74d25",
   "metadata": {
    "ExecuteTime": {
     "end_time": "2024-06-17T13:16:23.289373Z",
     "start_time": "2024-06-17T13:16:23.282215Z"
    }
   },
   "outputs": [
    {
     "data": {
      "text/plain": [
       "1294"
      ]
     },
     "execution_count": 33,
     "metadata": {},
     "output_type": "execute_result"
    }
   ],
   "source": [
    "data_sample['char_count'] = data_sample['text'].str.len()\n",
    "\n",
    "# total non-english characters\n",
    "data_sample[data_sample['language'] != 'en']['char_count'].sum()"
   ]
  },
  {
   "cell_type": "markdown",
   "id": "51b591f3",
   "metadata": {},
   "source": [
    "**Translation**"
   ]
  },
  {
   "cell_type": "code",
   "execution_count": 35,
   "id": "af7dedfc",
   "metadata": {
    "ExecuteTime": {
     "end_time": "2024-06-17T13:18:33.999835Z",
     "start_time": "2024-06-17T13:18:30.004921Z"
    }
   },
   "outputs": [],
   "source": [
    "auth_key = \"14143fc8-d67d-487d-8605-a715b2691c9d:fx\" \n",
    "\n",
    "# Translate \n",
    "data_sample['translated_text'] = data_sample.apply(lambda row: functions.translate_with_deepl(row['text'], auth_key, row['language'], 'EN'), axis=1)\n"
   ]
  },
  {
   "cell_type": "code",
   "execution_count": 37,
   "id": "cf3bfe12",
   "metadata": {
    "ExecuteTime": {
     "end_time": "2024-06-17T13:19:41.140440Z",
     "start_time": "2024-06-17T13:19:41.127331Z"
    }
   },
   "outputs": [
    {
     "data": {
      "text/html": [
       "<div>\n",
       "<style scoped>\n",
       "    .dataframe tbody tr th:only-of-type {\n",
       "        vertical-align: middle;\n",
       "    }\n",
       "\n",
       "    .dataframe tbody tr th {\n",
       "        vertical-align: top;\n",
       "    }\n",
       "\n",
       "    .dataframe thead th {\n",
       "        text-align: right;\n",
       "    }\n",
       "</style>\n",
       "<table border=\"1\" class=\"dataframe\">\n",
       "  <thead>\n",
       "    <tr style=\"text-align: right;\">\n",
       "      <th></th>\n",
       "      <th>published_date</th>\n",
       "      <th>published_platform</th>\n",
       "      <th>rating</th>\n",
       "      <th>helpful_votes</th>\n",
       "      <th>title</th>\n",
       "      <th>text</th>\n",
       "      <th>Hour</th>\n",
       "      <th>Day</th>\n",
       "      <th>Month</th>\n",
       "      <th>Year</th>\n",
       "      <th>Timezone</th>\n",
       "      <th>language</th>\n",
       "      <th>char_count</th>\n",
       "      <th>translated_text</th>\n",
       "    </tr>\n",
       "  </thead>\n",
       "  <tbody>\n",
       "    <tr>\n",
       "      <th>107</th>\n",
       "      <td>2019-09-02 04:13:56+00:00</td>\n",
       "      <td>Mobile</td>\n",
       "      <td>5</td>\n",
       "      <td>0</td>\n",
       "      <td>Harvard</td>\n",
       "      <td>A must see if in the area. The old buildings a...</td>\n",
       "      <td>0</td>\n",
       "      <td>2</td>\n",
       "      <td>9</td>\n",
       "      <td>2019</td>\n",
       "      <td>UTC</td>\n",
       "      <td>en</td>\n",
       "      <td>192</td>\n",
       "      <td>A must see if in the area. The old buildings a...</td>\n",
       "    </tr>\n",
       "    <tr>\n",
       "      <th>2308</th>\n",
       "      <td>2017-04-20 14:43:07+00:00</td>\n",
       "      <td>Desktop</td>\n",
       "      <td>5</td>\n",
       "      <td>0</td>\n",
       "      <td>Donde la excelencia se hace presente</td>\n",
       "      <td>Solamente de pasear por sus jardines y parques...</td>\n",
       "      <td>3</td>\n",
       "      <td>20</td>\n",
       "      <td>4</td>\n",
       "      <td>2017</td>\n",
       "      <td>UTC</td>\n",
       "      <td>es</td>\n",
       "      <td>108</td>\n",
       "      <td>Just walking through its gardens and parks you...</td>\n",
       "    </tr>\n",
       "    <tr>\n",
       "      <th>2701</th>\n",
       "      <td>2015-09-15 14:15:10+00:00</td>\n",
       "      <td>Desktop</td>\n",
       "      <td>4</td>\n",
       "      <td>0</td>\n",
       "      <td>Interesante</td>\n",
       "      <td>Buena visita si vas a Boston... Si bien es una...</td>\n",
       "      <td>1</td>\n",
       "      <td>15</td>\n",
       "      <td>9</td>\n",
       "      <td>2015</td>\n",
       "      <td>UTC</td>\n",
       "      <td>es</td>\n",
       "      <td>217</td>\n",
       "      <td>Good visit if you go to Boston... It's a pity ...</td>\n",
       "    </tr>\n",
       "  </tbody>\n",
       "</table>\n",
       "</div>"
      ],
      "text/plain": [
       "                published_date published_platform  rating  helpful_votes  \\\n",
       "107  2019-09-02 04:13:56+00:00             Mobile       5              0   \n",
       "2308 2017-04-20 14:43:07+00:00            Desktop       5              0   \n",
       "2701 2015-09-15 14:15:10+00:00            Desktop       4              0   \n",
       "\n",
       "                                     title  \\\n",
       "107                                Harvard   \n",
       "2308  Donde la excelencia se hace presente   \n",
       "2701                           Interesante   \n",
       "\n",
       "                                                   text  Hour  Day  Month  \\\n",
       "107   A must see if in the area. The old buildings a...     0    2      9   \n",
       "2308  Solamente de pasear por sus jardines y parques...     3   20      4   \n",
       "2701  Buena visita si vas a Boston... Si bien es una...     1   15      9   \n",
       "\n",
       "      Year Timezone language  char_count  \\\n",
       "107   2019      UTC       en         192   \n",
       "2308  2017      UTC       es         108   \n",
       "2701  2015      UTC       es         217   \n",
       "\n",
       "                                        translated_text  \n",
       "107   A must see if in the area. The old buildings a...  \n",
       "2308  Just walking through its gardens and parks you...  \n",
       "2701  Good visit if you go to Boston... It's a pity ...  "
      ]
     },
     "execution_count": 37,
     "metadata": {},
     "output_type": "execute_result"
    }
   ],
   "source": [
    "data_sample.head(3)"
   ]
  },
  {
   "cell_type": "markdown",
   "id": "fbc2a820",
   "metadata": {},
   "source": [
    "**Checking the correctness of the translation**\n",
    "\n",
    "Since I am Portuguese I can understand Portuguese and Spanish, so some of these observations will be checked."
   ]
  },
  {
   "cell_type": "code",
   "execution_count": 43,
   "id": "b2e35b40",
   "metadata": {
    "ExecuteTime": {
     "end_time": "2024-06-17T13:24:02.915216Z",
     "start_time": "2024-06-17T13:24:02.908325Z"
    }
   },
   "outputs": [
    {
     "name": "stdout",
     "output_type": "stream",
     "text": [
      "language                                                                                                                                                                                                                                                                                                                                                                                                             text                                                                                                                                                                                                                                                                                                                                                                                    translated_text\n",
      "      es                                                                                                                                                                                                                                                                                                     Solamente de pasear por sus jardines y parques se puede sentir la importancia de una educación de excelencia                                                                                                                                                                                                                                                                                                  Just walking through its gardens and parks you can feel the importance of an excellent education.\n",
      "      es                                                                                                                                                                                        Buena visita si vas a Boston... Si bien es una pena que no se pueda entrar en muchos de los lugares de la universidad. Bueno el museo de historia natural, el único lugar donde se admitían visitas el día que estuvimos.                                                                                                                                                                                     Good visit if you go to Boston... It's a pity that you can't get into many of the places in the university. Good the natural history museum, the only place where visitors were allowed the day we were there.\n",
      "      es La Universidad de Harvard se encuentra muy proxima a la ciudad de Boston, y realmente es ideal para ir a pasear un dia. Sus edificios, entornos, y los alumnos por todos lados, componen un clima ideal. Aconsejo ir y caminar por sus calles, y por supuesto comprar alguna remerza, buzo o aunque sea un pin de Harvard. Hay diferentes precios dependiendo de si es el merchandising oficial, o si no lo es.  Harvard University is located very close to the city of Boston, and is really ideal for a day trip. Its buildings, surroundings, and students everywhere, make an ideal climate. I recommend going and walking through the streets, and of course buying a Harvard T-shirt, sweatshirt or even a Harvard pin. There are different prices depending on whether it is official merchandising or not.\n"
     ]
    }
   ],
   "source": [
    "selected_columns = ['language', 'text', 'translated_text']\n",
    "filtered_data = data_sample.loc[data_sample['language'].isin(['pt', 'es']), selected_columns]\n",
    "\n",
    "print(filtered_data.to_string(index=False))"
   ]
  },
  {
   "cell_type": "markdown",
   "id": "dd89f147",
   "metadata": {},
   "source": [
    "With all observations in the same language, we can move on to deal with Stopwords and Punctuation."
   ]
  },
  {
   "cell_type": "markdown",
   "id": "8f47e5cf",
   "metadata": {},
   "source": [
    "**Text Cleaning**"
   ]
  },
  {
   "cell_type": "code",
   "execution_count": 59,
   "id": "2725ddcb",
   "metadata": {
    "ExecuteTime": {
     "end_time": "2024-06-17T13:36:39.638670Z",
     "start_time": "2024-06-17T13:36:39.623353Z"
    }
   },
   "outputs": [
    {
     "data": {
      "text/plain": [
       "107     A must see area. The old buildings beautiful. ...\n",
       "2308    Just walking gardens parks feel importance exc...\n",
       "2701    Good visit go Boston... It's pity ca n't get m...\n",
       "1222    We two days commencement day. There lot activi...\n",
       "537     This excellent way take Harvard University. Jo...\n",
       "543     We took walking tour entire Harvard Yard even ...\n",
       "2414    Harvard University located close city Boston, ...\n",
       "112     Excellent campus public grounds A pitty enter ...\n",
       "29      When Boston, must go Harvard drive campus. The...\n",
       "3171    Those travel Boston usually take detour Cambri...\n",
       "Name: clean_text, dtype: object"
      ]
     },
     "execution_count": 59,
     "metadata": {},
     "output_type": "execute_result"
    }
   ],
   "source": [
    "data_sample['clean_text'] = data_sample['translated_text'].apply(\n",
    "    lambda x: functions.preprocessor(x,\n",
    "                                        remove_punctuation=False,\n",
    "                                        lowercase=False,\n",
    "                                        remove_stopwords=True,\n",
    "                                        lemmatization=False,\n",
    "                                        stemming=False,\n",
    "                                        tokenized_output=False,\n",
    "                                        sentence_output=False))\n",
    "\n",
    "data_sample['clean_text']"
   ]
  },
  {
   "cell_type": "markdown",
   "id": "16947d66",
   "metadata": {},
   "source": [
    "## Export"
   ]
  },
  {
   "cell_type": "markdown",
   "id": "4d2050e6",
   "metadata": {},
   "source": [
    "Exporting clean data"
   ]
  },
  {
   "cell_type": "code",
   "execution_count": null,
   "id": "2b257ff2",
   "metadata": {},
   "outputs": [],
   "source": [
    "# data_sample.to_csv('clean_sample_data.csv', index=False)"
   ]
  }
 ],
 "metadata": {
  "kernelspec": {
   "display_name": "Python 3 (ipykernel)",
   "language": "python",
   "name": "python3"
  },
  "language_info": {
   "codemirror_mode": {
    "name": "ipython",
    "version": 3
   },
   "file_extension": ".py",
   "mimetype": "text/x-python",
   "name": "python",
   "nbconvert_exporter": "python",
   "pygments_lexer": "ipython3",
   "version": "3.10.13"
  }
 },
 "nbformat": 4,
 "nbformat_minor": 5
}
