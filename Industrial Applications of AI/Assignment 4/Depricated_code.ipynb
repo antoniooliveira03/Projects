{
 "cells": [
  {
   "cell_type": "code",
   "execution_count": 1,
   "id": "10143035",
   "metadata": {
    "ExecuteTime": {
     "end_time": "2024-06-28T09:47:03.305528Z",
     "start_time": "2024-06-28T09:47:03.302658Z"
    }
   },
   "outputs": [],
   "source": [
    "### 6.1 Negative Reviews Exploration"
   ]
  },
  {
   "cell_type": "markdown",
   "id": "aa2577e8",
   "metadata": {
    "ExecuteTime": {
     "end_time": "2024-06-28T09:47:08.775540Z",
     "start_time": "2024-06-28T09:47:08.770312Z"
    }
   },
   "source": [
    "As the previously plotted visualisations did not display any clear pattern between the Polarity Compounds and the language used to write the review, the platform used to publish said review, nor the number of characters in each, we must further delve into the main goal of this assignment. To better understand negative reviews by highlighting the mentioned problems and understanding how to solve them.\n",
    "\n",
    "Since *Vader* Algorithm is tuned to work with social media and product reviews data, it is believed to be the more accurate, therefore it will be used as reference in the next steps."
   ]
  },
  {
   "cell_type": "code",
   "execution_count": null,
   "id": "baac3bca",
   "metadata": {},
   "outputs": [],
   "source": [
    "# sorting by lower vader compound\n",
    "sorted_vader = data.sort_values(by='vader_compound')\n",
    "\n",
    "# select lowest 10\n",
    "lowest = sorted_vader.head(50)\n",
    "\n",
    "# select highest 10\n",
    "highest = sorted_vader.tail(50)"
   ]
  },
  {
   "cell_type": "code",
   "execution_count": null,
   "id": "09a8d9e2",
   "metadata": {},
   "outputs": [],
   "source": [
    "text = ' '.join(lowest['clean_text'])\n",
    "\n",
    "cmap = ListedColormap(palette)\n",
    "\n",
    "# Generate the word cloud\n",
    "wordcloud = WordCloud(width=800, height=400, background_color='white', colormap=cmap).generate(text)\n",
    "\n",
    "# Display the word cloud using matplotlib\n",
    "plt.figure(figsize=(10, 5))\n",
    "plt.imshow(wordcloud, interpolation='bilinear')\n",
    "plt.axis('off')  \n",
    "plt.show()"
   ]
  },
  {
   "cell_type": "code",
   "execution_count": null,
   "id": "eb99daca",
   "metadata": {},
   "outputs": [],
   "source": [
    "text = ' '.join(lowest['clean_text'])\n",
    "\n",
    "cmap = ListedColormap(palette)\n",
    "\n",
    "# Generate the word cloud\n",
    "wordcloud = WordCloud(width=800, height=400, background_color='white', colormap=cmap).generate(text)\n",
    "\n",
    "# Display the word cloud using matplotlib\n",
    "plt.figure(figsize=(10, 5))\n",
    "plt.imshow(wordcloud, interpolation='bilinear')\n",
    "plt.axis('off')  \n",
    "plt.show()"
   ]
  }
 ],
 "metadata": {
  "kernelspec": {
   "display_name": "Python 3 (ipykernel)",
   "language": "python",
   "name": "python3"
  },
  "language_info": {
   "codemirror_mode": {
    "name": "ipython",
    "version": 3
   },
   "file_extension": ".py",
   "mimetype": "text/x-python",
   "name": "python",
   "nbconvert_exporter": "python",
   "pygments_lexer": "ipython3",
   "version": "3.10.13"
  }
 },
 "nbformat": 4,
 "nbformat_minor": 5
}
