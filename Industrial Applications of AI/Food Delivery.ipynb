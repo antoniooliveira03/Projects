{
 "cells": [
  {
   "cell_type": "markdown",
   "id": "9122f7f7",
   "metadata": {},
   "source": [
    "# <center>Delivery Time Prediction</center>\n"
   ]
  },
  {
   "cell_type": "markdown",
   "id": "61800a30",
   "metadata": {},
   "source": [
    "The aim of this project is to predict the delivery time of goods, such as food and drinks, given certain constraints, like traffic and the location of the restaurant and the delivery place. This topic within Supply Chain Management was chosen as I believe that accuratly predicting delivery time can have a big influence in how satisfied the customers are.\n",
    "\n",
    "A dataset from kaggle is used, available in [Food Delivery Dataset](https://www.kaggle.com/datasets/gauravmalik26/food-delivery-dataset). This page contains three different files, but only the train.csv will be used, as it has more than enough observations.\n",
    "\n",
    "This dataset contains data from 45593 deliveries made in 2022, between February and April, being most observations from March.\n",
    "\n",
    "A brief description of the variables follows:\n",
    "- **ID** - ID of the order\n",
    "- **Delivery_person_ID** - ID of the person who made the delivery\n",
    "- **Delivery_person_Age** - Age of the person who made the delivery\n",
    "- **Delivery_person_Ratings** - Rating given to the person who made the delivery\n",
    "- **Restaurant_latitude & Restaurant_longitude** - Coordinates of the restaurant where the order was made\n",
    "- **Delivery_location_latitude & Delivery_location_longitude** - Coordinates of the place for the order to be delivered\n",
    "- **Time_Orderd** - Time at which the order was placed\n",
    "- **Time_Order_picked** - Time at which the order was picked-up by the deliverer\n",
    "- **Weatherconditions** - Weather Conditions at the time of the delivery\n",
    "- **Road_traffic_density** - How intense traffic was at the time of the delivery\n",
    "- **Vehicle_condition** - How good the condition of the vehicle driven by the deliverer was \n",
    "- **Type_of_order** - Type of order that was made\n",
    "- **Type_of_vehicle** - Type of vehicle used to deliverer the order\n",
    "- **multiple_deliveries** - Shows how many multiple deliveries were made\n",
    "- **Festival** - If the delivery was made from a festival or not\n",
    "- **City** - What type of city was the delivery made to\n",
    "- **Time_taken(min)** - Time taken to make the delivery, in minutes\n",
    "\n",
    "This notebook will consist of sections: the first one, where the necessary libraries and data will be imported, and where a brief exploration will be held. Follows ***Exploratory Data Analysis***, which will include subsections such as ***Missing Values*** treatment, ***Outliers***, ***Feature Engineering*** and some ***Visualisations***. After the preprocessing, a ***Training & Testing*** section follows, were different Machine Learning and Deep Learning models will be applied, aiming to predict **Time_taken(min)**.\n",
    "\n",
    "To measure the success of this task, the R-Squared, Mean Squared Error (MSE) and Mean Absolute Error (MAE) metrics will be used, as they are adequate for regression tasks."
   ]
  },
  {
   "cell_type": "markdown",
   "id": "25ac4418",
   "metadata": {},
   "source": [
    "# Table of Contents\n",
    "\n",
    "1. [Importing Data & Libraries](#1.-Importing-Data-&-Libraries)\n",
    "\n",
    "    1.1 [Libraries](#1.1-Libraries)\n",
    "    \n",
    "    1.2 [Data](#1.2-Importing-Data)\n",
    "    \n",
    "    1.3 [Initial Exploration](#1.3-Initial-Exploration) <br><br>\n",
    "    \n",
    "2. [Exploratory Data Analysis](#2.Exploratory-Data-Analysis)\n",
    "\n",
    "    2.1 [Missing Values](#2.1-Missing-Values)\n",
    "    \n",
    "    2.2 [Duplicates](#2.2-Duplicates)\n",
    "    \n",
    "    2.3 [Feature Engineering](#2.3-Feature-Engineering)\n",
    "    \n",
    "    2.4 [Outliers](#2.4-Outliers)\n",
    "    \n",
    "    2.5 [Visualisations](#2.5-Visualisations)\n",
    "    \n",
    "    2.6 [Correlation Matrix](#C2.6-Correlation-Matrix)"
   ]
  },
  {
   "cell_type": "markdown",
   "id": "eaee9655",
   "metadata": {},
   "source": [
    "IDEAS\n",
    "\n",
    "- encode text variables \n",
    "- compute distance from restaurant to delivery place\n",
    "- linear reg relating distance to time\n",
    "- predict time taken\n",
    "\n",
    "- verify coordinates exist\n",
    "- see if there are minors making deliveries"
   ]
  },
  {
   "cell_type": "markdown",
   "id": "86e3fc4e",
   "metadata": {},
   "source": [
    "## 1.Importing Data & Libraries"
   ]
  },
  {
   "cell_type": "markdown",
   "id": "8b05fd59",
   "metadata": {},
   "source": [
    "## 1.1 Libraries"
   ]
  },
  {
   "cell_type": "code",
   "execution_count": 115,
   "id": "31fc396b",
   "metadata": {
    "ExecuteTime": {
     "end_time": "2024-05-06T08:02:12.049278Z",
     "start_time": "2024-05-06T08:02:12.043860Z"
    }
   },
   "outputs": [],
   "source": [
    "import numpy as np\n",
    "import pandas as pd\n",
    "import seaborn as sns\n",
    "import matplotlib.pyplot as plt\n",
    "\n",
    "# importing py file\n",
    "import functions\n",
    "\n",
    "# Train - Test Split\n",
    "from sklearn.model_selection import train_test_split\n",
    "\n",
    "# Feature Selection\n",
    "from sklearn.linear_model import Lasso\n",
    "from sklearn.feature_selection import mutual_info_regression\n",
    "\n",
    "# Scaling\n",
    "from sklearn.preprocessing import StandardScaler, MinMaxScaler\n",
    "\n",
    "# Training\n",
    "from sklearn.linear_model import LinearRegression\n",
    "import xgboost as xgb\n",
    "from sklearn.ensemble import GradientBoostingRegressor, RandomForestRegressor\n",
    "\n",
    "# Deep Learning\n",
    "import tensorflow as tf\n",
    "from tensorflow.keras.models import Sequential\n",
    "from tensorflow.keras.layers import Dense, Dropout\n",
    "from tensorflow.keras.optimizers import Adam\n",
    "\n",
    "# Metrics\n",
    "from sklearn.metrics import mean_squared_error, mean_absolute_error, r2_score\n",
    "\n",
    "# Warnings\n",
    "import warnings\n",
    "warnings.filterwarnings(\"ignore\")\n",
    "\n",
    "\n",
    "pd.set_option('display.max_columns', None)\n",
    "# Visualisations --> REMOVE FROM HERE\n",
    "#palette = sns.color_palette(\"Blues_d\", len(data['Delivery_person_Age'].unique()))"
   ]
  },
  {
   "cell_type": "markdown",
   "id": "9a075231",
   "metadata": {},
   "source": [
    "## 1.2 Importing Data"
   ]
  },
  {
   "cell_type": "code",
   "execution_count": 75,
   "id": "1a310297",
   "metadata": {
    "ExecuteTime": {
     "end_time": "2024-05-06T07:58:43.528221Z",
     "start_time": "2024-05-06T07:58:43.319739Z"
    }
   },
   "outputs": [
    {
     "data": {
      "text/html": [
       "<div>\n",
       "<style scoped>\n",
       "    .dataframe tbody tr th:only-of-type {\n",
       "        vertical-align: middle;\n",
       "    }\n",
       "\n",
       "    .dataframe tbody tr th {\n",
       "        vertical-align: top;\n",
       "    }\n",
       "\n",
       "    .dataframe thead th {\n",
       "        text-align: right;\n",
       "    }\n",
       "</style>\n",
       "<table border=\"1\" class=\"dataframe\">\n",
       "  <thead>\n",
       "    <tr style=\"text-align: right;\">\n",
       "      <th></th>\n",
       "      <th>ID</th>\n",
       "      <th>Delivery_person_ID</th>\n",
       "      <th>Delivery_person_Age</th>\n",
       "      <th>Delivery_person_Ratings</th>\n",
       "      <th>Restaurant_latitude</th>\n",
       "      <th>Restaurant_longitude</th>\n",
       "      <th>Delivery_location_latitude</th>\n",
       "      <th>Delivery_location_longitude</th>\n",
       "      <th>Order_Date</th>\n",
       "      <th>Time_Orderd</th>\n",
       "      <th>Time_Order_picked</th>\n",
       "      <th>Weatherconditions</th>\n",
       "      <th>Road_traffic_density</th>\n",
       "      <th>Vehicle_condition</th>\n",
       "      <th>Type_of_order</th>\n",
       "      <th>Type_of_vehicle</th>\n",
       "      <th>multiple_deliveries</th>\n",
       "      <th>Festival</th>\n",
       "      <th>City</th>\n",
       "      <th>Time_taken(min)</th>\n",
       "    </tr>\n",
       "  </thead>\n",
       "  <tbody>\n",
       "    <tr>\n",
       "      <th>0</th>\n",
       "      <td>0x4607</td>\n",
       "      <td>INDORES13DEL02</td>\n",
       "      <td>37</td>\n",
       "      <td>4.9</td>\n",
       "      <td>22.745049</td>\n",
       "      <td>75.892471</td>\n",
       "      <td>22.765049</td>\n",
       "      <td>75.912471</td>\n",
       "      <td>19-03-2022</td>\n",
       "      <td>11:30:00</td>\n",
       "      <td>11:45:00</td>\n",
       "      <td>conditions Sunny</td>\n",
       "      <td>High</td>\n",
       "      <td>2</td>\n",
       "      <td>Snack</td>\n",
       "      <td>motorcycle</td>\n",
       "      <td>0</td>\n",
       "      <td>No</td>\n",
       "      <td>Urban</td>\n",
       "      <td>(min) 24</td>\n",
       "    </tr>\n",
       "    <tr>\n",
       "      <th>1</th>\n",
       "      <td>0xb379</td>\n",
       "      <td>BANGRES18DEL02</td>\n",
       "      <td>34</td>\n",
       "      <td>4.5</td>\n",
       "      <td>12.913041</td>\n",
       "      <td>77.683237</td>\n",
       "      <td>13.043041</td>\n",
       "      <td>77.813237</td>\n",
       "      <td>25-03-2022</td>\n",
       "      <td>19:45:00</td>\n",
       "      <td>19:50:00</td>\n",
       "      <td>conditions Stormy</td>\n",
       "      <td>Jam</td>\n",
       "      <td>2</td>\n",
       "      <td>Snack</td>\n",
       "      <td>scooter</td>\n",
       "      <td>1</td>\n",
       "      <td>No</td>\n",
       "      <td>Metropolitian</td>\n",
       "      <td>(min) 33</td>\n",
       "    </tr>\n",
       "    <tr>\n",
       "      <th>2</th>\n",
       "      <td>0x5d6d</td>\n",
       "      <td>BANGRES19DEL01</td>\n",
       "      <td>23</td>\n",
       "      <td>4.4</td>\n",
       "      <td>12.914264</td>\n",
       "      <td>77.678400</td>\n",
       "      <td>12.924264</td>\n",
       "      <td>77.688400</td>\n",
       "      <td>19-03-2022</td>\n",
       "      <td>08:30:00</td>\n",
       "      <td>08:45:00</td>\n",
       "      <td>conditions Sandstorms</td>\n",
       "      <td>Low</td>\n",
       "      <td>0</td>\n",
       "      <td>Drinks</td>\n",
       "      <td>motorcycle</td>\n",
       "      <td>1</td>\n",
       "      <td>No</td>\n",
       "      <td>Urban</td>\n",
       "      <td>(min) 26</td>\n",
       "    </tr>\n",
       "    <tr>\n",
       "      <th>3</th>\n",
       "      <td>0x7a6a</td>\n",
       "      <td>COIMBRES13DEL02</td>\n",
       "      <td>38</td>\n",
       "      <td>4.7</td>\n",
       "      <td>11.003669</td>\n",
       "      <td>76.976494</td>\n",
       "      <td>11.053669</td>\n",
       "      <td>77.026494</td>\n",
       "      <td>05-04-2022</td>\n",
       "      <td>18:00:00</td>\n",
       "      <td>18:10:00</td>\n",
       "      <td>conditions Sunny</td>\n",
       "      <td>Medium</td>\n",
       "      <td>0</td>\n",
       "      <td>Buffet</td>\n",
       "      <td>motorcycle</td>\n",
       "      <td>1</td>\n",
       "      <td>No</td>\n",
       "      <td>Metropolitian</td>\n",
       "      <td>(min) 21</td>\n",
       "    </tr>\n",
       "    <tr>\n",
       "      <th>4</th>\n",
       "      <td>0x70a2</td>\n",
       "      <td>CHENRES12DEL01</td>\n",
       "      <td>32</td>\n",
       "      <td>4.6</td>\n",
       "      <td>12.972793</td>\n",
       "      <td>80.249982</td>\n",
       "      <td>13.012793</td>\n",
       "      <td>80.289982</td>\n",
       "      <td>26-03-2022</td>\n",
       "      <td>13:30:00</td>\n",
       "      <td>13:45:00</td>\n",
       "      <td>conditions Cloudy</td>\n",
       "      <td>High</td>\n",
       "      <td>1</td>\n",
       "      <td>Snack</td>\n",
       "      <td>scooter</td>\n",
       "      <td>1</td>\n",
       "      <td>No</td>\n",
       "      <td>Metropolitian</td>\n",
       "      <td>(min) 30</td>\n",
       "    </tr>\n",
       "  </tbody>\n",
       "</table>\n",
       "</div>"
      ],
      "text/plain": [
       "        ID Delivery_person_ID Delivery_person_Age Delivery_person_Ratings  \\\n",
       "0  0x4607     INDORES13DEL02                   37                     4.9   \n",
       "1  0xb379     BANGRES18DEL02                   34                     4.5   \n",
       "2  0x5d6d     BANGRES19DEL01                   23                     4.4   \n",
       "3  0x7a6a    COIMBRES13DEL02                   38                     4.7   \n",
       "4  0x70a2     CHENRES12DEL01                   32                     4.6   \n",
       "\n",
       "   Restaurant_latitude  Restaurant_longitude  Delivery_location_latitude  \\\n",
       "0            22.745049             75.892471                   22.765049   \n",
       "1            12.913041             77.683237                   13.043041   \n",
       "2            12.914264             77.678400                   12.924264   \n",
       "3            11.003669             76.976494                   11.053669   \n",
       "4            12.972793             80.249982                   13.012793   \n",
       "\n",
       "   Delivery_location_longitude  Order_Date Time_Orderd Time_Order_picked  \\\n",
       "0                    75.912471  19-03-2022    11:30:00          11:45:00   \n",
       "1                    77.813237  25-03-2022    19:45:00          19:50:00   \n",
       "2                    77.688400  19-03-2022    08:30:00          08:45:00   \n",
       "3                    77.026494  05-04-2022    18:00:00          18:10:00   \n",
       "4                    80.289982  26-03-2022    13:30:00          13:45:00   \n",
       "\n",
       "       Weatherconditions Road_traffic_density  Vehicle_condition  \\\n",
       "0       conditions Sunny                High                   2   \n",
       "1      conditions Stormy                 Jam                   2   \n",
       "2  conditions Sandstorms                 Low                   0   \n",
       "3       conditions Sunny              Medium                   0   \n",
       "4      conditions Cloudy                High                   1   \n",
       "\n",
       "  Type_of_order Type_of_vehicle multiple_deliveries Festival            City  \\\n",
       "0        Snack      motorcycle                    0      No           Urban    \n",
       "1        Snack         scooter                    1      No   Metropolitian    \n",
       "2       Drinks      motorcycle                    1      No           Urban    \n",
       "3       Buffet      motorcycle                    1      No   Metropolitian    \n",
       "4        Snack         scooter                    1      No   Metropolitian    \n",
       "\n",
       "  Time_taken(min)  \n",
       "0        (min) 24  \n",
       "1        (min) 33  \n",
       "2        (min) 26  \n",
       "3        (min) 21  \n",
       "4        (min) 30  "
      ]
     },
     "execution_count": 75,
     "metadata": {},
     "output_type": "execute_result"
    }
   ],
   "source": [
    "data = pd.read_csv('/Users/antoniooliveira/Downloads/assignment 3/train.csv')\n",
    "\n",
    "data.head(5)"
   ]
  },
  {
   "cell_type": "markdown",
   "id": "8ea1c8d6",
   "metadata": {},
   "source": [
    "## 1.3 Initial Exploration"
   ]
  },
  {
   "cell_type": "markdown",
   "id": "6bc47ef2",
   "metadata": {},
   "source": [
    "**Describe and Info**"
   ]
  },
  {
   "cell_type": "code",
   "execution_count": 76,
   "id": "38ef1a69",
   "metadata": {
    "ExecuteTime": {
     "end_time": "2024-05-06T07:58:43.557228Z",
     "start_time": "2024-05-06T07:58:43.530561Z"
    }
   },
   "outputs": [
    {
     "data": {
      "text/html": [
       "<div>\n",
       "<style scoped>\n",
       "    .dataframe tbody tr th:only-of-type {\n",
       "        vertical-align: middle;\n",
       "    }\n",
       "\n",
       "    .dataframe tbody tr th {\n",
       "        vertical-align: top;\n",
       "    }\n",
       "\n",
       "    .dataframe thead th {\n",
       "        text-align: right;\n",
       "    }\n",
       "</style>\n",
       "<table border=\"1\" class=\"dataframe\">\n",
       "  <thead>\n",
       "    <tr style=\"text-align: right;\">\n",
       "      <th></th>\n",
       "      <th>Restaurant_latitude</th>\n",
       "      <th>Restaurant_longitude</th>\n",
       "      <th>Delivery_location_latitude</th>\n",
       "      <th>Delivery_location_longitude</th>\n",
       "      <th>Vehicle_condition</th>\n",
       "    </tr>\n",
       "  </thead>\n",
       "  <tbody>\n",
       "    <tr>\n",
       "      <th>count</th>\n",
       "      <td>45593.000000</td>\n",
       "      <td>45593.000000</td>\n",
       "      <td>45593.000000</td>\n",
       "      <td>45593.000000</td>\n",
       "      <td>45593.000000</td>\n",
       "    </tr>\n",
       "    <tr>\n",
       "      <th>mean</th>\n",
       "      <td>17.017729</td>\n",
       "      <td>70.231332</td>\n",
       "      <td>17.465186</td>\n",
       "      <td>70.845702</td>\n",
       "      <td>1.023359</td>\n",
       "    </tr>\n",
       "    <tr>\n",
       "      <th>std</th>\n",
       "      <td>8.185109</td>\n",
       "      <td>22.883647</td>\n",
       "      <td>7.335122</td>\n",
       "      <td>21.118812</td>\n",
       "      <td>0.839065</td>\n",
       "    </tr>\n",
       "    <tr>\n",
       "      <th>min</th>\n",
       "      <td>-30.905562</td>\n",
       "      <td>-88.366217</td>\n",
       "      <td>0.010000</td>\n",
       "      <td>0.010000</td>\n",
       "      <td>0.000000</td>\n",
       "    </tr>\n",
       "    <tr>\n",
       "      <th>25%</th>\n",
       "      <td>12.933284</td>\n",
       "      <td>73.170000</td>\n",
       "      <td>12.988453</td>\n",
       "      <td>73.280000</td>\n",
       "      <td>0.000000</td>\n",
       "    </tr>\n",
       "    <tr>\n",
       "      <th>50%</th>\n",
       "      <td>18.546947</td>\n",
       "      <td>75.898497</td>\n",
       "      <td>18.633934</td>\n",
       "      <td>76.002574</td>\n",
       "      <td>1.000000</td>\n",
       "    </tr>\n",
       "    <tr>\n",
       "      <th>75%</th>\n",
       "      <td>22.728163</td>\n",
       "      <td>78.044095</td>\n",
       "      <td>22.785049</td>\n",
       "      <td>78.107044</td>\n",
       "      <td>2.000000</td>\n",
       "    </tr>\n",
       "    <tr>\n",
       "      <th>max</th>\n",
       "      <td>30.914057</td>\n",
       "      <td>88.433452</td>\n",
       "      <td>31.054057</td>\n",
       "      <td>88.563452</td>\n",
       "      <td>3.000000</td>\n",
       "    </tr>\n",
       "  </tbody>\n",
       "</table>\n",
       "</div>"
      ],
      "text/plain": [
       "       Restaurant_latitude  Restaurant_longitude  Delivery_location_latitude  \\\n",
       "count         45593.000000          45593.000000                45593.000000   \n",
       "mean             17.017729             70.231332                   17.465186   \n",
       "std               8.185109             22.883647                    7.335122   \n",
       "min             -30.905562            -88.366217                    0.010000   \n",
       "25%              12.933284             73.170000                   12.988453   \n",
       "50%              18.546947             75.898497                   18.633934   \n",
       "75%              22.728163             78.044095                   22.785049   \n",
       "max              30.914057             88.433452                   31.054057   \n",
       "\n",
       "       Delivery_location_longitude  Vehicle_condition  \n",
       "count                 45593.000000       45593.000000  \n",
       "mean                     70.845702           1.023359  \n",
       "std                      21.118812           0.839065  \n",
       "min                       0.010000           0.000000  \n",
       "25%                      73.280000           0.000000  \n",
       "50%                      76.002574           1.000000  \n",
       "75%                      78.107044           2.000000  \n",
       "max                      88.563452           3.000000  "
      ]
     },
     "execution_count": 76,
     "metadata": {},
     "output_type": "execute_result"
    }
   ],
   "source": [
    "data.describe()"
   ]
  },
  {
   "cell_type": "code",
   "execution_count": 77,
   "id": "f72a11d7",
   "metadata": {
    "ExecuteTime": {
     "end_time": "2024-05-06T07:58:43.601573Z",
     "start_time": "2024-05-06T07:58:43.561436Z"
    }
   },
   "outputs": [
    {
     "name": "stdout",
     "output_type": "stream",
     "text": [
      "<class 'pandas.core.frame.DataFrame'>\n",
      "RangeIndex: 45593 entries, 0 to 45592\n",
      "Data columns (total 20 columns):\n",
      " #   Column                       Non-Null Count  Dtype  \n",
      "---  ------                       --------------  -----  \n",
      " 0   ID                           45593 non-null  object \n",
      " 1   Delivery_person_ID           45593 non-null  object \n",
      " 2   Delivery_person_Age          45593 non-null  object \n",
      " 3   Delivery_person_Ratings      45593 non-null  object \n",
      " 4   Restaurant_latitude          45593 non-null  float64\n",
      " 5   Restaurant_longitude         45593 non-null  float64\n",
      " 6   Delivery_location_latitude   45593 non-null  float64\n",
      " 7   Delivery_location_longitude  45593 non-null  float64\n",
      " 8   Order_Date                   45593 non-null  object \n",
      " 9   Time_Orderd                  45593 non-null  object \n",
      " 10  Time_Order_picked            45593 non-null  object \n",
      " 11  Weatherconditions            45593 non-null  object \n",
      " 12  Road_traffic_density         45593 non-null  object \n",
      " 13  Vehicle_condition            45593 non-null  int64  \n",
      " 14  Type_of_order                45593 non-null  object \n",
      " 15  Type_of_vehicle              45593 non-null  object \n",
      " 16  multiple_deliveries          45593 non-null  object \n",
      " 17  Festival                     45593 non-null  object \n",
      " 18  City                         45593 non-null  object \n",
      " 19  Time_taken(min)              45593 non-null  object \n",
      "dtypes: float64(4), int64(1), object(15)\n",
      "memory usage: 7.0+ MB\n"
     ]
    }
   ],
   "source": [
    "data.info()"
   ]
  },
  {
   "cell_type": "markdown",
   "id": "e4b2a730",
   "metadata": {},
   "source": [
    "**Unique Values**"
   ]
  },
  {
   "cell_type": "code",
   "execution_count": 78,
   "id": "d7635f04",
   "metadata": {
    "ExecuteTime": {
     "end_time": "2024-05-06T07:58:43.657250Z",
     "start_time": "2024-05-06T07:58:43.604086Z"
    }
   },
   "outputs": [
    {
     "data": {
      "text/plain": [
       "ID                             45593\n",
       "Delivery_person_ID              1320\n",
       "Delivery_person_Age               23\n",
       "Delivery_person_Ratings           29\n",
       "Restaurant_latitude              657\n",
       "Restaurant_longitude             518\n",
       "Delivery_location_latitude      4373\n",
       "Delivery_location_longitude     4373\n",
       "Order_Date                        44\n",
       "Time_Orderd                      177\n",
       "Time_Order_picked                193\n",
       "Weatherconditions                  7\n",
       "Road_traffic_density               5\n",
       "Vehicle_condition                  4\n",
       "Type_of_order                      4\n",
       "Type_of_vehicle                    4\n",
       "multiple_deliveries                5\n",
       "Festival                           3\n",
       "City                               4\n",
       "Time_taken(min)                   45\n",
       "dtype: int64"
      ]
     },
     "execution_count": 78,
     "metadata": {},
     "output_type": "execute_result"
    }
   ],
   "source": [
    "data.nunique()"
   ]
  },
  {
   "cell_type": "code",
   "execution_count": 79,
   "id": "29455ef4",
   "metadata": {
    "ExecuteTime": {
     "end_time": "2024-05-06T07:58:43.690733Z",
     "start_time": "2024-05-06T07:58:43.660026Z"
    }
   },
   "outputs": [
    {
     "name": "stdout",
     "output_type": "stream",
     "text": [
      "Unique values in column 'Delivery_person_Age': \n",
      " ['37' '34' '23' '38' '32' '22' '33' '35' '36' '21' '24' '29' '25' '31'\n",
      " '27' '26' '20' 'NaN ' '28' '39' '30' '15' '50'] \n",
      "\n",
      "\n",
      "Unique values in column 'Delivery_person_Ratings': \n",
      " ['4.9' '4.5' '4.4' '4.7' '4.6' '4.8' '4.2' '4.3' '4' '4.1' '5' '3.5'\n",
      " 'NaN ' '3.8' '3.9' '3.7' '2.6' '2.5' '3.6' '3.1' '2.7' '1' '3.2' '3.3'\n",
      " '6' '3.4' '2.8' '2.9' '3'] \n",
      "\n",
      "\n",
      "Unique values in column 'Weatherconditions': \n",
      " ['conditions Sunny' 'conditions Stormy' 'conditions Sandstorms'\n",
      " 'conditions Cloudy' 'conditions Fog' 'conditions Windy' 'conditions NaN'] \n",
      "\n",
      "\n",
      "Unique values in column 'Road_traffic_density': \n",
      " ['High ' 'Jam ' 'Low ' 'Medium ' 'NaN '] \n",
      "\n",
      "\n",
      "Unique values in column 'Vehicle_condition': \n",
      " [2 0 1 3] \n",
      "\n",
      "\n",
      "Unique values in column 'Type_of_order': \n",
      " ['Snack ' 'Drinks ' 'Buffet ' 'Meal '] \n",
      "\n",
      "\n",
      "Unique values in column 'Type_of_vehicle': \n",
      " ['motorcycle ' 'scooter ' 'electric_scooter ' 'bicycle '] \n",
      "\n",
      "\n",
      "Unique values in column 'multiple_deliveries': \n",
      " ['0' '1' '3' 'NaN ' '2'] \n",
      "\n",
      "\n",
      "Unique values in column 'Festival': \n",
      " ['No ' 'Yes ' 'NaN '] \n",
      "\n",
      "\n",
      "Unique values in column 'City': \n",
      " ['Urban ' 'Metropolitian ' 'Semi-Urban ' 'NaN '] \n",
      "\n",
      "\n"
     ]
    }
   ],
   "source": [
    "list_ = ['Delivery_person_Age', 'Delivery_person_Ratings', 'Weatherconditions', 'Road_traffic_density', 'Vehicle_condition', 'Type_of_order', \n",
    "        'Type_of_vehicle', 'multiple_deliveries', 'Festival', 'City']\n",
    "\n",
    "# Assuming 'columns_list' is the list of columns you want to check for unique values\n",
    "for value in list_:\n",
    "    unique_values = data[value].unique()\n",
    "    print(f\"Unique values in column '{value}': \\n {unique_values} \\n\\n\")\n",
    "\n"
   ]
  },
  {
   "cell_type": "markdown",
   "id": "9f941dda",
   "metadata": {},
   "source": [
    "** **"
   ]
  },
  {
   "cell_type": "markdown",
   "id": "e639ee4a",
   "metadata": {},
   "source": [
    "## 2. Exploratory Data Analysis"
   ]
  },
  {
   "cell_type": "markdown",
   "id": "6d290936",
   "metadata": {},
   "source": [
    "### 2.1 Missing Values"
   ]
  },
  {
   "cell_type": "code",
   "execution_count": 80,
   "id": "66f76d82",
   "metadata": {
    "ExecuteTime": {
     "end_time": "2024-05-06T07:58:43.729180Z",
     "start_time": "2024-05-06T07:58:43.693286Z"
    }
   },
   "outputs": [
    {
     "data": {
      "text/plain": [
       "ID                             0\n",
       "Delivery_person_ID             0\n",
       "Delivery_person_Age            0\n",
       "Delivery_person_Ratings        0\n",
       "Restaurant_latitude            0\n",
       "Restaurant_longitude           0\n",
       "Delivery_location_latitude     0\n",
       "Delivery_location_longitude    0\n",
       "Order_Date                     0\n",
       "Time_Orderd                    0\n",
       "Time_Order_picked              0\n",
       "Weatherconditions              0\n",
       "Road_traffic_density           0\n",
       "Vehicle_condition              0\n",
       "Type_of_order                  0\n",
       "Type_of_vehicle                0\n",
       "multiple_deliveries            0\n",
       "Festival                       0\n",
       "City                           0\n",
       "Time_taken(min)                0\n",
       "dtype: int64"
      ]
     },
     "execution_count": 80,
     "metadata": {},
     "output_type": "execute_result"
    }
   ],
   "source": [
    "data.isnull().sum()"
   ]
  },
  {
   "cell_type": "markdown",
   "id": "d8ec0e87",
   "metadata": {},
   "source": [
    "Even though no missing values are shown, there are strange values in several variables"
   ]
  },
  {
   "cell_type": "code",
   "execution_count": 81,
   "id": "14f09f3a",
   "metadata": {
    "ExecuteTime": {
     "end_time": "2024-05-06T07:58:43.737318Z",
     "start_time": "2024-05-06T07:58:43.731601Z"
    }
   },
   "outputs": [
    {
     "data": {
      "text/plain": [
       "ID                                        0x4f0 \n",
       "Delivery_person_ID                MUMRES17DEL02 \n",
       "Delivery_person_Age                         NaN \n",
       "Delivery_person_Ratings                     NaN \n",
       "Restaurant_latitude                    19.121999\n",
       "Restaurant_longitude                   72.908493\n",
       "Delivery_location_latitude             19.201999\n",
       "Delivery_location_longitude            72.988493\n",
       "Order_Date                            06-04-2022\n",
       "Time_Orderd                                 NaN \n",
       "Time_Order_picked                       18:35:00\n",
       "Weatherconditions              conditions Cloudy\n",
       "Road_traffic_density                     Medium \n",
       "Vehicle_condition                              1\n",
       "Type_of_order                            Drinks \n",
       "Type_of_vehicle                         scooter \n",
       "multiple_deliveries                            1\n",
       "Festival                                     No \n",
       "City                              Metropolitian \n",
       "Time_taken(min)                         (min) 33\n",
       "Name: 42, dtype: object"
      ]
     },
     "execution_count": 81,
     "metadata": {},
     "output_type": "execute_result"
    }
   ],
   "source": [
    "example = data.iloc[42] \n",
    "example\n",
    "\n",
    "# Delivery_person_Age, Delivery_person_Ratings and Time_Orderd are missing"
   ]
  },
  {
   "cell_type": "markdown",
   "id": "944ee9e9",
   "metadata": {},
   "source": [
    "By taking a closer look at the unique values in the previous section, one can conclude that all values NaN have a space right after it, making it impossible for the method .isna() to find them. As so, we will now look and remove specifically for values = 'NaN '."
   ]
  },
  {
   "cell_type": "code",
   "execution_count": 82,
   "id": "7a1d67e4",
   "metadata": {
    "ExecuteTime": {
     "end_time": "2024-05-06T07:58:43.804321Z",
     "start_time": "2024-05-06T07:58:43.742690Z"
    }
   },
   "outputs": [],
   "source": [
    "data = data[~(data == 'NaN ').any(axis=1)]"
   ]
  },
  {
   "cell_type": "code",
   "execution_count": 83,
   "id": "39fa95f1",
   "metadata": {
    "ExecuteTime": {
     "end_time": "2024-05-06T07:58:43.860568Z",
     "start_time": "2024-05-06T07:58:43.806604Z"
    }
   },
   "outputs": [
    {
     "name": "stdout",
     "output_type": "stream",
     "text": [
      "Success in column: ID\n",
      "Success in column: Delivery_person_ID\n",
      "Success in column: Delivery_person_Age\n",
      "Success in column: Delivery_person_Ratings\n",
      "Success in column: Restaurant_latitude\n",
      "Success in column: Restaurant_longitude\n",
      "Success in column: Delivery_location_latitude\n",
      "Success in column: Delivery_location_longitude\n",
      "Success in column: Order_Date\n",
      "Success in column: Time_Orderd\n",
      "Success in column: Time_Order_picked\n",
      "Success in column: Weatherconditions\n",
      "Success in column: Road_traffic_density\n",
      "Success in column: Vehicle_condition\n",
      "Success in column: Type_of_order\n",
      "Success in column: Type_of_vehicle\n",
      "Success in column: multiple_deliveries\n",
      "Success in column: Festival\n",
      "Success in column: City\n",
      "Success in column: Time_taken(min)\n"
     ]
    }
   ],
   "source": [
    "# Verifying the success of the operation\n",
    "for i in data.columns:\n",
    "    if (data[i] == 'NaN ').any():\n",
    "        print('Error in column:', i)\n",
    "    else:\n",
    "        print('Success in column:', i)\n"
   ]
  },
  {
   "cell_type": "markdown",
   "id": "2cfd4451",
   "metadata": {},
   "source": [
    "### 2.2 Duplicates"
   ]
  },
  {
   "cell_type": "code",
   "execution_count": 84,
   "id": "ae6da154",
   "metadata": {
    "ExecuteTime": {
     "end_time": "2024-05-06T07:58:43.925898Z",
     "start_time": "2024-05-06T07:58:43.863627Z"
    }
   },
   "outputs": [
    {
     "data": {
      "text/html": [
       "<div>\n",
       "<style scoped>\n",
       "    .dataframe tbody tr th:only-of-type {\n",
       "        vertical-align: middle;\n",
       "    }\n",
       "\n",
       "    .dataframe tbody tr th {\n",
       "        vertical-align: top;\n",
       "    }\n",
       "\n",
       "    .dataframe thead th {\n",
       "        text-align: right;\n",
       "    }\n",
       "</style>\n",
       "<table border=\"1\" class=\"dataframe\">\n",
       "  <thead>\n",
       "    <tr style=\"text-align: right;\">\n",
       "      <th></th>\n",
       "      <th>ID</th>\n",
       "      <th>Delivery_person_ID</th>\n",
       "      <th>Delivery_person_Age</th>\n",
       "      <th>Delivery_person_Ratings</th>\n",
       "      <th>Restaurant_latitude</th>\n",
       "      <th>Restaurant_longitude</th>\n",
       "      <th>Delivery_location_latitude</th>\n",
       "      <th>Delivery_location_longitude</th>\n",
       "      <th>Order_Date</th>\n",
       "      <th>Time_Orderd</th>\n",
       "      <th>Time_Order_picked</th>\n",
       "      <th>Weatherconditions</th>\n",
       "      <th>Road_traffic_density</th>\n",
       "      <th>Vehicle_condition</th>\n",
       "      <th>Type_of_order</th>\n",
       "      <th>Type_of_vehicle</th>\n",
       "      <th>multiple_deliveries</th>\n",
       "      <th>Festival</th>\n",
       "      <th>City</th>\n",
       "      <th>Time_taken(min)</th>\n",
       "    </tr>\n",
       "  </thead>\n",
       "  <tbody>\n",
       "  </tbody>\n",
       "</table>\n",
       "</div>"
      ],
      "text/plain": [
       "Empty DataFrame\n",
       "Columns: [ID, Delivery_person_ID, Delivery_person_Age, Delivery_person_Ratings, Restaurant_latitude, Restaurant_longitude, Delivery_location_latitude, Delivery_location_longitude, Order_Date, Time_Orderd, Time_Order_picked, Weatherconditions, Road_traffic_density, Vehicle_condition, Type_of_order, Type_of_vehicle, multiple_deliveries, Festival, City, Time_taken(min)]\n",
       "Index: []"
      ]
     },
     "execution_count": 84,
     "metadata": {},
     "output_type": "execute_result"
    }
   ],
   "source": [
    "data[data.duplicated()]"
   ]
  },
  {
   "cell_type": "markdown",
   "id": "bbfac120",
   "metadata": {},
   "source": [
    "As no duplicates were found, we continue for the  Feature Engineering section"
   ]
  },
  {
   "cell_type": "markdown",
   "id": "c2a1bf15",
   "metadata": {},
   "source": [
    "### 2.3 Feature Engineering"
   ]
  },
  {
   "cell_type": "markdown",
   "id": "6ddddfef",
   "metadata": {},
   "source": [
    "**Delivery Person Age**"
   ]
  },
  {
   "cell_type": "code",
   "execution_count": 85,
   "id": "7c8f1743",
   "metadata": {
    "ExecuteTime": {
     "end_time": "2024-05-06T07:58:43.937113Z",
     "start_time": "2024-05-06T07:58:43.928383Z"
    }
   },
   "outputs": [],
   "source": [
    "# Delivery_person_Age to INT\n",
    "data['Delivery_person_Age'] = data['Delivery_person_Age'].astype(int)"
   ]
  },
  {
   "cell_type": "markdown",
   "id": "8e3cbafe",
   "metadata": {},
   "source": [
    "**Delivery Person Ratings**"
   ]
  },
  {
   "cell_type": "code",
   "execution_count": 86,
   "id": "930455f8",
   "metadata": {
    "ExecuteTime": {
     "end_time": "2024-05-06T07:58:43.948337Z",
     "start_time": "2024-05-06T07:58:43.939979Z"
    }
   },
   "outputs": [],
   "source": [
    "# Delivery_person_Ratings to FLOAT\n",
    "data['Delivery_person_Ratings'] = data['Delivery_person_Ratings'].astype(float)"
   ]
  },
  {
   "cell_type": "markdown",
   "id": "53654825",
   "metadata": {},
   "source": [
    "**Order Date**"
   ]
  },
  {
   "cell_type": "code",
   "execution_count": 87,
   "id": "a48d7d6c",
   "metadata": {
    "ExecuteTime": {
     "end_time": "2024-05-06T07:58:43.961074Z",
     "start_time": "2024-05-06T07:58:43.951117Z"
    }
   },
   "outputs": [],
   "source": [
    "# Changing Order_date to be in datetime format\n",
    "data['Order_Date'] = pd.to_datetime(data['Order_Date'], format='%d-%m-%Y')"
   ]
  },
  {
   "cell_type": "markdown",
   "id": "cc1d4e90",
   "metadata": {},
   "source": [
    "As the format has now changed, we are able to extract the Month, Day and Day of the week as new variables"
   ]
  },
  {
   "cell_type": "code",
   "execution_count": 88,
   "id": "8c8d9096",
   "metadata": {
    "ExecuteTime": {
     "end_time": "2024-05-06T07:58:43.973427Z",
     "start_time": "2024-05-06T07:58:43.963633Z"
    }
   },
   "outputs": [],
   "source": [
    "data['Day'] = data['Order_Date'].dt.day\n",
    "data['Month'] = data['Order_Date'].dt.month\n",
    "#data['Year'] = data['Order_Date'].dt.year\n",
    "data['Day_of_week'] = data['Order_Date'].dt.dayofweek  # Monday=0, Sunday=6"
   ]
  },
  {
   "cell_type": "markdown",
   "id": "300e2ad6",
   "metadata": {},
   "source": [
    "Since in this Dataset all information was obtained from 2022, the Year will not be computed.\n",
    "\n",
    "With this information, Order_date can be dropped"
   ]
  },
  {
   "cell_type": "code",
   "execution_count": 89,
   "id": "0e8b4682",
   "metadata": {
    "ExecuteTime": {
     "end_time": "2024-05-06T07:58:43.988511Z",
     "start_time": "2024-05-06T07:58:43.975631Z"
    }
   },
   "outputs": [],
   "source": [
    "data = data.drop('Order_Date', axis = 1)"
   ]
  },
  {
   "cell_type": "markdown",
   "id": "3e74f5c1",
   "metadata": {},
   "source": [
    "**Time Ordered**"
   ]
  },
  {
   "cell_type": "code",
   "execution_count": 118,
   "id": "7ced7874",
   "metadata": {
    "ExecuteTime": {
     "end_time": "2024-05-06T08:03:56.040356Z",
     "start_time": "2024-05-06T08:03:56.029445Z"
    }
   },
   "outputs": [],
   "source": [
    "# Convert 'Time_Orderd' column to datetime format\n",
    "data['Time_Ordered_dt'] = pd.to_datetime(data['Time_Orderd'], \n",
    "                                        format = '%H:%M:%S')\n",
    "\n",
    "# Extract hour of the day\n",
    "data['Hour'] = data['Time_Ordered_dt'].dt.hour"
   ]
  },
  {
   "cell_type": "markdown",
   "id": "9abf0f22",
   "metadata": {},
   "source": [
    "**Multiple deliveries**"
   ]
  },
  {
   "cell_type": "code",
   "execution_count": 90,
   "id": "08760e9a",
   "metadata": {
    "ExecuteTime": {
     "end_time": "2024-05-06T07:58:43.998414Z",
     "start_time": "2024-05-06T07:58:43.990511Z"
    }
   },
   "outputs": [],
   "source": [
    "data['multiple_deliveries'] = data['multiple_deliveries'].astype('int') "
   ]
  },
  {
   "cell_type": "markdown",
   "id": "20366490",
   "metadata": {},
   "source": [
    "To be able to use every possible variable for prediction purposes, all non-numeric variables will be encoded."
   ]
  },
  {
   "cell_type": "markdown",
   "id": "f356c601",
   "metadata": {},
   "source": [
    "**Weather Conditions**"
   ]
  },
  {
   "cell_type": "code",
   "execution_count": 91,
   "id": "2f0af54f",
   "metadata": {
    "ExecuteTime": {
     "end_time": "2024-05-06T07:58:44.008863Z",
     "start_time": "2024-05-06T07:58:44.001027Z"
    }
   },
   "outputs": [],
   "source": [
    "mapping1 = {\n",
    "    'conditions Sandstorms': 0,\n",
    "    'conditions Stormy': 1,\n",
    "    'conditions Fog': 2,\n",
    "    'conditions Windy': 3,\n",
    "    'conditions Cloudy': 4,\n",
    "    'conditions Sunny': 5\n",
    "}\n",
    "\n",
    "\n",
    "data['Weatherconditions_enc'] = data['Weatherconditions'].map(mapping1)\n",
    "\n"
   ]
  },
  {
   "cell_type": "markdown",
   "id": "9c8d224a",
   "metadata": {},
   "source": [
    "**Road Traffic Density**"
   ]
  },
  {
   "cell_type": "code",
   "execution_count": 92,
   "id": "812970de",
   "metadata": {
    "ExecuteTime": {
     "end_time": "2024-05-06T07:58:44.021674Z",
     "start_time": "2024-05-06T07:58:44.011360Z"
    }
   },
   "outputs": [],
   "source": [
    "mapping2 = {\n",
    "    'Low ': 0,\n",
    "    'Medium ': 1,\n",
    "    'High ': 2,\n",
    "    'Jam ': 3,\n",
    "} \n",
    "\n",
    "data['Road_traffic_density_enc'] = data['Road_traffic_density'].map(mapping2)"
   ]
  },
  {
   "cell_type": "markdown",
   "id": "098f87b7",
   "metadata": {
    "ExecuteTime": {
     "end_time": "2024-04-26T16:56:38.746719Z",
     "start_time": "2024-04-26T16:56:38.742401Z"
    }
   },
   "source": [
    "**Type of Order**"
   ]
  },
  {
   "cell_type": "code",
   "execution_count": 93,
   "id": "bd872eee",
   "metadata": {
    "ExecuteTime": {
     "end_time": "2024-05-06T07:58:44.033991Z",
     "start_time": "2024-05-06T07:58:44.024230Z"
    }
   },
   "outputs": [],
   "source": [
    "mapping3 = {\n",
    "    'Drinks ': 0,\n",
    "    'Snack ': 1,\n",
    "    'Buffet ': 2,\n",
    "    'Meal ': 3,\n",
    "} \n",
    "\n",
    "data['Type_of_order_enc'] = data['Type_of_order'].map(mapping3)"
   ]
  },
  {
   "cell_type": "markdown",
   "id": "21353067",
   "metadata": {},
   "source": [
    "**Type of Vehicle**"
   ]
  },
  {
   "cell_type": "code",
   "execution_count": 94,
   "id": "b7480c39",
   "metadata": {
    "ExecuteTime": {
     "end_time": "2024-05-06T07:58:44.045622Z",
     "start_time": "2024-05-06T07:58:44.037232Z"
    }
   },
   "outputs": [],
   "source": [
    "mapping4 = {\n",
    "    'motorcycle ': 0,\n",
    "    'electric_scooter ': 1,\n",
    "    'scooter ': 2,\n",
    "}\n",
    "\n",
    "data['Type_of_vehicle_enc'] = data['Type_of_vehicle'].map(mapping4)"
   ]
  },
  {
   "cell_type": "markdown",
   "id": "8ca4e53d",
   "metadata": {},
   "source": [
    "**Festival**"
   ]
  },
  {
   "cell_type": "code",
   "execution_count": 95,
   "id": "cbf0ca97",
   "metadata": {
    "ExecuteTime": {
     "end_time": "2024-05-06T07:58:44.054954Z",
     "start_time": "2024-05-06T07:58:44.048223Z"
    }
   },
   "outputs": [],
   "source": [
    "binary_mapping = {'No ': 0, 'Yes ': 1}\n",
    "\n",
    "\n",
    "data['Festival_enc'] = data['Festival'].map(binary_mapping)"
   ]
  },
  {
   "cell_type": "markdown",
   "id": "857f156e",
   "metadata": {},
   "source": [
    "**City**"
   ]
  },
  {
   "cell_type": "code",
   "execution_count": 96,
   "id": "c9ea6032",
   "metadata": {
    "ExecuteTime": {
     "end_time": "2024-05-06T07:58:44.065392Z",
     "start_time": "2024-05-06T07:58:44.057572Z"
    }
   },
   "outputs": [],
   "source": [
    "mapping5 = {\n",
    "    'Semi-Urban ': 0,\n",
    "    'Urban ': 1,\n",
    "    'Metropolitian ': 2,\n",
    "}\n",
    "\n",
    "data['City_enc'] = data['City'].map(mapping5)"
   ]
  },
  {
   "cell_type": "markdown",
   "id": "f6c1c11e",
   "metadata": {},
   "source": [
    "**Computing Distance Between Restaurant and Delivery Place**"
   ]
  },
  {
   "cell_type": "markdown",
   "id": "75969b59",
   "metadata": {},
   "source": [
    "In the dataset there information about the Restaurant's and Delivery place's longitudes and latitudes. As so, this information will be used to compute the distance between the two places, which is easier to interpret and could yild better results later"
   ]
  },
  {
   "cell_type": "code",
   "execution_count": 97,
   "id": "ae442234",
   "metadata": {
    "ExecuteTime": {
     "end_time": "2024-05-06T07:58:44.738765Z",
     "start_time": "2024-05-06T07:58:44.075675Z"
    }
   },
   "outputs": [],
   "source": [
    "data['Distance_km'] = data.apply(functions.compute_distance, axis=1)"
   ]
  },
  {
   "cell_type": "markdown",
   "id": "63afc361",
   "metadata": {},
   "source": [
    "As we now have the distance between the two places, the longitude and latitude variables will be dropped."
   ]
  },
  {
   "cell_type": "code",
   "execution_count": 98,
   "id": "0c2cbd98",
   "metadata": {
    "ExecuteTime": {
     "end_time": "2024-05-06T07:58:44.753861Z",
     "start_time": "2024-05-06T07:58:44.740909Z"
    }
   },
   "outputs": [],
   "source": [
    "data = data.drop(['Restaurant_latitude', 'Restaurant_longitude'\n",
    "                   ,'Delivery_location_latitude', 'Delivery_location_longitude'],axis = 1)"
   ]
  },
  {
   "cell_type": "markdown",
   "id": "66027181",
   "metadata": {
    "ExecuteTime": {
     "end_time": "2024-04-27T16:44:50.341541Z",
     "start_time": "2024-04-27T16:44:50.326531Z"
    }
   },
   "source": [
    "**Time Taken**"
   ]
  },
  {
   "cell_type": "code",
   "execution_count": 99,
   "id": "eb2d8ceb",
   "metadata": {
    "ExecuteTime": {
     "end_time": "2024-05-06T07:58:44.790511Z",
     "start_time": "2024-05-06T07:58:44.756383Z"
    }
   },
   "outputs": [
    {
     "data": {
      "text/html": [
       "<div>\n",
       "<style scoped>\n",
       "    .dataframe tbody tr th:only-of-type {\n",
       "        vertical-align: middle;\n",
       "    }\n",
       "\n",
       "    .dataframe tbody tr th {\n",
       "        vertical-align: top;\n",
       "    }\n",
       "\n",
       "    .dataframe thead th {\n",
       "        text-align: right;\n",
       "    }\n",
       "</style>\n",
       "<table border=\"1\" class=\"dataframe\">\n",
       "  <thead>\n",
       "    <tr style=\"text-align: right;\">\n",
       "      <th></th>\n",
       "      <th>ID</th>\n",
       "      <th>Delivery_person_ID</th>\n",
       "      <th>Delivery_person_Age</th>\n",
       "      <th>Delivery_person_Ratings</th>\n",
       "      <th>Time_Orderd</th>\n",
       "      <th>Time_Order_picked</th>\n",
       "      <th>Weatherconditions</th>\n",
       "      <th>Road_traffic_density</th>\n",
       "      <th>Vehicle_condition</th>\n",
       "      <th>Type_of_order</th>\n",
       "      <th>Type_of_vehicle</th>\n",
       "      <th>multiple_deliveries</th>\n",
       "      <th>Festival</th>\n",
       "      <th>City</th>\n",
       "      <th>Time_taken(min)</th>\n",
       "      <th>Day</th>\n",
       "      <th>Month</th>\n",
       "      <th>Day_of_week</th>\n",
       "      <th>Weatherconditions_enc</th>\n",
       "      <th>Road_traffic_density_enc</th>\n",
       "      <th>Type_of_order_enc</th>\n",
       "      <th>Type_of_vehicle_enc</th>\n",
       "      <th>Festival_enc</th>\n",
       "      <th>City_enc</th>\n",
       "      <th>Distance_km</th>\n",
       "    </tr>\n",
       "  </thead>\n",
       "  <tbody>\n",
       "    <tr>\n",
       "      <th>0</th>\n",
       "      <td>0x4607</td>\n",
       "      <td>INDORES13DEL02</td>\n",
       "      <td>37</td>\n",
       "      <td>4.9</td>\n",
       "      <td>11:30:00</td>\n",
       "      <td>11:45:00</td>\n",
       "      <td>conditions Sunny</td>\n",
       "      <td>High</td>\n",
       "      <td>2</td>\n",
       "      <td>Snack</td>\n",
       "      <td>motorcycle</td>\n",
       "      <td>0</td>\n",
       "      <td>No</td>\n",
       "      <td>Urban</td>\n",
       "      <td>24</td>\n",
       "      <td>19</td>\n",
       "      <td>3</td>\n",
       "      <td>5</td>\n",
       "      <td>5</td>\n",
       "      <td>2</td>\n",
       "      <td>1</td>\n",
       "      <td>0</td>\n",
       "      <td>0</td>\n",
       "      <td>1</td>\n",
       "      <td>3.025149</td>\n",
       "    </tr>\n",
       "    <tr>\n",
       "      <th>1</th>\n",
       "      <td>0xb379</td>\n",
       "      <td>BANGRES18DEL02</td>\n",
       "      <td>34</td>\n",
       "      <td>4.5</td>\n",
       "      <td>19:45:00</td>\n",
       "      <td>19:50:00</td>\n",
       "      <td>conditions Stormy</td>\n",
       "      <td>Jam</td>\n",
       "      <td>2</td>\n",
       "      <td>Snack</td>\n",
       "      <td>scooter</td>\n",
       "      <td>1</td>\n",
       "      <td>No</td>\n",
       "      <td>Metropolitian</td>\n",
       "      <td>33</td>\n",
       "      <td>25</td>\n",
       "      <td>3</td>\n",
       "      <td>4</td>\n",
       "      <td>1</td>\n",
       "      <td>3</td>\n",
       "      <td>1</td>\n",
       "      <td>2</td>\n",
       "      <td>0</td>\n",
       "      <td>2</td>\n",
       "      <td>20.183530</td>\n",
       "    </tr>\n",
       "    <tr>\n",
       "      <th>2</th>\n",
       "      <td>0x5d6d</td>\n",
       "      <td>BANGRES19DEL01</td>\n",
       "      <td>23</td>\n",
       "      <td>4.4</td>\n",
       "      <td>08:30:00</td>\n",
       "      <td>08:45:00</td>\n",
       "      <td>conditions Sandstorms</td>\n",
       "      <td>Low</td>\n",
       "      <td>0</td>\n",
       "      <td>Drinks</td>\n",
       "      <td>motorcycle</td>\n",
       "      <td>1</td>\n",
       "      <td>No</td>\n",
       "      <td>Urban</td>\n",
       "      <td>26</td>\n",
       "      <td>19</td>\n",
       "      <td>3</td>\n",
       "      <td>5</td>\n",
       "      <td>0</td>\n",
       "      <td>0</td>\n",
       "      <td>0</td>\n",
       "      <td>0</td>\n",
       "      <td>0</td>\n",
       "      <td>1</td>\n",
       "      <td>1.552758</td>\n",
       "    </tr>\n",
       "    <tr>\n",
       "      <th>3</th>\n",
       "      <td>0x7a6a</td>\n",
       "      <td>COIMBRES13DEL02</td>\n",
       "      <td>38</td>\n",
       "      <td>4.7</td>\n",
       "      <td>18:00:00</td>\n",
       "      <td>18:10:00</td>\n",
       "      <td>conditions Sunny</td>\n",
       "      <td>Medium</td>\n",
       "      <td>0</td>\n",
       "      <td>Buffet</td>\n",
       "      <td>motorcycle</td>\n",
       "      <td>1</td>\n",
       "      <td>No</td>\n",
       "      <td>Metropolitian</td>\n",
       "      <td>21</td>\n",
       "      <td>5</td>\n",
       "      <td>4</td>\n",
       "      <td>1</td>\n",
       "      <td>5</td>\n",
       "      <td>1</td>\n",
       "      <td>2</td>\n",
       "      <td>0</td>\n",
       "      <td>0</td>\n",
       "      <td>2</td>\n",
       "      <td>7.790401</td>\n",
       "    </tr>\n",
       "    <tr>\n",
       "      <th>4</th>\n",
       "      <td>0x70a2</td>\n",
       "      <td>CHENRES12DEL01</td>\n",
       "      <td>32</td>\n",
       "      <td>4.6</td>\n",
       "      <td>13:30:00</td>\n",
       "      <td>13:45:00</td>\n",
       "      <td>conditions Cloudy</td>\n",
       "      <td>High</td>\n",
       "      <td>1</td>\n",
       "      <td>Snack</td>\n",
       "      <td>scooter</td>\n",
       "      <td>1</td>\n",
       "      <td>No</td>\n",
       "      <td>Metropolitian</td>\n",
       "      <td>30</td>\n",
       "      <td>26</td>\n",
       "      <td>3</td>\n",
       "      <td>5</td>\n",
       "      <td>4</td>\n",
       "      <td>2</td>\n",
       "      <td>1</td>\n",
       "      <td>2</td>\n",
       "      <td>0</td>\n",
       "      <td>2</td>\n",
       "      <td>6.210138</td>\n",
       "    </tr>\n",
       "    <tr>\n",
       "      <th>...</th>\n",
       "      <td>...</td>\n",
       "      <td>...</td>\n",
       "      <td>...</td>\n",
       "      <td>...</td>\n",
       "      <td>...</td>\n",
       "      <td>...</td>\n",
       "      <td>...</td>\n",
       "      <td>...</td>\n",
       "      <td>...</td>\n",
       "      <td>...</td>\n",
       "      <td>...</td>\n",
       "      <td>...</td>\n",
       "      <td>...</td>\n",
       "      <td>...</td>\n",
       "      <td>...</td>\n",
       "      <td>...</td>\n",
       "      <td>...</td>\n",
       "      <td>...</td>\n",
       "      <td>...</td>\n",
       "      <td>...</td>\n",
       "      <td>...</td>\n",
       "      <td>...</td>\n",
       "      <td>...</td>\n",
       "      <td>...</td>\n",
       "      <td>...</td>\n",
       "    </tr>\n",
       "    <tr>\n",
       "      <th>45588</th>\n",
       "      <td>0x7c09</td>\n",
       "      <td>JAPRES04DEL01</td>\n",
       "      <td>30</td>\n",
       "      <td>4.8</td>\n",
       "      <td>11:35:00</td>\n",
       "      <td>11:45:00</td>\n",
       "      <td>conditions Windy</td>\n",
       "      <td>High</td>\n",
       "      <td>1</td>\n",
       "      <td>Meal</td>\n",
       "      <td>motorcycle</td>\n",
       "      <td>0</td>\n",
       "      <td>No</td>\n",
       "      <td>Metropolitian</td>\n",
       "      <td>32</td>\n",
       "      <td>24</td>\n",
       "      <td>3</td>\n",
       "      <td>3</td>\n",
       "      <td>3</td>\n",
       "      <td>2</td>\n",
       "      <td>3</td>\n",
       "      <td>0</td>\n",
       "      <td>0</td>\n",
       "      <td>2</td>\n",
       "      <td>1.489846</td>\n",
       "    </tr>\n",
       "    <tr>\n",
       "      <th>45589</th>\n",
       "      <td>0xd641</td>\n",
       "      <td>AGRRES16DEL01</td>\n",
       "      <td>21</td>\n",
       "      <td>4.6</td>\n",
       "      <td>19:55:00</td>\n",
       "      <td>20:10:00</td>\n",
       "      <td>conditions Windy</td>\n",
       "      <td>Jam</td>\n",
       "      <td>0</td>\n",
       "      <td>Buffet</td>\n",
       "      <td>motorcycle</td>\n",
       "      <td>1</td>\n",
       "      <td>No</td>\n",
       "      <td>Metropolitian</td>\n",
       "      <td>36</td>\n",
       "      <td>16</td>\n",
       "      <td>2</td>\n",
       "      <td>2</td>\n",
       "      <td>3</td>\n",
       "      <td>3</td>\n",
       "      <td>2</td>\n",
       "      <td>0</td>\n",
       "      <td>0</td>\n",
       "      <td>2</td>\n",
       "      <td>11.007735</td>\n",
       "    </tr>\n",
       "    <tr>\n",
       "      <th>45590</th>\n",
       "      <td>0x4f8d</td>\n",
       "      <td>CHENRES08DEL03</td>\n",
       "      <td>30</td>\n",
       "      <td>4.9</td>\n",
       "      <td>23:50:00</td>\n",
       "      <td>00:05:00</td>\n",
       "      <td>conditions Cloudy</td>\n",
       "      <td>Low</td>\n",
       "      <td>1</td>\n",
       "      <td>Drinks</td>\n",
       "      <td>scooter</td>\n",
       "      <td>0</td>\n",
       "      <td>No</td>\n",
       "      <td>Metropolitian</td>\n",
       "      <td>16</td>\n",
       "      <td>11</td>\n",
       "      <td>3</td>\n",
       "      <td>4</td>\n",
       "      <td>4</td>\n",
       "      <td>0</td>\n",
       "      <td>0</td>\n",
       "      <td>2</td>\n",
       "      <td>0</td>\n",
       "      <td>2</td>\n",
       "      <td>4.657195</td>\n",
       "    </tr>\n",
       "    <tr>\n",
       "      <th>45591</th>\n",
       "      <td>0x5eee</td>\n",
       "      <td>COIMBRES11DEL01</td>\n",
       "      <td>20</td>\n",
       "      <td>4.7</td>\n",
       "      <td>13:35:00</td>\n",
       "      <td>13:40:00</td>\n",
       "      <td>conditions Cloudy</td>\n",
       "      <td>High</td>\n",
       "      <td>0</td>\n",
       "      <td>Snack</td>\n",
       "      <td>motorcycle</td>\n",
       "      <td>1</td>\n",
       "      <td>No</td>\n",
       "      <td>Metropolitian</td>\n",
       "      <td>26</td>\n",
       "      <td>7</td>\n",
       "      <td>3</td>\n",
       "      <td>0</td>\n",
       "      <td>4</td>\n",
       "      <td>2</td>\n",
       "      <td>1</td>\n",
       "      <td>0</td>\n",
       "      <td>0</td>\n",
       "      <td>2</td>\n",
       "      <td>6.232393</td>\n",
       "    </tr>\n",
       "    <tr>\n",
       "      <th>45592</th>\n",
       "      <td>0x5fb2</td>\n",
       "      <td>RANCHIRES09DEL02</td>\n",
       "      <td>23</td>\n",
       "      <td>4.9</td>\n",
       "      <td>17:10:00</td>\n",
       "      <td>17:15:00</td>\n",
       "      <td>conditions Fog</td>\n",
       "      <td>Medium</td>\n",
       "      <td>2</td>\n",
       "      <td>Snack</td>\n",
       "      <td>scooter</td>\n",
       "      <td>1</td>\n",
       "      <td>No</td>\n",
       "      <td>Metropolitian</td>\n",
       "      <td>36</td>\n",
       "      <td>2</td>\n",
       "      <td>3</td>\n",
       "      <td>2</td>\n",
       "      <td>2</td>\n",
       "      <td>1</td>\n",
       "      <td>1</td>\n",
       "      <td>2</td>\n",
       "      <td>0</td>\n",
       "      <td>2</td>\n",
       "      <td>12.074396</td>\n",
       "    </tr>\n",
       "  </tbody>\n",
       "</table>\n",
       "<p>41368 rows × 25 columns</p>\n",
       "</div>"
      ],
      "text/plain": [
       "            ID Delivery_person_ID  Delivery_person_Age  \\\n",
       "0      0x4607     INDORES13DEL02                    37   \n",
       "1      0xb379     BANGRES18DEL02                    34   \n",
       "2      0x5d6d     BANGRES19DEL01                    23   \n",
       "3      0x7a6a    COIMBRES13DEL02                    38   \n",
       "4      0x70a2     CHENRES12DEL01                    32   \n",
       "...        ...                ...                  ...   \n",
       "45588  0x7c09      JAPRES04DEL01                    30   \n",
       "45589  0xd641      AGRRES16DEL01                    21   \n",
       "45590  0x4f8d     CHENRES08DEL03                    30   \n",
       "45591  0x5eee    COIMBRES11DEL01                    20   \n",
       "45592  0x5fb2   RANCHIRES09DEL02                    23   \n",
       "\n",
       "       Delivery_person_Ratings Time_Orderd Time_Order_picked  \\\n",
       "0                          4.9    11:30:00          11:45:00   \n",
       "1                          4.5    19:45:00          19:50:00   \n",
       "2                          4.4    08:30:00          08:45:00   \n",
       "3                          4.7    18:00:00          18:10:00   \n",
       "4                          4.6    13:30:00          13:45:00   \n",
       "...                        ...         ...               ...   \n",
       "45588                      4.8    11:35:00          11:45:00   \n",
       "45589                      4.6    19:55:00          20:10:00   \n",
       "45590                      4.9    23:50:00          00:05:00   \n",
       "45591                      4.7    13:35:00          13:40:00   \n",
       "45592                      4.9    17:10:00          17:15:00   \n",
       "\n",
       "           Weatherconditions Road_traffic_density  Vehicle_condition  \\\n",
       "0           conditions Sunny                High                   2   \n",
       "1          conditions Stormy                 Jam                   2   \n",
       "2      conditions Sandstorms                 Low                   0   \n",
       "3           conditions Sunny              Medium                   0   \n",
       "4          conditions Cloudy                High                   1   \n",
       "...                      ...                  ...                ...   \n",
       "45588       conditions Windy                High                   1   \n",
       "45589       conditions Windy                 Jam                   0   \n",
       "45590      conditions Cloudy                 Low                   1   \n",
       "45591      conditions Cloudy                High                   0   \n",
       "45592         conditions Fog              Medium                   2   \n",
       "\n",
       "      Type_of_order Type_of_vehicle  multiple_deliveries Festival  \\\n",
       "0            Snack      motorcycle                     0      No    \n",
       "1            Snack         scooter                     1      No    \n",
       "2           Drinks      motorcycle                     1      No    \n",
       "3           Buffet      motorcycle                     1      No    \n",
       "4            Snack         scooter                     1      No    \n",
       "...             ...             ...                  ...      ...   \n",
       "45588         Meal      motorcycle                     0      No    \n",
       "45589       Buffet      motorcycle                     1      No    \n",
       "45590       Drinks         scooter                     0      No    \n",
       "45591        Snack      motorcycle                     1      No    \n",
       "45592        Snack         scooter                     1      No    \n",
       "\n",
       "                 City Time_taken(min)  Day  Month  Day_of_week  \\\n",
       "0              Urban               24   19      3            5   \n",
       "1      Metropolitian               33   25      3            4   \n",
       "2              Urban               26   19      3            5   \n",
       "3      Metropolitian               21    5      4            1   \n",
       "4      Metropolitian               30   26      3            5   \n",
       "...               ...             ...  ...    ...          ...   \n",
       "45588  Metropolitian               32   24      3            3   \n",
       "45589  Metropolitian               36   16      2            2   \n",
       "45590  Metropolitian               16   11      3            4   \n",
       "45591  Metropolitian               26    7      3            0   \n",
       "45592  Metropolitian               36    2      3            2   \n",
       "\n",
       "       Weatherconditions_enc  Road_traffic_density_enc  Type_of_order_enc  \\\n",
       "0                          5                         2                  1   \n",
       "1                          1                         3                  1   \n",
       "2                          0                         0                  0   \n",
       "3                          5                         1                  2   \n",
       "4                          4                         2                  1   \n",
       "...                      ...                       ...                ...   \n",
       "45588                      3                         2                  3   \n",
       "45589                      3                         3                  2   \n",
       "45590                      4                         0                  0   \n",
       "45591                      4                         2                  1   \n",
       "45592                      2                         1                  1   \n",
       "\n",
       "       Type_of_vehicle_enc  Festival_enc  City_enc  Distance_km  \n",
       "0                        0             0         1     3.025149  \n",
       "1                        2             0         2    20.183530  \n",
       "2                        0             0         1     1.552758  \n",
       "3                        0             0         2     7.790401  \n",
       "4                        2             0         2     6.210138  \n",
       "...                    ...           ...       ...          ...  \n",
       "45588                    0             0         2     1.489846  \n",
       "45589                    0             0         2    11.007735  \n",
       "45590                    2             0         2     4.657195  \n",
       "45591                    0             0         2     6.232393  \n",
       "45592                    2             0         2    12.074396  \n",
       "\n",
       "[41368 rows x 25 columns]"
      ]
     },
     "execution_count": 99,
     "metadata": {},
     "output_type": "execute_result"
    }
   ],
   "source": [
    "# removing '(min)' from Time_taken\n",
    "data['Time_taken(min)'] = data['Time_taken(min)'].str.replace('(min)', '')\n",
    "data"
   ]
  },
  {
   "cell_type": "markdown",
   "id": "8ae88516",
   "metadata": {},
   "source": [
    "Transforming the varible to an integer"
   ]
  },
  {
   "cell_type": "code",
   "execution_count": 100,
   "id": "2b21e390",
   "metadata": {
    "ExecuteTime": {
     "end_time": "2024-05-06T07:58:44.818518Z",
     "start_time": "2024-05-06T07:58:44.792622Z"
    }
   },
   "outputs": [
    {
     "data": {
      "text/html": [
       "<div>\n",
       "<style scoped>\n",
       "    .dataframe tbody tr th:only-of-type {\n",
       "        vertical-align: middle;\n",
       "    }\n",
       "\n",
       "    .dataframe tbody tr th {\n",
       "        vertical-align: top;\n",
       "    }\n",
       "\n",
       "    .dataframe thead th {\n",
       "        text-align: right;\n",
       "    }\n",
       "</style>\n",
       "<table border=\"1\" class=\"dataframe\">\n",
       "  <thead>\n",
       "    <tr style=\"text-align: right;\">\n",
       "      <th></th>\n",
       "      <th>ID</th>\n",
       "      <th>Delivery_person_ID</th>\n",
       "      <th>Delivery_person_Age</th>\n",
       "      <th>Delivery_person_Ratings</th>\n",
       "      <th>Time_Orderd</th>\n",
       "      <th>Time_Order_picked</th>\n",
       "      <th>Weatherconditions</th>\n",
       "      <th>Road_traffic_density</th>\n",
       "      <th>Vehicle_condition</th>\n",
       "      <th>Type_of_order</th>\n",
       "      <th>Type_of_vehicle</th>\n",
       "      <th>multiple_deliveries</th>\n",
       "      <th>Festival</th>\n",
       "      <th>City</th>\n",
       "      <th>Time_taken(min)</th>\n",
       "      <th>Day</th>\n",
       "      <th>Month</th>\n",
       "      <th>Day_of_week</th>\n",
       "      <th>Weatherconditions_enc</th>\n",
       "      <th>Road_traffic_density_enc</th>\n",
       "      <th>Type_of_order_enc</th>\n",
       "      <th>Type_of_vehicle_enc</th>\n",
       "      <th>Festival_enc</th>\n",
       "      <th>City_enc</th>\n",
       "      <th>Distance_km</th>\n",
       "    </tr>\n",
       "  </thead>\n",
       "  <tbody>\n",
       "    <tr>\n",
       "      <th>0</th>\n",
       "      <td>0x4607</td>\n",
       "      <td>INDORES13DEL02</td>\n",
       "      <td>37</td>\n",
       "      <td>4.9</td>\n",
       "      <td>11:30:00</td>\n",
       "      <td>11:45:00</td>\n",
       "      <td>conditions Sunny</td>\n",
       "      <td>High</td>\n",
       "      <td>2</td>\n",
       "      <td>Snack</td>\n",
       "      <td>motorcycle</td>\n",
       "      <td>0</td>\n",
       "      <td>No</td>\n",
       "      <td>Urban</td>\n",
       "      <td>24</td>\n",
       "      <td>19</td>\n",
       "      <td>3</td>\n",
       "      <td>5</td>\n",
       "      <td>5</td>\n",
       "      <td>2</td>\n",
       "      <td>1</td>\n",
       "      <td>0</td>\n",
       "      <td>0</td>\n",
       "      <td>1</td>\n",
       "      <td>3.025149</td>\n",
       "    </tr>\n",
       "    <tr>\n",
       "      <th>1</th>\n",
       "      <td>0xb379</td>\n",
       "      <td>BANGRES18DEL02</td>\n",
       "      <td>34</td>\n",
       "      <td>4.5</td>\n",
       "      <td>19:45:00</td>\n",
       "      <td>19:50:00</td>\n",
       "      <td>conditions Stormy</td>\n",
       "      <td>Jam</td>\n",
       "      <td>2</td>\n",
       "      <td>Snack</td>\n",
       "      <td>scooter</td>\n",
       "      <td>1</td>\n",
       "      <td>No</td>\n",
       "      <td>Metropolitian</td>\n",
       "      <td>33</td>\n",
       "      <td>25</td>\n",
       "      <td>3</td>\n",
       "      <td>4</td>\n",
       "      <td>1</td>\n",
       "      <td>3</td>\n",
       "      <td>1</td>\n",
       "      <td>2</td>\n",
       "      <td>0</td>\n",
       "      <td>2</td>\n",
       "      <td>20.183530</td>\n",
       "    </tr>\n",
       "    <tr>\n",
       "      <th>2</th>\n",
       "      <td>0x5d6d</td>\n",
       "      <td>BANGRES19DEL01</td>\n",
       "      <td>23</td>\n",
       "      <td>4.4</td>\n",
       "      <td>08:30:00</td>\n",
       "      <td>08:45:00</td>\n",
       "      <td>conditions Sandstorms</td>\n",
       "      <td>Low</td>\n",
       "      <td>0</td>\n",
       "      <td>Drinks</td>\n",
       "      <td>motorcycle</td>\n",
       "      <td>1</td>\n",
       "      <td>No</td>\n",
       "      <td>Urban</td>\n",
       "      <td>26</td>\n",
       "      <td>19</td>\n",
       "      <td>3</td>\n",
       "      <td>5</td>\n",
       "      <td>0</td>\n",
       "      <td>0</td>\n",
       "      <td>0</td>\n",
       "      <td>0</td>\n",
       "      <td>0</td>\n",
       "      <td>1</td>\n",
       "      <td>1.552758</td>\n",
       "    </tr>\n",
       "    <tr>\n",
       "      <th>3</th>\n",
       "      <td>0x7a6a</td>\n",
       "      <td>COIMBRES13DEL02</td>\n",
       "      <td>38</td>\n",
       "      <td>4.7</td>\n",
       "      <td>18:00:00</td>\n",
       "      <td>18:10:00</td>\n",
       "      <td>conditions Sunny</td>\n",
       "      <td>Medium</td>\n",
       "      <td>0</td>\n",
       "      <td>Buffet</td>\n",
       "      <td>motorcycle</td>\n",
       "      <td>1</td>\n",
       "      <td>No</td>\n",
       "      <td>Metropolitian</td>\n",
       "      <td>21</td>\n",
       "      <td>5</td>\n",
       "      <td>4</td>\n",
       "      <td>1</td>\n",
       "      <td>5</td>\n",
       "      <td>1</td>\n",
       "      <td>2</td>\n",
       "      <td>0</td>\n",
       "      <td>0</td>\n",
       "      <td>2</td>\n",
       "      <td>7.790401</td>\n",
       "    </tr>\n",
       "    <tr>\n",
       "      <th>4</th>\n",
       "      <td>0x70a2</td>\n",
       "      <td>CHENRES12DEL01</td>\n",
       "      <td>32</td>\n",
       "      <td>4.6</td>\n",
       "      <td>13:30:00</td>\n",
       "      <td>13:45:00</td>\n",
       "      <td>conditions Cloudy</td>\n",
       "      <td>High</td>\n",
       "      <td>1</td>\n",
       "      <td>Snack</td>\n",
       "      <td>scooter</td>\n",
       "      <td>1</td>\n",
       "      <td>No</td>\n",
       "      <td>Metropolitian</td>\n",
       "      <td>30</td>\n",
       "      <td>26</td>\n",
       "      <td>3</td>\n",
       "      <td>5</td>\n",
       "      <td>4</td>\n",
       "      <td>2</td>\n",
       "      <td>1</td>\n",
       "      <td>2</td>\n",
       "      <td>0</td>\n",
       "      <td>2</td>\n",
       "      <td>6.210138</td>\n",
       "    </tr>\n",
       "    <tr>\n",
       "      <th>...</th>\n",
       "      <td>...</td>\n",
       "      <td>...</td>\n",
       "      <td>...</td>\n",
       "      <td>...</td>\n",
       "      <td>...</td>\n",
       "      <td>...</td>\n",
       "      <td>...</td>\n",
       "      <td>...</td>\n",
       "      <td>...</td>\n",
       "      <td>...</td>\n",
       "      <td>...</td>\n",
       "      <td>...</td>\n",
       "      <td>...</td>\n",
       "      <td>...</td>\n",
       "      <td>...</td>\n",
       "      <td>...</td>\n",
       "      <td>...</td>\n",
       "      <td>...</td>\n",
       "      <td>...</td>\n",
       "      <td>...</td>\n",
       "      <td>...</td>\n",
       "      <td>...</td>\n",
       "      <td>...</td>\n",
       "      <td>...</td>\n",
       "      <td>...</td>\n",
       "    </tr>\n",
       "    <tr>\n",
       "      <th>45588</th>\n",
       "      <td>0x7c09</td>\n",
       "      <td>JAPRES04DEL01</td>\n",
       "      <td>30</td>\n",
       "      <td>4.8</td>\n",
       "      <td>11:35:00</td>\n",
       "      <td>11:45:00</td>\n",
       "      <td>conditions Windy</td>\n",
       "      <td>High</td>\n",
       "      <td>1</td>\n",
       "      <td>Meal</td>\n",
       "      <td>motorcycle</td>\n",
       "      <td>0</td>\n",
       "      <td>No</td>\n",
       "      <td>Metropolitian</td>\n",
       "      <td>32</td>\n",
       "      <td>24</td>\n",
       "      <td>3</td>\n",
       "      <td>3</td>\n",
       "      <td>3</td>\n",
       "      <td>2</td>\n",
       "      <td>3</td>\n",
       "      <td>0</td>\n",
       "      <td>0</td>\n",
       "      <td>2</td>\n",
       "      <td>1.489846</td>\n",
       "    </tr>\n",
       "    <tr>\n",
       "      <th>45589</th>\n",
       "      <td>0xd641</td>\n",
       "      <td>AGRRES16DEL01</td>\n",
       "      <td>21</td>\n",
       "      <td>4.6</td>\n",
       "      <td>19:55:00</td>\n",
       "      <td>20:10:00</td>\n",
       "      <td>conditions Windy</td>\n",
       "      <td>Jam</td>\n",
       "      <td>0</td>\n",
       "      <td>Buffet</td>\n",
       "      <td>motorcycle</td>\n",
       "      <td>1</td>\n",
       "      <td>No</td>\n",
       "      <td>Metropolitian</td>\n",
       "      <td>36</td>\n",
       "      <td>16</td>\n",
       "      <td>2</td>\n",
       "      <td>2</td>\n",
       "      <td>3</td>\n",
       "      <td>3</td>\n",
       "      <td>2</td>\n",
       "      <td>0</td>\n",
       "      <td>0</td>\n",
       "      <td>2</td>\n",
       "      <td>11.007735</td>\n",
       "    </tr>\n",
       "    <tr>\n",
       "      <th>45590</th>\n",
       "      <td>0x4f8d</td>\n",
       "      <td>CHENRES08DEL03</td>\n",
       "      <td>30</td>\n",
       "      <td>4.9</td>\n",
       "      <td>23:50:00</td>\n",
       "      <td>00:05:00</td>\n",
       "      <td>conditions Cloudy</td>\n",
       "      <td>Low</td>\n",
       "      <td>1</td>\n",
       "      <td>Drinks</td>\n",
       "      <td>scooter</td>\n",
       "      <td>0</td>\n",
       "      <td>No</td>\n",
       "      <td>Metropolitian</td>\n",
       "      <td>16</td>\n",
       "      <td>11</td>\n",
       "      <td>3</td>\n",
       "      <td>4</td>\n",
       "      <td>4</td>\n",
       "      <td>0</td>\n",
       "      <td>0</td>\n",
       "      <td>2</td>\n",
       "      <td>0</td>\n",
       "      <td>2</td>\n",
       "      <td>4.657195</td>\n",
       "    </tr>\n",
       "    <tr>\n",
       "      <th>45591</th>\n",
       "      <td>0x5eee</td>\n",
       "      <td>COIMBRES11DEL01</td>\n",
       "      <td>20</td>\n",
       "      <td>4.7</td>\n",
       "      <td>13:35:00</td>\n",
       "      <td>13:40:00</td>\n",
       "      <td>conditions Cloudy</td>\n",
       "      <td>High</td>\n",
       "      <td>0</td>\n",
       "      <td>Snack</td>\n",
       "      <td>motorcycle</td>\n",
       "      <td>1</td>\n",
       "      <td>No</td>\n",
       "      <td>Metropolitian</td>\n",
       "      <td>26</td>\n",
       "      <td>7</td>\n",
       "      <td>3</td>\n",
       "      <td>0</td>\n",
       "      <td>4</td>\n",
       "      <td>2</td>\n",
       "      <td>1</td>\n",
       "      <td>0</td>\n",
       "      <td>0</td>\n",
       "      <td>2</td>\n",
       "      <td>6.232393</td>\n",
       "    </tr>\n",
       "    <tr>\n",
       "      <th>45592</th>\n",
       "      <td>0x5fb2</td>\n",
       "      <td>RANCHIRES09DEL02</td>\n",
       "      <td>23</td>\n",
       "      <td>4.9</td>\n",
       "      <td>17:10:00</td>\n",
       "      <td>17:15:00</td>\n",
       "      <td>conditions Fog</td>\n",
       "      <td>Medium</td>\n",
       "      <td>2</td>\n",
       "      <td>Snack</td>\n",
       "      <td>scooter</td>\n",
       "      <td>1</td>\n",
       "      <td>No</td>\n",
       "      <td>Metropolitian</td>\n",
       "      <td>36</td>\n",
       "      <td>2</td>\n",
       "      <td>3</td>\n",
       "      <td>2</td>\n",
       "      <td>2</td>\n",
       "      <td>1</td>\n",
       "      <td>1</td>\n",
       "      <td>2</td>\n",
       "      <td>0</td>\n",
       "      <td>2</td>\n",
       "      <td>12.074396</td>\n",
       "    </tr>\n",
       "  </tbody>\n",
       "</table>\n",
       "<p>41368 rows × 25 columns</p>\n",
       "</div>"
      ],
      "text/plain": [
       "            ID Delivery_person_ID  Delivery_person_Age  \\\n",
       "0      0x4607     INDORES13DEL02                    37   \n",
       "1      0xb379     BANGRES18DEL02                    34   \n",
       "2      0x5d6d     BANGRES19DEL01                    23   \n",
       "3      0x7a6a    COIMBRES13DEL02                    38   \n",
       "4      0x70a2     CHENRES12DEL01                    32   \n",
       "...        ...                ...                  ...   \n",
       "45588  0x7c09      JAPRES04DEL01                    30   \n",
       "45589  0xd641      AGRRES16DEL01                    21   \n",
       "45590  0x4f8d     CHENRES08DEL03                    30   \n",
       "45591  0x5eee    COIMBRES11DEL01                    20   \n",
       "45592  0x5fb2   RANCHIRES09DEL02                    23   \n",
       "\n",
       "       Delivery_person_Ratings Time_Orderd Time_Order_picked  \\\n",
       "0                          4.9    11:30:00          11:45:00   \n",
       "1                          4.5    19:45:00          19:50:00   \n",
       "2                          4.4    08:30:00          08:45:00   \n",
       "3                          4.7    18:00:00          18:10:00   \n",
       "4                          4.6    13:30:00          13:45:00   \n",
       "...                        ...         ...               ...   \n",
       "45588                      4.8    11:35:00          11:45:00   \n",
       "45589                      4.6    19:55:00          20:10:00   \n",
       "45590                      4.9    23:50:00          00:05:00   \n",
       "45591                      4.7    13:35:00          13:40:00   \n",
       "45592                      4.9    17:10:00          17:15:00   \n",
       "\n",
       "           Weatherconditions Road_traffic_density  Vehicle_condition  \\\n",
       "0           conditions Sunny                High                   2   \n",
       "1          conditions Stormy                 Jam                   2   \n",
       "2      conditions Sandstorms                 Low                   0   \n",
       "3           conditions Sunny              Medium                   0   \n",
       "4          conditions Cloudy                High                   1   \n",
       "...                      ...                  ...                ...   \n",
       "45588       conditions Windy                High                   1   \n",
       "45589       conditions Windy                 Jam                   0   \n",
       "45590      conditions Cloudy                 Low                   1   \n",
       "45591      conditions Cloudy                High                   0   \n",
       "45592         conditions Fog              Medium                   2   \n",
       "\n",
       "      Type_of_order Type_of_vehicle  multiple_deliveries Festival  \\\n",
       "0            Snack      motorcycle                     0      No    \n",
       "1            Snack         scooter                     1      No    \n",
       "2           Drinks      motorcycle                     1      No    \n",
       "3           Buffet      motorcycle                     1      No    \n",
       "4            Snack         scooter                     1      No    \n",
       "...             ...             ...                  ...      ...   \n",
       "45588         Meal      motorcycle                     0      No    \n",
       "45589       Buffet      motorcycle                     1      No    \n",
       "45590       Drinks         scooter                     0      No    \n",
       "45591        Snack      motorcycle                     1      No    \n",
       "45592        Snack         scooter                     1      No    \n",
       "\n",
       "                 City  Time_taken(min)  Day  Month  Day_of_week  \\\n",
       "0              Urban                24   19      3            5   \n",
       "1      Metropolitian                33   25      3            4   \n",
       "2              Urban                26   19      3            5   \n",
       "3      Metropolitian                21    5      4            1   \n",
       "4      Metropolitian                30   26      3            5   \n",
       "...               ...              ...  ...    ...          ...   \n",
       "45588  Metropolitian                32   24      3            3   \n",
       "45589  Metropolitian                36   16      2            2   \n",
       "45590  Metropolitian                16   11      3            4   \n",
       "45591  Metropolitian                26    7      3            0   \n",
       "45592  Metropolitian                36    2      3            2   \n",
       "\n",
       "       Weatherconditions_enc  Road_traffic_density_enc  Type_of_order_enc  \\\n",
       "0                          5                         2                  1   \n",
       "1                          1                         3                  1   \n",
       "2                          0                         0                  0   \n",
       "3                          5                         1                  2   \n",
       "4                          4                         2                  1   \n",
       "...                      ...                       ...                ...   \n",
       "45588                      3                         2                  3   \n",
       "45589                      3                         3                  2   \n",
       "45590                      4                         0                  0   \n",
       "45591                      4                         2                  1   \n",
       "45592                      2                         1                  1   \n",
       "\n",
       "       Type_of_vehicle_enc  Festival_enc  City_enc  Distance_km  \n",
       "0                        0             0         1     3.025149  \n",
       "1                        2             0         2    20.183530  \n",
       "2                        0             0         1     1.552758  \n",
       "3                        0             0         2     7.790401  \n",
       "4                        2             0         2     6.210138  \n",
       "...                    ...           ...       ...          ...  \n",
       "45588                    0             0         2     1.489846  \n",
       "45589                    0             0         2    11.007735  \n",
       "45590                    2             0         2     4.657195  \n",
       "45591                    0             0         2     6.232393  \n",
       "45592                    2             0         2    12.074396  \n",
       "\n",
       "[41368 rows x 25 columns]"
      ]
     },
     "execution_count": 100,
     "metadata": {},
     "output_type": "execute_result"
    }
   ],
   "source": [
    "data['Time_taken(min)'] = data['Time_taken(min)'].astype(int)\n",
    "data"
   ]
  },
  {
   "cell_type": "markdown",
   "id": "c32731da",
   "metadata": {},
   "source": [
    "### 2.4 Outliers"
   ]
  },
  {
   "cell_type": "code",
   "execution_count": 101,
   "id": "4c7c6e70",
   "metadata": {
    "ExecuteTime": {
     "end_time": "2024-05-06T07:58:46.718537Z",
     "start_time": "2024-05-06T07:58:44.820633Z"
    },
    "scrolled": true
   },
   "outputs": [
    {
     "data": {
      "image/png": "[encoded data removed]",
      "text/plain": [
       "<Figure size 600x400 with 1 Axes>"
      ]
     },
     "metadata": {},
     "output_type": "display_data"
    },
    {
     "data": {
      "image/png": "[encoded data removed]",
      "text/plain": [
       "<Figure size 600x400 with 1 Axes>"
      ]
     },
     "metadata": {},
     "output_type": "display_data"
    },
    {
     "data": {
      "image/png": "[encoded data removed]",
      "text/plain": [
       "<Figure size 600x400 with 1 Axes>"
      ]
     },
     "metadata": {},
     "output_type": "display_data"
    },
    {
     "data": {
      "image/png": "[encoded data removed]",
      "text/plain": [
       "<Figure size 600x400 with 1 Axes>"
      ]
     },
     "metadata": {},
     "output_type": "display_data"
    },
    {
     "data": {
      "image/png": "[encoded data removed]",
      "text/plain": [
       "<Figure size 600x400 with 1 Axes>"
      ]
     },
     "metadata": {},
     "output_type": "display_data"
    },
    {
     "data": {
      "image/png": "[encoded data removed]",
      "text/plain": [
       "<Figure size 600x400 with 1 Axes>"
      ]
     },
     "metadata": {},
     "output_type": "display_data"
    },
    {
     "data": {
      "image/png": "[encoded data removed]",
      "text/plain": [
       "<Figure size 600x400 with 1 Axes>"
      ]
     },
     "metadata": {},
     "output_type": "display_data"
    },
    {
     "data": {
      "image/png": "[encoded data removed]",
      "text/plain": [
       "<Figure size 600x400 with 1 Axes>"
      ]
     },
     "metadata": {},
     "output_type": "display_data"
    },
    {
     "data": {
      "image/png": "[encoded data removed]",
      "text/plain": [
       "<Figure size 600x400 with 1 Axes>"
      ]
     },
     "metadata": {},
     "output_type": "display_data"
    },
    {
     "data": {
      "image/png": "[encoded data removed]",
      "text/plain": [
       "<Figure size 600x400 with 1 Axes>"
      ]
     },
     "metadata": {},
     "output_type": "display_data"
    },
    {
     "data": {
      "image/png": "[encoded data removed]",
      "text/plain": [
       "<Figure size 600x400 with 1 Axes>"
      ]
     },
     "metadata": {},
     "output_type": "display_data"
    },
    {
     "data": {
      "image/png": "[encoded data removed]",
      "text/plain": [
       "<Figure size 600x400 with 1 Axes>"
      ]
     },
     "metadata": {},
     "output_type": "display_data"
    },
    {
     "data": {
      "image/png": "[encoded data removed]",
      "text/plain": [
       "<Figure size 600x400 with 1 Axes>"
      ]
     },
     "metadata": {},
     "output_type": "display_data"
    },
    {
     "data": {
      "image/png": "[encoded data removed]",
      "text/plain": [
       "<Figure size 600x400 with 1 Axes>"
      ]
     },
     "metadata": {},
     "output_type": "display_data"
    },
    {
     "data": {
      "image/png": "[encoded data removed]",
      "text/plain": [
       "<Figure size 600x400 with 1 Axes>"
      ]
     },
     "metadata": {},
     "output_type": "display_data"
    }
   ],
   "source": [
    "palette = sns.color_palette(\"Blues_d\", len(data['Delivery_person_Age'].unique()))\n",
    "\n",
    "# Get a list of all numeric column names\n",
    "columns_to_check = data.select_dtypes(include=['int', 'float']).columns.to_list()\n",
    "        \n",
    "functions.plot_boxplots(data, columns_to_check, palette = palette)"
   ]
  },
  {
   "cell_type": "markdown",
   "id": "206a6c4a",
   "metadata": {},
   "source": [
    "As one can see, most columns do not show any outliers. Delivery_person_Ratings shows some lower ratings that look like outliers, however, since we know these are real values, it would be incorrect to remove them. As expected, binary variables such as Festival and City only show observation on 0 and 1. When looking at the month variable, one can conclude that most observations were recorded in March, but there are still some in February and April.\n",
    "\n",
    "However, when we look at the Distance_km variable, we can see that there are particularly high values, which especially for a food delivery service, do not appear to make much sense. As so, this incoherency will be addressed next."
   ]
  },
  {
   "cell_type": "code",
   "execution_count": 102,
   "id": "5ba3c7df",
   "metadata": {
    "ExecuteTime": {
     "end_time": "2024-05-06T07:58:46.729427Z",
     "start_time": "2024-05-06T07:58:46.720854Z"
    }
   },
   "outputs": [
    {
     "name": "stdout",
     "output_type": "stream",
     "text": [
      "Number of outliers: 146\n"
     ]
    }
   ],
   "source": [
    "column_to_check = 'Distance_km'\n",
    "\n",
    "# Calculate the first quartile (Q1) and third quartile (Q3)\n",
    "Q1 = data[column_to_check].quantile(0.25)\n",
    "Q3 = data[column_to_check].quantile(0.75)\n",
    "\n",
    "# Calculate the interquartile range (IQR)\n",
    "IQR = Q3 - Q1\n",
    "\n",
    "# Define the outlier bounds\n",
    "lower_bound = Q1 - 1.5 * IQR\n",
    "upper_bound = Q3 + 1.5 * IQR\n",
    "\n",
    "# Identify outliers\n",
    "outliers = data[(data[column_to_check] < lower_bound) | (data[column_to_check] > upper_bound)]\n",
    "\n",
    "print(\"Number of outliers:\", len(outliers))"
   ]
  },
  {
   "cell_type": "code",
   "execution_count": 103,
   "id": "882610ba",
   "metadata": {
    "ExecuteTime": {
     "end_time": "2024-05-06T07:58:46.754083Z",
     "start_time": "2024-05-06T07:58:46.731806Z"
    }
   },
   "outputs": [
    {
     "data": {
      "text/html": [
       "<div>\n",
       "<style scoped>\n",
       "    .dataframe tbody tr th:only-of-type {\n",
       "        vertical-align: middle;\n",
       "    }\n",
       "\n",
       "    .dataframe tbody tr th {\n",
       "        vertical-align: top;\n",
       "    }\n",
       "\n",
       "    .dataframe thead th {\n",
       "        text-align: right;\n",
       "    }\n",
       "</style>\n",
       "<table border=\"1\" class=\"dataframe\">\n",
       "  <thead>\n",
       "    <tr style=\"text-align: right;\">\n",
       "      <th></th>\n",
       "      <th>ID</th>\n",
       "      <th>Delivery_person_ID</th>\n",
       "      <th>Delivery_person_Age</th>\n",
       "      <th>Delivery_person_Ratings</th>\n",
       "      <th>Time_Orderd</th>\n",
       "      <th>Time_Order_picked</th>\n",
       "      <th>Weatherconditions</th>\n",
       "      <th>Road_traffic_density</th>\n",
       "      <th>Vehicle_condition</th>\n",
       "      <th>Type_of_order</th>\n",
       "      <th>Type_of_vehicle</th>\n",
       "      <th>multiple_deliveries</th>\n",
       "      <th>Festival</th>\n",
       "      <th>City</th>\n",
       "      <th>Time_taken(min)</th>\n",
       "      <th>Day</th>\n",
       "      <th>Month</th>\n",
       "      <th>Day_of_week</th>\n",
       "      <th>Weatherconditions_enc</th>\n",
       "      <th>Road_traffic_density_enc</th>\n",
       "      <th>Type_of_order_enc</th>\n",
       "      <th>Type_of_vehicle_enc</th>\n",
       "      <th>Festival_enc</th>\n",
       "      <th>City_enc</th>\n",
       "      <th>Distance_km</th>\n",
       "    </tr>\n",
       "  </thead>\n",
       "  <tbody>\n",
       "    <tr>\n",
       "      <th>92</th>\n",
       "      <td>0xc042</td>\n",
       "      <td>AGRRES010DEL01</td>\n",
       "      <td>34</td>\n",
       "      <td>4.7</td>\n",
       "      <td>23:00:00</td>\n",
       "      <td>23:05:00</td>\n",
       "      <td>conditions Sandstorms</td>\n",
       "      <td>Low</td>\n",
       "      <td>1</td>\n",
       "      <td>Drinks</td>\n",
       "      <td>scooter</td>\n",
       "      <td>0</td>\n",
       "      <td>No</td>\n",
       "      <td>Metropolitian</td>\n",
       "      <td>15</td>\n",
       "      <td>16</td>\n",
       "      <td>2</td>\n",
       "      <td>2</td>\n",
       "      <td>0</td>\n",
       "      <td>0</td>\n",
       "      <td>0</td>\n",
       "      <td>2</td>\n",
       "      <td>0</td>\n",
       "      <td>2</td>\n",
       "      <td>6048.631240</td>\n",
       "    </tr>\n",
       "    <tr>\n",
       "      <th>283</th>\n",
       "      <td>0xc044</td>\n",
       "      <td>AGRRES12DEL03</td>\n",
       "      <td>32</td>\n",
       "      <td>4.7</td>\n",
       "      <td>20:55:00</td>\n",
       "      <td>21:10:00</td>\n",
       "      <td>conditions Sandstorms</td>\n",
       "      <td>Jam</td>\n",
       "      <td>2</td>\n",
       "      <td>Meal</td>\n",
       "      <td>scooter</td>\n",
       "      <td>1</td>\n",
       "      <td>No</td>\n",
       "      <td>Metropolitian</td>\n",
       "      <td>31</td>\n",
       "      <td>13</td>\n",
       "      <td>2</td>\n",
       "      <td>6</td>\n",
       "      <td>0</td>\n",
       "      <td>3</td>\n",
       "      <td>3</td>\n",
       "      <td>2</td>\n",
       "      <td>0</td>\n",
       "      <td>2</td>\n",
       "      <td>6047.919478</td>\n",
       "    </tr>\n",
       "    <tr>\n",
       "      <th>1091</th>\n",
       "      <td>0xc086</td>\n",
       "      <td>GOARES010DEL03</td>\n",
       "      <td>20</td>\n",
       "      <td>4.7</td>\n",
       "      <td>20:00:00</td>\n",
       "      <td>20:10:00</td>\n",
       "      <td>conditions Cloudy</td>\n",
       "      <td>Jam</td>\n",
       "      <td>2</td>\n",
       "      <td>Drinks</td>\n",
       "      <td>motorcycle</td>\n",
       "      <td>1</td>\n",
       "      <td>No</td>\n",
       "      <td>Metropolitian</td>\n",
       "      <td>29</td>\n",
       "      <td>13</td>\n",
       "      <td>2</td>\n",
       "      <td>6</td>\n",
       "      <td>4</td>\n",
       "      <td>3</td>\n",
       "      <td>0</td>\n",
       "      <td>0</td>\n",
       "      <td>0</td>\n",
       "      <td>2</td>\n",
       "      <td>3464.082720</td>\n",
       "    </tr>\n",
       "    <tr>\n",
       "      <th>1783</th>\n",
       "      <td>0xc067</td>\n",
       "      <td>BHPRES13DEL02</td>\n",
       "      <td>39</td>\n",
       "      <td>4.5</td>\n",
       "      <td>09:15:00</td>\n",
       "      <td>09:20:00</td>\n",
       "      <td>conditions Cloudy</td>\n",
       "      <td>Low</td>\n",
       "      <td>0</td>\n",
       "      <td>Meal</td>\n",
       "      <td>motorcycle</td>\n",
       "      <td>1</td>\n",
       "      <td>No</td>\n",
       "      <td>Metropolitian</td>\n",
       "      <td>29</td>\n",
       "      <td>13</td>\n",
       "      <td>2</td>\n",
       "      <td>6</td>\n",
       "      <td>4</td>\n",
       "      <td>0</td>\n",
       "      <td>3</td>\n",
       "      <td>0</td>\n",
       "      <td>0</td>\n",
       "      <td>2</td>\n",
       "      <td>5168.516553</td>\n",
       "    </tr>\n",
       "    <tr>\n",
       "      <th>1976</th>\n",
       "      <td>0xc061</td>\n",
       "      <td>KOLRES16DEL01</td>\n",
       "      <td>25</td>\n",
       "      <td>4.0</td>\n",
       "      <td>09:25:00</td>\n",
       "      <td>09:30:00</td>\n",
       "      <td>conditions Sandstorms</td>\n",
       "      <td>Low</td>\n",
       "      <td>0</td>\n",
       "      <td>Buffet</td>\n",
       "      <td>motorcycle</td>\n",
       "      <td>0</td>\n",
       "      <td>No</td>\n",
       "      <td>Metropolitian</td>\n",
       "      <td>19</td>\n",
       "      <td>15</td>\n",
       "      <td>2</td>\n",
       "      <td>1</td>\n",
       "      <td>0</td>\n",
       "      <td>0</td>\n",
       "      <td>2</td>\n",
       "      <td>0</td>\n",
       "      <td>0</td>\n",
       "      <td>2</td>\n",
       "      <td>5013.585658</td>\n",
       "    </tr>\n",
       "    <tr>\n",
       "      <th>...</th>\n",
       "      <td>...</td>\n",
       "      <td>...</td>\n",
       "      <td>...</td>\n",
       "      <td>...</td>\n",
       "      <td>...</td>\n",
       "      <td>...</td>\n",
       "      <td>...</td>\n",
       "      <td>...</td>\n",
       "      <td>...</td>\n",
       "      <td>...</td>\n",
       "      <td>...</td>\n",
       "      <td>...</td>\n",
       "      <td>...</td>\n",
       "      <td>...</td>\n",
       "      <td>...</td>\n",
       "      <td>...</td>\n",
       "      <td>...</td>\n",
       "      <td>...</td>\n",
       "      <td>...</td>\n",
       "      <td>...</td>\n",
       "      <td>...</td>\n",
       "      <td>...</td>\n",
       "      <td>...</td>\n",
       "      <td>...</td>\n",
       "      <td>...</td>\n",
       "    </tr>\n",
       "    <tr>\n",
       "      <th>43860</th>\n",
       "      <td>0xc0b9</td>\n",
       "      <td>GOARES16DEL01</td>\n",
       "      <td>32</td>\n",
       "      <td>4.6</td>\n",
       "      <td>23:10:00</td>\n",
       "      <td>23:15:00</td>\n",
       "      <td>conditions Sandstorms</td>\n",
       "      <td>Low</td>\n",
       "      <td>0</td>\n",
       "      <td>Snack</td>\n",
       "      <td>motorcycle</td>\n",
       "      <td>1</td>\n",
       "      <td>No</td>\n",
       "      <td>Metropolitian</td>\n",
       "      <td>24</td>\n",
       "      <td>18</td>\n",
       "      <td>2</td>\n",
       "      <td>4</td>\n",
       "      <td>0</td>\n",
       "      <td>0</td>\n",
       "      <td>1</td>\n",
       "      <td>0</td>\n",
       "      <td>0</td>\n",
       "      <td>2</td>\n",
       "      <td>3454.524245</td>\n",
       "    </tr>\n",
       "    <tr>\n",
       "      <th>44051</th>\n",
       "      <td>0xc06d</td>\n",
       "      <td>GOARES14DEL03</td>\n",
       "      <td>22</td>\n",
       "      <td>5.0</td>\n",
       "      <td>18:50:00</td>\n",
       "      <td>18:55:00</td>\n",
       "      <td>conditions Sandstorms</td>\n",
       "      <td>Medium</td>\n",
       "      <td>1</td>\n",
       "      <td>Buffet</td>\n",
       "      <td>scooter</td>\n",
       "      <td>1</td>\n",
       "      <td>No</td>\n",
       "      <td>Metropolitian</td>\n",
       "      <td>27</td>\n",
       "      <td>17</td>\n",
       "      <td>2</td>\n",
       "      <td>3</td>\n",
       "      <td>0</td>\n",
       "      <td>1</td>\n",
       "      <td>2</td>\n",
       "      <td>2</td>\n",
       "      <td>0</td>\n",
       "      <td>2</td>\n",
       "      <td>3377.651072</td>\n",
       "    </tr>\n",
       "    <tr>\n",
       "      <th>44640</th>\n",
       "      <td>0xc094</td>\n",
       "      <td>KOCRES06DEL03</td>\n",
       "      <td>23</td>\n",
       "      <td>4.8</td>\n",
       "      <td>19:20:00</td>\n",
       "      <td>19:35:00</td>\n",
       "      <td>conditions Sunny</td>\n",
       "      <td>Jam</td>\n",
       "      <td>0</td>\n",
       "      <td>Drinks</td>\n",
       "      <td>motorcycle</td>\n",
       "      <td>1</td>\n",
       "      <td>No</td>\n",
       "      <td>Metropolitian</td>\n",
       "      <td>21</td>\n",
       "      <td>14</td>\n",
       "      <td>2</td>\n",
       "      <td>0</td>\n",
       "      <td>5</td>\n",
       "      <td>3</td>\n",
       "      <td>0</td>\n",
       "      <td>0</td>\n",
       "      <td>0</td>\n",
       "      <td>2</td>\n",
       "      <td>2230.110757</td>\n",
       "    </tr>\n",
       "    <tr>\n",
       "      <th>44933</th>\n",
       "      <td>0xc0c2</td>\n",
       "      <td>AURGRES03DEL03</td>\n",
       "      <td>30</td>\n",
       "      <td>4.9</td>\n",
       "      <td>22:20:00</td>\n",
       "      <td>22:35:00</td>\n",
       "      <td>conditions Fog</td>\n",
       "      <td>Low</td>\n",
       "      <td>1</td>\n",
       "      <td>Buffet</td>\n",
       "      <td>motorcycle</td>\n",
       "      <td>0</td>\n",
       "      <td>No</td>\n",
       "      <td>Metropolitian</td>\n",
       "      <td>15</td>\n",
       "      <td>15</td>\n",
       "      <td>2</td>\n",
       "      <td>1</td>\n",
       "      <td>2</td>\n",
       "      <td>0</td>\n",
       "      <td>2</td>\n",
       "      <td>0</td>\n",
       "      <td>0</td>\n",
       "      <td>2</td>\n",
       "      <td>4423.276011</td>\n",
       "    </tr>\n",
       "    <tr>\n",
       "      <th>45182</th>\n",
       "      <td>0xc0c7</td>\n",
       "      <td>KNPRES16DEL02</td>\n",
       "      <td>30</td>\n",
       "      <td>4.0</td>\n",
       "      <td>22:25:00</td>\n",
       "      <td>22:40:00</td>\n",
       "      <td>conditions Sandstorms</td>\n",
       "      <td>Low</td>\n",
       "      <td>0</td>\n",
       "      <td>Drinks</td>\n",
       "      <td>motorcycle</td>\n",
       "      <td>1</td>\n",
       "      <td>No</td>\n",
       "      <td>Metropolitian</td>\n",
       "      <td>34</td>\n",
       "      <td>17</td>\n",
       "      <td>2</td>\n",
       "      <td>3</td>\n",
       "      <td>0</td>\n",
       "      <td>0</td>\n",
       "      <td>0</td>\n",
       "      <td>0</td>\n",
       "      <td>0</td>\n",
       "      <td>2</td>\n",
       "      <td>5895.019482</td>\n",
       "    </tr>\n",
       "  </tbody>\n",
       "</table>\n",
       "<p>146 rows × 25 columns</p>\n",
       "</div>"
      ],
      "text/plain": [
       "            ID Delivery_person_ID  Delivery_person_Age  \\\n",
       "92     0xc042     AGRRES010DEL01                    34   \n",
       "283    0xc044      AGRRES12DEL03                    32   \n",
       "1091   0xc086     GOARES010DEL03                    20   \n",
       "1783   0xc067      BHPRES13DEL02                    39   \n",
       "1976   0xc061      KOLRES16DEL01                    25   \n",
       "...        ...                ...                  ...   \n",
       "43860  0xc0b9      GOARES16DEL01                    32   \n",
       "44051  0xc06d      GOARES14DEL03                    22   \n",
       "44640  0xc094      KOCRES06DEL03                    23   \n",
       "44933  0xc0c2     AURGRES03DEL03                    30   \n",
       "45182  0xc0c7      KNPRES16DEL02                    30   \n",
       "\n",
       "       Delivery_person_Ratings Time_Orderd Time_Order_picked  \\\n",
       "92                         4.7    23:00:00          23:05:00   \n",
       "283                        4.7    20:55:00          21:10:00   \n",
       "1091                       4.7    20:00:00          20:10:00   \n",
       "1783                       4.5    09:15:00          09:20:00   \n",
       "1976                       4.0    09:25:00          09:30:00   \n",
       "...                        ...         ...               ...   \n",
       "43860                      4.6    23:10:00          23:15:00   \n",
       "44051                      5.0    18:50:00          18:55:00   \n",
       "44640                      4.8    19:20:00          19:35:00   \n",
       "44933                      4.9    22:20:00          22:35:00   \n",
       "45182                      4.0    22:25:00          22:40:00   \n",
       "\n",
       "           Weatherconditions Road_traffic_density  Vehicle_condition  \\\n",
       "92     conditions Sandstorms                 Low                   1   \n",
       "283    conditions Sandstorms                 Jam                   2   \n",
       "1091       conditions Cloudy                 Jam                   2   \n",
       "1783       conditions Cloudy                 Low                   0   \n",
       "1976   conditions Sandstorms                 Low                   0   \n",
       "...                      ...                  ...                ...   \n",
       "43860  conditions Sandstorms                 Low                   0   \n",
       "44051  conditions Sandstorms              Medium                   1   \n",
       "44640       conditions Sunny                 Jam                   0   \n",
       "44933         conditions Fog                 Low                   1   \n",
       "45182  conditions Sandstorms                 Low                   0   \n",
       "\n",
       "      Type_of_order Type_of_vehicle  multiple_deliveries Festival  \\\n",
       "92          Drinks         scooter                     0      No    \n",
       "283           Meal         scooter                     1      No    \n",
       "1091        Drinks      motorcycle                     1      No    \n",
       "1783          Meal      motorcycle                     1      No    \n",
       "1976        Buffet      motorcycle                     0      No    \n",
       "...             ...             ...                  ...      ...   \n",
       "43860        Snack      motorcycle                     1      No    \n",
       "44051       Buffet         scooter                     1      No    \n",
       "44640       Drinks      motorcycle                     1      No    \n",
       "44933       Buffet      motorcycle                     0      No    \n",
       "45182       Drinks      motorcycle                     1      No    \n",
       "\n",
       "                 City  Time_taken(min)  Day  Month  Day_of_week  \\\n",
       "92     Metropolitian                15   16      2            2   \n",
       "283    Metropolitian                31   13      2            6   \n",
       "1091   Metropolitian                29   13      2            6   \n",
       "1783   Metropolitian                29   13      2            6   \n",
       "1976   Metropolitian                19   15      2            1   \n",
       "...               ...              ...  ...    ...          ...   \n",
       "43860  Metropolitian                24   18      2            4   \n",
       "44051  Metropolitian                27   17      2            3   \n",
       "44640  Metropolitian                21   14      2            0   \n",
       "44933  Metropolitian                15   15      2            1   \n",
       "45182  Metropolitian                34   17      2            3   \n",
       "\n",
       "       Weatherconditions_enc  Road_traffic_density_enc  Type_of_order_enc  \\\n",
       "92                         0                         0                  0   \n",
       "283                        0                         3                  3   \n",
       "1091                       4                         3                  0   \n",
       "1783                       4                         0                  3   \n",
       "1976                       0                         0                  2   \n",
       "...                      ...                       ...                ...   \n",
       "43860                      0                         0                  1   \n",
       "44051                      0                         1                  2   \n",
       "44640                      5                         3                  0   \n",
       "44933                      2                         0                  2   \n",
       "45182                      0                         0                  0   \n",
       "\n",
       "       Type_of_vehicle_enc  Festival_enc  City_enc  Distance_km  \n",
       "92                       2             0         2  6048.631240  \n",
       "283                      2             0         2  6047.919478  \n",
       "1091                     0             0         2  3464.082720  \n",
       "1783                     0             0         2  5168.516553  \n",
       "1976                     0             0         2  5013.585658  \n",
       "...                    ...           ...       ...          ...  \n",
       "43860                    0             0         2  3454.524245  \n",
       "44051                    2             0         2  3377.651072  \n",
       "44640                    0             0         2  2230.110757  \n",
       "44933                    0             0         2  4423.276011  \n",
       "45182                    0             0         2  5895.019482  \n",
       "\n",
       "[146 rows x 25 columns]"
      ]
     },
     "execution_count": 103,
     "metadata": {},
     "output_type": "execute_result"
    }
   ],
   "source": [
    "data[data['Distance_km'] > 100]"
   ]
  },
  {
   "cell_type": "markdown",
   "id": "6bbacc80",
   "metadata": {},
   "source": [
    "As one can see, there were 146 observations dentified as outliers, and all have a distance between restaurante and delviery place of more than 100km. If we also take a look at the time taken to deliver these goods, we can conclude that it is impossible to traverse such a long distance in so little time.\n",
    "\n",
    "These observations may represent orders that were made by mistake in which the clients did no notice the location of the restaurant when requesting the delivery service. For example, with fast food chains that exist all around the world, people might sometimes get the address wrong and mistakenly order something in the other side of the world.\n",
    "\n",
    "Consequently, these observations will be removed."
   ]
  },
  {
   "cell_type": "code",
   "execution_count": 104,
   "id": "91e2ec70",
   "metadata": {
    "ExecuteTime": {
     "end_time": "2024-05-06T07:58:46.772472Z",
     "start_time": "2024-05-06T07:58:46.756780Z"
    }
   },
   "outputs": [],
   "source": [
    "data = data[data['Distance_km'] < 100]"
   ]
  },
  {
   "cell_type": "markdown",
   "id": "ec78ca8e",
   "metadata": {},
   "source": [
    "Rechecking how the Boxplots look again"
   ]
  },
  {
   "cell_type": "code",
   "execution_count": 105,
   "id": "c7f6c3d9",
   "metadata": {
    "ExecuteTime": {
     "end_time": "2024-05-06T07:58:48.678006Z",
     "start_time": "2024-05-06T07:58:46.774946Z"
    }
   },
   "outputs": [
    {
     "data": {
      "image/png": "[encoded data removed]",
      "text/plain": [
       "<Figure size 600x400 with 1 Axes>"
      ]
     },
     "metadata": {},
     "output_type": "display_data"
    },
    {
     "data": {
      "image/png": "[encoded data removed]",
      "text/plain": [
       "<Figure size 600x400 with 1 Axes>"
      ]
     },
     "metadata": {},
     "output_type": "display_data"
    },
    {
     "data": {
      "image/png": "[encoded data removed]",
      "text/plain": [
       "<Figure size 600x400 with 1 Axes>"
      ]
     },
     "metadata": {},
     "output_type": "display_data"
    },
    {
     "data": {
      "image/png": "[encoded data removed]",
      "text/plain": [
       "<Figure size 600x400 with 1 Axes>"
      ]
     },
     "metadata": {},
     "output_type": "display_data"
    },
    {
     "data": {
      "image/png": "[encoded data removed]",
      "text/plain": [
       "<Figure size 600x400 with 1 Axes>"
      ]
     },
     "metadata": {},
     "output_type": "display_data"
    },
    {
     "data": {
      "image/png": "[encoded data removed]",
      "text/plain": [
       "<Figure size 600x400 with 1 Axes>"
      ]
     },
     "metadata": {},
     "output_type": "display_data"
    },
    {
     "data": {
      "image/png": "[encoded data removed]",
      "text/plain": [
       "<Figure size 600x400 with 1 Axes>"
      ]
     },
     "metadata": {},
     "output_type": "display_data"
    },
    {
     "data": {
      "image/png": "[encoded data removed]",
      "text/plain": [
       "<Figure size 600x400 with 1 Axes>"
      ]
     },
     "metadata": {},
     "output_type": "display_data"
    },
    {
     "data": {
      "image/png": "[encoded data removed]",
      "text/plain": [
       "<Figure size 600x400 with 1 Axes>"
      ]
     },
     "metadata": {},
     "output_type": "display_data"
    },
    {
     "data": {
      "image/png": "[encoded data removed]",
      "text/plain": [
       "<Figure size 600x400 with 1 Axes>"
      ]
     },
     "metadata": {},
     "output_type": "display_data"
    },
    {
     "data": {
      "image/png": "[encoded data removed]",
      "text/plain": [
       "<Figure size 600x400 with 1 Axes>"
      ]
     },
     "metadata": {},
     "output_type": "display_data"
    },
    {
     "data": {
      "image/png": "[encoded data removed]",
      "text/plain": [
       "<Figure size 600x400 with 1 Axes>"
      ]
     },
     "metadata": {},
     "output_type": "display_data"
    },
    {
     "data": {
      "image/png": "[encoded data removed]",
      "text/plain": [
       "<Figure size 600x400 with 1 Axes>"
      ]
     },
     "metadata": {},
     "output_type": "display_data"
    },
    {
     "data": {
      "image/png": "[encoded data removed]",
      "text/plain": [
       "<Figure size 600x400 with 1 Axes>"
      ]
     },
     "metadata": {},
     "output_type": "display_data"
    },
    {
     "data": {
      "image/png": "[encoded data removed]",
      "text/plain": [
       "<Figure size 600x400 with 1 Axes>"
      ]
     },
     "metadata": {},
     "output_type": "display_data"
    }
   ],
   "source": [
    "functions.plot_boxplots(data, columns_to_check, palette = palette)"
   ]
  },
  {
   "cell_type": "markdown",
   "id": "3c202915",
   "metadata": {},
   "source": [
    "With the outliers addressed, we will continue."
   ]
  },
  {
   "cell_type": "markdown",
   "id": "d45bd6e7",
   "metadata": {},
   "source": [
    "Since ID and Delivery_person_ID are unique for each observation and do not contribute with usful information for prediction purposes, they will be dropped."
   ]
  },
  {
   "cell_type": "code",
   "execution_count": 106,
   "id": "e51e3296",
   "metadata": {
    "ExecuteTime": {
     "end_time": "2024-05-06T07:58:48.694376Z",
     "start_time": "2024-05-06T07:58:48.680435Z"
    }
   },
   "outputs": [],
   "source": [
    "data = data.drop(['ID', 'Delivery_person_ID'], axis = 1)"
   ]
  },
  {
   "cell_type": "markdown",
   "id": "90b2e42d",
   "metadata": {},
   "source": [
    "### 2.5 Visualisations"
   ]
  },
  {
   "cell_type": "markdown",
   "id": "9e38637e",
   "metadata": {},
   "source": [
    "Visualising the distribution of the Age of the delivery person"
   ]
  },
  {
   "cell_type": "code",
   "execution_count": 107,
   "id": "9499ba5c",
   "metadata": {
    "ExecuteTime": {
     "end_time": "2024-05-06T07:58:48.864042Z",
     "start_time": "2024-05-06T07:58:48.696613Z"
    }
   },
   "outputs": [
    {
     "data": {
      "image/png": "[encoded data removed]",
      "text/plain": [
       "<Figure size 640x480 with 1 Axes>"
      ]
     },
     "metadata": {},
     "output_type": "display_data"
    }
   ],
   "source": [
    "age_counts = data['Delivery_person_Age'].value_counts().sort_index()\n",
    "\n",
    "plt.plot(age_counts.index, age_counts.values, marker='o', linestyle='-')\n",
    "plt.xlabel('Age')\n",
    "plt.ylabel('Number of People')\n",
    "plt.title('Age Distribution')\n",
    "plt.grid(True)\n",
    "plt.show()"
   ]
  },
  {
   "cell_type": "markdown",
   "id": "107daa3c",
   "metadata": {},
   "source": [
    "Taking a closer look at what time most orders are made"
   ]
  },
  {
   "cell_type": "code",
   "execution_count": 119,
   "id": "384440c7",
   "metadata": {
    "ExecuteTime": {
     "end_time": "2024-05-06T08:04:04.833811Z",
     "start_time": "2024-05-06T08:04:04.559173Z"
    }
   },
   "outputs": [
    {
     "data": {
      "image/png": "[encoded data removed]",
      "text/plain": [
       "<Figure size 640x480 with 1 Axes>"
      ]
     },
     "metadata": {},
     "output_type": "display_data"
    }
   ],
   "source": [
    "# Group orders by hour and count occurrences\n",
    "hourly_counts = data['Hour'].value_counts().sort_index()\n",
    "\n",
    "# Create figure and axis objects\n",
    "fig, ax = plt.subplots()\n",
    "\n",
    "# Plot the bar chart as the background\n",
    "ax.bar(hourly_counts.index, hourly_counts.values, color='lightblue', label='Hourly Orders')\n",
    "\n",
    "# Plot the line chart on top\n",
    "ax.plot(hourly_counts.index, hourly_counts.values, marker='o', linestyle='-', color='darkblue', label='Hourly Orders')\n",
    "\n",
    "# Customize the plot\n",
    "ax.set_xlabel('Hour of the Day')\n",
    "ax.set_ylabel('Number of Orders')\n",
    "ax.set_title('Distribution of Orders by Hour of the Day')\n",
    "#ax.grid(True)\n",
    "ax.set_xticks(range(24))\n",
    "ax.legend()\n",
    "plt.show()"
   ]
  },
  {
   "cell_type": "markdown",
   "id": "c5cf26d7",
   "metadata": {
    "ExecuteTime": {
     "end_time": "2024-04-28T12:30:19.829435Z",
     "start_time": "2024-04-28T12:30:19.817516Z"
    }
   },
   "source": [
    "Visualising order types for each hour of a day"
   ]
  },
  {
   "cell_type": "code",
   "execution_count": null,
   "id": "3d79e431",
   "metadata": {
    "ExecuteTime": {
     "end_time": "2024-05-06T07:58:48.971185Z",
     "start_time": "2024-05-06T07:58:48.971165Z"
    }
   },
   "outputs": [],
   "source": [
    "# Group orders by hour and type and count occurrences\n",
    "hourly_order_counts = data.groupby(['Hour', 'Type_of_order']).size().unstack()\n",
    "\n",
    "# Plot the stacked bar chart\n",
    "hourly_order_counts.plot(kind='bar', stacked=True, figsize=(10, 6))\n",
    "\n",
    "# Customize the plot\n",
    "plt.xlabel('Hour of the Day')\n",
    "plt.ylabel('Number of Orders')\n",
    "plt.title('Distribution of Order Types by Hour of the Day')\n",
    "plt.legend(title='Order Type')\n",
    "\n",
    "# Show the plot\n",
    "plt.show()"
   ]
  },
  {
   "cell_type": "markdown",
   "id": "202cb15f",
   "metadata": {},
   "source": [
    "Taking a look if the Age of the delivery person influences the Rating given by clients"
   ]
  },
  {
   "cell_type": "code",
   "execution_count": null,
   "id": "4b1e07e8",
   "metadata": {
    "ExecuteTime": {
     "end_time": "2024-05-06T07:58:48.972759Z",
     "start_time": "2024-05-06T07:58:48.972741Z"
    }
   },
   "outputs": [],
   "source": [
    "sns.boxplot(x='Delivery_person_Age', y='Delivery_person_Ratings', \n",
    "            data=data, palette = palette)\n",
    "plt.xlabel('Delivery Person Age')\n",
    "plt.ylabel('Delivery Person Ratings')\n",
    "plt.title('Delivery Person Age vs Ratings')\n",
    "plt.show()"
   ]
  },
  {
   "cell_type": "markdown",
   "id": "2d46d255",
   "metadata": {
    "ExecuteTime": {
     "end_time": "2024-04-28T12:41:54.763636Z",
     "start_time": "2024-04-28T12:41:54.758622Z"
    }
   },
   "source": [
    "Displaying Weather Conditions vs Time Taken"
   ]
  },
  {
   "cell_type": "code",
   "execution_count": null,
   "id": "c3f8cd21",
   "metadata": {
    "ExecuteTime": {
     "end_time": "2024-05-06T07:58:48.974487Z",
     "start_time": "2024-05-06T07:58:48.974470Z"
    }
   },
   "outputs": [],
   "source": [
    "sns.lineplot(x='Weatherconditions', y='Time_taken(min)', data=data, marker='o')\n",
    "\n",
    "# Customize the plot\n",
    "plt.xlabel('Road Traffic Density')\n",
    "plt.xticks(rotation=45)\n",
    "plt.ylabel('Time Taken (min)')\n",
    "plt.title('Road Traffic Density vs Time Taken')\n",
    "plt.show()"
   ]
  },
  {
   "cell_type": "markdown",
   "id": "e4f76094",
   "metadata": {
    "ExecuteTime": {
     "end_time": "2024-05-06T07:41:14.937893Z",
     "start_time": "2024-05-06T07:41:14.921960Z"
    }
   },
   "source": [
    "Taking a look at how traffic density and the existance of a festival affect the target *Time_taken(min)*"
   ]
  },
  {
   "cell_type": "code",
   "execution_count": null,
   "id": "be6c75de",
   "metadata": {
    "ExecuteTime": {
     "end_time": "2024-05-06T07:58:48.976268Z",
     "start_time": "2024-05-06T07:58:48.976249Z"
    },
    "scrolled": true
   },
   "outputs": [],
   "source": [
    "plt.figure(figsize=(12, 8))\n",
    "g = sns.FacetGrid(data, col='Festival', row=\"Road_traffic_density\")\n",
    "g.map(sns.barplot, \"Road_traffic_density\", \"Time_taken(min)\")\n",
    "g.add_legend()\n",
    "\n",
    "plt.subplots_adjust(wspace=0.8)\n",
    "plt.show()"
   ]
  },
  {
   "cell_type": "markdown",
   "id": "f5dbe1c4",
   "metadata": {},
   "source": [
    "### 2.6 Correlation Matrix"
   ]
  },
  {
   "cell_type": "markdown",
   "id": "dd3cd8c3",
   "metadata": {},
   "source": [
    "Here the numeric variables will be selected in order to perform a correlation matrix"
   ]
  },
  {
   "cell_type": "code",
   "execution_count": 120,
   "id": "d3661a0a",
   "metadata": {
    "ExecuteTime": {
     "end_time": "2024-05-06T08:04:12.806326Z",
     "start_time": "2024-05-06T08:04:12.785602Z"
    }
   },
   "outputs": [
    {
     "data": {
      "text/plain": [
       "Index(['Delivery_person_Age', 'Delivery_person_Ratings', 'Vehicle_condition',\n",
       "       'multiple_deliveries', 'Time_taken(min)', 'Day', 'Month', 'Day_of_week',\n",
       "       'Weatherconditions_enc', 'Road_traffic_density_enc',\n",
       "       'Type_of_order_enc', 'Type_of_vehicle_enc', 'Festival_enc', 'City_enc',\n",
       "       'Distance_km', 'Hour'],\n",
       "      dtype='object')"
      ]
     },
     "execution_count": 120,
     "metadata": {},
     "output_type": "execute_result"
    }
   ],
   "source": [
    "numeric_columns = data.select_dtypes(include=['int', 'float']).columns\n",
    "numeric_columns"
   ]
  },
  {
   "cell_type": "code",
   "execution_count": 121,
   "id": "bea395a3",
   "metadata": {
    "ExecuteTime": {
     "end_time": "2024-05-06T08:04:13.719733Z",
     "start_time": "2024-05-06T08:04:13.197752Z"
    }
   },
   "outputs": [
    {
     "data": {
      "image/png": "[encoded data removed]",
      "text/plain": [
       "<Figure size 1000x800 with 2 Axes>"
      ]
     },
     "metadata": {},
     "output_type": "display_data"
    }
   ],
   "source": [
    "# Calculate correlation matrix\n",
    "correlation_matrix = data[numeric_columns].corr(method='spearman')\n",
    "\n",
    "# Plot correlation matrix as heatmap using Seaborn\n",
    "plt.figure(figsize=(10, 8))\n",
    "sns.heatmap(correlation_matrix, annot=True, cmap=palette, fmt=\".2f\", annot_kws={\"size\": 10})\n",
    "plt.title('Correlation Matrix')\n",
    "plt.show()\n",
    "\n"
   ]
  },
  {
   "cell_type": "code",
   "execution_count": null,
   "id": "ae049194",
   "metadata": {
    "ExecuteTime": {
     "end_time": "2024-05-06T07:58:48.981317Z",
     "start_time": "2024-05-06T07:58:48.981298Z"
    },
    "jupyter": {
     "outputs_hidden": true
    }
   },
   "outputs": [],
   "source": [
    "#print(correlation_matrix)"
   ]
  },
  {
   "cell_type": "markdown",
   "id": "49bf30c9",
   "metadata": {},
   "source": [
    "### Train-Test Split"
   ]
  },
  {
   "cell_type": "markdown",
   "id": "05a5b1ad",
   "metadata": {},
   "source": [
    "Dropping unnecessary columns"
   ]
  },
  {
   "cell_type": "code",
   "execution_count": null,
   "id": "ec1326ec",
   "metadata": {
    "ExecuteTime": {
     "end_time": "2024-05-06T07:58:48.983412Z",
     "start_time": "2024-05-06T07:58:48.983396Z"
    }
   },
   "outputs": [],
   "source": [
    "data = data.drop(['Time_Orderd', 'Time_Order_picked', 'Weatherconditions',\n",
    "                 'Road_traffic_density', 'Type_of_order', 'Type_of_vehicle', \n",
    "                 'Festival', 'City', 'Time_Orderd_dt'], axis = 1)"
   ]
  },
  {
   "cell_type": "markdown",
   "id": "cee257d7",
   "metadata": {},
   "source": [
    "Splitting the data into train and test"
   ]
  },
  {
   "cell_type": "code",
   "execution_count": null,
   "id": "e229bec0",
   "metadata": {
    "ExecuteTime": {
     "end_time": "2024-05-06T07:58:48.985199Z",
     "start_time": "2024-05-06T07:58:48.985181Z"
    }
   },
   "outputs": [],
   "source": [
    "X = data.drop(['Time_taken(min)'], axis = 1)\n",
    "y = data['Time_taken(min)']\n",
    "\n",
    "X_train, X_test, y_train, y_test = train_test_split(X, y, test_size=0.25, random_state=42)\n"
   ]
  },
  {
   "cell_type": "markdown",
   "id": "c08e4df4",
   "metadata": {},
   "source": [
    "### Feature Selection"
   ]
  },
  {
   "cell_type": "markdown",
   "id": "9d67485b",
   "metadata": {},
   "source": [
    "**Lasso**"
   ]
  },
  {
   "cell_type": "code",
   "execution_count": null,
   "id": "e6cd458f",
   "metadata": {
    "ExecuteTime": {
     "end_time": "2024-05-06T07:58:48.986933Z",
     "start_time": "2024-05-06T07:58:48.986916Z"
    },
    "scrolled": false
   },
   "outputs": [],
   "source": [
    "# Initialize the Lasso regression model\n",
    "lasso = Lasso(alpha=0.1)\n",
    "\n",
    "# Fit the model to the training data\n",
    "lasso.fit(X_train, y_train)\n",
    "\n",
    "# Make predictions on the test data\n",
    "predictions = lasso.predict(X_test)\n",
    "\n",
    "# Evaluate the model\n",
    "mse = mean_squared_error(y_test, predictions)\n",
    "print(\"Mean Squared Error:\", mse)\n",
    "\n",
    "# Print the coefficients\n",
    "coefficients = pd.DataFrame({'feature': X.columns, 'coefficient': lasso.coef_})\n",
    "print(coefficients)"
   ]
  },
  {
   "cell_type": "code",
   "execution_count": null,
   "id": "a371e5c8",
   "metadata": {
    "ExecuteTime": {
     "end_time": "2024-05-06T07:58:48.988728Z",
     "start_time": "2024-05-06T07:58:48.988710Z"
    }
   },
   "outputs": [],
   "source": [
    "# Sort coefficients by absolute value for better visualization\n",
    "coefficients_sorted = coefficients.sort_values(by='coefficient', ascending=False)\n",
    "\n",
    "# Plot the coefficients\n",
    "plt.barh(coefficients_sorted['feature'], coefficients_sorted['coefficient'])\n",
    "plt.xlabel('Coefficient Value')\n",
    "plt.title('Lasso Regression Coefficients')\n",
    "plt.show()\n"
   ]
  },
  {
   "cell_type": "markdown",
   "id": "92ef2383",
   "metadata": {},
   "source": [
    "According to Lasso, the Type_of_order, Day_of_week, Month and Day do not influence our target variable. Consequently when modeling, experiments will be made to keep and remove these variables, while comparing the R-Squared, MSE and MAE of the models used."
   ]
  },
  {
   "cell_type": "markdown",
   "id": "8d90c762",
   "metadata": {},
   "source": [
    "**Mutual Information Criterion**"
   ]
  },
  {
   "cell_type": "code",
   "execution_count": null,
   "id": "1b0ed876",
   "metadata": {
    "ExecuteTime": {
     "end_time": "2024-05-06T07:58:48.990714Z",
     "start_time": "2024-05-06T07:58:48.990696Z"
    }
   },
   "outputs": [],
   "source": [
    "mutual_info = mutual_info_regression(X, y)\n",
    "\n",
    "# Visualize the mutual information scores\n",
    "for feature, mi in zip(X.columns, mutual_info):\n",
    "    formatted_mi = \"{:.8f}\".format(mi)\n",
    "    print(f\"Feature '{feature}': Mutual Information = {formatted_mi}\")\n"
   ]
  },
  {
   "cell_type": "code",
   "execution_count": null,
   "id": "49a4edf1",
   "metadata": {
    "ExecuteTime": {
     "end_time": "2024-05-06T07:58:48.992544Z",
     "start_time": "2024-05-06T07:58:48.992526Z"
    }
   },
   "outputs": [],
   "source": [
    "plt.figure(figsize=(10, 6))\n",
    "plt.barh(X.columns, mutual_info, color='skyblue')\n",
    "plt.xlabel('Mutual Information')\n",
    "plt.ylabel('Feature')\n",
    "plt.title('Mutual Information Scores for Each Feature')\n",
    "plt.show()"
   ]
  },
  {
   "cell_type": "markdown",
   "id": "889ffe5c",
   "metadata": {},
   "source": [
    "Experimenting by removing features that appear not to influence our target, therefore removing complexity"
   ]
  },
  {
   "cell_type": "code",
   "execution_count": null,
   "id": "251006b5",
   "metadata": {
    "ExecuteTime": {
     "end_time": "2024-05-06T07:58:48.994744Z",
     "start_time": "2024-05-06T07:58:48.994723Z"
    }
   },
   "outputs": [],
   "source": [
    "X_train.info()"
   ]
  },
  {
   "cell_type": "code",
   "execution_count": null,
   "id": "dbac1d7d",
   "metadata": {
    "ExecuteTime": {
     "end_time": "2024-05-06T07:58:48.996555Z",
     "start_time": "2024-05-06T07:58:48.996537Z"
    }
   },
   "outputs": [],
   "source": [
    "columns_to_drop = ['Type_of_order_enc', 'Day_of_week', 'Month', 'Day']\n",
    "X_train.drop(columns_to_drop, axis=1, inplace=True)\n",
    "X_test.drop(columns_to_drop, axis=1, inplace=True)\n"
   ]
  },
  {
   "cell_type": "markdown",
   "id": "9b25def5",
   "metadata": {},
   "source": [
    "** **"
   ]
  },
  {
   "cell_type": "markdown",
   "id": "af61b36b",
   "metadata": {},
   "source": [
    "## Training Phase"
   ]
  },
  {
   "cell_type": "markdown",
   "id": "83cdb345",
   "metadata": {},
   "source": [
    "**Data Scaling**"
   ]
  },
  {
   "cell_type": "code",
   "execution_count": null,
   "id": "be6b7b73",
   "metadata": {
    "ExecuteTime": {
     "end_time": "2024-05-06T07:58:48.998280Z",
     "start_time": "2024-05-06T07:58:48.998261Z"
    }
   },
   "outputs": [],
   "source": [
    "scaler = MinMaxScaler()\n",
    "X_train_scaled = scaler.fit_transform(X_train)\n",
    "X_test_scaled = scaler.transform(X_test)"
   ]
  },
  {
   "cell_type": "markdown",
   "id": "11d52a0b",
   "metadata": {},
   "source": [
    "**Random Forest**"
   ]
  },
  {
   "cell_type": "code",
   "execution_count": null,
   "id": "a89757d3",
   "metadata": {
    "ExecuteTime": {
     "end_time": "2024-05-06T07:58:48.999623Z",
     "start_time": "2024-05-06T07:58:48.999606Z"
    }
   },
   "outputs": [],
   "source": [
    "# Define model\n",
    "random_forest = RandomForestRegressor(n_estimators=100, random_state=42)\n",
    "\n",
    "# Train the model \n",
    "random_forest.fit(X_train_scaled, y_train)\n",
    "\n",
    "# Make predictions\n",
    "rf_train_pred = random_forest.predict(X_train_scaled)\n",
    "rf_predictions = random_forest.predict(X_test_scaled)\n"
   ]
  },
  {
   "cell_type": "code",
   "execution_count": null,
   "id": "ecaeb496",
   "metadata": {
    "ExecuteTime": {
     "end_time": "2024-05-06T07:58:49.001386Z",
     "start_time": "2024-05-06T07:58:49.001369Z"
    }
   },
   "outputs": [],
   "source": [
    "print('----------------TRAIN--------------------')\n",
    "functions.evaluator(y_train, rf_train_pred)\n",
    "print(' ')\n",
    "print('----------------TEST---------------------')\n",
    "functions.evaluator(y_test, rf_predictions)"
   ]
  },
  {
   "cell_type": "markdown",
   "id": "db4efabe",
   "metadata": {},
   "source": [
    "**Gradient Boosted Regression**"
   ]
  },
  {
   "cell_type": "code",
   "execution_count": null,
   "id": "cdb3e440",
   "metadata": {
    "ExecuteTime": {
     "end_time": "2024-05-06T07:58:49.003424Z",
     "start_time": "2024-05-06T07:58:49.003406Z"
    }
   },
   "outputs": [],
   "source": [
    "# Define model\n",
    "gradient_boosting = GradientBoostingRegressor(n_estimators=100, learning_rate=0.1, random_state=42)\n",
    "\n",
    "# Train the model\n",
    "gradient_boosting.fit(X_train, y_train)\n",
    "\n",
    "# Make predictions \n",
    "gbr_train_pred = gradient_boosting.predict(X_train)\n",
    "gbr_predictions = gradient_boosting.predict(X_test)"
   ]
  },
  {
   "cell_type": "code",
   "execution_count": null,
   "id": "af339969",
   "metadata": {
    "ExecuteTime": {
     "end_time": "2024-05-06T07:58:49.005093Z",
     "start_time": "2024-05-06T07:58:49.005076Z"
    }
   },
   "outputs": [],
   "source": [
    "print('----------------TRAIN--------------------')\n",
    "functions.evaluator(y_train, gbr_train_pred)\n",
    "print(' ')\n",
    "print('----------------TEST---------------------')\n",
    "functions.evaluator(y_test, gbr_predictions)"
   ]
  },
  {
   "cell_type": "markdown",
   "id": "4700d2fc",
   "metadata": {},
   "source": [
    "**XGB Regressor**"
   ]
  },
  {
   "cell_type": "code",
   "execution_count": null,
   "id": "65772bf1",
   "metadata": {
    "ExecuteTime": {
     "end_time": "2024-05-06T07:58:49.006891Z",
     "start_time": "2024-05-06T07:58:49.006875Z"
    }
   },
   "outputs": [],
   "source": [
    "# Define model\n",
    "xgb_reg = xgb.XGBRegressor(enable_categorical = True, random_state = 42)\n",
    "\n",
    "# Train the model\n",
    "xgb_reg.fit(X_train,y_train)\n",
    "\n",
    "# Make predictions \n",
    "xgb_train_predictions = xgb_reg.predict(X_train)\n",
    "xgb_predictions = xgb_reg.predict(X_test)"
   ]
  },
  {
   "cell_type": "code",
   "execution_count": null,
   "id": "e277428f",
   "metadata": {
    "ExecuteTime": {
     "end_time": "2024-05-06T07:58:49.008798Z",
     "start_time": "2024-05-06T07:58:49.008781Z"
    }
   },
   "outputs": [],
   "source": [
    "print('----------------TRAIN--------------------')\n",
    "functions.evaluator(y_train, xgb_train_predictions)\n",
    "print(' ')\n",
    "print('----------------TEST---------------------')\n",
    "functions.evaluator(y_test, xgb_predictions)"
   ]
  },
  {
   "cell_type": "markdown",
   "id": "de48a77a",
   "metadata": {},
   "source": [
    "**Linear Regression**"
   ]
  },
  {
   "cell_type": "code",
   "execution_count": null,
   "id": "cb8c6447",
   "metadata": {
    "ExecuteTime": {
     "end_time": "2024-05-06T07:58:49.010990Z",
     "start_time": "2024-05-06T07:58:49.010971Z"
    }
   },
   "outputs": [],
   "source": [
    "# Define model\n",
    "lin_reg = LinearRegression()\n",
    "\n",
    "# Train the model\n",
    "lin_reg.fit(X_train, y_train)\n",
    "\n",
    "# Make predictions\n",
    "lr_train_predictions = lin_reg.predict(X_train)\n",
    "lr_predictions = lin_reg.predict(X_test)"
   ]
  },
  {
   "cell_type": "code",
   "execution_count": null,
   "id": "c777ea1b",
   "metadata": {
    "ExecuteTime": {
     "end_time": "2024-05-06T07:58:49.012666Z",
     "start_time": "2024-05-06T07:58:49.012649Z"
    }
   },
   "outputs": [],
   "source": [
    "print('----------------TRAIN--------------------')\n",
    "functions.evaluator(y_train, lr_train_predictions)\n",
    "print(' ')\n",
    "print('----------------TEST---------------------')\n",
    "functions.evaluator(y_test, lr_predictions)"
   ]
  },
  {
   "cell_type": "markdown",
   "id": "92b0dec0",
   "metadata": {},
   "source": [
    "**Neural Network**"
   ]
  },
  {
   "cell_type": "code",
   "execution_count": null,
   "id": "40c29e59",
   "metadata": {
    "ExecuteTime": {
     "end_time": "2024-05-06T07:58:49.014595Z",
     "start_time": "2024-05-06T07:58:49.014573Z"
    }
   },
   "outputs": [],
   "source": [
    "# Define the neural network architecture\n",
    "model = Sequential([\n",
    "    Dense(32, activation='relu', input_shape=(X_train.shape[1],)),\n",
    "    Dropout(0.2),  # Adding dropout for regularization\n",
    "    Dense(16, activation='relu'),\n",
    "    Dropout(0.2),  # Adding dropout for regularization\n",
    "    Dense(1)  \n",
    "])\n",
    "\n",
    "\n",
    "# Compile the model\n",
    "optimizer = Adam(learning_rate=0.001)\n",
    "model.compile(optimizer=optimizer, loss='mean_squared_error')\n",
    "\n",
    "# Train the model\n",
    "model.fit(X_train, y_train, epochs=50, batch_size=32, verbose=0)\n",
    "\n",
    "# Make predictions on the test data\n",
    "nn_train_pred = model.predict(X_train)\n",
    "nn_pred = model.predict(X_test)"
   ]
  },
  {
   "cell_type": "code",
   "execution_count": null,
   "id": "640385a6",
   "metadata": {
    "ExecuteTime": {
     "end_time": "2024-05-06T07:58:49.016373Z",
     "start_time": "2024-05-06T07:58:49.016354Z"
    }
   },
   "outputs": [],
   "source": [
    "print('----------------TRAIN--------------------')\n",
    "functions.evaluator(y_train, nn_train_pred)\n",
    "print(' ')\n",
    "print('----------------TEST---------------------')\n",
    "functions.evaluator(y_test, nn_pred)"
   ]
  },
  {
   "cell_type": "markdown",
   "id": "13feca38",
   "metadata": {},
   "source": [
    "** **"
   ]
  },
  {
   "cell_type": "markdown",
   "id": "d470adb4",
   "metadata": {},
   "source": [
    "## Testing Phase"
   ]
  },
  {
   "cell_type": "code",
   "execution_count": null,
   "id": "f255e670",
   "metadata": {
    "ExecuteTime": {
     "end_time": "2024-05-06T07:58:49.018236Z",
     "start_time": "2024-05-06T07:58:49.018217Z"
    }
   },
   "outputs": [],
   "source": [
    "test = pd.read_csv('/Users/antoniooliveira/Downloads/assignment 3/test.csv')\n",
    "test"
   ]
  },
  {
   "cell_type": "code",
   "execution_count": null,
   "id": "bd69841e",
   "metadata": {
    "ExecuteTime": {
     "end_time": "2024-05-06T07:58:49.020636Z",
     "start_time": "2024-05-06T07:58:49.020613Z"
    }
   },
   "outputs": [],
   "source": [
    "test.describe()"
   ]
  }
 ],
 "metadata": {
  "kernelspec": {
   "display_name": "Python 3 (ipykernel)",
   "language": "python",
   "name": "python3"
  },
  "language_info": {
   "codemirror_mode": {
    "name": "ipython",
    "version": 3
   },
   "file_extension": ".py",
   "mimetype": "text/x-python",
   "name": "python",
   "nbconvert_exporter": "python",
   "pygments_lexer": "ipython3",
   "version": "3.11.9"
  },
  "toc": {
   "base_numbering": 1,
   "nav_menu": {},
   "number_sections": true,
   "sideBar": true,
   "skip_h1_title": true,
   "title_cell": "Table of Contents",
   "title_sidebar": "Contents",
   "toc_cell": true,
   "toc_position": {
    "height": "calc(100% - 180px)",
    "left": "10px",
    "top": "150px",
    "width": "224.390625px"
   },
   "toc_section_display": true,
   "toc_window_display": false
  }
 },
 "nbformat": 4,
 "nbformat_minor": 5
}
